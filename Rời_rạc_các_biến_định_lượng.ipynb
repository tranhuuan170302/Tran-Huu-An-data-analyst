{
  "nbformat": 4,
  "nbformat_minor": 0,
  "metadata": {
    "colab": {
      "name": "Rời  rạc các biến định lượng.ipynb",
      "provenance": [],
      "authorship_tag": "ABX9TyNlODaqPgEI8vzzAFScS9UG",
      "include_colab_link": true
    },
    "kernelspec": {
      "name": "python3",
      "display_name": "Python 3"
    },
    "language_info": {
      "name": "python"
    }
  },
  "cells": [
    {
      "cell_type": "markdown",
      "metadata": {
        "id": "view-in-github",
        "colab_type": "text"
      },
      "source": [
        "<a href=\"https://colab.research.google.com/github/tranhuuan170302/Tran-Huu-An-data-analyst/blob/main/R%E1%BB%9Di_r%E1%BA%A1c_c%C3%A1c_bi%E1%BA%BFn_%C4%91%E1%BB%8Bnh_l%C6%B0%E1%BB%A3ng.ipynb\" target=\"_parent\"><img src=\"https://colab.research.google.com/assets/colab-badge.svg\" alt=\"Open In Colab\"/></a>"
      ]
    },
    {
      "cell_type": "markdown",
      "source": [
        "# import libary"
      ],
      "metadata": {
        "id": "JjcJOX-D3x2b"
      }
    },
    {
      "cell_type": "code",
      "execution_count": 1,
      "metadata": {
        "id": "JstYGmTVZYH8"
      },
      "outputs": [],
      "source": [
        "import pandas as pd\n",
        "from sklearn.preprocessing import OneHotEncoder\n",
        "import numpy as np"
      ]
    },
    {
      "cell_type": "code",
      "source": [
        "ages = [20, 22, 25, 27, 21, 23, 37, 31, 61, 45, 41, 32]"
      ],
      "metadata": {
        "id": "hX_cikji4Hjm"
      },
      "execution_count": 2,
      "outputs": []
    },
    {
      "cell_type": "code",
      "source": [
        "bins = [18, 25,35,60,100]"
      ],
      "metadata": {
        "id": "wUPlhEgG4ibY"
      },
      "execution_count": 3,
      "outputs": []
    },
    {
      "cell_type": "markdown",
      "source": [
        "# thực hiện rời rác hóa"
      ],
      "metadata": {
        "id": "nDTpdpD547u0"
      }
    },
    {
      "cell_type": "code",
      "source": [
        "cats = pd.cut(ages, bins)"
      ],
      "metadata": {
        "id": "FI9RAjC34qJQ"
      },
      "execution_count": 4,
      "outputs": []
    },
    {
      "cell_type": "code",
      "source": [
        "cats"
      ],
      "metadata": {
        "colab": {
          "base_uri": "https://localhost:8080/"
        },
        "id": "ak3YQHb54we2",
        "outputId": "9a6e2a1b-1ad4-4fc9-b1e9-b8b9fd4bf8b2"
      },
      "execution_count": 5,
      "outputs": [
        {
          "output_type": "execute_result",
          "data": {
            "text/plain": [
              "[(18, 25], (18, 25], (18, 25], (25, 35], (18, 25], ..., (25, 35], (60, 100], (35, 60], (35, 60], (25, 35]]\n",
              "Length: 12\n",
              "Categories (4, interval[int64, right]): [(18, 25] < (25, 35] < (35, 60] < (60, 100]]"
            ]
          },
          "metadata": {},
          "execution_count": 5
        }
      ]
    },
    {
      "cell_type": "code",
      "source": [
        "type(cats)"
      ],
      "metadata": {
        "colab": {
          "base_uri": "https://localhost:8080/"
        },
        "id": "2zrnyaOC4xmb",
        "outputId": "626a08e6-7764-4831-822b-ba133b97265f"
      },
      "execution_count": 6,
      "outputs": [
        {
          "output_type": "execute_result",
          "data": {
            "text/plain": [
              "pandas.core.arrays.categorical.Categorical"
            ]
          },
          "metadata": {},
          "execution_count": 6
        }
      ]
    },
    {
      "cell_type": "markdown",
      "source": [
        ""
      ],
      "metadata": {
        "id": "9jkMRd5p6G0E"
      }
    },
    {
      "cell_type": "code",
      "source": [
        "cats.codes"
      ],
      "metadata": {
        "colab": {
          "base_uri": "https://localhost:8080/"
        },
        "id": "NqCNS8uh41zu",
        "outputId": "9a9afba0-de05-4810-a07a-61186cfc762f"
      },
      "execution_count": 7,
      "outputs": [
        {
          "output_type": "execute_result",
          "data": {
            "text/plain": [
              "array([0, 0, 0, 1, 0, 0, 2, 1, 3, 2, 2, 1], dtype=int8)"
            ]
          },
          "metadata": {},
          "execution_count": 7
        }
      ]
    },
    {
      "cell_type": "code",
      "source": [
        "cats.categories"
      ],
      "metadata": {
        "colab": {
          "base_uri": "https://localhost:8080/"
        },
        "id": "7OCqawA26JJA",
        "outputId": "51315d52-63b1-4024-947d-a958533d148a"
      },
      "execution_count": 8,
      "outputs": [
        {
          "output_type": "execute_result",
          "data": {
            "text/plain": [
              "IntervalIndex([(18, 25], (25, 35], (35, 60], (60, 100]], dtype='interval[int64, right]')"
            ]
          },
          "metadata": {},
          "execution_count": 8
        }
      ]
    },
    {
      "cell_type": "code",
      "source": [
        "pd.value_counts(cats)"
      ],
      "metadata": {
        "colab": {
          "base_uri": "https://localhost:8080/"
        },
        "id": "ISd3TIYZ6unb",
        "outputId": "c15dfb11-eadb-46b5-f28f-efa37aed357b"
      },
      "execution_count": 9,
      "outputs": [
        {
          "output_type": "execute_result",
          "data": {
            "text/plain": [
              "(18, 25]     5\n",
              "(25, 35]     3\n",
              "(35, 60]     3\n",
              "(60, 100]    1\n",
              "dtype: int64"
            ]
          },
          "metadata": {},
          "execution_count": 9
        }
      ]
    },
    {
      "cell_type": "code",
      "source": [
        "pd.cut(ages, [18, 26, 36, 61, 100], right=False)"
      ],
      "metadata": {
        "colab": {
          "base_uri": "https://localhost:8080/"
        },
        "id": "r3WI1ITz7zmu",
        "outputId": "a4c17884-1c32-45fc-ac86-22d0a1ca3015"
      },
      "execution_count": 10,
      "outputs": [
        {
          "output_type": "execute_result",
          "data": {
            "text/plain": [
              "[[18, 26), [18, 26), [18, 26), [26, 36), [18, 26), ..., [26, 36), [61, 100), [36, 61), [36, 61), [26, 36)]\n",
              "Length: 12\n",
              "Categories (4, interval[int64, left]): [[18, 26) < [26, 36) < [36, 61) < [61, 100)]"
            ]
          },
          "metadata": {},
          "execution_count": 10
        }
      ]
    },
    {
      "cell_type": "code",
      "source": [
        "# danh sách nhãn\n",
        "group_names = ['Youth', 'YoungAdult', 'MiddleAged', 'Senior']\n",
        "\n",
        "pd.cut(ages, bins, labels=group_names)"
      ],
      "metadata": {
        "colab": {
          "base_uri": "https://localhost:8080/"
        },
        "id": "e8P5jZM172sr",
        "outputId": "4bb902ce-03a2-45e3-d80c-8158db34c0cd"
      },
      "execution_count": 11,
      "outputs": [
        {
          "output_type": "execute_result",
          "data": {
            "text/plain": [
              "['Youth', 'Youth', 'Youth', 'YoungAdult', 'Youth', ..., 'YoungAdult', 'Senior', 'MiddleAged', 'MiddleAged', 'YoungAdult']\n",
              "Length: 12\n",
              "Categories (4, object): ['Youth' < 'YoungAdult' < 'MiddleAged' < 'Senior']"
            ]
          },
          "metadata": {},
          "execution_count": 11
        }
      ]
    },
    {
      "cell_type": "code",
      "source": [
        "data = np.random.rand(20)"
      ],
      "metadata": {
        "id": "4ptDoDfS7-ex"
      },
      "execution_count": 12,
      "outputs": []
    },
    {
      "cell_type": "code",
      "source": [
        "cut_data = pd.cut(data, 4, precision = 2)\n",
        "cut_data"
      ],
      "metadata": {
        "colab": {
          "base_uri": "https://localhost:8080/"
        },
        "id": "BMnX-gyatfsD",
        "outputId": "c1e23f8c-dbb7-475e-940b-c362f807a8eb"
      },
      "execution_count": 14,
      "outputs": [
        {
          "output_type": "execute_result",
          "data": {
            "text/plain": [
              "[(0.046, 0.27], (0.046, 0.27], (0.27, 0.49], (0.27, 0.49], (0.27, 0.49], ..., (0.49, 0.71], (0.71, 0.93], (0.046, 0.27], (0.49, 0.71], (0.27, 0.49]]\n",
              "Length: 20\n",
              "Categories (4, interval[float64, right]): [(0.046, 0.27] < (0.27, 0.49] < (0.49, 0.71] <\n",
              "                                           (0.71, 0.93]]"
            ]
          },
          "metadata": {},
          "execution_count": 14
        }
      ]
    },
    {
      "cell_type": "code",
      "source": [
        "pd.value_counts(cut_data)"
      ],
      "metadata": {
        "colab": {
          "base_uri": "https://localhost:8080/"
        },
        "id": "NIwCD9hvtm4K",
        "outputId": "4dc1b2bb-e36e-46ea-f20e-d060c383dab0"
      },
      "execution_count": 15,
      "outputs": [
        {
          "output_type": "execute_result",
          "data": {
            "text/plain": [
              "(0.27, 0.49]     7\n",
              "(0.046, 0.27]    6\n",
              "(0.71, 0.93]     4\n",
              "(0.49, 0.71]     3\n",
              "dtype: int64"
            ]
          },
          "metadata": {},
          "execution_count": 15
        }
      ]
    },
    {
      "cell_type": "code",
      "source": [
        "data = np.random.randn(1000)"
      ],
      "metadata": {
        "id": "jn3rTtEQtuFr"
      },
      "execution_count": 16,
      "outputs": []
    },
    {
      "cell_type": "code",
      "source": [
        "cats = pd.qcut(data, 4)"
      ],
      "metadata": {
        "id": "-SoeIzXdt0aq"
      },
      "execution_count": 17,
      "outputs": []
    },
    {
      "cell_type": "code",
      "source": [
        "cats"
      ],
      "metadata": {
        "colab": {
          "base_uri": "https://localhost:8080/"
        },
        "id": "ywA8ph5wt3tK",
        "outputId": "22ece5f6-bca3-4c18-aa00-9aeba6eece4a"
      },
      "execution_count": 18,
      "outputs": [
        {
          "output_type": "execute_result",
          "data": {
            "text/plain": [
              "[(-2.903, -0.683], (0.653, 3.022], (-2.903, -0.683], (-0.683, 0.0149], (-2.903, -0.683], ..., (-2.903, -0.683], (-0.683, 0.0149], (0.653, 3.022], (0.0149, 0.653], (-2.903, -0.683]]\n",
              "Length: 1000\n",
              "Categories (4, interval[float64, right]): [(-2.903, -0.683] < (-0.683, 0.0149] < (0.0149, 0.653] <\n",
              "                                           (0.653, 3.022]]"
            ]
          },
          "metadata": {},
          "execution_count": 18
        }
      ]
    },
    {
      "cell_type": "code",
      "source": [
        "pd.value_counts(cats)"
      ],
      "metadata": {
        "colab": {
          "base_uri": "https://localhost:8080/"
        },
        "id": "UH16pQSGt5oB",
        "outputId": "23ae04b9-57b5-4ad5-f5c8-404b0b0d1c6a"
      },
      "execution_count": 19,
      "outputs": [
        {
          "output_type": "execute_result",
          "data": {
            "text/plain": [
              "(-2.903, -0.683]    250\n",
              "(-0.683, 0.0149]    250\n",
              "(0.0149, 0.653]     250\n",
              "(0.653, 3.022]      250\n",
              "dtype: int64"
            ]
          },
          "metadata": {},
          "execution_count": 19
        }
      ]
    },
    {
      "cell_type": "code",
      "source": [
        "pd.qcut(data, [0, 0.1, 0.5, 0.9, 1.])"
      ],
      "metadata": {
        "colab": {
          "base_uri": "https://localhost:8080/"
        },
        "id": "8TWXRLz6t9Gq",
        "outputId": "304271f4-ecfa-4743-a0fa-76ed9b2cb0e7"
      },
      "execution_count": 20,
      "outputs": [
        {
          "output_type": "execute_result",
          "data": {
            "text/plain": [
              "[(-1.269, 0.0149], (1.276, 3.022], (-1.269, 0.0149], (-1.269, 0.0149], (-1.269, 0.0149], ..., (-1.269, 0.0149], (-1.269, 0.0149], (1.276, 3.022], (0.0149, 1.276], (-2.903, -1.269]]\n",
              "Length: 1000\n",
              "Categories (4, interval[float64, right]): [(-2.903, -1.269] < (-1.269, 0.0149] < (0.0149, 1.276] <\n",
              "                                           (1.276, 3.022]]"
            ]
          },
          "metadata": {},
          "execution_count": 20
        }
      ]
    },
    {
      "cell_type": "code",
      "source": [
        ""
      ],
      "metadata": {
        "id": "UKgQbqCEuGvL"
      },
      "execution_count": null,
      "outputs": []
    }
  ]
}
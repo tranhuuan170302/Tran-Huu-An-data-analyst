{
  "nbformat": 4,
  "nbformat_minor": 0,
  "metadata": {
    "colab": {
      "name": "plotGraphMix-housesPrice.ipynb",
      "provenance": [],
      "authorship_tag": "ABX9TyPfi2Wh6dp+TwN7D4cRg3cN",
      "include_colab_link": true
    },
    "kernelspec": {
      "name": "python3",
      "display_name": "Python 3"
    },
    "language_info": {
      "name": "python"
    }
  },
  "cells": [
    {
      "cell_type": "markdown",
      "metadata": {
        "id": "view-in-github",
        "colab_type": "text"
      },
      "source": [
        "<a href=\"https://colab.research.google.com/github/tranhuuan170302/Tran-Huu-An-data-analyst/blob/main/plotGraphMix_housesPrice.ipynb\" target=\"_parent\"><img src=\"https://colab.research.google.com/assets/colab-badge.svg\" alt=\"Open In Colab\"/></a>"
      ]
    },
    {
      "cell_type": "code",
      "execution_count": 69,
      "metadata": {
        "id": "T-5zERU1MJBX"
      },
      "outputs": [],
      "source": [
        "import pandas as pd\n",
        "import matplotlib.pyplot as plt\n"
      ]
    },
    {
      "cell_type": "code",
      "source": [
        "df = pd.read_excel(\"https://s3.ap-southeast-1.amazonaws.com/learn.codegym.vn/media/public/2022/01/08185826/house_price_do%CC%82%CC%81ng-da.xlsx\")"
      ],
      "metadata": {
        "colab": {
          "base_uri": "https://localhost:8080/"
        },
        "id": "VzcciAKmMbs0",
        "outputId": "922d1cf0-ae3d-4f8d-d416-abb15c7c79e5"
      },
      "execution_count": 70,
      "outputs": [
        {
          "output_type": "stream",
          "name": "stderr",
          "text": [
            "/usr/local/lib/python3.7/dist-packages/openpyxl/worksheet/_reader.py:312: UserWarning: Unknown extension is not supported and will be removed\n",
            "  warn(msg)\n"
          ]
        }
      ]
    },
    {
      "cell_type": "code",
      "source": [
        "df.info()"
      ],
      "metadata": {
        "colab": {
          "base_uri": "https://localhost:8080/"
        },
        "id": "V1nnHzNKMfEy",
        "outputId": "a103f31b-457e-4817-8b21-c9c8291e80a4"
      },
      "execution_count": 71,
      "outputs": [
        {
          "output_type": "stream",
          "name": "stdout",
          "text": [
            "<class 'pandas.core.frame.DataFrame'>\n",
            "RangeIndex: 1000 entries, 0 to 999\n",
            "Data columns (total 18 columns):\n",
            " #   Column             Non-Null Count  Dtype         \n",
            "---  ------             --------------  -----         \n",
            " 0   title              1000 non-null   object        \n",
            " 1   address            1000 non-null   object        \n",
            " 2   area               994 non-null    float64       \n",
            " 3   price              944 non-null    float64       \n",
            " 4   postDate           1000 non-null   datetime64[ns]\n",
            " 5   land_certificate   693 non-null    object        \n",
            " 6   house_direction    44 non-null     object        \n",
            " 7   balcony_direction  24 non-null     object        \n",
            " 8   toilet             551 non-null    float64       \n",
            " 9   bedroom            635 non-null    float64       \n",
            " 10  floor              376 non-null    float64       \n",
            " 11  type_of_land       1000 non-null   object        \n",
            " 12  street_name        808 non-null    object        \n",
            " 13  ward_name          802 non-null    object        \n",
            " 14  district_name      1000 non-null   object        \n",
            " 15  city_name          1000 non-null   object        \n",
            " 16  lat                1000 non-null   float64       \n",
            " 17  long               1000 non-null   float64       \n",
            "dtypes: datetime64[ns](1), float64(7), object(10)\n",
            "memory usage: 140.8+ KB\n"
          ]
        }
      ]
    },
    {
      "cell_type": "code",
      "source": [
        "df.head()"
      ],
      "metadata": {
        "colab": {
          "base_uri": "https://localhost:8080/",
          "height": 1000
        },
        "id": "PKtn9J_DMgoa",
        "outputId": "534a9651-b9c5-4840-fa6f-9b5d19be00c9"
      },
      "execution_count": 72,
      "outputs": [
        {
          "output_type": "execute_result",
          "data": {
            "text/plain": [
              "                                               title  \\\n",
              "0  Bán nhà Trần Quang Diệu mới coong đẹp 50m2x6 t...   \n",
              "1  Bán nhà mặt phố Tây Sơn - 6 tầng. Kinh doanh t...   \n",
              "2  Bán nhà số 36 Đoàn Kết - phố Khâm Thiên - Đống...   \n",
              "3  Bán nhà 6 tầng mới kinh doanh mặt ngõ 1194 Đườ...   \n",
              "4  Bán nhà mặt phố Thái Hà 70m2, 5 tầng, 4.5m mặt...   \n",
              "\n",
              "                                             address  area    price  \\\n",
              "0  Đường Trần Quang Diệu, Phường Trung Liệt, Đốn...  50.0  14700.0   \n",
              "1  Đường Tây Sơn, Phường Trung Liệt, Đống Đa, Hà...  35.0  12500.0   \n",
              "2  Số 36 Đoàn Kết, Phố Khâm Thiên, Phường Thổ Qu...  57.0   4200.0   \n",
              "3  Ngõ 1194, Đường Láng, Phường Láng Thượng, Đố...  62.0  11000.0   \n",
              "4   Phố Thái Hà, Phường Trung Liệt, Đống Đa, Hà Nội  70.0  36000.0   \n",
              "\n",
              "    postDate land_certificate house_direction balcony_direction  toilet  \\\n",
              "0 2021-01-01            Sổ đỏ             NaN               NaN     4.0   \n",
              "1 2021-02-19            Sổ đỏ             NaN               NaN     NaN   \n",
              "2 2021-03-10            Sổ đỏ             Nam               Nam     3.0   \n",
              "3 2021-03-13            Sổ đỏ            Đông          Đông-Nam     6.0   \n",
              "4 2021-03-13            Sổ đỏ             NaN               NaN     NaN   \n",
              "\n",
              "   bedroom  floor        type_of_land            street_name  \\\n",
              "0      6.0    6.0    Bán nhà riêng\\n   Đường Trần Quang Diệu   \n",
              "1      NaN    6.0  Bán nhà mặt phố\\n          Phố Trung Liệt   \n",
              "2      8.0    4.0    Bán nhà riêng\\n          Phố Khâm Thiên   \n",
              "3      5.0    6.0    Bán nhà riêng\\n       Đường Láng Thượng   \n",
              "4      6.0    5.0  Bán nhà mặt phố\\n          Phố Trung Liệt   \n",
              "\n",
              "            ward_name district_name         city_name        lat        long  \n",
              "0   Phường Trung Liệt  Quận Đống Đa  Thành phố Hà Nội  21.015698  105.824583  \n",
              "1   Phường Trung Liệt  Quận Đống Đa  Thành phố Hà Nội  21.008930  105.824105  \n",
              "2   Phường Khâm Thiên  Quận Đống Đa  Thành phố Hà Nội  21.025208  105.833111  \n",
              "3  Phường Láng Thượng  Quận Đống Đa  Thành phố Hà Nội  21.025379  105.801011  \n",
              "4   Phường Trung Liệt  Quận Đống Đa  Thành phố Hà Nội  21.009239  105.824230  "
            ],
            "text/html": [
              "\n",
              "  <div id=\"df-50636072-3010-4f24-9741-85e2d215ff03\">\n",
              "    <div class=\"colab-df-container\">\n",
              "      <div>\n",
              "<style scoped>\n",
              "    .dataframe tbody tr th:only-of-type {\n",
              "        vertical-align: middle;\n",
              "    }\n",
              "\n",
              "    .dataframe tbody tr th {\n",
              "        vertical-align: top;\n",
              "    }\n",
              "\n",
              "    .dataframe thead th {\n",
              "        text-align: right;\n",
              "    }\n",
              "</style>\n",
              "<table border=\"1\" class=\"dataframe\">\n",
              "  <thead>\n",
              "    <tr style=\"text-align: right;\">\n",
              "      <th></th>\n",
              "      <th>title</th>\n",
              "      <th>address</th>\n",
              "      <th>area</th>\n",
              "      <th>price</th>\n",
              "      <th>postDate</th>\n",
              "      <th>land_certificate</th>\n",
              "      <th>house_direction</th>\n",
              "      <th>balcony_direction</th>\n",
              "      <th>toilet</th>\n",
              "      <th>bedroom</th>\n",
              "      <th>floor</th>\n",
              "      <th>type_of_land</th>\n",
              "      <th>street_name</th>\n",
              "      <th>ward_name</th>\n",
              "      <th>district_name</th>\n",
              "      <th>city_name</th>\n",
              "      <th>lat</th>\n",
              "      <th>long</th>\n",
              "    </tr>\n",
              "  </thead>\n",
              "  <tbody>\n",
              "    <tr>\n",
              "      <th>0</th>\n",
              "      <td>Bán nhà Trần Quang Diệu mới coong đẹp 50m2x6 t...</td>\n",
              "      <td>Đường Trần Quang Diệu, Phường Trung Liệt, Đốn...</td>\n",
              "      <td>50.0</td>\n",
              "      <td>14700.0</td>\n",
              "      <td>2021-01-01</td>\n",
              "      <td>Sổ đỏ</td>\n",
              "      <td>NaN</td>\n",
              "      <td>NaN</td>\n",
              "      <td>4.0</td>\n",
              "      <td>6.0</td>\n",
              "      <td>6.0</td>\n",
              "      <td>Bán nhà riêng\\n</td>\n",
              "      <td>Đường Trần Quang Diệu</td>\n",
              "      <td>Phường Trung Liệt</td>\n",
              "      <td>Quận Đống Đa</td>\n",
              "      <td>Thành phố Hà Nội</td>\n",
              "      <td>21.015698</td>\n",
              "      <td>105.824583</td>\n",
              "    </tr>\n",
              "    <tr>\n",
              "      <th>1</th>\n",
              "      <td>Bán nhà mặt phố Tây Sơn - 6 tầng. Kinh doanh t...</td>\n",
              "      <td>Đường Tây Sơn, Phường Trung Liệt, Đống Đa, Hà...</td>\n",
              "      <td>35.0</td>\n",
              "      <td>12500.0</td>\n",
              "      <td>2021-02-19</td>\n",
              "      <td>Sổ đỏ</td>\n",
              "      <td>NaN</td>\n",
              "      <td>NaN</td>\n",
              "      <td>NaN</td>\n",
              "      <td>NaN</td>\n",
              "      <td>6.0</td>\n",
              "      <td>Bán nhà mặt phố\\n</td>\n",
              "      <td>Phố Trung Liệt</td>\n",
              "      <td>Phường Trung Liệt</td>\n",
              "      <td>Quận Đống Đa</td>\n",
              "      <td>Thành phố Hà Nội</td>\n",
              "      <td>21.008930</td>\n",
              "      <td>105.824105</td>\n",
              "    </tr>\n",
              "    <tr>\n",
              "      <th>2</th>\n",
              "      <td>Bán nhà số 36 Đoàn Kết - phố Khâm Thiên - Đống...</td>\n",
              "      <td>Số 36 Đoàn Kết, Phố Khâm Thiên, Phường Thổ Qu...</td>\n",
              "      <td>57.0</td>\n",
              "      <td>4200.0</td>\n",
              "      <td>2021-03-10</td>\n",
              "      <td>Sổ đỏ</td>\n",
              "      <td>Nam</td>\n",
              "      <td>Nam</td>\n",
              "      <td>3.0</td>\n",
              "      <td>8.0</td>\n",
              "      <td>4.0</td>\n",
              "      <td>Bán nhà riêng\\n</td>\n",
              "      <td>Phố Khâm Thiên</td>\n",
              "      <td>Phường Khâm Thiên</td>\n",
              "      <td>Quận Đống Đa</td>\n",
              "      <td>Thành phố Hà Nội</td>\n",
              "      <td>21.025208</td>\n",
              "      <td>105.833111</td>\n",
              "    </tr>\n",
              "    <tr>\n",
              "      <th>3</th>\n",
              "      <td>Bán nhà 6 tầng mới kinh doanh mặt ngõ 1194 Đườ...</td>\n",
              "      <td>Ngõ 1194, Đường Láng, Phường Láng Thượng, Đố...</td>\n",
              "      <td>62.0</td>\n",
              "      <td>11000.0</td>\n",
              "      <td>2021-03-13</td>\n",
              "      <td>Sổ đỏ</td>\n",
              "      <td>Đông</td>\n",
              "      <td>Đông-Nam</td>\n",
              "      <td>6.0</td>\n",
              "      <td>5.0</td>\n",
              "      <td>6.0</td>\n",
              "      <td>Bán nhà riêng\\n</td>\n",
              "      <td>Đường Láng Thượng</td>\n",
              "      <td>Phường Láng Thượng</td>\n",
              "      <td>Quận Đống Đa</td>\n",
              "      <td>Thành phố Hà Nội</td>\n",
              "      <td>21.025379</td>\n",
              "      <td>105.801011</td>\n",
              "    </tr>\n",
              "    <tr>\n",
              "      <th>4</th>\n",
              "      <td>Bán nhà mặt phố Thái Hà 70m2, 5 tầng, 4.5m mặt...</td>\n",
              "      <td>Phố Thái Hà, Phường Trung Liệt, Đống Đa, Hà Nội</td>\n",
              "      <td>70.0</td>\n",
              "      <td>36000.0</td>\n",
              "      <td>2021-03-13</td>\n",
              "      <td>Sổ đỏ</td>\n",
              "      <td>NaN</td>\n",
              "      <td>NaN</td>\n",
              "      <td>NaN</td>\n",
              "      <td>6.0</td>\n",
              "      <td>5.0</td>\n",
              "      <td>Bán nhà mặt phố\\n</td>\n",
              "      <td>Phố Trung Liệt</td>\n",
              "      <td>Phường Trung Liệt</td>\n",
              "      <td>Quận Đống Đa</td>\n",
              "      <td>Thành phố Hà Nội</td>\n",
              "      <td>21.009239</td>\n",
              "      <td>105.824230</td>\n",
              "    </tr>\n",
              "  </tbody>\n",
              "</table>\n",
              "</div>\n",
              "      <button class=\"colab-df-convert\" onclick=\"convertToInteractive('df-50636072-3010-4f24-9741-85e2d215ff03')\"\n",
              "              title=\"Convert this dataframe to an interactive table.\"\n",
              "              style=\"display:none;\">\n",
              "        \n",
              "  <svg xmlns=\"http://www.w3.org/2000/svg\" height=\"24px\"viewBox=\"0 0 24 24\"\n",
              "       width=\"24px\">\n",
              "    <path d=\"M0 0h24v24H0V0z\" fill=\"none\"/>\n",
              "    <path d=\"M18.56 5.44l.94 2.06.94-2.06 2.06-.94-2.06-.94-.94-2.06-.94 2.06-2.06.94zm-11 1L8.5 8.5l.94-2.06 2.06-.94-2.06-.94L8.5 2.5l-.94 2.06-2.06.94zm10 10l.94 2.06.94-2.06 2.06-.94-2.06-.94-.94-2.06-.94 2.06-2.06.94z\"/><path d=\"M17.41 7.96l-1.37-1.37c-.4-.4-.92-.59-1.43-.59-.52 0-1.04.2-1.43.59L10.3 9.45l-7.72 7.72c-.78.78-.78 2.05 0 2.83L4 21.41c.39.39.9.59 1.41.59.51 0 1.02-.2 1.41-.59l7.78-7.78 2.81-2.81c.8-.78.8-2.07 0-2.86zM5.41 20L4 18.59l7.72-7.72 1.47 1.35L5.41 20z\"/>\n",
              "  </svg>\n",
              "      </button>\n",
              "      \n",
              "  <style>\n",
              "    .colab-df-container {\n",
              "      display:flex;\n",
              "      flex-wrap:wrap;\n",
              "      gap: 12px;\n",
              "    }\n",
              "\n",
              "    .colab-df-convert {\n",
              "      background-color: #E8F0FE;\n",
              "      border: none;\n",
              "      border-radius: 50%;\n",
              "      cursor: pointer;\n",
              "      display: none;\n",
              "      fill: #1967D2;\n",
              "      height: 32px;\n",
              "      padding: 0 0 0 0;\n",
              "      width: 32px;\n",
              "    }\n",
              "\n",
              "    .colab-df-convert:hover {\n",
              "      background-color: #E2EBFA;\n",
              "      box-shadow: 0px 1px 2px rgba(60, 64, 67, 0.3), 0px 1px 3px 1px rgba(60, 64, 67, 0.15);\n",
              "      fill: #174EA6;\n",
              "    }\n",
              "\n",
              "    [theme=dark] .colab-df-convert {\n",
              "      background-color: #3B4455;\n",
              "      fill: #D2E3FC;\n",
              "    }\n",
              "\n",
              "    [theme=dark] .colab-df-convert:hover {\n",
              "      background-color: #434B5C;\n",
              "      box-shadow: 0px 1px 3px 1px rgba(0, 0, 0, 0.15);\n",
              "      filter: drop-shadow(0px 1px 2px rgba(0, 0, 0, 0.3));\n",
              "      fill: #FFFFFF;\n",
              "    }\n",
              "  </style>\n",
              "\n",
              "      <script>\n",
              "        const buttonEl =\n",
              "          document.querySelector('#df-50636072-3010-4f24-9741-85e2d215ff03 button.colab-df-convert');\n",
              "        buttonEl.style.display =\n",
              "          google.colab.kernel.accessAllowed ? 'block' : 'none';\n",
              "\n",
              "        async function convertToInteractive(key) {\n",
              "          const element = document.querySelector('#df-50636072-3010-4f24-9741-85e2d215ff03');\n",
              "          const dataTable =\n",
              "            await google.colab.kernel.invokeFunction('convertToInteractive',\n",
              "                                                     [key], {});\n",
              "          if (!dataTable) return;\n",
              "\n",
              "          const docLinkHtml = 'Like what you see? Visit the ' +\n",
              "            '<a target=\"_blank\" href=https://colab.research.google.com/notebooks/data_table.ipynb>data table notebook</a>'\n",
              "            + ' to learn more about interactive tables.';\n",
              "          element.innerHTML = '';\n",
              "          dataTable['output_type'] = 'display_data';\n",
              "          await google.colab.output.renderOutput(dataTable, element);\n",
              "          const docLink = document.createElement('div');\n",
              "          docLink.innerHTML = docLinkHtml;\n",
              "          element.appendChild(docLink);\n",
              "        }\n",
              "      </script>\n",
              "    </div>\n",
              "  </div>\n",
              "  "
            ]
          },
          "metadata": {},
          "execution_count": 72
        }
      ]
    },
    {
      "cell_type": "markdown",
      "source": [
        "## Phân tích mối liên hệ giữa diện tích với giá nhà. Đồng thời, giữa số phòng ngủ với giá nhà và giữa số toilet với giá nhà"
      ],
      "metadata": {
        "id": "0xJBJ1EHMlOP"
      }
    },
    {
      "cell_type": "code",
      "source": [
        "df_price = df[[\"price\", \"area\", \"bedroom\", \"toilet\"]]"
      ],
      "metadata": {
        "id": "h4nO_ebyMiJL"
      },
      "execution_count": 73,
      "outputs": []
    },
    {
      "cell_type": "code",
      "source": [
        "df_price.info()"
      ],
      "metadata": {
        "colab": {
          "base_uri": "https://localhost:8080/"
        },
        "id": "Yk_uBxdbNDGu",
        "outputId": "80e2e2b6-95a9-46d2-f09e-21a127170ebe"
      },
      "execution_count": 74,
      "outputs": [
        {
          "output_type": "stream",
          "name": "stdout",
          "text": [
            "<class 'pandas.core.frame.DataFrame'>\n",
            "RangeIndex: 1000 entries, 0 to 999\n",
            "Data columns (total 4 columns):\n",
            " #   Column   Non-Null Count  Dtype  \n",
            "---  ------   --------------  -----  \n",
            " 0   price    944 non-null    float64\n",
            " 1   area     994 non-null    float64\n",
            " 2   bedroom  635 non-null    float64\n",
            " 3   toilet   551 non-null    float64\n",
            "dtypes: float64(4)\n",
            "memory usage: 31.4 KB\n"
          ]
        }
      ]
    },
    {
      "cell_type": "code",
      "source": [
        "df.head()"
      ],
      "metadata": {
        "colab": {
          "base_uri": "https://localhost:8080/",
          "height": 1000
        },
        "id": "L_GdnNaDNI4W",
        "outputId": "ca1540e5-3269-401b-a1cb-77c82793262b"
      },
      "execution_count": 75,
      "outputs": [
        {
          "output_type": "execute_result",
          "data": {
            "text/plain": [
              "                                               title  \\\n",
              "0  Bán nhà Trần Quang Diệu mới coong đẹp 50m2x6 t...   \n",
              "1  Bán nhà mặt phố Tây Sơn - 6 tầng. Kinh doanh t...   \n",
              "2  Bán nhà số 36 Đoàn Kết - phố Khâm Thiên - Đống...   \n",
              "3  Bán nhà 6 tầng mới kinh doanh mặt ngõ 1194 Đườ...   \n",
              "4  Bán nhà mặt phố Thái Hà 70m2, 5 tầng, 4.5m mặt...   \n",
              "\n",
              "                                             address  area    price  \\\n",
              "0  Đường Trần Quang Diệu, Phường Trung Liệt, Đốn...  50.0  14700.0   \n",
              "1  Đường Tây Sơn, Phường Trung Liệt, Đống Đa, Hà...  35.0  12500.0   \n",
              "2  Số 36 Đoàn Kết, Phố Khâm Thiên, Phường Thổ Qu...  57.0   4200.0   \n",
              "3  Ngõ 1194, Đường Láng, Phường Láng Thượng, Đố...  62.0  11000.0   \n",
              "4   Phố Thái Hà, Phường Trung Liệt, Đống Đa, Hà Nội  70.0  36000.0   \n",
              "\n",
              "    postDate land_certificate house_direction balcony_direction  toilet  \\\n",
              "0 2021-01-01            Sổ đỏ             NaN               NaN     4.0   \n",
              "1 2021-02-19            Sổ đỏ             NaN               NaN     NaN   \n",
              "2 2021-03-10            Sổ đỏ             Nam               Nam     3.0   \n",
              "3 2021-03-13            Sổ đỏ            Đông          Đông-Nam     6.0   \n",
              "4 2021-03-13            Sổ đỏ             NaN               NaN     NaN   \n",
              "\n",
              "   bedroom  floor        type_of_land            street_name  \\\n",
              "0      6.0    6.0    Bán nhà riêng\\n   Đường Trần Quang Diệu   \n",
              "1      NaN    6.0  Bán nhà mặt phố\\n          Phố Trung Liệt   \n",
              "2      8.0    4.0    Bán nhà riêng\\n          Phố Khâm Thiên   \n",
              "3      5.0    6.0    Bán nhà riêng\\n       Đường Láng Thượng   \n",
              "4      6.0    5.0  Bán nhà mặt phố\\n          Phố Trung Liệt   \n",
              "\n",
              "            ward_name district_name         city_name        lat        long  \n",
              "0   Phường Trung Liệt  Quận Đống Đa  Thành phố Hà Nội  21.015698  105.824583  \n",
              "1   Phường Trung Liệt  Quận Đống Đa  Thành phố Hà Nội  21.008930  105.824105  \n",
              "2   Phường Khâm Thiên  Quận Đống Đa  Thành phố Hà Nội  21.025208  105.833111  \n",
              "3  Phường Láng Thượng  Quận Đống Đa  Thành phố Hà Nội  21.025379  105.801011  \n",
              "4   Phường Trung Liệt  Quận Đống Đa  Thành phố Hà Nội  21.009239  105.824230  "
            ],
            "text/html": [
              "\n",
              "  <div id=\"df-30a2daaf-f2c7-4bdb-9567-acae6da5f308\">\n",
              "    <div class=\"colab-df-container\">\n",
              "      <div>\n",
              "<style scoped>\n",
              "    .dataframe tbody tr th:only-of-type {\n",
              "        vertical-align: middle;\n",
              "    }\n",
              "\n",
              "    .dataframe tbody tr th {\n",
              "        vertical-align: top;\n",
              "    }\n",
              "\n",
              "    .dataframe thead th {\n",
              "        text-align: right;\n",
              "    }\n",
              "</style>\n",
              "<table border=\"1\" class=\"dataframe\">\n",
              "  <thead>\n",
              "    <tr style=\"text-align: right;\">\n",
              "      <th></th>\n",
              "      <th>title</th>\n",
              "      <th>address</th>\n",
              "      <th>area</th>\n",
              "      <th>price</th>\n",
              "      <th>postDate</th>\n",
              "      <th>land_certificate</th>\n",
              "      <th>house_direction</th>\n",
              "      <th>balcony_direction</th>\n",
              "      <th>toilet</th>\n",
              "      <th>bedroom</th>\n",
              "      <th>floor</th>\n",
              "      <th>type_of_land</th>\n",
              "      <th>street_name</th>\n",
              "      <th>ward_name</th>\n",
              "      <th>district_name</th>\n",
              "      <th>city_name</th>\n",
              "      <th>lat</th>\n",
              "      <th>long</th>\n",
              "    </tr>\n",
              "  </thead>\n",
              "  <tbody>\n",
              "    <tr>\n",
              "      <th>0</th>\n",
              "      <td>Bán nhà Trần Quang Diệu mới coong đẹp 50m2x6 t...</td>\n",
              "      <td>Đường Trần Quang Diệu, Phường Trung Liệt, Đốn...</td>\n",
              "      <td>50.0</td>\n",
              "      <td>14700.0</td>\n",
              "      <td>2021-01-01</td>\n",
              "      <td>Sổ đỏ</td>\n",
              "      <td>NaN</td>\n",
              "      <td>NaN</td>\n",
              "      <td>4.0</td>\n",
              "      <td>6.0</td>\n",
              "      <td>6.0</td>\n",
              "      <td>Bán nhà riêng\\n</td>\n",
              "      <td>Đường Trần Quang Diệu</td>\n",
              "      <td>Phường Trung Liệt</td>\n",
              "      <td>Quận Đống Đa</td>\n",
              "      <td>Thành phố Hà Nội</td>\n",
              "      <td>21.015698</td>\n",
              "      <td>105.824583</td>\n",
              "    </tr>\n",
              "    <tr>\n",
              "      <th>1</th>\n",
              "      <td>Bán nhà mặt phố Tây Sơn - 6 tầng. Kinh doanh t...</td>\n",
              "      <td>Đường Tây Sơn, Phường Trung Liệt, Đống Đa, Hà...</td>\n",
              "      <td>35.0</td>\n",
              "      <td>12500.0</td>\n",
              "      <td>2021-02-19</td>\n",
              "      <td>Sổ đỏ</td>\n",
              "      <td>NaN</td>\n",
              "      <td>NaN</td>\n",
              "      <td>NaN</td>\n",
              "      <td>NaN</td>\n",
              "      <td>6.0</td>\n",
              "      <td>Bán nhà mặt phố\\n</td>\n",
              "      <td>Phố Trung Liệt</td>\n",
              "      <td>Phường Trung Liệt</td>\n",
              "      <td>Quận Đống Đa</td>\n",
              "      <td>Thành phố Hà Nội</td>\n",
              "      <td>21.008930</td>\n",
              "      <td>105.824105</td>\n",
              "    </tr>\n",
              "    <tr>\n",
              "      <th>2</th>\n",
              "      <td>Bán nhà số 36 Đoàn Kết - phố Khâm Thiên - Đống...</td>\n",
              "      <td>Số 36 Đoàn Kết, Phố Khâm Thiên, Phường Thổ Qu...</td>\n",
              "      <td>57.0</td>\n",
              "      <td>4200.0</td>\n",
              "      <td>2021-03-10</td>\n",
              "      <td>Sổ đỏ</td>\n",
              "      <td>Nam</td>\n",
              "      <td>Nam</td>\n",
              "      <td>3.0</td>\n",
              "      <td>8.0</td>\n",
              "      <td>4.0</td>\n",
              "      <td>Bán nhà riêng\\n</td>\n",
              "      <td>Phố Khâm Thiên</td>\n",
              "      <td>Phường Khâm Thiên</td>\n",
              "      <td>Quận Đống Đa</td>\n",
              "      <td>Thành phố Hà Nội</td>\n",
              "      <td>21.025208</td>\n",
              "      <td>105.833111</td>\n",
              "    </tr>\n",
              "    <tr>\n",
              "      <th>3</th>\n",
              "      <td>Bán nhà 6 tầng mới kinh doanh mặt ngõ 1194 Đườ...</td>\n",
              "      <td>Ngõ 1194, Đường Láng, Phường Láng Thượng, Đố...</td>\n",
              "      <td>62.0</td>\n",
              "      <td>11000.0</td>\n",
              "      <td>2021-03-13</td>\n",
              "      <td>Sổ đỏ</td>\n",
              "      <td>Đông</td>\n",
              "      <td>Đông-Nam</td>\n",
              "      <td>6.0</td>\n",
              "      <td>5.0</td>\n",
              "      <td>6.0</td>\n",
              "      <td>Bán nhà riêng\\n</td>\n",
              "      <td>Đường Láng Thượng</td>\n",
              "      <td>Phường Láng Thượng</td>\n",
              "      <td>Quận Đống Đa</td>\n",
              "      <td>Thành phố Hà Nội</td>\n",
              "      <td>21.025379</td>\n",
              "      <td>105.801011</td>\n",
              "    </tr>\n",
              "    <tr>\n",
              "      <th>4</th>\n",
              "      <td>Bán nhà mặt phố Thái Hà 70m2, 5 tầng, 4.5m mặt...</td>\n",
              "      <td>Phố Thái Hà, Phường Trung Liệt, Đống Đa, Hà Nội</td>\n",
              "      <td>70.0</td>\n",
              "      <td>36000.0</td>\n",
              "      <td>2021-03-13</td>\n",
              "      <td>Sổ đỏ</td>\n",
              "      <td>NaN</td>\n",
              "      <td>NaN</td>\n",
              "      <td>NaN</td>\n",
              "      <td>6.0</td>\n",
              "      <td>5.0</td>\n",
              "      <td>Bán nhà mặt phố\\n</td>\n",
              "      <td>Phố Trung Liệt</td>\n",
              "      <td>Phường Trung Liệt</td>\n",
              "      <td>Quận Đống Đa</td>\n",
              "      <td>Thành phố Hà Nội</td>\n",
              "      <td>21.009239</td>\n",
              "      <td>105.824230</td>\n",
              "    </tr>\n",
              "  </tbody>\n",
              "</table>\n",
              "</div>\n",
              "      <button class=\"colab-df-convert\" onclick=\"convertToInteractive('df-30a2daaf-f2c7-4bdb-9567-acae6da5f308')\"\n",
              "              title=\"Convert this dataframe to an interactive table.\"\n",
              "              style=\"display:none;\">\n",
              "        \n",
              "  <svg xmlns=\"http://www.w3.org/2000/svg\" height=\"24px\"viewBox=\"0 0 24 24\"\n",
              "       width=\"24px\">\n",
              "    <path d=\"M0 0h24v24H0V0z\" fill=\"none\"/>\n",
              "    <path d=\"M18.56 5.44l.94 2.06.94-2.06 2.06-.94-2.06-.94-.94-2.06-.94 2.06-2.06.94zm-11 1L8.5 8.5l.94-2.06 2.06-.94-2.06-.94L8.5 2.5l-.94 2.06-2.06.94zm10 10l.94 2.06.94-2.06 2.06-.94-2.06-.94-.94-2.06-.94 2.06-2.06.94z\"/><path d=\"M17.41 7.96l-1.37-1.37c-.4-.4-.92-.59-1.43-.59-.52 0-1.04.2-1.43.59L10.3 9.45l-7.72 7.72c-.78.78-.78 2.05 0 2.83L4 21.41c.39.39.9.59 1.41.59.51 0 1.02-.2 1.41-.59l7.78-7.78 2.81-2.81c.8-.78.8-2.07 0-2.86zM5.41 20L4 18.59l7.72-7.72 1.47 1.35L5.41 20z\"/>\n",
              "  </svg>\n",
              "      </button>\n",
              "      \n",
              "  <style>\n",
              "    .colab-df-container {\n",
              "      display:flex;\n",
              "      flex-wrap:wrap;\n",
              "      gap: 12px;\n",
              "    }\n",
              "\n",
              "    .colab-df-convert {\n",
              "      background-color: #E8F0FE;\n",
              "      border: none;\n",
              "      border-radius: 50%;\n",
              "      cursor: pointer;\n",
              "      display: none;\n",
              "      fill: #1967D2;\n",
              "      height: 32px;\n",
              "      padding: 0 0 0 0;\n",
              "      width: 32px;\n",
              "    }\n",
              "\n",
              "    .colab-df-convert:hover {\n",
              "      background-color: #E2EBFA;\n",
              "      box-shadow: 0px 1px 2px rgba(60, 64, 67, 0.3), 0px 1px 3px 1px rgba(60, 64, 67, 0.15);\n",
              "      fill: #174EA6;\n",
              "    }\n",
              "\n",
              "    [theme=dark] .colab-df-convert {\n",
              "      background-color: #3B4455;\n",
              "      fill: #D2E3FC;\n",
              "    }\n",
              "\n",
              "    [theme=dark] .colab-df-convert:hover {\n",
              "      background-color: #434B5C;\n",
              "      box-shadow: 0px 1px 3px 1px rgba(0, 0, 0, 0.15);\n",
              "      filter: drop-shadow(0px 1px 2px rgba(0, 0, 0, 0.3));\n",
              "      fill: #FFFFFF;\n",
              "    }\n",
              "  </style>\n",
              "\n",
              "      <script>\n",
              "        const buttonEl =\n",
              "          document.querySelector('#df-30a2daaf-f2c7-4bdb-9567-acae6da5f308 button.colab-df-convert');\n",
              "        buttonEl.style.display =\n",
              "          google.colab.kernel.accessAllowed ? 'block' : 'none';\n",
              "\n",
              "        async function convertToInteractive(key) {\n",
              "          const element = document.querySelector('#df-30a2daaf-f2c7-4bdb-9567-acae6da5f308');\n",
              "          const dataTable =\n",
              "            await google.colab.kernel.invokeFunction('convertToInteractive',\n",
              "                                                     [key], {});\n",
              "          if (!dataTable) return;\n",
              "\n",
              "          const docLinkHtml = 'Like what you see? Visit the ' +\n",
              "            '<a target=\"_blank\" href=https://colab.research.google.com/notebooks/data_table.ipynb>data table notebook</a>'\n",
              "            + ' to learn more about interactive tables.';\n",
              "          element.innerHTML = '';\n",
              "          dataTable['output_type'] = 'display_data';\n",
              "          await google.colab.output.renderOutput(dataTable, element);\n",
              "          const docLink = document.createElement('div');\n",
              "          docLink.innerHTML = docLinkHtml;\n",
              "          element.appendChild(docLink);\n",
              "        }\n",
              "      </script>\n",
              "    </div>\n",
              "  </div>\n",
              "  "
            ]
          },
          "metadata": {},
          "execution_count": 75
        }
      ]
    },
    {
      "cell_type": "code",
      "source": [
        "df_price.isna().sum()"
      ],
      "metadata": {
        "colab": {
          "base_uri": "https://localhost:8080/"
        },
        "id": "HBZDVzzjNKDa",
        "outputId": "6353242d-f0f1-43b5-fcb4-6e5cc3b7bc49"
      },
      "execution_count": 76,
      "outputs": [
        {
          "output_type": "execute_result",
          "data": {
            "text/plain": [
              "price       56\n",
              "area         6\n",
              "bedroom    365\n",
              "toilet     449\n",
              "dtype: int64"
            ]
          },
          "metadata": {},
          "execution_count": 76
        }
      ]
    },
    {
      "cell_type": "code",
      "source": [
        "df_price.loc[df_price['price'].isna() == True, :]"
      ],
      "metadata": {
        "colab": {
          "base_uri": "https://localhost:8080/",
          "height": 1000
        },
        "id": "0QO9hznkNrFQ",
        "outputId": "621e5501-0e50-4bde-9dea-44dc91fe1114"
      },
      "execution_count": 77,
      "outputs": [
        {
          "output_type": "execute_result",
          "data": {
            "text/plain": [
              "     price   area  bedroom  toilet\n",
              "98     NaN    0.0      NaN     NaN\n",
              "110    NaN    0.0      NaN     NaN\n",
              "115    NaN    0.0      NaN     NaN\n",
              "117    NaN   30.0      NaN     NaN\n",
              "119    NaN  234.0      NaN     NaN\n",
              "121    NaN   30.0      NaN     NaN\n",
              "124    NaN    0.0      NaN     NaN\n",
              "125    NaN    0.0      NaN     NaN\n",
              "130    NaN    0.0      NaN     NaN\n",
              "135    NaN    0.0      NaN     NaN\n",
              "138    NaN    0.0      NaN     NaN\n",
              "145    NaN   45.0      NaN     NaN\n",
              "150    NaN   65.0      NaN     NaN\n",
              "152    NaN    0.0      NaN     NaN\n",
              "153    NaN    0.0      NaN     NaN\n",
              "154    NaN   20.0      NaN     NaN\n",
              "155    NaN    0.0      NaN     NaN\n",
              "156    NaN    0.0      NaN     NaN\n",
              "164    NaN   33.0      NaN     NaN\n",
              "165    NaN    0.0      NaN     NaN\n",
              "172    NaN    0.0      NaN     NaN\n",
              "175    NaN    0.0      NaN     NaN\n",
              "179    NaN  600.0      NaN     NaN\n",
              "201    NaN   42.0      NaN     NaN\n",
              "206    NaN    0.0      NaN     NaN\n",
              "216    NaN    0.0      NaN     NaN\n",
              "217    NaN    0.0      NaN     NaN\n",
              "223    NaN    0.0      NaN     NaN\n",
              "227    NaN    0.0      NaN     NaN\n",
              "238    NaN   30.0      NaN     NaN\n",
              "240    NaN   80.0      NaN     NaN\n",
              "241    NaN   80.0      NaN     NaN\n",
              "252    NaN    0.0      NaN     NaN\n",
              "253    NaN    0.0      NaN     NaN\n",
              "268    NaN    0.0      NaN     NaN\n",
              "269    NaN    0.0      NaN     NaN\n",
              "270    NaN    0.0      NaN     NaN\n",
              "302    NaN   60.0      NaN     NaN\n",
              "314    NaN   80.0      NaN     NaN\n",
              "375    NaN   30.0      1.0     NaN\n",
              "630    NaN    NaN      NaN     NaN\n",
              "656    NaN   51.0      NaN     NaN\n",
              "659    NaN   45.0      NaN     NaN\n",
              "670    NaN  100.0      NaN     NaN\n",
              "675    NaN    0.0      NaN     NaN\n",
              "693    NaN   55.0      NaN     NaN\n",
              "694    NaN    NaN      NaN     NaN\n",
              "714    NaN  122.0      NaN     NaN\n",
              "720    NaN    NaN      NaN     NaN\n",
              "721    NaN    0.0      NaN     NaN\n",
              "724    NaN   49.0      6.0     4.0\n",
              "727    NaN  122.0      NaN     NaN\n",
              "788    NaN   35.0      3.0     4.0\n",
              "968    NaN  150.0      NaN     NaN\n",
              "974    NaN    NaN      NaN     NaN\n",
              "992    NaN   56.0      6.0     6.0"
            ],
            "text/html": [
              "\n",
              "  <div id=\"df-de62d339-dfbb-4e5d-933a-38e07c8be57f\">\n",
              "    <div class=\"colab-df-container\">\n",
              "      <div>\n",
              "<style scoped>\n",
              "    .dataframe tbody tr th:only-of-type {\n",
              "        vertical-align: middle;\n",
              "    }\n",
              "\n",
              "    .dataframe tbody tr th {\n",
              "        vertical-align: top;\n",
              "    }\n",
              "\n",
              "    .dataframe thead th {\n",
              "        text-align: right;\n",
              "    }\n",
              "</style>\n",
              "<table border=\"1\" class=\"dataframe\">\n",
              "  <thead>\n",
              "    <tr style=\"text-align: right;\">\n",
              "      <th></th>\n",
              "      <th>price</th>\n",
              "      <th>area</th>\n",
              "      <th>bedroom</th>\n",
              "      <th>toilet</th>\n",
              "    </tr>\n",
              "  </thead>\n",
              "  <tbody>\n",
              "    <tr>\n",
              "      <th>98</th>\n",
              "      <td>NaN</td>\n",
              "      <td>0.0</td>\n",
              "      <td>NaN</td>\n",
              "      <td>NaN</td>\n",
              "    </tr>\n",
              "    <tr>\n",
              "      <th>110</th>\n",
              "      <td>NaN</td>\n",
              "      <td>0.0</td>\n",
              "      <td>NaN</td>\n",
              "      <td>NaN</td>\n",
              "    </tr>\n",
              "    <tr>\n",
              "      <th>115</th>\n",
              "      <td>NaN</td>\n",
              "      <td>0.0</td>\n",
              "      <td>NaN</td>\n",
              "      <td>NaN</td>\n",
              "    </tr>\n",
              "    <tr>\n",
              "      <th>117</th>\n",
              "      <td>NaN</td>\n",
              "      <td>30.0</td>\n",
              "      <td>NaN</td>\n",
              "      <td>NaN</td>\n",
              "    </tr>\n",
              "    <tr>\n",
              "      <th>119</th>\n",
              "      <td>NaN</td>\n",
              "      <td>234.0</td>\n",
              "      <td>NaN</td>\n",
              "      <td>NaN</td>\n",
              "    </tr>\n",
              "    <tr>\n",
              "      <th>121</th>\n",
              "      <td>NaN</td>\n",
              "      <td>30.0</td>\n",
              "      <td>NaN</td>\n",
              "      <td>NaN</td>\n",
              "    </tr>\n",
              "    <tr>\n",
              "      <th>124</th>\n",
              "      <td>NaN</td>\n",
              "      <td>0.0</td>\n",
              "      <td>NaN</td>\n",
              "      <td>NaN</td>\n",
              "    </tr>\n",
              "    <tr>\n",
              "      <th>125</th>\n",
              "      <td>NaN</td>\n",
              "      <td>0.0</td>\n",
              "      <td>NaN</td>\n",
              "      <td>NaN</td>\n",
              "    </tr>\n",
              "    <tr>\n",
              "      <th>130</th>\n",
              "      <td>NaN</td>\n",
              "      <td>0.0</td>\n",
              "      <td>NaN</td>\n",
              "      <td>NaN</td>\n",
              "    </tr>\n",
              "    <tr>\n",
              "      <th>135</th>\n",
              "      <td>NaN</td>\n",
              "      <td>0.0</td>\n",
              "      <td>NaN</td>\n",
              "      <td>NaN</td>\n",
              "    </tr>\n",
              "    <tr>\n",
              "      <th>138</th>\n",
              "      <td>NaN</td>\n",
              "      <td>0.0</td>\n",
              "      <td>NaN</td>\n",
              "      <td>NaN</td>\n",
              "    </tr>\n",
              "    <tr>\n",
              "      <th>145</th>\n",
              "      <td>NaN</td>\n",
              "      <td>45.0</td>\n",
              "      <td>NaN</td>\n",
              "      <td>NaN</td>\n",
              "    </tr>\n",
              "    <tr>\n",
              "      <th>150</th>\n",
              "      <td>NaN</td>\n",
              "      <td>65.0</td>\n",
              "      <td>NaN</td>\n",
              "      <td>NaN</td>\n",
              "    </tr>\n",
              "    <tr>\n",
              "      <th>152</th>\n",
              "      <td>NaN</td>\n",
              "      <td>0.0</td>\n",
              "      <td>NaN</td>\n",
              "      <td>NaN</td>\n",
              "    </tr>\n",
              "    <tr>\n",
              "      <th>153</th>\n",
              "      <td>NaN</td>\n",
              "      <td>0.0</td>\n",
              "      <td>NaN</td>\n",
              "      <td>NaN</td>\n",
              "    </tr>\n",
              "    <tr>\n",
              "      <th>154</th>\n",
              "      <td>NaN</td>\n",
              "      <td>20.0</td>\n",
              "      <td>NaN</td>\n",
              "      <td>NaN</td>\n",
              "    </tr>\n",
              "    <tr>\n",
              "      <th>155</th>\n",
              "      <td>NaN</td>\n",
              "      <td>0.0</td>\n",
              "      <td>NaN</td>\n",
              "      <td>NaN</td>\n",
              "    </tr>\n",
              "    <tr>\n",
              "      <th>156</th>\n",
              "      <td>NaN</td>\n",
              "      <td>0.0</td>\n",
              "      <td>NaN</td>\n",
              "      <td>NaN</td>\n",
              "    </tr>\n",
              "    <tr>\n",
              "      <th>164</th>\n",
              "      <td>NaN</td>\n",
              "      <td>33.0</td>\n",
              "      <td>NaN</td>\n",
              "      <td>NaN</td>\n",
              "    </tr>\n",
              "    <tr>\n",
              "      <th>165</th>\n",
              "      <td>NaN</td>\n",
              "      <td>0.0</td>\n",
              "      <td>NaN</td>\n",
              "      <td>NaN</td>\n",
              "    </tr>\n",
              "    <tr>\n",
              "      <th>172</th>\n",
              "      <td>NaN</td>\n",
              "      <td>0.0</td>\n",
              "      <td>NaN</td>\n",
              "      <td>NaN</td>\n",
              "    </tr>\n",
              "    <tr>\n",
              "      <th>175</th>\n",
              "      <td>NaN</td>\n",
              "      <td>0.0</td>\n",
              "      <td>NaN</td>\n",
              "      <td>NaN</td>\n",
              "    </tr>\n",
              "    <tr>\n",
              "      <th>179</th>\n",
              "      <td>NaN</td>\n",
              "      <td>600.0</td>\n",
              "      <td>NaN</td>\n",
              "      <td>NaN</td>\n",
              "    </tr>\n",
              "    <tr>\n",
              "      <th>201</th>\n",
              "      <td>NaN</td>\n",
              "      <td>42.0</td>\n",
              "      <td>NaN</td>\n",
              "      <td>NaN</td>\n",
              "    </tr>\n",
              "    <tr>\n",
              "      <th>206</th>\n",
              "      <td>NaN</td>\n",
              "      <td>0.0</td>\n",
              "      <td>NaN</td>\n",
              "      <td>NaN</td>\n",
              "    </tr>\n",
              "    <tr>\n",
              "      <th>216</th>\n",
              "      <td>NaN</td>\n",
              "      <td>0.0</td>\n",
              "      <td>NaN</td>\n",
              "      <td>NaN</td>\n",
              "    </tr>\n",
              "    <tr>\n",
              "      <th>217</th>\n",
              "      <td>NaN</td>\n",
              "      <td>0.0</td>\n",
              "      <td>NaN</td>\n",
              "      <td>NaN</td>\n",
              "    </tr>\n",
              "    <tr>\n",
              "      <th>223</th>\n",
              "      <td>NaN</td>\n",
              "      <td>0.0</td>\n",
              "      <td>NaN</td>\n",
              "      <td>NaN</td>\n",
              "    </tr>\n",
              "    <tr>\n",
              "      <th>227</th>\n",
              "      <td>NaN</td>\n",
              "      <td>0.0</td>\n",
              "      <td>NaN</td>\n",
              "      <td>NaN</td>\n",
              "    </tr>\n",
              "    <tr>\n",
              "      <th>238</th>\n",
              "      <td>NaN</td>\n",
              "      <td>30.0</td>\n",
              "      <td>NaN</td>\n",
              "      <td>NaN</td>\n",
              "    </tr>\n",
              "    <tr>\n",
              "      <th>240</th>\n",
              "      <td>NaN</td>\n",
              "      <td>80.0</td>\n",
              "      <td>NaN</td>\n",
              "      <td>NaN</td>\n",
              "    </tr>\n",
              "    <tr>\n",
              "      <th>241</th>\n",
              "      <td>NaN</td>\n",
              "      <td>80.0</td>\n",
              "      <td>NaN</td>\n",
              "      <td>NaN</td>\n",
              "    </tr>\n",
              "    <tr>\n",
              "      <th>252</th>\n",
              "      <td>NaN</td>\n",
              "      <td>0.0</td>\n",
              "      <td>NaN</td>\n",
              "      <td>NaN</td>\n",
              "    </tr>\n",
              "    <tr>\n",
              "      <th>253</th>\n",
              "      <td>NaN</td>\n",
              "      <td>0.0</td>\n",
              "      <td>NaN</td>\n",
              "      <td>NaN</td>\n",
              "    </tr>\n",
              "    <tr>\n",
              "      <th>268</th>\n",
              "      <td>NaN</td>\n",
              "      <td>0.0</td>\n",
              "      <td>NaN</td>\n",
              "      <td>NaN</td>\n",
              "    </tr>\n",
              "    <tr>\n",
              "      <th>269</th>\n",
              "      <td>NaN</td>\n",
              "      <td>0.0</td>\n",
              "      <td>NaN</td>\n",
              "      <td>NaN</td>\n",
              "    </tr>\n",
              "    <tr>\n",
              "      <th>270</th>\n",
              "      <td>NaN</td>\n",
              "      <td>0.0</td>\n",
              "      <td>NaN</td>\n",
              "      <td>NaN</td>\n",
              "    </tr>\n",
              "    <tr>\n",
              "      <th>302</th>\n",
              "      <td>NaN</td>\n",
              "      <td>60.0</td>\n",
              "      <td>NaN</td>\n",
              "      <td>NaN</td>\n",
              "    </tr>\n",
              "    <tr>\n",
              "      <th>314</th>\n",
              "      <td>NaN</td>\n",
              "      <td>80.0</td>\n",
              "      <td>NaN</td>\n",
              "      <td>NaN</td>\n",
              "    </tr>\n",
              "    <tr>\n",
              "      <th>375</th>\n",
              "      <td>NaN</td>\n",
              "      <td>30.0</td>\n",
              "      <td>1.0</td>\n",
              "      <td>NaN</td>\n",
              "    </tr>\n",
              "    <tr>\n",
              "      <th>630</th>\n",
              "      <td>NaN</td>\n",
              "      <td>NaN</td>\n",
              "      <td>NaN</td>\n",
              "      <td>NaN</td>\n",
              "    </tr>\n",
              "    <tr>\n",
              "      <th>656</th>\n",
              "      <td>NaN</td>\n",
              "      <td>51.0</td>\n",
              "      <td>NaN</td>\n",
              "      <td>NaN</td>\n",
              "    </tr>\n",
              "    <tr>\n",
              "      <th>659</th>\n",
              "      <td>NaN</td>\n",
              "      <td>45.0</td>\n",
              "      <td>NaN</td>\n",
              "      <td>NaN</td>\n",
              "    </tr>\n",
              "    <tr>\n",
              "      <th>670</th>\n",
              "      <td>NaN</td>\n",
              "      <td>100.0</td>\n",
              "      <td>NaN</td>\n",
              "      <td>NaN</td>\n",
              "    </tr>\n",
              "    <tr>\n",
              "      <th>675</th>\n",
              "      <td>NaN</td>\n",
              "      <td>0.0</td>\n",
              "      <td>NaN</td>\n",
              "      <td>NaN</td>\n",
              "    </tr>\n",
              "    <tr>\n",
              "      <th>693</th>\n",
              "      <td>NaN</td>\n",
              "      <td>55.0</td>\n",
              "      <td>NaN</td>\n",
              "      <td>NaN</td>\n",
              "    </tr>\n",
              "    <tr>\n",
              "      <th>694</th>\n",
              "      <td>NaN</td>\n",
              "      <td>NaN</td>\n",
              "      <td>NaN</td>\n",
              "      <td>NaN</td>\n",
              "    </tr>\n",
              "    <tr>\n",
              "      <th>714</th>\n",
              "      <td>NaN</td>\n",
              "      <td>122.0</td>\n",
              "      <td>NaN</td>\n",
              "      <td>NaN</td>\n",
              "    </tr>\n",
              "    <tr>\n",
              "      <th>720</th>\n",
              "      <td>NaN</td>\n",
              "      <td>NaN</td>\n",
              "      <td>NaN</td>\n",
              "      <td>NaN</td>\n",
              "    </tr>\n",
              "    <tr>\n",
              "      <th>721</th>\n",
              "      <td>NaN</td>\n",
              "      <td>0.0</td>\n",
              "      <td>NaN</td>\n",
              "      <td>NaN</td>\n",
              "    </tr>\n",
              "    <tr>\n",
              "      <th>724</th>\n",
              "      <td>NaN</td>\n",
              "      <td>49.0</td>\n",
              "      <td>6.0</td>\n",
              "      <td>4.0</td>\n",
              "    </tr>\n",
              "    <tr>\n",
              "      <th>727</th>\n",
              "      <td>NaN</td>\n",
              "      <td>122.0</td>\n",
              "      <td>NaN</td>\n",
              "      <td>NaN</td>\n",
              "    </tr>\n",
              "    <tr>\n",
              "      <th>788</th>\n",
              "      <td>NaN</td>\n",
              "      <td>35.0</td>\n",
              "      <td>3.0</td>\n",
              "      <td>4.0</td>\n",
              "    </tr>\n",
              "    <tr>\n",
              "      <th>968</th>\n",
              "      <td>NaN</td>\n",
              "      <td>150.0</td>\n",
              "      <td>NaN</td>\n",
              "      <td>NaN</td>\n",
              "    </tr>\n",
              "    <tr>\n",
              "      <th>974</th>\n",
              "      <td>NaN</td>\n",
              "      <td>NaN</td>\n",
              "      <td>NaN</td>\n",
              "      <td>NaN</td>\n",
              "    </tr>\n",
              "    <tr>\n",
              "      <th>992</th>\n",
              "      <td>NaN</td>\n",
              "      <td>56.0</td>\n",
              "      <td>6.0</td>\n",
              "      <td>6.0</td>\n",
              "    </tr>\n",
              "  </tbody>\n",
              "</table>\n",
              "</div>\n",
              "      <button class=\"colab-df-convert\" onclick=\"convertToInteractive('df-de62d339-dfbb-4e5d-933a-38e07c8be57f')\"\n",
              "              title=\"Convert this dataframe to an interactive table.\"\n",
              "              style=\"display:none;\">\n",
              "        \n",
              "  <svg xmlns=\"http://www.w3.org/2000/svg\" height=\"24px\"viewBox=\"0 0 24 24\"\n",
              "       width=\"24px\">\n",
              "    <path d=\"M0 0h24v24H0V0z\" fill=\"none\"/>\n",
              "    <path d=\"M18.56 5.44l.94 2.06.94-2.06 2.06-.94-2.06-.94-.94-2.06-.94 2.06-2.06.94zm-11 1L8.5 8.5l.94-2.06 2.06-.94-2.06-.94L8.5 2.5l-.94 2.06-2.06.94zm10 10l.94 2.06.94-2.06 2.06-.94-2.06-.94-.94-2.06-.94 2.06-2.06.94z\"/><path d=\"M17.41 7.96l-1.37-1.37c-.4-.4-.92-.59-1.43-.59-.52 0-1.04.2-1.43.59L10.3 9.45l-7.72 7.72c-.78.78-.78 2.05 0 2.83L4 21.41c.39.39.9.59 1.41.59.51 0 1.02-.2 1.41-.59l7.78-7.78 2.81-2.81c.8-.78.8-2.07 0-2.86zM5.41 20L4 18.59l7.72-7.72 1.47 1.35L5.41 20z\"/>\n",
              "  </svg>\n",
              "      </button>\n",
              "      \n",
              "  <style>\n",
              "    .colab-df-container {\n",
              "      display:flex;\n",
              "      flex-wrap:wrap;\n",
              "      gap: 12px;\n",
              "    }\n",
              "\n",
              "    .colab-df-convert {\n",
              "      background-color: #E8F0FE;\n",
              "      border: none;\n",
              "      border-radius: 50%;\n",
              "      cursor: pointer;\n",
              "      display: none;\n",
              "      fill: #1967D2;\n",
              "      height: 32px;\n",
              "      padding: 0 0 0 0;\n",
              "      width: 32px;\n",
              "    }\n",
              "\n",
              "    .colab-df-convert:hover {\n",
              "      background-color: #E2EBFA;\n",
              "      box-shadow: 0px 1px 2px rgba(60, 64, 67, 0.3), 0px 1px 3px 1px rgba(60, 64, 67, 0.15);\n",
              "      fill: #174EA6;\n",
              "    }\n",
              "\n",
              "    [theme=dark] .colab-df-convert {\n",
              "      background-color: #3B4455;\n",
              "      fill: #D2E3FC;\n",
              "    }\n",
              "\n",
              "    [theme=dark] .colab-df-convert:hover {\n",
              "      background-color: #434B5C;\n",
              "      box-shadow: 0px 1px 3px 1px rgba(0, 0, 0, 0.15);\n",
              "      filter: drop-shadow(0px 1px 2px rgba(0, 0, 0, 0.3));\n",
              "      fill: #FFFFFF;\n",
              "    }\n",
              "  </style>\n",
              "\n",
              "      <script>\n",
              "        const buttonEl =\n",
              "          document.querySelector('#df-de62d339-dfbb-4e5d-933a-38e07c8be57f button.colab-df-convert');\n",
              "        buttonEl.style.display =\n",
              "          google.colab.kernel.accessAllowed ? 'block' : 'none';\n",
              "\n",
              "        async function convertToInteractive(key) {\n",
              "          const element = document.querySelector('#df-de62d339-dfbb-4e5d-933a-38e07c8be57f');\n",
              "          const dataTable =\n",
              "            await google.colab.kernel.invokeFunction('convertToInteractive',\n",
              "                                                     [key], {});\n",
              "          if (!dataTable) return;\n",
              "\n",
              "          const docLinkHtml = 'Like what you see? Visit the ' +\n",
              "            '<a target=\"_blank\" href=https://colab.research.google.com/notebooks/data_table.ipynb>data table notebook</a>'\n",
              "            + ' to learn more about interactive tables.';\n",
              "          element.innerHTML = '';\n",
              "          dataTable['output_type'] = 'display_data';\n",
              "          await google.colab.output.renderOutput(dataTable, element);\n",
              "          const docLink = document.createElement('div');\n",
              "          docLink.innerHTML = docLinkHtml;\n",
              "          element.appendChild(docLink);\n",
              "        }\n",
              "      </script>\n",
              "    </div>\n",
              "  </div>\n",
              "  "
            ]
          },
          "metadata": {},
          "execution_count": 77
        }
      ]
    },
    {
      "cell_type": "code",
      "source": [
        "idx = list(df_price.loc[df_price['area'] == 0,:].index)"
      ],
      "metadata": {
        "id": "Jfm_kNLqQ4ia"
      },
      "execution_count": 78,
      "outputs": []
    },
    {
      "cell_type": "code",
      "source": [
        "df_price.drop(idx, inplace =True)"
      ],
      "metadata": {
        "colab": {
          "base_uri": "https://localhost:8080/"
        },
        "id": "qGmO_mu4RkT3",
        "outputId": "2b5c2e71-871e-4386-f3e9-a6d0317ddc6e"
      },
      "execution_count": 79,
      "outputs": [
        {
          "output_type": "stream",
          "name": "stderr",
          "text": [
            "/usr/local/lib/python3.7/dist-packages/pandas/core/frame.py:4913: SettingWithCopyWarning: \n",
            "A value is trying to be set on a copy of a slice from a DataFrame\n",
            "\n",
            "See the caveats in the documentation: https://pandas.pydata.org/pandas-docs/stable/user_guide/indexing.html#returning-a-view-versus-a-copy\n",
            "  errors=errors,\n"
          ]
        }
      ]
    },
    {
      "cell_type": "code",
      "source": [
        "df_price['price'].fillna(0, inplace = True)"
      ],
      "metadata": {
        "colab": {
          "base_uri": "https://localhost:8080/"
        },
        "id": "C_uclLm2NNvG",
        "outputId": "5d2a75fa-6f1e-431b-a09f-cff460b41308"
      },
      "execution_count": 80,
      "outputs": [
        {
          "output_type": "stream",
          "name": "stderr",
          "text": [
            "/usr/local/lib/python3.7/dist-packages/pandas/core/generic.py:6392: SettingWithCopyWarning: \n",
            "A value is trying to be set on a copy of a slice from a DataFrame\n",
            "\n",
            "See the caveats in the documentation: https://pandas.pydata.org/pandas-docs/stable/user_guide/indexing.html#returning-a-view-versus-a-copy\n",
            "  return self._update_inplace(result)\n"
          ]
        }
      ]
    },
    {
      "cell_type": "code",
      "source": [
        "df_price.info()"
      ],
      "metadata": {
        "colab": {
          "base_uri": "https://localhost:8080/"
        },
        "id": "k7Hptb0TSosz",
        "outputId": "1dbc8486-7c55-4b91-816f-54ebcc587ae9"
      },
      "execution_count": 81,
      "outputs": [
        {
          "output_type": "stream",
          "name": "stdout",
          "text": [
            "<class 'pandas.core.frame.DataFrame'>\n",
            "Int64Index: 957 entries, 0 to 999\n",
            "Data columns (total 4 columns):\n",
            " #   Column   Non-Null Count  Dtype  \n",
            "---  ------   --------------  -----  \n",
            " 0   price    957 non-null    float64\n",
            " 1   area     951 non-null    float64\n",
            " 2   bedroom  635 non-null    float64\n",
            " 3   toilet   551 non-null    float64\n",
            "dtypes: float64(4)\n",
            "memory usage: 37.4 KB\n"
          ]
        }
      ]
    },
    {
      "cell_type": "code",
      "source": [
        "df_price = df_price.sort_values(by = \"price\")"
      ],
      "metadata": {
        "id": "QDaVEqS_U6_m"
      },
      "execution_count": 92,
      "outputs": []
    },
    {
      "cell_type": "code",
      "source": [
        "# making subplots objects\n",
        "fig, ax = plt.subplots(1,3, figsize=(10,7))\n",
        "ax[0].scatter(df_price[\"price\"], df_price['area'])\n",
        "ax[1].scatter(df_price[\"price\"], df_price['bedroom'])\n",
        "ax[2].scatter(df_price[\"price\"], df_price['toilet'])\n"
      ],
      "metadata": {
        "colab": {
          "base_uri": "https://localhost:8080/",
          "height": 458
        },
        "id": "deyfa6w4TaNz",
        "outputId": "9e4ade17-a1dc-4a6b-c044-02b6feb0615b"
      },
      "execution_count": 96,
      "outputs": [
        {
          "output_type": "execute_result",
          "data": {
            "text/plain": [
              "<matplotlib.collections.PathCollection at 0x7f91bbe184d0>"
            ]
          },
          "metadata": {},
          "execution_count": 96
        },
        {
          "output_type": "display_data",
          "data": {
            "text/plain": [
              "<Figure size 720x504 with 3 Axes>"
            ],
            "image/png": "[encoded data removed]"
          },
          "metadata": {
            "needs_background": "light"
          }
        }
      ]
    },
    {
      "cell_type": "markdown",
      "source": [
        "## So sánh giá nhà trung bình trên 1 m2 giữa các hình thức nhà (type_of_land). Đồn thời thể hiện tỉ lệ % bài đăng (bản ghi) giữa các hình thức nhà (type_of_land).\n"
      ],
      "metadata": {
        "id": "Y-yCz2hTVroZ"
      }
    },
    {
      "cell_type": "code",
      "source": [
        "df.info()"
      ],
      "metadata": {
        "colab": {
          "base_uri": "https://localhost:8080/"
        },
        "id": "2ySqGofXUShZ",
        "outputId": "3d32d354-6c47-4df8-82b3-65fecc640edb"
      },
      "execution_count": 97,
      "outputs": [
        {
          "output_type": "stream",
          "name": "stdout",
          "text": [
            "<class 'pandas.core.frame.DataFrame'>\n",
            "RangeIndex: 1000 entries, 0 to 999\n",
            "Data columns (total 18 columns):\n",
            " #   Column             Non-Null Count  Dtype         \n",
            "---  ------             --------------  -----         \n",
            " 0   title              1000 non-null   object        \n",
            " 1   address            1000 non-null   object        \n",
            " 2   area               994 non-null    float64       \n",
            " 3   price              944 non-null    float64       \n",
            " 4   postDate           1000 non-null   datetime64[ns]\n",
            " 5   land_certificate   693 non-null    object        \n",
            " 6   house_direction    44 non-null     object        \n",
            " 7   balcony_direction  24 non-null     object        \n",
            " 8   toilet             551 non-null    float64       \n",
            " 9   bedroom            635 non-null    float64       \n",
            " 10  floor              376 non-null    float64       \n",
            " 11  type_of_land       1000 non-null   object        \n",
            " 12  street_name        808 non-null    object        \n",
            " 13  ward_name          802 non-null    object        \n",
            " 14  district_name      1000 non-null   object        \n",
            " 15  city_name          1000 non-null   object        \n",
            " 16  lat                1000 non-null   float64       \n",
            " 17  long               1000 non-null   float64       \n",
            "dtypes: datetime64[ns](1), float64(7), object(10)\n",
            "memory usage: 140.8+ KB\n"
          ]
        }
      ]
    },
    {
      "cell_type": "code",
      "source": [
        "df_area = df[['price','area', 'type_of_land']]"
      ],
      "metadata": {
        "id": "0770lDw2VxbD"
      },
      "execution_count": 100,
      "outputs": []
    },
    {
      "cell_type": "code",
      "source": [
        "df_area.info()"
      ],
      "metadata": {
        "colab": {
          "base_uri": "https://localhost:8080/"
        },
        "id": "uVWvcSxrWU1C",
        "outputId": "6c7f8b39-7cf1-4e58-cb79-bf488d733353"
      },
      "execution_count": 101,
      "outputs": [
        {
          "output_type": "stream",
          "name": "stdout",
          "text": [
            "<class 'pandas.core.frame.DataFrame'>\n",
            "RangeIndex: 1000 entries, 0 to 999\n",
            "Data columns (total 3 columns):\n",
            " #   Column        Non-Null Count  Dtype  \n",
            "---  ------        --------------  -----  \n",
            " 0   price         944 non-null    float64\n",
            " 1   area          994 non-null    float64\n",
            " 2   type_of_land  1000 non-null   object \n",
            "dtypes: float64(2), object(1)\n",
            "memory usage: 23.6+ KB\n"
          ]
        }
      ]
    },
    {
      "cell_type": "code",
      "source": [
        "dfPriceIn1m2 = df_area.loc[df_area['area'] > 1, :]"
      ],
      "metadata": {
        "id": "_DcsYaSwWWR4"
      },
      "execution_count": 102,
      "outputs": []
    },
    {
      "cell_type": "code",
      "source": [
        "dfPriceIn1m2.info()"
      ],
      "metadata": {
        "colab": {
          "base_uri": "https://localhost:8080/"
        },
        "id": "WXQiXfH5Woxb",
        "outputId": "2022317c-fe79-4994-b47b-29f15c02ba6d"
      },
      "execution_count": 103,
      "outputs": [
        {
          "output_type": "stream",
          "name": "stdout",
          "text": [
            "<class 'pandas.core.frame.DataFrame'>\n",
            "Int64Index: 951 entries, 0 to 999\n",
            "Data columns (total 3 columns):\n",
            " #   Column        Non-Null Count  Dtype  \n",
            "---  ------        --------------  -----  \n",
            " 0   price         926 non-null    float64\n",
            " 1   area          951 non-null    float64\n",
            " 2   type_of_land  951 non-null    object \n",
            "dtypes: float64(2), object(1)\n",
            "memory usage: 29.7+ KB\n"
          ]
        }
      ]
    },
    {
      "cell_type": "code",
      "source": [
        "dfPriceIn1m2 = dfPriceIn1m2.dropna()"
      ],
      "metadata": {
        "id": "TsAidwZkWsaV"
      },
      "execution_count": 104,
      "outputs": []
    },
    {
      "cell_type": "code",
      "source": [
        "dfPriceIn1m2['type_of_land'].unique()"
      ],
      "metadata": {
        "colab": {
          "base_uri": "https://localhost:8080/"
        },
        "id": "Hkaag9VHWwf9",
        "outputId": "54651d7b-e9ee-438a-8e10-e28c609a5321"
      },
      "execution_count": 105,
      "outputs": [
        {
          "output_type": "execute_result",
          "data": {
            "text/plain": [
              "array(['Bán nhà riêng\\n ', 'Bán nhà mặt phố\\n ', 'Tập thể, cư xá',\n",
              "       'Bán nhà riêng', 'Bán nhà mặt phố', 'Chung cư',\n",
              "       'Bất động sản khác', 'Bất động sản khác\\n ', 'Đất thổ cư'],\n",
              "      dtype=object)"
            ]
          },
          "metadata": {},
          "execution_count": 105
        }
      ]
    },
    {
      "cell_type": "code",
      "source": [
        "dfPriceIn1m2['type_of_land'] = dfPriceIn1m2['type_of_land'].str.replace(r'(\\n)', '', regex=True).to_list()\n"
      ],
      "metadata": {
        "id": "atMLpA4HXAir"
      },
      "execution_count": 106,
      "outputs": []
    },
    {
      "cell_type": "code",
      "source": [
        "dfPriceIn1m2['type_of_land'].unique()"
      ],
      "metadata": {
        "colab": {
          "base_uri": "https://localhost:8080/"
        },
        "id": "kXvVIrQ7XVSi",
        "outputId": "95f905d1-e517-442a-ac03-32320bedaa82"
      },
      "execution_count": 107,
      "outputs": [
        {
          "output_type": "execute_result",
          "data": {
            "text/plain": [
              "array(['Bán nhà riêng ', 'Bán nhà mặt phố ', 'Tập thể, cư xá',\n",
              "       'Bán nhà riêng', 'Bán nhà mặt phố', 'Chung cư',\n",
              "       'Bất động sản khác', 'Bất động sản khác ', 'Đất thổ cư'],\n",
              "      dtype=object)"
            ]
          },
          "metadata": {},
          "execution_count": 107
        }
      ]
    },
    {
      "cell_type": "code",
      "source": [
        "a = dfPriceIn1m2.groupby(\"type_of_land\")['price'].mean()"
      ],
      "metadata": {
        "id": "wZE6H_NTXWgV"
      },
      "execution_count": 116,
      "outputs": []
    },
    {
      "cell_type": "code",
      "source": [
        "a.values"
      ],
      "metadata": {
        "colab": {
          "base_uri": "https://localhost:8080/"
        },
        "id": "jVeLKS6sYU8p",
        "outputId": "4825c80c-b6a7-44b4-ee0d-405747433759"
      },
      "execution_count": 120,
      "outputs": [
        {
          "output_type": "execute_result",
          "data": {
            "text/plain": [
              "array([38816.22786885, 78267.36526946,  6184.96666667, 10958.59262295,\n",
              "       20800.        , 23437.        ,  2011.86440678,  2094.63768116,\n",
              "       10585.        ])"
            ]
          },
          "metadata": {},
          "execution_count": 120
        }
      ]
    },
    {
      "cell_type": "code",
      "source": [
        "fig = plt.figure(figsize = (15, 5))\n",
        "plt.bar(a.index, a.values, color ='maroon', width = 0.4)\n",
        " \n",
        "plt.ylabel(\"mean price by type of land\")\n",
        "plt.xlabel(\"type of land\")\n",
        "plt.title(\"value mean of price by type of land\")\n",
        "plt.show()"
      ],
      "metadata": {
        "colab": {
          "base_uri": "https://localhost:8080/",
          "height": 352
        },
        "id": "L0KhCnqnXkDP",
        "outputId": "14d6285c-d85b-4988-e189-a86006cedb18"
      },
      "execution_count": 123,
      "outputs": [
        {
          "output_type": "display_data",
          "data": {
            "text/plain": [
              "<Figure size 1080x360 with 1 Axes>"
            ],
            "image/png": "[encoded data removed]"
          },
          "metadata": {
            "needs_background": "light"
          }
        }
      ]
    },
    {
      "cell_type": "code",
      "source": [
        ""
      ],
      "metadata": {
        "id": "xp8VjY_uYFyU"
      },
      "execution_count": null,
      "outputs": []
    }
  ]
}
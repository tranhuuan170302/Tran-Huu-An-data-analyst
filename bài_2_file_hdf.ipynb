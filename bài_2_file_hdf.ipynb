{
  "nbformat": 4,
  "nbformat_minor": 0,
  "metadata": {
    "colab": {
      "name": "bài 2 file  hdf.ipynb",
      "provenance": [],
      "authorship_tag": "ABX9TyM3Ti8o6PArNxcoN6Qiz6jO",
      "include_colab_link": true
    },
    "kernelspec": {
      "name": "python3",
      "display_name": "Python 3"
    },
    "language_info": {
      "name": "python"
    }
  },
  "cells": [
    {
      "cell_type": "markdown",
      "metadata": {
        "id": "view-in-github",
        "colab_type": "text"
      },
      "source": [
        "<a href=\"https://colab.research.google.com/github/tranhuuan170302/Tran-Huu-An-data-analyst/blob/main/ba%CC%80i_2_file_hdf.ipynb\" target=\"_parent\"><img src=\"https://colab.research.google.com/assets/colab-badge.svg\" alt=\"Open In Colab\"/></a>"
      ]
    },
    {
      "cell_type": "markdown",
      "source": [
        "# đọc file HDF\n",
        "\n",
        "\n"
      ],
      "metadata": {
        "id": "W9gGGCIPbU2i"
      }
    },
    {
      "cell_type": "code",
      "source": [
        "!pip install --upgrade tables"
      ],
      "metadata": {
        "colab": {
          "base_uri": "https://localhost:8080/",
          "height": 346
        },
        "id": "JGeIpxZQbc_H",
        "outputId": "1fc224c3-4f2d-49e6-8d69-c99e79932ba5"
      },
      "execution_count": 7,
      "outputs": [
        {
          "output_type": "stream",
          "name": "stdout",
          "text": [
            "Requirement already satisfied: tables in /usr/local/lib/python3.7/dist-packages (3.4.4)\n",
            "Collecting tables\n",
            "  Downloading tables-3.7.0-cp37-cp37m-manylinux_2_17_x86_64.manylinux2014_x86_64.whl (5.9 MB)\n",
            "\u001b[K     |████████████████████████████████| 5.9 MB 5.0 MB/s \n",
            "\u001b[?25hRequirement already satisfied: numpy>=1.19.0 in /usr/local/lib/python3.7/dist-packages (from tables) (1.19.5)\n",
            "Requirement already satisfied: packaging in /usr/local/lib/python3.7/dist-packages (from tables) (21.3)\n",
            "Requirement already satisfied: numexpr>=2.6.2 in /usr/local/lib/python3.7/dist-packages (from tables) (2.7.3)\n",
            "Requirement already satisfied: pyparsing!=3.0.5,>=2.0.2 in /usr/local/lib/python3.7/dist-packages (from packaging->tables) (3.0.6)\n",
            "Installing collected packages: tables\n",
            "  Attempting uninstall: tables\n",
            "    Found existing installation: tables 3.4.4\n",
            "    Uninstalling tables-3.4.4:\n",
            "      Successfully uninstalled tables-3.4.4\n",
            "Successfully installed tables-3.7.0\n"
          ]
        },
        {
          "output_type": "display_data",
          "data": {
            "application/vnd.colab-display-data+json": {
              "pip_warning": {
                "packages": [
                  "tables"
                ]
              }
            }
          },
          "metadata": {}
        }
      ]
    },
    {
      "cell_type": "code",
      "source": [
        "import pandas as pd\n",
        "df = pd.read_hdf(\"/FoodPrice_in_Turkey.hdf\")\n",
        "df.head()\n"
      ],
      "metadata": {
        "colab": {
          "base_uri": "https://localhost:8080/",
          "height": 206
        },
        "id": "v18Sut0_d-fu",
        "outputId": "9db6cbc0-cc31-4f47-ad2a-5d3ac3bbdfa4"
      },
      "execution_count": 2,
      "outputs": [
        {
          "output_type": "execute_result",
          "data": {
            "text/html": [
              "\n",
              "  <div id=\"df-ca601878-02b0-4437-abdb-30829d5718b4\">\n",
              "    <div class=\"colab-df-container\">\n",
              "      <div>\n",
              "<style scoped>\n",
              "    .dataframe tbody tr th:only-of-type {\n",
              "        vertical-align: middle;\n",
              "    }\n",
              "\n",
              "    .dataframe tbody tr th {\n",
              "        vertical-align: top;\n",
              "    }\n",
              "\n",
              "    .dataframe thead th {\n",
              "        text-align: right;\n",
              "    }\n",
              "</style>\n",
              "<table border=\"1\" class=\"dataframe\">\n",
              "  <thead>\n",
              "    <tr style=\"text-align: right;\">\n",
              "      <th></th>\n",
              "      <th>Place</th>\n",
              "      <th>ProductId</th>\n",
              "      <th>ProductName</th>\n",
              "      <th>UmId</th>\n",
              "      <th>UmName</th>\n",
              "      <th>Month</th>\n",
              "      <th>Year</th>\n",
              "      <th>Price</th>\n",
              "    </tr>\n",
              "  </thead>\n",
              "  <tbody>\n",
              "    <tr>\n",
              "      <th>0</th>\n",
              "      <td>National Average</td>\n",
              "      <td>52</td>\n",
              "      <td>Rice - Retail</td>\n",
              "      <td>5</td>\n",
              "      <td>KG</td>\n",
              "      <td>5</td>\n",
              "      <td>2013</td>\n",
              "      <td>4.4920</td>\n",
              "    </tr>\n",
              "    <tr>\n",
              "      <th>1</th>\n",
              "      <td>National Average</td>\n",
              "      <td>52</td>\n",
              "      <td>Rice - Retail</td>\n",
              "      <td>5</td>\n",
              "      <td>KG</td>\n",
              "      <td>6</td>\n",
              "      <td>2013</td>\n",
              "      <td>4.5786</td>\n",
              "    </tr>\n",
              "    <tr>\n",
              "      <th>2</th>\n",
              "      <td>National Average</td>\n",
              "      <td>52</td>\n",
              "      <td>Rice - Retail</td>\n",
              "      <td>5</td>\n",
              "      <td>KG</td>\n",
              "      <td>11</td>\n",
              "      <td>2013</td>\n",
              "      <td>4.7865</td>\n",
              "    </tr>\n",
              "    <tr>\n",
              "      <th>3</th>\n",
              "      <td>National Average</td>\n",
              "      <td>52</td>\n",
              "      <td>Rice - Retail</td>\n",
              "      <td>5</td>\n",
              "      <td>KG</td>\n",
              "      <td>12</td>\n",
              "      <td>2013</td>\n",
              "      <td>5.1337</td>\n",
              "    </tr>\n",
              "    <tr>\n",
              "      <th>4</th>\n",
              "      <td>National Average</td>\n",
              "      <td>52</td>\n",
              "      <td>Rice - Retail</td>\n",
              "      <td>5</td>\n",
              "      <td>KG</td>\n",
              "      <td>1</td>\n",
              "      <td>2014</td>\n",
              "      <td>5.5099</td>\n",
              "    </tr>\n",
              "  </tbody>\n",
              "</table>\n",
              "</div>\n",
              "      <button class=\"colab-df-convert\" onclick=\"convertToInteractive('df-ca601878-02b0-4437-abdb-30829d5718b4')\"\n",
              "              title=\"Convert this dataframe to an interactive table.\"\n",
              "              style=\"display:none;\">\n",
              "        \n",
              "  <svg xmlns=\"http://www.w3.org/2000/svg\" height=\"24px\"viewBox=\"0 0 24 24\"\n",
              "       width=\"24px\">\n",
              "    <path d=\"M0 0h24v24H0V0z\" fill=\"none\"/>\n",
              "    <path d=\"M18.56 5.44l.94 2.06.94-2.06 2.06-.94-2.06-.94-.94-2.06-.94 2.06-2.06.94zm-11 1L8.5 8.5l.94-2.06 2.06-.94-2.06-.94L8.5 2.5l-.94 2.06-2.06.94zm10 10l.94 2.06.94-2.06 2.06-.94-2.06-.94-.94-2.06-.94 2.06-2.06.94z\"/><path d=\"M17.41 7.96l-1.37-1.37c-.4-.4-.92-.59-1.43-.59-.52 0-1.04.2-1.43.59L10.3 9.45l-7.72 7.72c-.78.78-.78 2.05 0 2.83L4 21.41c.39.39.9.59 1.41.59.51 0 1.02-.2 1.41-.59l7.78-7.78 2.81-2.81c.8-.78.8-2.07 0-2.86zM5.41 20L4 18.59l7.72-7.72 1.47 1.35L5.41 20z\"/>\n",
              "  </svg>\n",
              "      </button>\n",
              "      \n",
              "  <style>\n",
              "    .colab-df-container {\n",
              "      display:flex;\n",
              "      flex-wrap:wrap;\n",
              "      gap: 12px;\n",
              "    }\n",
              "\n",
              "    .colab-df-convert {\n",
              "      background-color: #E8F0FE;\n",
              "      border: none;\n",
              "      border-radius: 50%;\n",
              "      cursor: pointer;\n",
              "      display: none;\n",
              "      fill: #1967D2;\n",
              "      height: 32px;\n",
              "      padding: 0 0 0 0;\n",
              "      width: 32px;\n",
              "    }\n",
              "\n",
              "    .colab-df-convert:hover {\n",
              "      background-color: #E2EBFA;\n",
              "      box-shadow: 0px 1px 2px rgba(60, 64, 67, 0.3), 0px 1px 3px 1px rgba(60, 64, 67, 0.15);\n",
              "      fill: #174EA6;\n",
              "    }\n",
              "\n",
              "    [theme=dark] .colab-df-convert {\n",
              "      background-color: #3B4455;\n",
              "      fill: #D2E3FC;\n",
              "    }\n",
              "\n",
              "    [theme=dark] .colab-df-convert:hover {\n",
              "      background-color: #434B5C;\n",
              "      box-shadow: 0px 1px 3px 1px rgba(0, 0, 0, 0.15);\n",
              "      filter: drop-shadow(0px 1px 2px rgba(0, 0, 0, 0.3));\n",
              "      fill: #FFFFFF;\n",
              "    }\n",
              "  </style>\n",
              "\n",
              "      <script>\n",
              "        const buttonEl =\n",
              "          document.querySelector('#df-ca601878-02b0-4437-abdb-30829d5718b4 button.colab-df-convert');\n",
              "        buttonEl.style.display =\n",
              "          google.colab.kernel.accessAllowed ? 'block' : 'none';\n",
              "\n",
              "        async function convertToInteractive(key) {\n",
              "          const element = document.querySelector('#df-ca601878-02b0-4437-abdb-30829d5718b4');\n",
              "          const dataTable =\n",
              "            await google.colab.kernel.invokeFunction('convertToInteractive',\n",
              "                                                     [key], {});\n",
              "          if (!dataTable) return;\n",
              "\n",
              "          const docLinkHtml = 'Like what you see? Visit the ' +\n",
              "            '<a target=\"_blank\" href=https://colab.research.google.com/notebooks/data_table.ipynb>data table notebook</a>'\n",
              "            + ' to learn more about interactive tables.';\n",
              "          element.innerHTML = '';\n",
              "          dataTable['output_type'] = 'display_data';\n",
              "          await google.colab.output.renderOutput(dataTable, element);\n",
              "          const docLink = document.createElement('div');\n",
              "          docLink.innerHTML = docLinkHtml;\n",
              "          element.appendChild(docLink);\n",
              "        }\n",
              "      </script>\n",
              "    </div>\n",
              "  </div>\n",
              "  "
            ],
            "text/plain": [
              "              Place  ProductId    ProductName  UmId UmName  Month  Year   Price\n",
              "0  National Average         52  Rice - Retail     5     KG      5  2013  4.4920\n",
              "1  National Average         52  Rice - Retail     5     KG      6  2013  4.5786\n",
              "2  National Average         52  Rice - Retail     5     KG     11  2013  4.7865\n",
              "3  National Average         52  Rice - Retail     5     KG     12  2013  5.1337\n",
              "4  National Average         52  Rice - Retail     5     KG      1  2014  5.5099"
            ]
          },
          "metadata": {},
          "execution_count": 2
        }
      ]
    },
    {
      "cell_type": "markdown",
      "source": [
        "# quan sát các cột"
      ],
      "metadata": {
        "id": "ITrrEXPdeRnF"
      }
    },
    {
      "cell_type": "code",
      "source": [
        "df.info()"
      ],
      "metadata": {
        "colab": {
          "base_uri": "https://localhost:8080/"
        },
        "id": "qgkqVThueUtC",
        "outputId": "381a0c1b-5065-4970-e9c6-50cdf83b2d8c"
      },
      "execution_count": 3,
      "outputs": [
        {
          "output_type": "stream",
          "name": "stdout",
          "text": [
            "<class 'pandas.core.frame.DataFrame'>\n",
            "Int64Index: 7381 entries, 0 to 7380\n",
            "Data columns (total 8 columns):\n",
            " #   Column       Non-Null Count  Dtype  \n",
            "---  ------       --------------  -----  \n",
            " 0   Place        7381 non-null   object \n",
            " 1   ProductId    7381 non-null   int64  \n",
            " 2   ProductName  7381 non-null   object \n",
            " 3   UmId         7381 non-null   int64  \n",
            " 4   UmName       7381 non-null   object \n",
            " 5   Month        7381 non-null   int64  \n",
            " 6   Year         7381 non-null   int64  \n",
            " 7   Price        7381 non-null   float64\n",
            "dtypes: float64(1), int64(4), object(3)\n",
            "memory usage: 519.0+ KB\n"
          ]
        }
      ]
    },
    {
      "cell_type": "markdown",
      "source": [
        "# số dòng và số cột"
      ],
      "metadata": {
        "id": "U3c1yu5geZy7"
      }
    },
    {
      "cell_type": "code",
      "source": [
        "print(\"số dòng:\", df.shape[0])\n",
        "print(\"số cột: \", df.shape[1])"
      ],
      "metadata": {
        "colab": {
          "base_uri": "https://localhost:8080/"
        },
        "id": "oImFo--7eeSK",
        "outputId": "3a580091-4569-403a-ffde-72ba7c9f11a2"
      },
      "execution_count": 4,
      "outputs": [
        {
          "output_type": "stream",
          "name": "stdout",
          "text": [
            "số dòng: 7381\n",
            "số cột:  8\n"
          ]
        }
      ]
    },
    {
      "cell_type": "markdown",
      "source": [
        "# vẽ biểu đồ histogram"
      ],
      "metadata": {
        "id": "P3HNzLnEeye8"
      }
    },
    {
      "cell_type": "code",
      "source": [
        "import matplotlib.pyplot as plt\n",
        "plt.hist(df['Price'], bins= 100)"
      ],
      "metadata": {
        "colab": {
          "base_uri": "https://localhost:8080/",
          "height": 944
        },
        "id": "T-cSj7GEfIJA",
        "outputId": "c57b1853-3257-40c4-a051-6bd2f37c941d"
      },
      "execution_count": 6,
      "outputs": [
        {
          "output_type": "execute_result",
          "data": {
            "text/plain": [
              "(array([6.82e+02, 1.35e+03, 1.15e+03, 8.20e+02, 4.33e+02, 3.41e+02,\n",
              "        2.98e+02, 1.30e+02, 1.06e+02, 8.00e+01, 4.10e+01, 5.60e+01,\n",
              "        6.60e+01, 6.60e+01, 6.20e+01, 6.80e+01, 1.23e+02, 1.49e+02,\n",
              "        1.07e+02, 9.50e+01, 6.10e+01, 2.90e+01, 6.00e+01, 3.80e+01,\n",
              "        6.00e+01, 7.50e+01, 6.80e+01, 9.00e+01, 8.90e+01, 6.60e+01,\n",
              "        3.30e+01, 4.00e+01, 3.80e+01, 2.80e+01, 2.90e+01, 1.80e+01,\n",
              "        2.20e+01, 4.00e+00, 2.00e+00, 1.70e+01, 6.00e+00, 3.00e+00,\n",
              "        2.00e+00, 4.00e+00, 9.00e+00, 6.00e+00, 6.00e+00, 8.00e+00,\n",
              "        6.00e+00, 5.00e+00, 1.00e+01, 7.00e+00, 9.00e+00, 1.30e+01,\n",
              "        1.30e+01, 5.00e+00, 1.20e+01, 1.50e+01, 1.20e+01, 4.00e+00,\n",
              "        4.00e+00, 1.00e+01, 1.20e+01, 4.00e+00, 4.00e+00, 4.00e+00,\n",
              "        3.00e+00, 3.00e+00, 4.00e+00, 4.00e+00, 5.00e+00, 6.00e+00,\n",
              "        4.00e+00, 2.00e+00, 8.00e+00, 4.00e+00, 7.00e+00, 1.00e+01,\n",
              "        4.00e+00, 3.00e+00, 3.00e+00, 0.00e+00, 0.00e+00, 1.00e+00,\n",
              "        0.00e+00, 5.00e+00, 1.00e+00, 0.00e+00, 0.00e+00, 1.00e+00,\n",
              "        2.00e+00, 3.00e+00, 2.00e+00, 0.00e+00, 3.00e+00, 1.00e+00,\n",
              "        1.00e+00, 7.00e+00, 0.00e+00, 1.00e+00]),\n",
              " array([  0.2539  ,   1.845819,   3.437738,   5.029657,   6.621576,\n",
              "          8.213495,   9.805414,  11.397333,  12.989252,  14.581171,\n",
              "         16.17309 ,  17.765009,  19.356928,  20.948847,  22.540766,\n",
              "         24.132685,  25.724604,  27.316523,  28.908442,  30.500361,\n",
              "         32.09228 ,  33.684199,  35.276118,  36.868037,  38.459956,\n",
              "         40.051875,  41.643794,  43.235713,  44.827632,  46.419551,\n",
              "         48.01147 ,  49.603389,  51.195308,  52.787227,  54.379146,\n",
              "         55.971065,  57.562984,  59.154903,  60.746822,  62.338741,\n",
              "         63.93066 ,  65.522579,  67.114498,  68.706417,  70.298336,\n",
              "         71.890255,  73.482174,  75.074093,  76.666012,  78.257931,\n",
              "         79.84985 ,  81.441769,  83.033688,  84.625607,  86.217526,\n",
              "         87.809445,  89.401364,  90.993283,  92.585202,  94.177121,\n",
              "         95.76904 ,  97.360959,  98.952878, 100.544797, 102.136716,\n",
              "        103.728635, 105.320554, 106.912473, 108.504392, 110.096311,\n",
              "        111.68823 , 113.280149, 114.872068, 116.463987, 118.055906,\n",
              "        119.647825, 121.239744, 122.831663, 124.423582, 126.015501,\n",
              "        127.60742 , 129.199339, 130.791258, 132.383177, 133.975096,\n",
              "        135.567015, 137.158934, 138.750853, 140.342772, 141.934691,\n",
              "        143.52661 , 145.118529, 146.710448, 148.302367, 149.894286,\n",
              "        151.486205, 153.078124, 154.670043, 156.261962, 157.853881,\n",
              "        159.4458  ]),\n",
              " <a list of 100 Patch objects>)"
            ]
          },
          "metadata": {},
          "execution_count": 6
        },
        {
          "output_type": "display_data",
          "data": {
            "image/png": "[encoded data removed]",
            "text/plain": [
              "<Figure size 432x288 with 1 Axes>"
            ]
          },
          "metadata": {
            "needs_background": "light"
          }
        }
      ]
    }
  ]
}
{
 "cells": [
  {
   "cell_type": "markdown",
   "id": "60ea2852",
   "metadata": {},
   "source": [
    "# import library"
   ]
  },
  {
   "cell_type": "code",
   "execution_count": 26,
   "id": "24935cbc",
   "metadata": {},
   "outputs": [],
   "source": [
    "import pandas as pd\n",
    "import matplotlib.pyplot as plt\n",
    "import seaborn as sns\n",
    "import numpy as np"
   ]
  },
  {
   "cell_type": "code",
   "execution_count": 12,
   "id": "71e5bdeb",
   "metadata": {
    "scrolled": true
   },
   "outputs": [],
   "source": [
    "df = pd.read_excel(\"C:\\\\Users\\\\FPTSHOP\\\\Downloads\\\\house_price_dống-da.xlsx\")"
   ]
  },
  {
   "cell_type": "code",
   "execution_count": 13,
   "id": "ba0b5241",
   "metadata": {},
   "outputs": [
    {
     "name": "stdout",
     "output_type": "stream",
     "text": [
      "<class 'pandas.core.frame.DataFrame'>\n",
      "RangeIndex: 1000 entries, 0 to 999\n",
      "Data columns (total 18 columns):\n",
      " #   Column             Non-Null Count  Dtype         \n",
      "---  ------             --------------  -----         \n",
      " 0   title              1000 non-null   object        \n",
      " 1   address            1000 non-null   object        \n",
      " 2   area               994 non-null    float64       \n",
      " 3   price              944 non-null    float64       \n",
      " 4   postDate           1000 non-null   datetime64[ns]\n",
      " 5   land_certificate   693 non-null    object        \n",
      " 6   house_direction    44 non-null     object        \n",
      " 7   balcony_direction  24 non-null     object        \n",
      " 8   toilet             551 non-null    float64       \n",
      " 9   bedroom            635 non-null    float64       \n",
      " 10  floor              376 non-null    float64       \n",
      " 11  type_of_land       1000 non-null   object        \n",
      " 12  street_name        808 non-null    object        \n",
      " 13  ward_name          802 non-null    object        \n",
      " 14  district_name      1000 non-null   object        \n",
      " 15  city_name          1000 non-null   object        \n",
      " 16  lat                1000 non-null   float64       \n",
      " 17  long               1000 non-null   float64       \n",
      "dtypes: datetime64[ns](1), float64(7), object(10)\n",
      "memory usage: 140.8+ KB\n"
     ]
    }
   ],
   "source": [
    "df.info()"
   ]
  },
  {
   "cell_type": "code",
   "execution_count": 14,
   "id": "c6e415c8",
   "metadata": {},
   "outputs": [
    {
     "data": {
      "text/html": [
       "<div>\n",
       "<style scoped>\n",
       "    .dataframe tbody tr th:only-of-type {\n",
       "        vertical-align: middle;\n",
       "    }\n",
       "\n",
       "    .dataframe tbody tr th {\n",
       "        vertical-align: top;\n",
       "    }\n",
       "\n",
       "    .dataframe thead th {\n",
       "        text-align: right;\n",
       "    }\n",
       "</style>\n",
       "<table border=\"1\" class=\"dataframe\">\n",
       "  <thead>\n",
       "    <tr style=\"text-align: right;\">\n",
       "      <th></th>\n",
       "      <th>title</th>\n",
       "      <th>address</th>\n",
       "      <th>area</th>\n",
       "      <th>price</th>\n",
       "      <th>postDate</th>\n",
       "      <th>land_certificate</th>\n",
       "      <th>house_direction</th>\n",
       "      <th>balcony_direction</th>\n",
       "      <th>toilet</th>\n",
       "      <th>bedroom</th>\n",
       "      <th>floor</th>\n",
       "      <th>type_of_land</th>\n",
       "      <th>street_name</th>\n",
       "      <th>ward_name</th>\n",
       "      <th>district_name</th>\n",
       "      <th>city_name</th>\n",
       "      <th>lat</th>\n",
       "      <th>long</th>\n",
       "    </tr>\n",
       "  </thead>\n",
       "  <tbody>\n",
       "    <tr>\n",
       "      <th>0</th>\n",
       "      <td>Bán nhà Trần Quang Diệu mới coong đẹp 50m2x6 t...</td>\n",
       "      <td>Đường Trần Quang Diệu, Phường Trung Liệt, Đốn...</td>\n",
       "      <td>50.0</td>\n",
       "      <td>14700.0</td>\n",
       "      <td>2021-01-01</td>\n",
       "      <td>Sổ đỏ</td>\n",
       "      <td>NaN</td>\n",
       "      <td>NaN</td>\n",
       "      <td>4.0</td>\n",
       "      <td>6.0</td>\n",
       "      <td>6.0</td>\n",
       "      <td>Bán nhà riêng\\n</td>\n",
       "      <td>Đường Trần Quang Diệu</td>\n",
       "      <td>Phường Trung Liệt</td>\n",
       "      <td>Quận Đống Đa</td>\n",
       "      <td>Thành phố Hà Nội</td>\n",
       "      <td>21.015698</td>\n",
       "      <td>105.824583</td>\n",
       "    </tr>\n",
       "    <tr>\n",
       "      <th>1</th>\n",
       "      <td>Bán nhà mặt phố Tây Sơn - 6 tầng. Kinh doanh t...</td>\n",
       "      <td>Đường Tây Sơn, Phường Trung Liệt, Đống Đa, Hà...</td>\n",
       "      <td>35.0</td>\n",
       "      <td>12500.0</td>\n",
       "      <td>2021-02-19</td>\n",
       "      <td>Sổ đỏ</td>\n",
       "      <td>NaN</td>\n",
       "      <td>NaN</td>\n",
       "      <td>NaN</td>\n",
       "      <td>NaN</td>\n",
       "      <td>6.0</td>\n",
       "      <td>Bán nhà mặt phố\\n</td>\n",
       "      <td>Phố Trung Liệt</td>\n",
       "      <td>Phường Trung Liệt</td>\n",
       "      <td>Quận Đống Đa</td>\n",
       "      <td>Thành phố Hà Nội</td>\n",
       "      <td>21.008930</td>\n",
       "      <td>105.824105</td>\n",
       "    </tr>\n",
       "    <tr>\n",
       "      <th>2</th>\n",
       "      <td>Bán nhà số 36 Đoàn Kết - phố Khâm Thiên - Đống...</td>\n",
       "      <td>Số 36 Đoàn Kết, Phố Khâm Thiên, Phường Thổ Qu...</td>\n",
       "      <td>57.0</td>\n",
       "      <td>4200.0</td>\n",
       "      <td>2021-03-10</td>\n",
       "      <td>Sổ đỏ</td>\n",
       "      <td>Nam</td>\n",
       "      <td>Nam</td>\n",
       "      <td>3.0</td>\n",
       "      <td>8.0</td>\n",
       "      <td>4.0</td>\n",
       "      <td>Bán nhà riêng\\n</td>\n",
       "      <td>Phố Khâm Thiên</td>\n",
       "      <td>Phường Khâm Thiên</td>\n",
       "      <td>Quận Đống Đa</td>\n",
       "      <td>Thành phố Hà Nội</td>\n",
       "      <td>21.025208</td>\n",
       "      <td>105.833111</td>\n",
       "    </tr>\n",
       "    <tr>\n",
       "      <th>3</th>\n",
       "      <td>Bán nhà 6 tầng mới kinh doanh mặt ngõ 1194 Đườ...</td>\n",
       "      <td>Ngõ 1194, Đường Láng, Phường Láng Thượng, Đố...</td>\n",
       "      <td>62.0</td>\n",
       "      <td>11000.0</td>\n",
       "      <td>2021-03-13</td>\n",
       "      <td>Sổ đỏ</td>\n",
       "      <td>Đông</td>\n",
       "      <td>Đông-Nam</td>\n",
       "      <td>6.0</td>\n",
       "      <td>5.0</td>\n",
       "      <td>6.0</td>\n",
       "      <td>Bán nhà riêng\\n</td>\n",
       "      <td>Đường Láng Thượng</td>\n",
       "      <td>Phường Láng Thượng</td>\n",
       "      <td>Quận Đống Đa</td>\n",
       "      <td>Thành phố Hà Nội</td>\n",
       "      <td>21.025379</td>\n",
       "      <td>105.801011</td>\n",
       "    </tr>\n",
       "    <tr>\n",
       "      <th>4</th>\n",
       "      <td>Bán nhà mặt phố Thái Hà 70m2, 5 tầng, 4.5m mặt...</td>\n",
       "      <td>Phố Thái Hà, Phường Trung Liệt, Đống Đa, Hà Nội</td>\n",
       "      <td>70.0</td>\n",
       "      <td>36000.0</td>\n",
       "      <td>2021-03-13</td>\n",
       "      <td>Sổ đỏ</td>\n",
       "      <td>NaN</td>\n",
       "      <td>NaN</td>\n",
       "      <td>NaN</td>\n",
       "      <td>6.0</td>\n",
       "      <td>5.0</td>\n",
       "      <td>Bán nhà mặt phố\\n</td>\n",
       "      <td>Phố Trung Liệt</td>\n",
       "      <td>Phường Trung Liệt</td>\n",
       "      <td>Quận Đống Đa</td>\n",
       "      <td>Thành phố Hà Nội</td>\n",
       "      <td>21.009239</td>\n",
       "      <td>105.824230</td>\n",
       "    </tr>\n",
       "  </tbody>\n",
       "</table>\n",
       "</div>"
      ],
      "text/plain": [
       "                                               title  \\\n",
       "0  Bán nhà Trần Quang Diệu mới coong đẹp 50m2x6 t...   \n",
       "1  Bán nhà mặt phố Tây Sơn - 6 tầng. Kinh doanh t...   \n",
       "2  Bán nhà số 36 Đoàn Kết - phố Khâm Thiên - Đống...   \n",
       "3  Bán nhà 6 tầng mới kinh doanh mặt ngõ 1194 Đườ...   \n",
       "4  Bán nhà mặt phố Thái Hà 70m2, 5 tầng, 4.5m mặt...   \n",
       "\n",
       "                                             address  area    price  \\\n",
       "0  Đường Trần Quang Diệu, Phường Trung Liệt, Đốn...  50.0  14700.0   \n",
       "1  Đường Tây Sơn, Phường Trung Liệt, Đống Đa, Hà...  35.0  12500.0   \n",
       "2  Số 36 Đoàn Kết, Phố Khâm Thiên, Phường Thổ Qu...  57.0   4200.0   \n",
       "3  Ngõ 1194, Đường Láng, Phường Láng Thượng, Đố...  62.0  11000.0   \n",
       "4   Phố Thái Hà, Phường Trung Liệt, Đống Đa, Hà Nội  70.0  36000.0   \n",
       "\n",
       "    postDate land_certificate house_direction balcony_direction  toilet  \\\n",
       "0 2021-01-01            Sổ đỏ             NaN               NaN     4.0   \n",
       "1 2021-02-19            Sổ đỏ             NaN               NaN     NaN   \n",
       "2 2021-03-10            Sổ đỏ             Nam               Nam     3.0   \n",
       "3 2021-03-13            Sổ đỏ            Đông          Đông-Nam     6.0   \n",
       "4 2021-03-13            Sổ đỏ             NaN               NaN     NaN   \n",
       "\n",
       "   bedroom  floor        type_of_land            street_name  \\\n",
       "0      6.0    6.0    Bán nhà riêng\\n   Đường Trần Quang Diệu   \n",
       "1      NaN    6.0  Bán nhà mặt phố\\n          Phố Trung Liệt   \n",
       "2      8.0    4.0    Bán nhà riêng\\n          Phố Khâm Thiên   \n",
       "3      5.0    6.0    Bán nhà riêng\\n       Đường Láng Thượng   \n",
       "4      6.0    5.0  Bán nhà mặt phố\\n          Phố Trung Liệt   \n",
       "\n",
       "            ward_name district_name         city_name        lat        long  \n",
       "0   Phường Trung Liệt  Quận Đống Đa  Thành phố Hà Nội  21.015698  105.824583  \n",
       "1   Phường Trung Liệt  Quận Đống Đa  Thành phố Hà Nội  21.008930  105.824105  \n",
       "2   Phường Khâm Thiên  Quận Đống Đa  Thành phố Hà Nội  21.025208  105.833111  \n",
       "3  Phường Láng Thượng  Quận Đống Đa  Thành phố Hà Nội  21.025379  105.801011  \n",
       "4   Phường Trung Liệt  Quận Đống Đa  Thành phố Hà Nội  21.009239  105.824230  "
      ]
     },
     "execution_count": 14,
     "metadata": {},
     "output_type": "execute_result"
    }
   ],
   "source": [
    "df.head()"
   ]
  },
  {
   "cell_type": "code",
   "execution_count": 15,
   "id": "8d39d57e",
   "metadata": {},
   "outputs": [
    {
     "data": {
      "text/plain": [
       "title                  0\n",
       "address                0\n",
       "area                   6\n",
       "price                 56\n",
       "postDate               0\n",
       "land_certificate     307\n",
       "house_direction      956\n",
       "balcony_direction    976\n",
       "toilet               449\n",
       "bedroom              365\n",
       "floor                624\n",
       "type_of_land           0\n",
       "street_name          192\n",
       "ward_name            198\n",
       "district_name          0\n",
       "city_name              0\n",
       "lat                    0\n",
       "long                   0\n",
       "dtype: int64"
      ]
     },
     "execution_count": 15,
     "metadata": {},
     "output_type": "execute_result"
    }
   ],
   "source": [
    "df.isna().sum()"
   ]
  },
  {
   "cell_type": "markdown",
   "id": "cd7b8547",
   "metadata": {},
   "source": [
    "# Vẽ biểu đồ phân tích mối liên hệ giữa diện tích với giá nhà, giữa số phòng ngủ với giá nhà, giữa số toilet với giá nhà."
   ]
  },
  {
   "cell_type": "code",
   "execution_count": 18,
   "id": "8f59f250",
   "metadata": {},
   "outputs": [],
   "source": [
    "df_area = df[['title','area', 'price','toilet', 'bedroom' ]]"
   ]
  },
  {
   "cell_type": "code",
   "execution_count": 19,
   "id": "cd341837",
   "metadata": {},
   "outputs": [
    {
     "name": "stdout",
     "output_type": "stream",
     "text": [
      "<class 'pandas.core.frame.DataFrame'>\n",
      "RangeIndex: 1000 entries, 0 to 999\n",
      "Data columns (total 5 columns):\n",
      " #   Column   Non-Null Count  Dtype  \n",
      "---  ------   --------------  -----  \n",
      " 0   title    1000 non-null   object \n",
      " 1   area     994 non-null    float64\n",
      " 2   price    944 non-null    float64\n",
      " 3   toilet   551 non-null    float64\n",
      " 4   bedroom  635 non-null    float64\n",
      "dtypes: float64(4), object(1)\n",
      "memory usage: 39.2+ KB\n"
     ]
    }
   ],
   "source": [
    "df_area.info()"
   ]
  },
  {
   "cell_type": "code",
   "execution_count": 20,
   "id": "7f0631c5",
   "metadata": {},
   "outputs": [
    {
     "data": {
      "text/html": [
       "<div>\n",
       "<style scoped>\n",
       "    .dataframe tbody tr th:only-of-type {\n",
       "        vertical-align: middle;\n",
       "    }\n",
       "\n",
       "    .dataframe tbody tr th {\n",
       "        vertical-align: top;\n",
       "    }\n",
       "\n",
       "    .dataframe thead th {\n",
       "        text-align: right;\n",
       "    }\n",
       "</style>\n",
       "<table border=\"1\" class=\"dataframe\">\n",
       "  <thead>\n",
       "    <tr style=\"text-align: right;\">\n",
       "      <th></th>\n",
       "      <th>title</th>\n",
       "      <th>area</th>\n",
       "      <th>price</th>\n",
       "      <th>toilet</th>\n",
       "      <th>bedroom</th>\n",
       "    </tr>\n",
       "  </thead>\n",
       "  <tbody>\n",
       "    <tr>\n",
       "      <th>0</th>\n",
       "      <td>Bán nhà Trần Quang Diệu mới coong đẹp 50m2x6 t...</td>\n",
       "      <td>50.0</td>\n",
       "      <td>14700.0</td>\n",
       "      <td>4.0</td>\n",
       "      <td>6.0</td>\n",
       "    </tr>\n",
       "    <tr>\n",
       "      <th>1</th>\n",
       "      <td>Bán nhà mặt phố Tây Sơn - 6 tầng. Kinh doanh t...</td>\n",
       "      <td>35.0</td>\n",
       "      <td>12500.0</td>\n",
       "      <td>NaN</td>\n",
       "      <td>NaN</td>\n",
       "    </tr>\n",
       "    <tr>\n",
       "      <th>2</th>\n",
       "      <td>Bán nhà số 36 Đoàn Kết - phố Khâm Thiên - Đống...</td>\n",
       "      <td>57.0</td>\n",
       "      <td>4200.0</td>\n",
       "      <td>3.0</td>\n",
       "      <td>8.0</td>\n",
       "    </tr>\n",
       "    <tr>\n",
       "      <th>3</th>\n",
       "      <td>Bán nhà 6 tầng mới kinh doanh mặt ngõ 1194 Đườ...</td>\n",
       "      <td>62.0</td>\n",
       "      <td>11000.0</td>\n",
       "      <td>6.0</td>\n",
       "      <td>5.0</td>\n",
       "    </tr>\n",
       "    <tr>\n",
       "      <th>4</th>\n",
       "      <td>Bán nhà mặt phố Thái Hà 70m2, 5 tầng, 4.5m mặt...</td>\n",
       "      <td>70.0</td>\n",
       "      <td>36000.0</td>\n",
       "      <td>NaN</td>\n",
       "      <td>6.0</td>\n",
       "    </tr>\n",
       "  </tbody>\n",
       "</table>\n",
       "</div>"
      ],
      "text/plain": [
       "                                               title  area    price  toilet  \\\n",
       "0  Bán nhà Trần Quang Diệu mới coong đẹp 50m2x6 t...  50.0  14700.0     4.0   \n",
       "1  Bán nhà mặt phố Tây Sơn - 6 tầng. Kinh doanh t...  35.0  12500.0     NaN   \n",
       "2  Bán nhà số 36 Đoàn Kết - phố Khâm Thiên - Đống...  57.0   4200.0     3.0   \n",
       "3  Bán nhà 6 tầng mới kinh doanh mặt ngõ 1194 Đườ...  62.0  11000.0     6.0   \n",
       "4  Bán nhà mặt phố Thái Hà 70m2, 5 tầng, 4.5m mặt...  70.0  36000.0     NaN   \n",
       "\n",
       "   bedroom  \n",
       "0      6.0  \n",
       "1      NaN  \n",
       "2      8.0  \n",
       "3      5.0  \n",
       "4      6.0  "
      ]
     },
     "execution_count": 20,
     "metadata": {},
     "output_type": "execute_result"
    }
   ],
   "source": [
    "df_area.head()"
   ]
  },
  {
   "cell_type": "markdown",
   "id": "2ed1c9c5",
   "metadata": {},
   "source": [
    "# plot graphs bettwen area and price house"
   ]
  },
  {
   "cell_type": "code",
   "execution_count": 35,
   "id": "dcec0b87",
   "metadata": {},
   "outputs": [
    {
     "data": {
      "image/png": "[encoded data removed]",
      "text/plain": [
       "<Figure size 1296x576 with 1 Axes>"
      ]
     },
     "metadata": {
      "needs_background": "light"
     },
     "output_type": "display_data"
    }
   ],
   "source": [
    "plt.figure(figsize = (18,8))\n",
    "plt.scatter(df_area['area'], df_area['price'], alpha=0.5)\n",
    "plt.title(\"between area and price house\", fontsize = 20)\n",
    "plt.xlabel(\"area\", fontsize = 14)\n",
    "plt.ylabel(\"Price\", fontsize = 14)\n",
    "plt.show()"
   ]
  },
  {
   "cell_type": "markdown",
   "id": "8b5fe74d",
   "metadata": {},
   "source": [
    "# graphs bettwen bedroom  and price house"
   ]
  },
  {
   "cell_type": "code",
   "execution_count": 36,
   "id": "3e7ad224",
   "metadata": {},
   "outputs": [
    {
     "data": {
      "image/png": "[encoded data removed]",
      "text/plain": [
       "<Figure size 1296x576 with 1 Axes>"
      ]
     },
     "metadata": {
      "needs_background": "light"
     },
     "output_type": "display_data"
    }
   ],
   "source": [
    "plt.figure(figsize = (18,8))\n",
    "plt.scatter(df_area['bedroom'], df_area['price'], alpha=0.5)\n",
    "plt.title(\"between bedroom price house\", fontsize = 20)\n",
    "plt.xlabel(\"Area\", fontsize = 14)\n",
    "plt.ylabel(\"Price\", fontsize = 14)\n",
    "plt.show()"
   ]
  },
  {
   "cell_type": "markdown",
   "id": "8c0b903f",
   "metadata": {},
   "source": [
    "# graphs bettwen toilet and price house"
   ]
  },
  {
   "cell_type": "code",
   "execution_count": 37,
   "id": "702dd1a6",
   "metadata": {},
   "outputs": [
    {
     "data": {
      "image/png": "[encoded data removed]",
      "text/plain": [
       "<Figure size 1296x576 with 1 Axes>"
      ]
     },
     "metadata": {
      "needs_background": "light"
     },
     "output_type": "display_data"
    }
   ],
   "source": [
    "plt.figure(figsize = (18,8))\n",
    "plt.scatter(df_area['toilet'], df_area['price'], alpha=0.5)\n",
    "plt.title(\"between toilet price house\", fontsize = 20)\n",
    "plt.xlabel(\"toilet\", fontsize = 14)\n",
    "plt.ylabel(\"Price\", fontsize = 14)\n",
    "plt.show()"
   ]
  },
  {
   "cell_type": "markdown",
   "id": "bae36ae5",
   "metadata": {},
   "source": [
    "#  Vẽ biểu đồ so sánh giá nhà trung bình trên 1 m2 giữa các hình thức nhà (type_of_land)."
   ]
  },
  {
   "cell_type": "code",
   "execution_count": 42,
   "id": "b3f6bd14",
   "metadata": {},
   "outputs": [],
   "source": [
    "df_mean = df[['type_of_land', 'price', 'area']]"
   ]
  },
  {
   "cell_type": "code",
   "execution_count": 45,
   "id": "a12c1cd0",
   "metadata": {},
   "outputs": [],
   "source": [
    "df_mean = df_mean[df_mean['area'] > 1]"
   ]
  },
  {
   "cell_type": "code",
   "execution_count": 46,
   "id": "013a2598",
   "metadata": {},
   "outputs": [
    {
     "data": {
      "text/plain": [
       "array([5.000e+01, 3.500e+01, 5.700e+01, 6.200e+01, 7.000e+01, 4.100e+01,\n",
       "       2.600e+01, 4.000e+01, 7.500e+01, 3.900e+01, 5.220e+01, 1.760e+02,\n",
       "       1.000e+02, 1.100e+02, 6.500e+01, 1.200e+02, 1.680e+02, 7.200e+01,\n",
       "       4.200e+01, 5.200e+01, 4.700e+01, 2.560e+02, 9.200e+01, 9.000e+01,\n",
       "       6.800e+01, 2.000e+02, 1.750e+02, 1.050e+02, 2.800e+01, 3.200e+02,\n",
       "       4.500e+01, 4.300e+01, 3.400e+01, 2.100e+02, 5.500e+01, 3.200e+01,\n",
       "       2.500e+01, 4.280e+02, 2.250e+02, 7.700e+01, 1.500e+02, 3.000e+01,\n",
       "       2.200e+01, 8.000e+01, 1.300e+02, 3.300e+01, 5.600e+01, 5.900e+01,\n",
       "       5.100e+01, 6.000e+01, 4.600e+01, 9.400e+01, 3.800e+01, 2.340e+02,\n",
       "       7.100e+01, 1.420e+02, 1.330e+02, 2.000e+01, 4.800e+01, 5.300e+01,\n",
       "       2.100e+01, 6.400e+01, 6.000e+02, 4.450e+03, 2.700e+01, 8.200e+01,\n",
       "       1.600e+02, 2.300e+01, 9.500e+01, 6.900e+01, 1.400e+01, 3.600e+01,\n",
       "       2.380e+02, 3.100e+01, 4.220e+01, 8.300e+01, 9.600e+01, 1.430e+02,\n",
       "       1.400e+02, 3.650e+02, 1.010e+02, 1.440e+02, 5.800e+01, 7.400e+01,\n",
       "       1.800e+02, 8.900e+01, 7.880e+01, 4.500e+02, 2.500e+02, 1.080e+02,\n",
       "       2.400e+02, 7.300e+01, 5.000e+02, 6.100e+01, 2.800e+02, 1.580e+02,\n",
       "       1.250e+02, 3.000e+02, 4.160e+02, 4.825e+01, 3.700e+01, 2.350e+02,\n",
       "       9.800e+01, 1.350e+02, 4.000e+02, 4.200e+02, 1.360e+02, 4.400e+01,\n",
       "       2.280e+02, 1.650e+02, 1.210e+02, 3.050e+02, 1.150e+02, 2.550e+02,\n",
       "       2.200e+02, 1.000e+01, 1.900e+02, 1.000e+03, 3.500e+02, 3.800e+02,\n",
       "       1.290e+02, 2.150e+02, 2.640e+02, 3.250e+02, 2.600e+02, 1.700e+02,\n",
       "       1.560e+02, 1.240e+02, 8.100e+01, 2.540e+02, 6.600e+01, 5.250e+02,\n",
       "       3.600e+02, 5.400e+01, 1.230e+02, 1.870e+02, 8.500e+01, 1.310e+02,\n",
       "       1.450e+02, 9.700e+01, 2.900e+01, 2.240e+02, 2.480e+02, 1.720e+02,\n",
       "       1.280e+02, 6.500e+00, 6.700e+01, 8.400e+01, 1.220e+02, 8.600e+01,\n",
       "       4.100e+02, 4.900e+01, 2.520e+02, 1.100e+04, 1.700e+01, 2.000e+04,\n",
       "       1.090e+02, 7.600e+01, 2.050e+02, 1.110e+02, 3.630e+01, 2.390e+02,\n",
       "       1.270e+02, 6.300e+01, 1.120e+02, 8.900e+02, 1.180e+02, 2.700e+02,\n",
       "       2.900e+02, 4.300e+02, 2.460e+02, 2.360e+02, 3.680e+02, 1.780e+02,\n",
       "       1.070e+02])"
      ]
     },
     "execution_count": 46,
     "metadata": {},
     "output_type": "execute_result"
    }
   ],
   "source": [
    "df_mean['area'].unique()"
   ]
  },
  {
   "cell_type": "code",
   "execution_count": 47,
   "id": "12f20503",
   "metadata": {},
   "outputs": [
    {
     "data": {
      "text/html": [
       "<div>\n",
       "<style scoped>\n",
       "    .dataframe tbody tr th:only-of-type {\n",
       "        vertical-align: middle;\n",
       "    }\n",
       "\n",
       "    .dataframe tbody tr th {\n",
       "        vertical-align: top;\n",
       "    }\n",
       "\n",
       "    .dataframe thead th {\n",
       "        text-align: right;\n",
       "    }\n",
       "</style>\n",
       "<table border=\"1\" class=\"dataframe\">\n",
       "  <thead>\n",
       "    <tr style=\"text-align: right;\">\n",
       "      <th></th>\n",
       "      <th>type_of_land</th>\n",
       "      <th>price</th>\n",
       "      <th>area</th>\n",
       "    </tr>\n",
       "  </thead>\n",
       "  <tbody>\n",
       "    <tr>\n",
       "      <th>0</th>\n",
       "      <td>Bán nhà riêng\\n</td>\n",
       "      <td>14700.0</td>\n",
       "      <td>50.0</td>\n",
       "    </tr>\n",
       "    <tr>\n",
       "      <th>1</th>\n",
       "      <td>Bán nhà mặt phố\\n</td>\n",
       "      <td>12500.0</td>\n",
       "      <td>35.0</td>\n",
       "    </tr>\n",
       "    <tr>\n",
       "      <th>2</th>\n",
       "      <td>Bán nhà riêng\\n</td>\n",
       "      <td>4200.0</td>\n",
       "      <td>57.0</td>\n",
       "    </tr>\n",
       "    <tr>\n",
       "      <th>3</th>\n",
       "      <td>Bán nhà riêng\\n</td>\n",
       "      <td>11000.0</td>\n",
       "      <td>62.0</td>\n",
       "    </tr>\n",
       "    <tr>\n",
       "      <th>4</th>\n",
       "      <td>Bán nhà mặt phố\\n</td>\n",
       "      <td>36000.0</td>\n",
       "      <td>70.0</td>\n",
       "    </tr>\n",
       "  </tbody>\n",
       "</table>\n",
       "</div>"
      ],
      "text/plain": [
       "         type_of_land    price  area\n",
       "0    Bán nhà riêng\\n   14700.0  50.0\n",
       "1  Bán nhà mặt phố\\n   12500.0  35.0\n",
       "2    Bán nhà riêng\\n    4200.0  57.0\n",
       "3    Bán nhà riêng\\n   11000.0  62.0\n",
       "4  Bán nhà mặt phố\\n   36000.0  70.0"
      ]
     },
     "execution_count": 47,
     "metadata": {},
     "output_type": "execute_result"
    }
   ],
   "source": [
    "df_mean.head()"
   ]
  },
  {
   "cell_type": "code",
   "execution_count": 62,
   "id": "24a33e01",
   "metadata": {},
   "outputs": [],
   "source": [
    "df_mean = df_mean.groupby(\"type_of_land\").mean()"
   ]
  },
  {
   "cell_type": "code",
   "execution_count": 63,
   "id": "0664f79c",
   "metadata": {},
   "outputs": [
    {
     "data": {
      "text/html": [
       "<div>\n",
       "<style scoped>\n",
       "    .dataframe tbody tr th:only-of-type {\n",
       "        vertical-align: middle;\n",
       "    }\n",
       "\n",
       "    .dataframe tbody tr th {\n",
       "        vertical-align: top;\n",
       "    }\n",
       "\n",
       "    .dataframe thead th {\n",
       "        text-align: right;\n",
       "    }\n",
       "</style>\n",
       "<table border=\"1\" class=\"dataframe\">\n",
       "  <thead>\n",
       "    <tr style=\"text-align: right;\">\n",
       "      <th></th>\n",
       "      <th>price</th>\n",
       "      <th>area</th>\n",
       "    </tr>\n",
       "    <tr>\n",
       "      <th>type_of_land</th>\n",
       "      <th></th>\n",
       "      <th></th>\n",
       "    </tr>\n",
       "  </thead>\n",
       "  <tbody>\n",
       "    <tr>\n",
       "      <th>Bán nhà mặt phố</th>\n",
       "      <td>38816.227869</td>\n",
       "      <td>501.158730</td>\n",
       "    </tr>\n",
       "    <tr>\n",
       "      <th>Bán nhà mặt phố\\n</th>\n",
       "      <td>78267.365269</td>\n",
       "      <td>216.669364</td>\n",
       "    </tr>\n",
       "    <tr>\n",
       "      <th>Bán nhà riêng</th>\n",
       "      <td>6184.966667</td>\n",
       "      <td>132.739482</td>\n",
       "    </tr>\n",
       "    <tr>\n",
       "      <th>Bán nhà riêng\\n</th>\n",
       "      <td>10958.592623</td>\n",
       "      <td>60.023705</td>\n",
       "    </tr>\n",
       "    <tr>\n",
       "      <th>Bất động sản khác</th>\n",
       "      <td>20800.000000</td>\n",
       "      <td>233.888889</td>\n",
       "    </tr>\n",
       "    <tr>\n",
       "      <th>Bất động sản khác\\n</th>\n",
       "      <td>23437.000000</td>\n",
       "      <td>97.200000</td>\n",
       "    </tr>\n",
       "    <tr>\n",
       "      <th>Chung cư</th>\n",
       "      <td>2011.864407</td>\n",
       "      <td>63.067797</td>\n",
       "    </tr>\n",
       "    <tr>\n",
       "      <th>Tập thể, cư xá</th>\n",
       "      <td>2094.637681</td>\n",
       "      <td>66.101449</td>\n",
       "    </tr>\n",
       "    <tr>\n",
       "      <th>Đất thổ cư</th>\n",
       "      <td>10585.000000</td>\n",
       "      <td>80.750000</td>\n",
       "    </tr>\n",
       "  </tbody>\n",
       "</table>\n",
       "</div>"
      ],
      "text/plain": [
       "                             price        area\n",
       "type_of_land                                  \n",
       "Bán nhà mặt phố       38816.227869  501.158730\n",
       "Bán nhà mặt phố\\n     78267.365269  216.669364\n",
       "Bán nhà riêng          6184.966667  132.739482\n",
       "Bán nhà riêng\\n       10958.592623   60.023705\n",
       "Bất động sản khác     20800.000000  233.888889\n",
       "Bất động sản khác\\n   23437.000000   97.200000\n",
       "Chung cư               2011.864407   63.067797\n",
       "Tập thể, cư xá         2094.637681   66.101449\n",
       "Đất thổ cư            10585.000000   80.750000"
      ]
     },
     "execution_count": 63,
     "metadata": {},
     "output_type": "execute_result"
    }
   ],
   "source": [
    "df_mean.head(10)"
   ]
  },
  {
   "cell_type": "code",
   "execution_count": 65,
   "id": "627c284c",
   "metadata": {},
   "outputs": [
    {
     "data": {
      "text/plain": [
       "<AxesSubplot:ylabel='type_of_land'>"
      ]
     },
     "execution_count": 65,
     "metadata": {},
     "output_type": "execute_result"
    },
    {
     "data": {
      "image/png": "[encoded data removed]",
      "text/plain": [
       "<Figure size 1296x576 with 2 Axes>"
      ]
     },
     "metadata": {
      "needs_background": "light"
     },
     "output_type": "display_data"
    }
   ],
   "source": [
    "plt.figure(figsize = (18,8))\n",
    "sns.heatmap(df_mean[['price', 'area']], cmap=\"YlGnBu\",annot=True)"
   ]
  },
  {
   "cell_type": "code",
   "execution_count": null,
   "id": "73944b8c",
   "metadata": {},
   "outputs": [],
   "source": []
  }
 ],
 "metadata": {
  "kernelspec": {
   "display_name": "Python 3 (ipykernel)",
   "language": "python",
   "name": "python3"
  },
  "language_info": {
   "codemirror_mode": {
    "name": "ipython",
    "version": 3
   },
   "file_extension": ".py",
   "mimetype": "text/x-python",
   "name": "python",
   "nbconvert_exporter": "python",
   "pygments_lexer": "ipython3",
   "version": "3.9.7"
  }
 },
 "nbformat": 4,
 "nbformat_minor": 5
}

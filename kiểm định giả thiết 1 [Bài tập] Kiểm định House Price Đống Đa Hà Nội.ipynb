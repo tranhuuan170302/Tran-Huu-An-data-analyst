{
 "cells": [
  {
   "cell_type": "code",
   "execution_count": 1,
   "id": "85057ba6",
   "metadata": {},
   "outputs": [],
   "source": [
    "import pandas as pd\n",
    "import matplotlib.pyplot as plt\n",
    "from scipy import stats\n",
    "import seaborn as sns\n",
    "import numpy as np\n",
    "import plotly.express as px"
   ]
  },
  {
   "cell_type": "markdown",
   "id": "f01fc6c8",
   "metadata": {},
   "source": [
    "# mục tiêu\n",
    "+ tiến hành kiểm định giá trị trung bình của một tổng thể\n",
    "+ so sánh giá trị trung bình của hai tổng thể"
   ]
  },
  {
   "cell_type": "code",
   "execution_count": 2,
   "id": "099155fd",
   "metadata": {},
   "outputs": [],
   "source": [
    "df = pd.read_csv(\"C:\\\\Users\\\\FPTSHOP\\\\Downloads\\\\house_price_Dống-Da_Hà-Nội_subdata.csv\")"
   ]
  },
  {
   "cell_type": "code",
   "execution_count": 3,
   "id": "3bc4a310",
   "metadata": {},
   "outputs": [
    {
     "name": "stdout",
     "output_type": "stream",
     "text": [
      "<class 'pandas.core.frame.DataFrame'>\n",
      "RangeIndex: 671 entries, 0 to 670\n",
      "Data columns (total 12 columns):\n",
      " #   Column             Non-Null Count  Dtype  \n",
      "---  ------             --------------  -----  \n",
      " 0   area               665 non-null    float64\n",
      " 1   price              617 non-null    float64\n",
      " 2   postDate           671 non-null    int64  \n",
      " 3   land_certificate   369 non-null    object \n",
      " 4   house_direction    42 non-null     object \n",
      " 5   balcony_direction  24 non-null     object \n",
      " 6   toilet             240 non-null    float64\n",
      " 7   bedroom            320 non-null    float64\n",
      " 8   floor              366 non-null    float64\n",
      " 9   lat                671 non-null    float64\n",
      " 10  long               671 non-null    float64\n",
      " 11  property_type      671 non-null    object \n",
      "dtypes: float64(7), int64(1), object(4)\n",
      "memory usage: 63.0+ KB\n"
     ]
    }
   ],
   "source": [
    "df.info()"
   ]
  },
  {
   "cell_type": "code",
   "execution_count": 4,
   "id": "77d25747",
   "metadata": {},
   "outputs": [
    {
     "data": {
      "text/plain": [
       "area                   6\n",
       "price                 54\n",
       "postDate               0\n",
       "land_certificate     302\n",
       "house_direction      629\n",
       "balcony_direction    647\n",
       "toilet               431\n",
       "bedroom              351\n",
       "floor                305\n",
       "lat                    0\n",
       "long                   0\n",
       "property_type          0\n",
       "dtype: int64"
      ]
     },
     "execution_count": 4,
     "metadata": {},
     "output_type": "execute_result"
    }
   ],
   "source": [
    "df.isna().sum()"
   ]
  },
  {
   "cell_type": "code",
   "execution_count": 5,
   "id": "6965a72e",
   "metadata": {},
   "outputs": [
    {
     "data": {
      "text/html": [
       "<div>\n",
       "<style scoped>\n",
       "    .dataframe tbody tr th:only-of-type {\n",
       "        vertical-align: middle;\n",
       "    }\n",
       "\n",
       "    .dataframe tbody tr th {\n",
       "        vertical-align: top;\n",
       "    }\n",
       "\n",
       "    .dataframe thead th {\n",
       "        text-align: right;\n",
       "    }\n",
       "</style>\n",
       "<table border=\"1\" class=\"dataframe\">\n",
       "  <thead>\n",
       "    <tr style=\"text-align: right;\">\n",
       "      <th></th>\n",
       "      <th>area</th>\n",
       "      <th>price</th>\n",
       "      <th>postDate</th>\n",
       "      <th>land_certificate</th>\n",
       "      <th>house_direction</th>\n",
       "      <th>balcony_direction</th>\n",
       "      <th>toilet</th>\n",
       "      <th>bedroom</th>\n",
       "      <th>floor</th>\n",
       "      <th>lat</th>\n",
       "      <th>long</th>\n",
       "      <th>property_type</th>\n",
       "    </tr>\n",
       "  </thead>\n",
       "  <tbody>\n",
       "    <tr>\n",
       "      <th>0</th>\n",
       "      <td>50.0</td>\n",
       "      <td>14700.0</td>\n",
       "      <td>44197</td>\n",
       "      <td>So do</td>\n",
       "      <td>NaN</td>\n",
       "      <td>NaN</td>\n",
       "      <td>4.0</td>\n",
       "      <td>6.0</td>\n",
       "      <td>6.0</td>\n",
       "      <td>21.015698</td>\n",
       "      <td>105.824583</td>\n",
       "      <td>trong ngo</td>\n",
       "    </tr>\n",
       "    <tr>\n",
       "      <th>1</th>\n",
       "      <td>57.0</td>\n",
       "      <td>4200.0</td>\n",
       "      <td>44265</td>\n",
       "      <td>So do</td>\n",
       "      <td>Nam</td>\n",
       "      <td>Nam</td>\n",
       "      <td>3.0</td>\n",
       "      <td>8.0</td>\n",
       "      <td>4.0</td>\n",
       "      <td>21.025208</td>\n",
       "      <td>105.833111</td>\n",
       "      <td>trong ngo</td>\n",
       "    </tr>\n",
       "    <tr>\n",
       "      <th>2</th>\n",
       "      <td>62.0</td>\n",
       "      <td>11000.0</td>\n",
       "      <td>44268</td>\n",
       "      <td>So do</td>\n",
       "      <td>NaN</td>\n",
       "      <td>dong-Nam</td>\n",
       "      <td>6.0</td>\n",
       "      <td>5.0</td>\n",
       "      <td>6.0</td>\n",
       "      <td>21.025379</td>\n",
       "      <td>105.801011</td>\n",
       "      <td>trong ngo</td>\n",
       "    </tr>\n",
       "    <tr>\n",
       "      <th>3</th>\n",
       "      <td>26.0</td>\n",
       "      <td>2900.0</td>\n",
       "      <td>44292</td>\n",
       "      <td>So do</td>\n",
       "      <td>NaN</td>\n",
       "      <td>NaN</td>\n",
       "      <td>4.0</td>\n",
       "      <td>3.0</td>\n",
       "      <td>4.0</td>\n",
       "      <td>21.014325</td>\n",
       "      <td>105.834918</td>\n",
       "      <td>trong ngo</td>\n",
       "    </tr>\n",
       "    <tr>\n",
       "      <th>4</th>\n",
       "      <td>40.0</td>\n",
       "      <td>3950.0</td>\n",
       "      <td>44292</td>\n",
       "      <td>So do</td>\n",
       "      <td>NaN</td>\n",
       "      <td>NaN</td>\n",
       "      <td>NaN</td>\n",
       "      <td>NaN</td>\n",
       "      <td>5.0</td>\n",
       "      <td>21.009862</td>\n",
       "      <td>105.838083</td>\n",
       "      <td>trong ngo</td>\n",
       "    </tr>\n",
       "  </tbody>\n",
       "</table>\n",
       "</div>"
      ],
      "text/plain": [
       "   area    price  postDate land_certificate house_direction balcony_direction  \\\n",
       "0  50.0  14700.0     44197            So do             NaN               NaN   \n",
       "1  57.0   4200.0     44265            So do             Nam               Nam   \n",
       "2  62.0  11000.0     44268            So do             NaN          dong-Nam   \n",
       "3  26.0   2900.0     44292            So do             NaN               NaN   \n",
       "4  40.0   3950.0     44292            So do             NaN               NaN   \n",
       "\n",
       "   toilet  bedroom  floor        lat        long property_type  \n",
       "0     4.0      6.0    6.0  21.015698  105.824583     trong ngo  \n",
       "1     3.0      8.0    4.0  21.025208  105.833111     trong ngo  \n",
       "2     6.0      5.0    6.0  21.025379  105.801011     trong ngo  \n",
       "3     4.0      3.0    4.0  21.014325  105.834918     trong ngo  \n",
       "4     NaN      NaN    5.0  21.009862  105.838083     trong ngo  "
      ]
     },
     "execution_count": 5,
     "metadata": {},
     "output_type": "execute_result"
    }
   ],
   "source": [
    "df.head()"
   ]
  },
  {
   "cell_type": "markdown",
   "id": "1177d439",
   "metadata": {},
   "source": [
    "# Vẽ biểu đồ so sánh phân phối giá (triệu đ/m2) giữa nhà Phố và Nhà ngõ"
   ]
  },
  {
   "cell_type": "code",
   "execution_count": 6,
   "id": "386b8ee2",
   "metadata": {},
   "outputs": [
    {
     "data": {
      "text/plain": [
       "array(['trong ngo', 'mat pho'], dtype=object)"
      ]
     },
     "execution_count": 6,
     "metadata": {},
     "output_type": "execute_result"
    }
   ],
   "source": [
    "df.property_type.unique()"
   ]
  },
  {
   "cell_type": "code",
   "execution_count": 7,
   "id": "e11861d4",
   "metadata": {},
   "outputs": [],
   "source": [
    "df_trongngo = df.loc[df['property_type'] == 'trong ngo', ['area', 'price']]"
   ]
  },
  {
   "cell_type": "code",
   "execution_count": 8,
   "id": "c2949f22",
   "metadata": {},
   "outputs": [
    {
     "data": {
      "text/plain": [
       "area      3\n",
       "price    42\n",
       "dtype: int64"
      ]
     },
     "execution_count": 8,
     "metadata": {},
     "output_type": "execute_result"
    }
   ],
   "source": [
    "df_trongngo.isna().sum()"
   ]
  },
  {
   "cell_type": "code",
   "execution_count": 9,
   "id": "19d18009",
   "metadata": {},
   "outputs": [
    {
     "name": "stderr",
     "output_type": "stream",
     "text": [
      "C:\\Users\\FPTSHOP\\anaconda3\\lib\\site-packages\\seaborn\\distributions.py:2619: FutureWarning: `distplot` is a deprecated function and will be removed in a future version. Please adapt your code to use either `displot` (a figure-level function with similar flexibility) or `histplot` (an axes-level function for histograms).\n",
      "  warnings.warn(msg, FutureWarning)\n"
     ]
    },
    {
     "data": {
      "text/plain": [
       "<AxesSubplot:xlabel='price', ylabel='Density'>"
      ]
     },
     "execution_count": 9,
     "metadata": {},
     "output_type": "execute_result"
    },
    {
     "data": {
      "image/png": "[encoded data removed]",
      "text/plain": [
       "<Figure size 432x288 with 1 Axes>"
      ]
     },
     "metadata": {
      "needs_background": "light"
     },
     "output_type": "display_data"
    }
   ],
   "source": [
    "sns.distplot(df_trongngo['price'])"
   ]
  },
  {
   "cell_type": "code",
   "execution_count": 10,
   "id": "12629c16",
   "metadata": {},
   "outputs": [],
   "source": [
    "df_matpho = df.loc[df['property_type'] == 'mat pho', ['area', 'price']]"
   ]
  },
  {
   "cell_type": "code",
   "execution_count": 11,
   "id": "3d164f0c",
   "metadata": {},
   "outputs": [
    {
     "name": "stderr",
     "output_type": "stream",
     "text": [
      "C:\\Users\\FPTSHOP\\anaconda3\\lib\\site-packages\\seaborn\\distributions.py:2619: FutureWarning: `distplot` is a deprecated function and will be removed in a future version. Please adapt your code to use either `displot` (a figure-level function with similar flexibility) or `histplot` (an axes-level function for histograms).\n",
      "  warnings.warn(msg, FutureWarning)\n"
     ]
    },
    {
     "data": {
      "text/plain": [
       "<AxesSubplot:xlabel='price', ylabel='Density'>"
      ]
     },
     "execution_count": 11,
     "metadata": {},
     "output_type": "execute_result"
    },
    {
     "data": {
      "image/png": "[encoded data removed]",
      "text/plain": [
       "<Figure size 432x288 with 1 Axes>"
      ]
     },
     "metadata": {
      "needs_background": "light"
     },
     "output_type": "display_data"
    }
   ],
   "source": [
    "sns.distplot(df_matpho['price'])"
   ]
  },
  {
   "cell_type": "markdown",
   "id": "d1d3235d",
   "metadata": {},
   "source": [
    "# xử lí dữ liệu có giá trị nan hoặc inf trong cột price"
   ]
  },
  {
   "cell_type": "markdown",
   "id": "1a54bf11",
   "metadata": {},
   "source": [
    "+ xử lí nhà trong ngỏ"
   ]
  },
  {
   "cell_type": "code",
   "execution_count": 12,
   "id": "3bff0dc4",
   "metadata": {},
   "outputs": [
    {
     "data": {
      "text/plain": [
       "0    4500.0\n",
       "1    9300.0\n",
       "dtype: float64"
      ]
     },
     "execution_count": 12,
     "metadata": {},
     "output_type": "execute_result"
    }
   ],
   "source": [
    "df_trongngo['price'].mode()"
   ]
  },
  {
   "cell_type": "code",
   "execution_count": 13,
   "id": "a296b633",
   "metadata": {},
   "outputs": [],
   "source": [
    "df_trongngo['price'] = df_trongngo['price'].fillna(df_trongngo['price'].mode()[1] )"
   ]
  },
  {
   "cell_type": "code",
   "execution_count": 14,
   "id": "01a4cd49",
   "metadata": {},
   "outputs": [
    {
     "name": "stdout",
     "output_type": "stream",
     "text": [
      "<class 'pandas.core.frame.DataFrame'>\n",
      "Int64Index: 449 entries, 0 to 448\n",
      "Data columns (total 2 columns):\n",
      " #   Column  Non-Null Count  Dtype  \n",
      "---  ------  --------------  -----  \n",
      " 0   area    446 non-null    float64\n",
      " 1   price   449 non-null    float64\n",
      "dtypes: float64(2)\n",
      "memory usage: 10.5 KB\n"
     ]
    }
   ],
   "source": [
    "df_trongngo.info()"
   ]
  },
  {
   "cell_type": "code",
   "execution_count": 15,
   "id": "ce41057d",
   "metadata": {},
   "outputs": [
    {
     "data": {
      "text/plain": [
       "array([ 14700. ,   4200. ,  11000. ,   2900. ,   3950. ,   8900. ,\n",
       "         5280. ,   5376.6,   1800. ,   2400. ,   2000. ,   2600. ,\n",
       "         1180. ,   1350. ,   3800. ,   3450. ,   1750. ,   2200. ,\n",
       "         1290. ,   1600. ,   1700. ,   6500. ,   2450. ,   1300. ,\n",
       "         1850. ,    850. ,   1170. ,   1250. ,   1200. ,   1630. ,\n",
       "         3500. ,   8200. ,    900. ,   3200. ,   2050. ,    890. ,\n",
       "         1550. ,   1950. ,   2950. ,   3900. ,    550. ,   1780. ,\n",
       "         2100. ,    450. ,   1900. ,   1730. ,   2080. ,   1450. ,\n",
       "         4000. ,   2300. ,   1490. ,   1500. ,   1330. ,   3100. ,\n",
       "         6100. ,   9300. ,   6000. ,   7250. ,  15500. ,   5000. ,\n",
       "         3600. ,   3150. ,   7400. ,  10000. ,   2650. ,  23000. ,\n",
       "         4500. ,   2350. ,   8400. ,   2750. ,   4800. ,  14500. ,\n",
       "         4350. ,   3750. ,  10500. ,   7700. ,   4300. ,   1100. ,\n",
       "         3850. ,   3300. ,   6700. ,   3400. ,   2250. ,   7000. ,\n",
       "         5300. ,   9400. ,   6300. ,   4700. ,   1990. ,   1480. ,\n",
       "         9500. ,   5750. ,   6600. ,   7900. ,   6800. ,  16500. ,\n",
       "        12000. ,  34000. ,  11800. ,  12700. ,   1680. ,   7600. ,\n",
       "        38000. ,  13500. ,  12800. ,   8600. ,   4900. ,   4950. ,\n",
       "         5700. ,  33500. ,  33000. ,   5800. ,   8500. ,   6200. ,\n",
       "        12500. ,  36000. ,   2850. ,   4250. ,   8000. ,  48000. ,\n",
       "         9000. ,   5390. ,   5590. ,  14000. ,   3550. ,  16000. ,\n",
       "         7800. ,   8800. ,  18600. ,  26500. ,   6900. ,   7020. ,\n",
       "         7500. ,  14300. ,   9200. ,  18000. ,   2700. ,   7200. ,\n",
       "        14600. ,  15200. ,   2800. ,   1400. ,  13000. ,   7990. ,\n",
       "         5500. ,  16300. ,  11400. ,   5600. ,   8700. ,  34600. ,\n",
       "        10300. ,   8300. ,  42000. ,   8350. ,   1460. ,  34200. ,\n",
       "         1050. ,  25000. ,   3250. ,  15000. ,  25500. ,   4650. ,\n",
       "        26300. ,   5400. , 120000. ,  19000. ,  11500. ,  11250. ,\n",
       "         9800. ,   4550. ,  10900. ,   6400. ,  23520. ,   7450. ,\n",
       "        14900. ,   4400. ,  22000. ,  34300. ,   2550. ,  15800. ,\n",
       "         6580. ,  26000. ,  17500. ,  22500. ,  32000. ,  18500. ,\n",
       "        20000. ,   8450. ,   5950. ,   7100. ,   4100. ,  11200. ,\n",
       "        11700. ,  36500. ,  10200. ])"
      ]
     },
     "execution_count": 15,
     "metadata": {},
     "output_type": "execute_result"
    }
   ],
   "source": [
    "df_trongngo['price'].unique()"
   ]
  },
  {
   "cell_type": "code",
   "execution_count": 16,
   "id": "6edd402e",
   "metadata": {},
   "outputs": [
    {
     "data": {
      "text/html": [
       "<div>\n",
       "<style scoped>\n",
       "    .dataframe tbody tr th:only-of-type {\n",
       "        vertical-align: middle;\n",
       "    }\n",
       "\n",
       "    .dataframe tbody tr th {\n",
       "        vertical-align: top;\n",
       "    }\n",
       "\n",
       "    .dataframe thead th {\n",
       "        text-align: right;\n",
       "    }\n",
       "</style>\n",
       "<table border=\"1\" class=\"dataframe\">\n",
       "  <thead>\n",
       "    <tr style=\"text-align: right;\">\n",
       "      <th></th>\n",
       "      <th>area</th>\n",
       "      <th>price</th>\n",
       "    </tr>\n",
       "  </thead>\n",
       "  <tbody>\n",
       "  </tbody>\n",
       "</table>\n",
       "</div>"
      ],
      "text/plain": [
       "Empty DataFrame\n",
       "Columns: [area, price]\n",
       "Index: []"
      ]
     },
     "execution_count": 16,
     "metadata": {},
     "output_type": "execute_result"
    }
   ],
   "source": [
    "df_trongngo[df_trongngo['price'] == np.inf]"
   ]
  },
  {
   "cell_type": "markdown",
   "id": "8f3a86e2",
   "metadata": {},
   "source": [
    "+ xử lí nhà mặt phố"
   ]
  },
  {
   "cell_type": "code",
   "execution_count": 17,
   "id": "345367ed",
   "metadata": {},
   "outputs": [
    {
     "data": {
      "text/plain": [
       "area      3\n",
       "price    12\n",
       "dtype: int64"
      ]
     },
     "execution_count": 17,
     "metadata": {},
     "output_type": "execute_result"
    }
   ],
   "source": [
    "df_matpho.isna().sum()"
   ]
  },
  {
   "cell_type": "code",
   "execution_count": 18,
   "id": "3cbb43bb",
   "metadata": {},
   "outputs": [
    {
     "data": {
      "text/plain": [
       "0    330000.0\n",
       "dtype: float64"
      ]
     },
     "execution_count": 18,
     "metadata": {},
     "output_type": "execute_result"
    }
   ],
   "source": [
    "df_matpho['price'].mode()"
   ]
  },
  {
   "cell_type": "code",
   "execution_count": 19,
   "id": "aade21cf",
   "metadata": {},
   "outputs": [],
   "source": [
    "df_matpho['price'] = df_matpho['price'].fillna(df_matpho['price'].mode()[0] )"
   ]
  },
  {
   "cell_type": "code",
   "execution_count": 20,
   "id": "0bb2db0d",
   "metadata": {},
   "outputs": [
    {
     "name": "stdout",
     "output_type": "stream",
     "text": [
      "<class 'pandas.core.frame.DataFrame'>\n",
      "Int64Index: 222 entries, 449 to 670\n",
      "Data columns (total 2 columns):\n",
      " #   Column  Non-Null Count  Dtype  \n",
      "---  ------  --------------  -----  \n",
      " 0   area    219 non-null    float64\n",
      " 1   price   222 non-null    float64\n",
      "dtypes: float64(2)\n",
      "memory usage: 5.2 KB\n"
     ]
    }
   ],
   "source": [
    "df_matpho.info()"
   ]
  },
  {
   "cell_type": "markdown",
   "id": "088c7d71",
   "metadata": {},
   "source": [
    "# xử lí dữ liệu ngoại lai"
   ]
  },
  {
   "cell_type": "code",
   "execution_count": 21,
   "id": "c64b0c6c",
   "metadata": {},
   "outputs": [],
   "source": [
    "from sklearn.preprocessing import StandardScaler"
   ]
  },
  {
   "cell_type": "code",
   "execution_count": 22,
   "id": "559415a2",
   "metadata": {},
   "outputs": [],
   "source": [
    "# Khai báo đối tượng StandardScaler\n",
    "s_scaler = StandardScaler()\n",
    "# Chuẩn hóa dữ liệu trong df với StandardScaler\n",
    "df_s = s_scaler.fit_transform(df_trongngo)\n",
    "# lấy danh sáchc cột\n",
    "col_names = list(df_trongngo.columns)\n",
    "\n",
    "# chuyển về DataFrame, gán các cột của df cho dữ liệu đã được chuẩn hóa\n",
    "df_s = pd.DataFrame(df_s, columns=col_names)"
   ]
  },
  {
   "cell_type": "code",
   "execution_count": 23,
   "id": "142ecccb",
   "metadata": {},
   "outputs": [
    {
     "data": {
      "text/plain": [
       "<AxesSubplot:xlabel='price', ylabel='Density'>"
      ]
     },
     "execution_count": 23,
     "metadata": {},
     "output_type": "execute_result"
    },
    {
     "data": {
      "image/png": "[encoded data removed]",
      "text/plain": [
       "<Figure size 432x288 with 1 Axes>"
      ]
     },
     "metadata": {
      "needs_background": "light"
     },
     "output_type": "display_data"
    }
   ],
   "source": [
    "\n",
    "sns.kdeplot(df_s['price'], shade = True)"
   ]
  },
  {
   "cell_type": "code",
   "execution_count": 24,
   "id": "34cf4089",
   "metadata": {},
   "outputs": [],
   "source": [
    "# Chuẩn hóa dữ liệu trong df với StandardScaler\n",
    "df_s1= s_scaler.fit_transform(df_matpho)\n",
    "# lấy danh sáchc cột\n",
    "col_names = list(df_matpho.columns)\n",
    "\n",
    "# chuyển về DataFrame, gán các cột của df cho dữ liệu đã được chuẩn hóa\n",
    "df_s1 = pd.DataFrame(df_s1, columns=col_names)"
   ]
  },
  {
   "cell_type": "code",
   "execution_count": 25,
   "id": "f2aa0319",
   "metadata": {},
   "outputs": [
    {
     "data": {
      "text/plain": [
       "<AxesSubplot:xlabel='price', ylabel='Density'>"
      ]
     },
     "execution_count": 25,
     "metadata": {},
     "output_type": "execute_result"
    },
    {
     "data": {
      "image/png": "[encoded data removed]",
      "text/plain": [
       "<Figure size 432x288 with 1 Axes>"
      ]
     },
     "metadata": {
      "needs_background": "light"
     },
     "output_type": "display_data"
    }
   ],
   "source": [
    "sns.kdeplot(df_s1['price'], shade = True)"
   ]
  },
  {
   "cell_type": "code",
   "execution_count": 26,
   "id": "75768f94",
   "metadata": {},
   "outputs": [
    {
     "name": "stdout",
     "output_type": "stream",
     "text": [
      "<class 'pandas.core.frame.DataFrame'>\n",
      "RangeIndex: 449 entries, 0 to 448\n",
      "Data columns (total 2 columns):\n",
      " #   Column  Non-Null Count  Dtype  \n",
      "---  ------  --------------  -----  \n",
      " 0   area    446 non-null    float64\n",
      " 1   price   449 non-null    float64\n",
      "dtypes: float64(2)\n",
      "memory usage: 7.1 KB\n"
     ]
    }
   ],
   "source": [
    "df_s.info()"
   ]
  },
  {
   "cell_type": "code",
   "execution_count": 27,
   "id": "7d6b9248",
   "metadata": {},
   "outputs": [
    {
     "data": {
      "text/html": [
       "<div>\n",
       "<style scoped>\n",
       "    .dataframe tbody tr th:only-of-type {\n",
       "        vertical-align: middle;\n",
       "    }\n",
       "\n",
       "    .dataframe tbody tr th {\n",
       "        vertical-align: top;\n",
       "    }\n",
       "\n",
       "    .dataframe thead th {\n",
       "        text-align: right;\n",
       "    }\n",
       "</style>\n",
       "<table border=\"1\" class=\"dataframe\">\n",
       "  <thead>\n",
       "    <tr style=\"text-align: right;\">\n",
       "      <th></th>\n",
       "      <th>area</th>\n",
       "      <th>price</th>\n",
       "    </tr>\n",
       "  </thead>\n",
       "  <tbody>\n",
       "    <tr>\n",
       "      <th>0</th>\n",
       "      <td>50.0</td>\n",
       "      <td>14700.0</td>\n",
       "    </tr>\n",
       "    <tr>\n",
       "      <th>1</th>\n",
       "      <td>57.0</td>\n",
       "      <td>4200.0</td>\n",
       "    </tr>\n",
       "    <tr>\n",
       "      <th>2</th>\n",
       "      <td>62.0</td>\n",
       "      <td>11000.0</td>\n",
       "    </tr>\n",
       "    <tr>\n",
       "      <th>3</th>\n",
       "      <td>26.0</td>\n",
       "      <td>2900.0</td>\n",
       "    </tr>\n",
       "    <tr>\n",
       "      <th>4</th>\n",
       "      <td>40.0</td>\n",
       "      <td>3950.0</td>\n",
       "    </tr>\n",
       "    <tr>\n",
       "      <th>...</th>\n",
       "      <td>...</td>\n",
       "      <td>...</td>\n",
       "    </tr>\n",
       "    <tr>\n",
       "      <th>444</th>\n",
       "      <td>90.0</td>\n",
       "      <td>32000.0</td>\n",
       "    </tr>\n",
       "    <tr>\n",
       "      <th>445</th>\n",
       "      <td>58.0</td>\n",
       "      <td>15800.0</td>\n",
       "    </tr>\n",
       "    <tr>\n",
       "      <th>446</th>\n",
       "      <td>96.0</td>\n",
       "      <td>10200.0</td>\n",
       "    </tr>\n",
       "    <tr>\n",
       "      <th>447</th>\n",
       "      <td>38.0</td>\n",
       "      <td>3900.0</td>\n",
       "    </tr>\n",
       "    <tr>\n",
       "      <th>448</th>\n",
       "      <td>25.0</td>\n",
       "      <td>2850.0</td>\n",
       "    </tr>\n",
       "  </tbody>\n",
       "</table>\n",
       "<p>449 rows × 2 columns</p>\n",
       "</div>"
      ],
      "text/plain": [
       "     area    price\n",
       "0    50.0  14700.0\n",
       "1    57.0   4200.0\n",
       "2    62.0  11000.0\n",
       "3    26.0   2900.0\n",
       "4    40.0   3950.0\n",
       "..    ...      ...\n",
       "444  90.0  32000.0\n",
       "445  58.0  15800.0\n",
       "446  96.0  10200.0\n",
       "447  38.0   3900.0\n",
       "448  25.0   2850.0\n",
       "\n",
       "[449 rows x 2 columns]"
      ]
     },
     "execution_count": 27,
     "metadata": {},
     "output_type": "execute_result"
    }
   ],
   "source": [
    "df_trongngo"
   ]
  },
  {
   "cell_type": "markdown",
   "id": "95eb652b",
   "metadata": {},
   "source": [
    "# Kiểm định giả thuyết giá (triệu đ/m2) nhà mặt phố cao hơn giá nhà trong ngõ với mức ý nghĩa 5%"
   ]
  },
  {
   "cell_type": "markdown",
   "id": "7e96387a",
   "metadata": {},
   "source": [
    "# tiến hành kiểm định\n",
    "+ apla = 0.05\n",
    "+ gọi A là nhà mặt phố, B là nhà trong ngỏ ( kiểm định phía phải)\n",
    "+ H0 = B - A <= 0\n",
    "+ H1 = B - A > 0"
   ]
  },
  {
   "cell_type": "code",
   "execution_count": 28,
   "id": "ed5c03b6",
   "metadata": {},
   "outputs": [
    {
     "data": {
      "text/plain": [
       "Ttest_indResult(statistic=-1.1637655289548887e-15, pvalue=0.9999999999999991)"
      ]
     },
     "execution_count": 28,
     "metadata": {},
     "output_type": "execute_result"
    }
   ],
   "source": [
    "stats.ttest_ind(df_s.price, df_s1.price,equal_var=False)"
   ]
  },
  {
   "cell_type": "markdown",
   "id": "7b26dd3c",
   "metadata": {},
   "source": [
    "# kết luận:\n",
    "+ 𝑃𝑣𝑎𝑙𝑢𝑒<2𝛼,  statistic >0\n",
    "+ với pvalue lớn hơn rất nhiều và statistic = 0  nên ta bác bỏ H0 và chấp nhận H1 => giá nhà mặt phố có thể thấp hơn so trong ngõ"
   ]
  },
  {
   "cell_type": "markdown",
   "id": "7231a061",
   "metadata": {},
   "source": [
    "# Giá của những căn nhà không có thông tin về giấy tờ pháp lý thấp hơn giá nhà những căn có thông tin về giấy tờ pháp lý với mức ý nghĩa 5%"
   ]
  },
  {
   "cell_type": "code",
   "execution_count": 29,
   "id": "b1762304",
   "metadata": {},
   "outputs": [
    {
     "data": {
      "text/html": [
       "<div>\n",
       "<style scoped>\n",
       "    .dataframe tbody tr th:only-of-type {\n",
       "        vertical-align: middle;\n",
       "    }\n",
       "\n",
       "    .dataframe tbody tr th {\n",
       "        vertical-align: top;\n",
       "    }\n",
       "\n",
       "    .dataframe thead th {\n",
       "        text-align: right;\n",
       "    }\n",
       "</style>\n",
       "<table border=\"1\" class=\"dataframe\">\n",
       "  <thead>\n",
       "    <tr style=\"text-align: right;\">\n",
       "      <th></th>\n",
       "      <th>area</th>\n",
       "      <th>price</th>\n",
       "      <th>postDate</th>\n",
       "      <th>land_certificate</th>\n",
       "      <th>house_direction</th>\n",
       "      <th>balcony_direction</th>\n",
       "      <th>toilet</th>\n",
       "      <th>bedroom</th>\n",
       "      <th>floor</th>\n",
       "      <th>lat</th>\n",
       "      <th>long</th>\n",
       "      <th>property_type</th>\n",
       "    </tr>\n",
       "  </thead>\n",
       "  <tbody>\n",
       "    <tr>\n",
       "      <th>0</th>\n",
       "      <td>50.0</td>\n",
       "      <td>14700.0</td>\n",
       "      <td>44197</td>\n",
       "      <td>So do</td>\n",
       "      <td>NaN</td>\n",
       "      <td>NaN</td>\n",
       "      <td>4.0</td>\n",
       "      <td>6.0</td>\n",
       "      <td>6.0</td>\n",
       "      <td>21.015698</td>\n",
       "      <td>105.824583</td>\n",
       "      <td>trong ngo</td>\n",
       "    </tr>\n",
       "    <tr>\n",
       "      <th>1</th>\n",
       "      <td>57.0</td>\n",
       "      <td>4200.0</td>\n",
       "      <td>44265</td>\n",
       "      <td>So do</td>\n",
       "      <td>Nam</td>\n",
       "      <td>Nam</td>\n",
       "      <td>3.0</td>\n",
       "      <td>8.0</td>\n",
       "      <td>4.0</td>\n",
       "      <td>21.025208</td>\n",
       "      <td>105.833111</td>\n",
       "      <td>trong ngo</td>\n",
       "    </tr>\n",
       "    <tr>\n",
       "      <th>2</th>\n",
       "      <td>62.0</td>\n",
       "      <td>11000.0</td>\n",
       "      <td>44268</td>\n",
       "      <td>So do</td>\n",
       "      <td>NaN</td>\n",
       "      <td>dong-Nam</td>\n",
       "      <td>6.0</td>\n",
       "      <td>5.0</td>\n",
       "      <td>6.0</td>\n",
       "      <td>21.025379</td>\n",
       "      <td>105.801011</td>\n",
       "      <td>trong ngo</td>\n",
       "    </tr>\n",
       "    <tr>\n",
       "      <th>3</th>\n",
       "      <td>26.0</td>\n",
       "      <td>2900.0</td>\n",
       "      <td>44292</td>\n",
       "      <td>So do</td>\n",
       "      <td>NaN</td>\n",
       "      <td>NaN</td>\n",
       "      <td>4.0</td>\n",
       "      <td>3.0</td>\n",
       "      <td>4.0</td>\n",
       "      <td>21.014325</td>\n",
       "      <td>105.834918</td>\n",
       "      <td>trong ngo</td>\n",
       "    </tr>\n",
       "    <tr>\n",
       "      <th>4</th>\n",
       "      <td>40.0</td>\n",
       "      <td>3950.0</td>\n",
       "      <td>44292</td>\n",
       "      <td>So do</td>\n",
       "      <td>NaN</td>\n",
       "      <td>NaN</td>\n",
       "      <td>NaN</td>\n",
       "      <td>NaN</td>\n",
       "      <td>5.0</td>\n",
       "      <td>21.009862</td>\n",
       "      <td>105.838083</td>\n",
       "      <td>trong ngo</td>\n",
       "    </tr>\n",
       "  </tbody>\n",
       "</table>\n",
       "</div>"
      ],
      "text/plain": [
       "   area    price  postDate land_certificate house_direction balcony_direction  \\\n",
       "0  50.0  14700.0     44197            So do             NaN               NaN   \n",
       "1  57.0   4200.0     44265            So do             Nam               Nam   \n",
       "2  62.0  11000.0     44268            So do             NaN          dong-Nam   \n",
       "3  26.0   2900.0     44292            So do             NaN               NaN   \n",
       "4  40.0   3950.0     44292            So do             NaN               NaN   \n",
       "\n",
       "   toilet  bedroom  floor        lat        long property_type  \n",
       "0     4.0      6.0    6.0  21.015698  105.824583     trong ngo  \n",
       "1     3.0      8.0    4.0  21.025208  105.833111     trong ngo  \n",
       "2     6.0      5.0    6.0  21.025379  105.801011     trong ngo  \n",
       "3     4.0      3.0    4.0  21.014325  105.834918     trong ngo  \n",
       "4     NaN      NaN    5.0  21.009862  105.838083     trong ngo  "
      ]
     },
     "execution_count": 29,
     "metadata": {},
     "output_type": "execute_result"
    }
   ],
   "source": [
    "df.head()"
   ]
  },
  {
   "cell_type": "code",
   "execution_count": 30,
   "id": "9a78de08",
   "metadata": {},
   "outputs": [
    {
     "data": {
      "text/plain": [
       "5      NaN\n",
       "72     NaN\n",
       "73     NaN\n",
       "74     NaN\n",
       "75     NaN\n",
       "      ... \n",
       "664    NaN\n",
       "665    NaN\n",
       "666    NaN\n",
       "668    NaN\n",
       "669    NaN\n",
       "Name: land_certificate, Length: 302, dtype: object"
      ]
     },
     "execution_count": 30,
     "metadata": {},
     "output_type": "execute_result"
    }
   ],
   "source": [
    "df[df['land_certificate'].isna() == True]['land_certificate']"
   ]
  },
  {
   "cell_type": "code",
   "execution_count": 31,
   "id": "5ca014dc",
   "metadata": {},
   "outputs": [
    {
     "data": {
      "text/plain": [
       "5      NaN\n",
       "72     NaN\n",
       "73     NaN\n",
       "74     NaN\n",
       "75     NaN\n",
       "      ... \n",
       "664    NaN\n",
       "665    NaN\n",
       "666    NaN\n",
       "668    NaN\n",
       "669    NaN\n",
       "Name: land_certificate, Length: 302, dtype: object"
      ]
     },
     "execution_count": 31,
     "metadata": {},
     "output_type": "execute_result"
    }
   ],
   "source": [
    "df[df['land_certificate'].isna() == True]['land_certificate']"
   ]
  },
  {
   "cell_type": "code",
   "execution_count": 32,
   "id": "adee2cce",
   "metadata": {},
   "outputs": [
    {
     "data": {
      "text/plain": [
       "array(['So do', nan], dtype=object)"
      ]
     },
     "execution_count": 32,
     "metadata": {},
     "output_type": "execute_result"
    }
   ],
   "source": [
    "df.land_certificate.unique()"
   ]
  },
  {
   "cell_type": "code",
   "execution_count": 33,
   "id": "9ea5edd6",
   "metadata": {},
   "outputs": [
    {
     "data": {
      "text/plain": [
       "Ttest_indResult(statistic=nan, pvalue=nan)"
      ]
     },
     "execution_count": 33,
     "metadata": {},
     "output_type": "execute_result"
    }
   ],
   "source": [
    "stats.ttest_ind(df[df['land_certificate'].isna() == True]['price'], df[df['land_certificate'] == 'so do']['price'], equal_var=False)"
   ]
  },
  {
   "cell_type": "code",
   "execution_count": null,
   "id": "71e3c6d8",
   "metadata": {},
   "outputs": [],
   "source": []
  }
 ],
 "metadata": {
  "kernelspec": {
   "display_name": "Python 3 (ipykernel)",
   "language": "python",
   "name": "python3"
  },
  "language_info": {
   "codemirror_mode": {
    "name": "ipython",
    "version": 3
   },
   "file_extension": ".py",
   "mimetype": "text/x-python",
   "name": "python",
   "nbconvert_exporter": "python",
   "pygments_lexer": "ipython3",
   "version": "3.9.7"
  }
 },
 "nbformat": 4,
 "nbformat_minor": 5
}

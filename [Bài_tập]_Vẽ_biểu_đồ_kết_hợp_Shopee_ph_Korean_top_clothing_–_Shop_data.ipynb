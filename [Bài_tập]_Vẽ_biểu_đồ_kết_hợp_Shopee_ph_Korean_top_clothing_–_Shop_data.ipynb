{
  "nbformat": 4,
  "nbformat_minor": 0,
  "metadata": {
    "colab": {
      "name": "[Bài tập] Vẽ biểu đồ kết hợp Shopee.ph Korean-top clothing – Shop data.ipynb",
      "provenance": [],
      "authorship_tag": "ABX9TyMN5dRHjcktikI3pTNtBLRm",
      "include_colab_link": true
    },
    "kernelspec": {
      "name": "python3",
      "display_name": "Python 3"
    },
    "language_info": {
      "name": "python"
    }
  },
  "cells": [
    {
      "cell_type": "markdown",
      "metadata": {
        "id": "view-in-github",
        "colab_type": "text"
      },
      "source": [
        "<a href=\"https://colab.research.google.com/github/tranhuuan170302/Tran-Huu-An-data-analyst/blob/main/%5BB%C3%A0i_t%E1%BA%ADp%5D_V%E1%BA%BD_bi%E1%BB%83u_%C4%91%E1%BB%93_k%E1%BA%BFt_h%E1%BB%A3p_Shopee_ph_Korean_top_clothing_%E2%80%93_Shop_data.ipynb\" target=\"_parent\"><img src=\"https://colab.research.google.com/assets/colab-badge.svg\" alt=\"Open In Colab\"/></a>"
      ]
    },
    {
      "cell_type": "code",
      "execution_count": 62,
      "metadata": {
        "id": "xlPDGjNsZPjM"
      },
      "outputs": [],
      "source": [
        "import pandas as pd\n",
        "import matplotlib.pyplot as plt"
      ]
    },
    {
      "cell_type": "code",
      "source": [
        "df = pd.read_csv(\"https://s3.ap-southeast-1.amazonaws.com/learn.codegym.vn/media/public/2022/01/20125029/shopeep_koreantop_clothing_shop_data.csv\")"
      ],
      "metadata": {
        "id": "-F1jJ_ToZYgS"
      },
      "execution_count": 63,
      "outputs": []
    },
    {
      "cell_type": "code",
      "source": [
        "df.info()"
      ],
      "metadata": {
        "colab": {
          "base_uri": "https://localhost:8080/"
        },
        "id": "W09ei5jkZjPZ",
        "outputId": "730bbefc-d71f-4d15-aa99-1d02cf865ae2"
      },
      "execution_count": 64,
      "outputs": [
        {
          "output_type": "stream",
          "name": "stdout",
          "text": [
            "<class 'pandas.core.frame.DataFrame'>\n",
            "RangeIndex: 746 entries, 0 to 745\n",
            "Data columns (total 18 columns):\n",
            " #   Column              Non-Null Count  Dtype  \n",
            "---  ------              --------------  -----  \n",
            " 0   pk_shop             746 non-null    int64  \n",
            " 1   date_collected      746 non-null    object \n",
            " 2   shopid              746 non-null    int64  \n",
            " 3   name                746 non-null    object \n",
            " 4   join_month          746 non-null    object \n",
            " 5   join_day            746 non-null    int64  \n",
            " 6   join_year           746 non-null    int64  \n",
            " 7   item_count          746 non-null    int64  \n",
            " 8   follower_count      746 non-null    int64  \n",
            " 9   response_time       746 non-null    object \n",
            " 10  response_rate       746 non-null    int64  \n",
            " 11  shop_location       428 non-null    object \n",
            " 12  rating_bad          746 non-null    int64  \n",
            " 13  rating_good         746 non-null    int64  \n",
            " 14  rating_normal       746 non-null    int64  \n",
            " 15  rating_star         740 non-null    float64\n",
            " 16  is_shopee_verified  746 non-null    int64  \n",
            " 17  is_official_shop    746 non-null    int64  \n",
            "dtypes: float64(1), int64(12), object(5)\n",
            "memory usage: 105.0+ KB\n"
          ]
        }
      ]
    },
    {
      "cell_type": "code",
      "source": [
        "df = df.dropna()"
      ],
      "metadata": {
        "id": "QTsTCBIVZlYr"
      },
      "execution_count": 65,
      "outputs": []
    },
    {
      "cell_type": "code",
      "source": [
        "df.head()"
      ],
      "metadata": {
        "colab": {
          "base_uri": "https://localhost:8080/",
          "height": 426
        },
        "id": "KQmY-m58Zozy",
        "outputId": "c72a7bd4-d0fd-492b-92b1-036715f3d25a"
      },
      "execution_count": 66,
      "outputs": [
        {
          "output_type": "execute_result",
          "data": {
            "text/plain": [
              "             pk_shop date_collected     shopid                      name  \\\n",
              "1  20210613314198143     2021-06-13  314198143           love.women.shop   \n",
              "2   2021061310377223     2021-06-13   10377223             R&O RedOrange   \n",
              "3   2021061321407329     2021-06-13   21407329               patriciacai   \n",
              "4   2021061311187885     2021-06-13   11187885      Little Market Manila   \n",
              "8  20210613312874722     2021-06-13  312874722  Shopping Center boutique   \n",
              "\n",
              "  join_month  join_day  join_year  item_count  follower_count response_time  \\\n",
              "1  September        25       2020         263            8574      10:43:05   \n",
              "2  September        27       2016         209          660417      08:32:07   \n",
              "3      April        30       2017         165           18787      09:10:38   \n",
              "4    October        18       2016         467           67371      11:40:59   \n",
              "8  September        22       2020         286          110539      10:14:49   \n",
              "\n",
              "   response_rate               shop_location  rating_bad  rating_good  \\\n",
              "1             73    San Nicolas,Metro Manila          78         2656   \n",
              "2             90     Pasay City,Metro Manila        4647      1071829   \n",
              "3             94        Binondo,Metro Manila          44        18959   \n",
              "4             89  Caloocan City,Metro Manila         680        39252   \n",
              "8             76    San Nicolas,Metro Manila         679        28651   \n",
              "\n",
              "   rating_normal  rating_star  is_shopee_verified  is_official_shop  \n",
              "1            198         4.68                   0                 0  \n",
              "2          18073         4.91                   1                 0  \n",
              "3            215         4.94                   1                 0  \n",
              "4           2383         4.73                   1                 0  \n",
              "8           2027         4.70                   1                 0  "
            ],
            "text/html": [
              "\n",
              "  <div id=\"df-dbe7ecd8-a93b-46cf-9952-87cd3a7ee6b7\">\n",
              "    <div class=\"colab-df-container\">\n",
              "      <div>\n",
              "<style scoped>\n",
              "    .dataframe tbody tr th:only-of-type {\n",
              "        vertical-align: middle;\n",
              "    }\n",
              "\n",
              "    .dataframe tbody tr th {\n",
              "        vertical-align: top;\n",
              "    }\n",
              "\n",
              "    .dataframe thead th {\n",
              "        text-align: right;\n",
              "    }\n",
              "</style>\n",
              "<table border=\"1\" class=\"dataframe\">\n",
              "  <thead>\n",
              "    <tr style=\"text-align: right;\">\n",
              "      <th></th>\n",
              "      <th>pk_shop</th>\n",
              "      <th>date_collected</th>\n",
              "      <th>shopid</th>\n",
              "      <th>name</th>\n",
              "      <th>join_month</th>\n",
              "      <th>join_day</th>\n",
              "      <th>join_year</th>\n",
              "      <th>item_count</th>\n",
              "      <th>follower_count</th>\n",
              "      <th>response_time</th>\n",
              "      <th>response_rate</th>\n",
              "      <th>shop_location</th>\n",
              "      <th>rating_bad</th>\n",
              "      <th>rating_good</th>\n",
              "      <th>rating_normal</th>\n",
              "      <th>rating_star</th>\n",
              "      <th>is_shopee_verified</th>\n",
              "      <th>is_official_shop</th>\n",
              "    </tr>\n",
              "  </thead>\n",
              "  <tbody>\n",
              "    <tr>\n",
              "      <th>1</th>\n",
              "      <td>20210613314198143</td>\n",
              "      <td>2021-06-13</td>\n",
              "      <td>314198143</td>\n",
              "      <td>love.women.shop</td>\n",
              "      <td>September</td>\n",
              "      <td>25</td>\n",
              "      <td>2020</td>\n",
              "      <td>263</td>\n",
              "      <td>8574</td>\n",
              "      <td>10:43:05</td>\n",
              "      <td>73</td>\n",
              "      <td>San Nicolas,Metro Manila</td>\n",
              "      <td>78</td>\n",
              "      <td>2656</td>\n",
              "      <td>198</td>\n",
              "      <td>4.68</td>\n",
              "      <td>0</td>\n",
              "      <td>0</td>\n",
              "    </tr>\n",
              "    <tr>\n",
              "      <th>2</th>\n",
              "      <td>2021061310377223</td>\n",
              "      <td>2021-06-13</td>\n",
              "      <td>10377223</td>\n",
              "      <td>R&amp;O RedOrange</td>\n",
              "      <td>September</td>\n",
              "      <td>27</td>\n",
              "      <td>2016</td>\n",
              "      <td>209</td>\n",
              "      <td>660417</td>\n",
              "      <td>08:32:07</td>\n",
              "      <td>90</td>\n",
              "      <td>Pasay City,Metro Manila</td>\n",
              "      <td>4647</td>\n",
              "      <td>1071829</td>\n",
              "      <td>18073</td>\n",
              "      <td>4.91</td>\n",
              "      <td>1</td>\n",
              "      <td>0</td>\n",
              "    </tr>\n",
              "    <tr>\n",
              "      <th>3</th>\n",
              "      <td>2021061321407329</td>\n",
              "      <td>2021-06-13</td>\n",
              "      <td>21407329</td>\n",
              "      <td>patriciacai</td>\n",
              "      <td>April</td>\n",
              "      <td>30</td>\n",
              "      <td>2017</td>\n",
              "      <td>165</td>\n",
              "      <td>18787</td>\n",
              "      <td>09:10:38</td>\n",
              "      <td>94</td>\n",
              "      <td>Binondo,Metro Manila</td>\n",
              "      <td>44</td>\n",
              "      <td>18959</td>\n",
              "      <td>215</td>\n",
              "      <td>4.94</td>\n",
              "      <td>1</td>\n",
              "      <td>0</td>\n",
              "    </tr>\n",
              "    <tr>\n",
              "      <th>4</th>\n",
              "      <td>2021061311187885</td>\n",
              "      <td>2021-06-13</td>\n",
              "      <td>11187885</td>\n",
              "      <td>Little Market Manila</td>\n",
              "      <td>October</td>\n",
              "      <td>18</td>\n",
              "      <td>2016</td>\n",
              "      <td>467</td>\n",
              "      <td>67371</td>\n",
              "      <td>11:40:59</td>\n",
              "      <td>89</td>\n",
              "      <td>Caloocan City,Metro Manila</td>\n",
              "      <td>680</td>\n",
              "      <td>39252</td>\n",
              "      <td>2383</td>\n",
              "      <td>4.73</td>\n",
              "      <td>1</td>\n",
              "      <td>0</td>\n",
              "    </tr>\n",
              "    <tr>\n",
              "      <th>8</th>\n",
              "      <td>20210613312874722</td>\n",
              "      <td>2021-06-13</td>\n",
              "      <td>312874722</td>\n",
              "      <td>Shopping Center boutique</td>\n",
              "      <td>September</td>\n",
              "      <td>22</td>\n",
              "      <td>2020</td>\n",
              "      <td>286</td>\n",
              "      <td>110539</td>\n",
              "      <td>10:14:49</td>\n",
              "      <td>76</td>\n",
              "      <td>San Nicolas,Metro Manila</td>\n",
              "      <td>679</td>\n",
              "      <td>28651</td>\n",
              "      <td>2027</td>\n",
              "      <td>4.70</td>\n",
              "      <td>1</td>\n",
              "      <td>0</td>\n",
              "    </tr>\n",
              "  </tbody>\n",
              "</table>\n",
              "</div>\n",
              "      <button class=\"colab-df-convert\" onclick=\"convertToInteractive('df-dbe7ecd8-a93b-46cf-9952-87cd3a7ee6b7')\"\n",
              "              title=\"Convert this dataframe to an interactive table.\"\n",
              "              style=\"display:none;\">\n",
              "        \n",
              "  <svg xmlns=\"http://www.w3.org/2000/svg\" height=\"24px\"viewBox=\"0 0 24 24\"\n",
              "       width=\"24px\">\n",
              "    <path d=\"M0 0h24v24H0V0z\" fill=\"none\"/>\n",
              "    <path d=\"M18.56 5.44l.94 2.06.94-2.06 2.06-.94-2.06-.94-.94-2.06-.94 2.06-2.06.94zm-11 1L8.5 8.5l.94-2.06 2.06-.94-2.06-.94L8.5 2.5l-.94 2.06-2.06.94zm10 10l.94 2.06.94-2.06 2.06-.94-2.06-.94-.94-2.06-.94 2.06-2.06.94z\"/><path d=\"M17.41 7.96l-1.37-1.37c-.4-.4-.92-.59-1.43-.59-.52 0-1.04.2-1.43.59L10.3 9.45l-7.72 7.72c-.78.78-.78 2.05 0 2.83L4 21.41c.39.39.9.59 1.41.59.51 0 1.02-.2 1.41-.59l7.78-7.78 2.81-2.81c.8-.78.8-2.07 0-2.86zM5.41 20L4 18.59l7.72-7.72 1.47 1.35L5.41 20z\"/>\n",
              "  </svg>\n",
              "      </button>\n",
              "      \n",
              "  <style>\n",
              "    .colab-df-container {\n",
              "      display:flex;\n",
              "      flex-wrap:wrap;\n",
              "      gap: 12px;\n",
              "    }\n",
              "\n",
              "    .colab-df-convert {\n",
              "      background-color: #E8F0FE;\n",
              "      border: none;\n",
              "      border-radius: 50%;\n",
              "      cursor: pointer;\n",
              "      display: none;\n",
              "      fill: #1967D2;\n",
              "      height: 32px;\n",
              "      padding: 0 0 0 0;\n",
              "      width: 32px;\n",
              "    }\n",
              "\n",
              "    .colab-df-convert:hover {\n",
              "      background-color: #E2EBFA;\n",
              "      box-shadow: 0px 1px 2px rgba(60, 64, 67, 0.3), 0px 1px 3px 1px rgba(60, 64, 67, 0.15);\n",
              "      fill: #174EA6;\n",
              "    }\n",
              "\n",
              "    [theme=dark] .colab-df-convert {\n",
              "      background-color: #3B4455;\n",
              "      fill: #D2E3FC;\n",
              "    }\n",
              "\n",
              "    [theme=dark] .colab-df-convert:hover {\n",
              "      background-color: #434B5C;\n",
              "      box-shadow: 0px 1px 3px 1px rgba(0, 0, 0, 0.15);\n",
              "      filter: drop-shadow(0px 1px 2px rgba(0, 0, 0, 0.3));\n",
              "      fill: #FFFFFF;\n",
              "    }\n",
              "  </style>\n",
              "\n",
              "      <script>\n",
              "        const buttonEl =\n",
              "          document.querySelector('#df-dbe7ecd8-a93b-46cf-9952-87cd3a7ee6b7 button.colab-df-convert');\n",
              "        buttonEl.style.display =\n",
              "          google.colab.kernel.accessAllowed ? 'block' : 'none';\n",
              "\n",
              "        async function convertToInteractive(key) {\n",
              "          const element = document.querySelector('#df-dbe7ecd8-a93b-46cf-9952-87cd3a7ee6b7');\n",
              "          const dataTable =\n",
              "            await google.colab.kernel.invokeFunction('convertToInteractive',\n",
              "                                                     [key], {});\n",
              "          if (!dataTable) return;\n",
              "\n",
              "          const docLinkHtml = 'Like what you see? Visit the ' +\n",
              "            '<a target=\"_blank\" href=https://colab.research.google.com/notebooks/data_table.ipynb>data table notebook</a>'\n",
              "            + ' to learn more about interactive tables.';\n",
              "          element.innerHTML = '';\n",
              "          dataTable['output_type'] = 'display_data';\n",
              "          await google.colab.output.renderOutput(dataTable, element);\n",
              "          const docLink = document.createElement('div');\n",
              "          docLink.innerHTML = docLinkHtml;\n",
              "          element.appendChild(docLink);\n",
              "        }\n",
              "      </script>\n",
              "    </div>\n",
              "  </div>\n",
              "  "
            ]
          },
          "metadata": {},
          "execution_count": 66
        }
      ]
    },
    {
      "cell_type": "code",
      "source": [
        "df.info()"
      ],
      "metadata": {
        "colab": {
          "base_uri": "https://localhost:8080/"
        },
        "id": "J9NSlR79Zs_G",
        "outputId": "81fc2b53-03c0-4b9b-938b-b96b5455fb83"
      },
      "execution_count": 67,
      "outputs": [
        {
          "output_type": "stream",
          "name": "stdout",
          "text": [
            "<class 'pandas.core.frame.DataFrame'>\n",
            "Int64Index: 427 entries, 1 to 745\n",
            "Data columns (total 18 columns):\n",
            " #   Column              Non-Null Count  Dtype  \n",
            "---  ------              --------------  -----  \n",
            " 0   pk_shop             427 non-null    int64  \n",
            " 1   date_collected      427 non-null    object \n",
            " 2   shopid              427 non-null    int64  \n",
            " 3   name                427 non-null    object \n",
            " 4   join_month          427 non-null    object \n",
            " 5   join_day            427 non-null    int64  \n",
            " 6   join_year           427 non-null    int64  \n",
            " 7   item_count          427 non-null    int64  \n",
            " 8   follower_count      427 non-null    int64  \n",
            " 9   response_time       427 non-null    object \n",
            " 10  response_rate       427 non-null    int64  \n",
            " 11  shop_location       427 non-null    object \n",
            " 12  rating_bad          427 non-null    int64  \n",
            " 13  rating_good         427 non-null    int64  \n",
            " 14  rating_normal       427 non-null    int64  \n",
            " 15  rating_star         427 non-null    float64\n",
            " 16  is_shopee_verified  427 non-null    int64  \n",
            " 17  is_official_shop    427 non-null    int64  \n",
            "dtypes: float64(1), int64(12), object(5)\n",
            "memory usage: 63.4+ KB\n"
          ]
        }
      ]
    },
    {
      "cell_type": "markdown",
      "source": [
        "Vẽ biểu đồ:\n",
        "So sánh số lượng shop gia nhập theo các năm.\n",
        "Xu hướng của số lượng shop gia nhập theo từng tháng trong từng năm."
      ],
      "metadata": {
        "id": "6HY1xGgvZ0Oa"
      }
    },
    {
      "cell_type": "code",
      "source": [
        "df1 = df[['join_year', 'join_month', 'shopid']]"
      ],
      "metadata": {
        "id": "6P4T5F-0ZuYB"
      },
      "execution_count": 68,
      "outputs": []
    },
    {
      "cell_type": "code",
      "source": [
        "df2 = df1.groupby('join_year').count()"
      ],
      "metadata": {
        "id": "Rr2Ip5QsaGjd"
      },
      "execution_count": 69,
      "outputs": []
    },
    {
      "cell_type": "code",
      "source": [
        "df2"
      ],
      "metadata": {
        "colab": {
          "base_uri": "https://localhost:8080/",
          "height": 300
        },
        "id": "iHWfmtvIaL5v",
        "outputId": "de733bcc-b3ea-485c-8cf7-a65bedce692b"
      },
      "execution_count": 70,
      "outputs": [
        {
          "output_type": "execute_result",
          "data": {
            "text/plain": [
              "           join_month  shopid\n",
              "join_year                    \n",
              "2015                4       4\n",
              "2016               27      27\n",
              "2017              138     138\n",
              "2018               72      72\n",
              "2019               69      69\n",
              "2020               77      77\n",
              "2021               40      40"
            ],
            "text/html": [
              "\n",
              "  <div id=\"df-b010c98b-83c2-4f22-ab92-fd9bb73bdb11\">\n",
              "    <div class=\"colab-df-container\">\n",
              "      <div>\n",
              "<style scoped>\n",
              "    .dataframe tbody tr th:only-of-type {\n",
              "        vertical-align: middle;\n",
              "    }\n",
              "\n",
              "    .dataframe tbody tr th {\n",
              "        vertical-align: top;\n",
              "    }\n",
              "\n",
              "    .dataframe thead th {\n",
              "        text-align: right;\n",
              "    }\n",
              "</style>\n",
              "<table border=\"1\" class=\"dataframe\">\n",
              "  <thead>\n",
              "    <tr style=\"text-align: right;\">\n",
              "      <th></th>\n",
              "      <th>join_month</th>\n",
              "      <th>shopid</th>\n",
              "    </tr>\n",
              "    <tr>\n",
              "      <th>join_year</th>\n",
              "      <th></th>\n",
              "      <th></th>\n",
              "    </tr>\n",
              "  </thead>\n",
              "  <tbody>\n",
              "    <tr>\n",
              "      <th>2015</th>\n",
              "      <td>4</td>\n",
              "      <td>4</td>\n",
              "    </tr>\n",
              "    <tr>\n",
              "      <th>2016</th>\n",
              "      <td>27</td>\n",
              "      <td>27</td>\n",
              "    </tr>\n",
              "    <tr>\n",
              "      <th>2017</th>\n",
              "      <td>138</td>\n",
              "      <td>138</td>\n",
              "    </tr>\n",
              "    <tr>\n",
              "      <th>2018</th>\n",
              "      <td>72</td>\n",
              "      <td>72</td>\n",
              "    </tr>\n",
              "    <tr>\n",
              "      <th>2019</th>\n",
              "      <td>69</td>\n",
              "      <td>69</td>\n",
              "    </tr>\n",
              "    <tr>\n",
              "      <th>2020</th>\n",
              "      <td>77</td>\n",
              "      <td>77</td>\n",
              "    </tr>\n",
              "    <tr>\n",
              "      <th>2021</th>\n",
              "      <td>40</td>\n",
              "      <td>40</td>\n",
              "    </tr>\n",
              "  </tbody>\n",
              "</table>\n",
              "</div>\n",
              "      <button class=\"colab-df-convert\" onclick=\"convertToInteractive('df-b010c98b-83c2-4f22-ab92-fd9bb73bdb11')\"\n",
              "              title=\"Convert this dataframe to an interactive table.\"\n",
              "              style=\"display:none;\">\n",
              "        \n",
              "  <svg xmlns=\"http://www.w3.org/2000/svg\" height=\"24px\"viewBox=\"0 0 24 24\"\n",
              "       width=\"24px\">\n",
              "    <path d=\"M0 0h24v24H0V0z\" fill=\"none\"/>\n",
              "    <path d=\"M18.56 5.44l.94 2.06.94-2.06 2.06-.94-2.06-.94-.94-2.06-.94 2.06-2.06.94zm-11 1L8.5 8.5l.94-2.06 2.06-.94-2.06-.94L8.5 2.5l-.94 2.06-2.06.94zm10 10l.94 2.06.94-2.06 2.06-.94-2.06-.94-.94-2.06-.94 2.06-2.06.94z\"/><path d=\"M17.41 7.96l-1.37-1.37c-.4-.4-.92-.59-1.43-.59-.52 0-1.04.2-1.43.59L10.3 9.45l-7.72 7.72c-.78.78-.78 2.05 0 2.83L4 21.41c.39.39.9.59 1.41.59.51 0 1.02-.2 1.41-.59l7.78-7.78 2.81-2.81c.8-.78.8-2.07 0-2.86zM5.41 20L4 18.59l7.72-7.72 1.47 1.35L5.41 20z\"/>\n",
              "  </svg>\n",
              "      </button>\n",
              "      \n",
              "  <style>\n",
              "    .colab-df-container {\n",
              "      display:flex;\n",
              "      flex-wrap:wrap;\n",
              "      gap: 12px;\n",
              "    }\n",
              "\n",
              "    .colab-df-convert {\n",
              "      background-color: #E8F0FE;\n",
              "      border: none;\n",
              "      border-radius: 50%;\n",
              "      cursor: pointer;\n",
              "      display: none;\n",
              "      fill: #1967D2;\n",
              "      height: 32px;\n",
              "      padding: 0 0 0 0;\n",
              "      width: 32px;\n",
              "    }\n",
              "\n",
              "    .colab-df-convert:hover {\n",
              "      background-color: #E2EBFA;\n",
              "      box-shadow: 0px 1px 2px rgba(60, 64, 67, 0.3), 0px 1px 3px 1px rgba(60, 64, 67, 0.15);\n",
              "      fill: #174EA6;\n",
              "    }\n",
              "\n",
              "    [theme=dark] .colab-df-convert {\n",
              "      background-color: #3B4455;\n",
              "      fill: #D2E3FC;\n",
              "    }\n",
              "\n",
              "    [theme=dark] .colab-df-convert:hover {\n",
              "      background-color: #434B5C;\n",
              "      box-shadow: 0px 1px 3px 1px rgba(0, 0, 0, 0.15);\n",
              "      filter: drop-shadow(0px 1px 2px rgba(0, 0, 0, 0.3));\n",
              "      fill: #FFFFFF;\n",
              "    }\n",
              "  </style>\n",
              "\n",
              "      <script>\n",
              "        const buttonEl =\n",
              "          document.querySelector('#df-b010c98b-83c2-4f22-ab92-fd9bb73bdb11 button.colab-df-convert');\n",
              "        buttonEl.style.display =\n",
              "          google.colab.kernel.accessAllowed ? 'block' : 'none';\n",
              "\n",
              "        async function convertToInteractive(key) {\n",
              "          const element = document.querySelector('#df-b010c98b-83c2-4f22-ab92-fd9bb73bdb11');\n",
              "          const dataTable =\n",
              "            await google.colab.kernel.invokeFunction('convertToInteractive',\n",
              "                                                     [key], {});\n",
              "          if (!dataTable) return;\n",
              "\n",
              "          const docLinkHtml = 'Like what you see? Visit the ' +\n",
              "            '<a target=\"_blank\" href=https://colab.research.google.com/notebooks/data_table.ipynb>data table notebook</a>'\n",
              "            + ' to learn more about interactive tables.';\n",
              "          element.innerHTML = '';\n",
              "          dataTable['output_type'] = 'display_data';\n",
              "          await google.colab.output.renderOutput(dataTable, element);\n",
              "          const docLink = document.createElement('div');\n",
              "          docLink.innerHTML = docLinkHtml;\n",
              "          element.appendChild(docLink);\n",
              "        }\n",
              "      </script>\n",
              "    </div>\n",
              "  </div>\n",
              "  "
            ]
          },
          "metadata": {},
          "execution_count": 70
        }
      ]
    },
    {
      "cell_type": "code",
      "source": [
        "fig = plt.figure(figsize = (15, 5))\n",
        "plt.bar(df2.index, df2['shopid'], color ='maroon', width = 0.4)\n",
        " \n",
        "plt.ylabel(\"quantity\")\n",
        "plt.xlabel(\"year\")\n",
        "plt.title(\"quantity shop in year\")\n",
        "plt.show()"
      ],
      "metadata": {
        "colab": {
          "base_uri": "https://localhost:8080/",
          "height": 350
        },
        "id": "6UtVLomXaMnL",
        "outputId": "69e6d1d0-9372-4e69-ec71-120d8026b2dc"
      },
      "execution_count": 71,
      "outputs": [
        {
          "output_type": "display_data",
          "data": {
            "text/plain": [
              "<Figure size 1080x360 with 1 Axes>"
            ],
            "image/png": "[encoded data removed]"
          },
          "metadata": {
            "needs_background": "light"
          }
        }
      ]
    },
    {
      "cell_type": "code",
      "source": [
        "df3 = df[['join_year', 'join_month', 'shopid']]"
      ],
      "metadata": {
        "id": "UMCYf2OAay2t"
      },
      "execution_count": 72,
      "outputs": []
    },
    {
      "cell_type": "code",
      "source": [
        "df3 = df3.groupby(['join_year', 'join_month']).count()"
      ],
      "metadata": {
        "id": "RSlF_vtMa5YD"
      },
      "execution_count": 73,
      "outputs": []
    },
    {
      "cell_type": "code",
      "source": [
        "df3 = df3.reset_index()"
      ],
      "metadata": {
        "id": "acaLeKXFbI1Q"
      },
      "execution_count": 74,
      "outputs": []
    },
    {
      "cell_type": "code",
      "source": [
        "year = df3.join_year.unique()"
      ],
      "metadata": {
        "id": "SwgdaDW9ftZn"
      },
      "execution_count": 75,
      "outputs": []
    },
    {
      "cell_type": "code",
      "source": [
        "year"
      ],
      "metadata": {
        "colab": {
          "base_uri": "https://localhost:8080/"
        },
        "id": "2bMe74xmhK9m",
        "outputId": "c213db86-c906-4e5e-c074-e5c681a66d58"
      },
      "execution_count": 76,
      "outputs": [
        {
          "output_type": "execute_result",
          "data": {
            "text/plain": [
              "array([2015, 2016, 2017, 2018, 2019, 2020, 2021])"
            ]
          },
          "metadata": {},
          "execution_count": 76
        }
      ]
    },
    {
      "cell_type": "code",
      "source": [
        "import numpy as geek\n",
        "import numpy.ma as ma"
      ],
      "metadata": {
        "id": "yubH2DQIfJ40"
      },
      "execution_count": 77,
      "outputs": []
    },
    {
      "cell_type": "code",
      "source": [
        "year1 = ma.masked_where(year<= 2015, year)\n",
        "year2 = ma.masked_where(year<= 2016, year)\n",
        "year3 = ma.masked_where(year<= 2017, year)\n",
        "year4 = ma.masked_where(year<= 2018, year)\n",
        "year5 = ma.masked_where(year<= 2019, year)\n",
        "year6 = ma.masked_where(year<= 2020, year)\n",
        "year7 = ma.masked_where(year<= 2021, year)"
      ],
      "metadata": {
        "id": "o7jroooPg6Gy"
      },
      "execution_count": 78,
      "outputs": []
    },
    {
      "cell_type": "code",
      "source": [
        "year1"
      ],
      "metadata": {
        "colab": {
          "base_uri": "https://localhost:8080/"
        },
        "id": "C34L2gd3hFwr",
        "outputId": "690c6e6d-cba1-4fad-a439-ae03b08bc1d7"
      },
      "execution_count": 79,
      "outputs": [
        {
          "output_type": "execute_result",
          "data": {
            "text/plain": [
              "masked_array(data=[--, 2016, 2017, 2018, 2019, 2020, 2021],\n",
              "             mask=[ True, False, False, False, False, False, False],\n",
              "       fill_value=999999)"
            ]
          },
          "metadata": {},
          "execution_count": 79
        }
      ]
    },
    {
      "cell_type": "code",
      "source": [
        "fig = plt.figure(figsize = (20, 10))\n",
        "df3.plot.scatter(x='join_month',\n",
        "                      y='shopid',\n",
        "                      c='join_year',\n",
        "                      colormap='viridis')"
      ],
      "metadata": {
        "colab": {
          "base_uri": "https://localhost:8080/",
          "height": 293
        },
        "id": "QgZ69kdrbdgW",
        "outputId": "2e182e89-824f-4e94-fdbc-0867c2cbf01c"
      },
      "execution_count": 80,
      "outputs": [
        {
          "output_type": "execute_result",
          "data": {
            "text/plain": [
              "<matplotlib.axes._subplots.AxesSubplot at 0x7fe984636750>"
            ]
          },
          "metadata": {},
          "execution_count": 80
        },
        {
          "output_type": "display_data",
          "data": {
            "text/plain": [
              "<Figure size 1440x720 with 0 Axes>"
            ]
          },
          "metadata": {}
        },
        {
          "output_type": "display_data",
          "data": {
            "text/plain": [
              "<Figure size 432x288 with 2 Axes>"
            ],
            "image/png": "[encoded data removed]"
          },
          "metadata": {
            "needs_background": "light"
          }
        }
      ]
    },
    {
      "cell_type": "code",
      "source": [
        ""
      ],
      "metadata": {
        "id": "PR97VKypenyQ"
      },
      "execution_count": 80,
      "outputs": []
    }
  ]
}
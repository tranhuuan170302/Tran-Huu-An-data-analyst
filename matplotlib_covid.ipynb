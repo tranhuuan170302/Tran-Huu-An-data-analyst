{
  "nbformat": 4,
  "nbformat_minor": 0,
  "metadata": {
    "colab": {
      "name": "matplotlib_covid.ipynb",
      "provenance": [],
      "collapsed_sections": [],
      "authorship_tag": "ABX9TyNhyPFOdStyhO64508FZa3O",
      "include_colab_link": true
    },
    "kernelspec": {
      "name": "python3",
      "display_name": "Python 3"
    },
    "language_info": {
      "name": "python"
    }
  },
  "cells": [
    {
      "cell_type": "markdown",
      "metadata": {
        "id": "view-in-github",
        "colab_type": "text"
      },
      "source": [
        "<a href=\"https://colab.research.google.com/github/tranhuuan170302/Tran-Huu-An-data-analyst/blob/main/matplotlib_covid.ipynb\" target=\"_parent\"><img src=\"https://colab.research.google.com/assets/colab-badge.svg\" alt=\"Open In Colab\"/></a>"
      ]
    },
    {
      "cell_type": "code",
      "execution_count": null,
      "metadata": {
        "colab": {
          "base_uri": "https://localhost:8080/",
          "height": 206
        },
        "id": "3HWKmm2QGtsw",
        "outputId": "99647dc6-c194-4b57-e3fa-9170879db3e3"
      },
      "outputs": [
        {
          "output_type": "execute_result",
          "data": {
            "text/html": [
              "\n",
              "  <div id=\"df-e53cbf41-30aa-4694-9782-fccffda0867b\">\n",
              "    <div class=\"colab-df-container\">\n",
              "      <div>\n",
              "<style scoped>\n",
              "    .dataframe tbody tr th:only-of-type {\n",
              "        vertical-align: middle;\n",
              "    }\n",
              "\n",
              "    .dataframe tbody tr th {\n",
              "        vertical-align: top;\n",
              "    }\n",
              "\n",
              "    .dataframe thead th {\n",
              "        text-align: right;\n",
              "    }\n",
              "</style>\n",
              "<table border=\"1\" class=\"dataframe\">\n",
              "  <thead>\n",
              "    <tr style=\"text-align: right;\">\n",
              "      <th></th>\n",
              "      <th>country</th>\n",
              "      <th>continent</th>\n",
              "      <th>date</th>\n",
              "      <th>day</th>\n",
              "      <th>month</th>\n",
              "      <th>year</th>\n",
              "      <th>cases</th>\n",
              "      <th>deaths</th>\n",
              "      <th>country_code</th>\n",
              "      <th>population</th>\n",
              "    </tr>\n",
              "  </thead>\n",
              "  <tbody>\n",
              "    <tr>\n",
              "      <th>0</th>\n",
              "      <td>Afghanistan</td>\n",
              "      <td>Asia</td>\n",
              "      <td>2020-04-12</td>\n",
              "      <td>12</td>\n",
              "      <td>4</td>\n",
              "      <td>2020</td>\n",
              "      <td>34</td>\n",
              "      <td>3</td>\n",
              "      <td>AFG</td>\n",
              "      <td>37172386.0</td>\n",
              "    </tr>\n",
              "    <tr>\n",
              "      <th>1</th>\n",
              "      <td>Albania</td>\n",
              "      <td>Europe</td>\n",
              "      <td>2020-04-12</td>\n",
              "      <td>12</td>\n",
              "      <td>4</td>\n",
              "      <td>2020</td>\n",
              "      <td>17</td>\n",
              "      <td>0</td>\n",
              "      <td>ALB</td>\n",
              "      <td>2866376.0</td>\n",
              "    </tr>\n",
              "    <tr>\n",
              "      <th>2</th>\n",
              "      <td>Algeria</td>\n",
              "      <td>Africa</td>\n",
              "      <td>2020-04-12</td>\n",
              "      <td>12</td>\n",
              "      <td>4</td>\n",
              "      <td>2020</td>\n",
              "      <td>64</td>\n",
              "      <td>19</td>\n",
              "      <td>DZA</td>\n",
              "      <td>42228429.0</td>\n",
              "    </tr>\n",
              "    <tr>\n",
              "      <th>3</th>\n",
              "      <td>Andorra</td>\n",
              "      <td>Europe</td>\n",
              "      <td>2020-04-12</td>\n",
              "      <td>12</td>\n",
              "      <td>4</td>\n",
              "      <td>2020</td>\n",
              "      <td>21</td>\n",
              "      <td>2</td>\n",
              "      <td>AND</td>\n",
              "      <td>77006.0</td>\n",
              "    </tr>\n",
              "    <tr>\n",
              "      <th>4</th>\n",
              "      <td>Angola</td>\n",
              "      <td>Africa</td>\n",
              "      <td>2020-04-12</td>\n",
              "      <td>12</td>\n",
              "      <td>4</td>\n",
              "      <td>2020</td>\n",
              "      <td>0</td>\n",
              "      <td>0</td>\n",
              "      <td>AGO</td>\n",
              "      <td>30809762.0</td>\n",
              "    </tr>\n",
              "  </tbody>\n",
              "</table>\n",
              "</div>\n",
              "      <button class=\"colab-df-convert\" onclick=\"convertToInteractive('df-e53cbf41-30aa-4694-9782-fccffda0867b')\"\n",
              "              title=\"Convert this dataframe to an interactive table.\"\n",
              "              style=\"display:none;\">\n",
              "        \n",
              "  <svg xmlns=\"http://www.w3.org/2000/svg\" height=\"24px\"viewBox=\"0 0 24 24\"\n",
              "       width=\"24px\">\n",
              "    <path d=\"M0 0h24v24H0V0z\" fill=\"none\"/>\n",
              "    <path d=\"M18.56 5.44l.94 2.06.94-2.06 2.06-.94-2.06-.94-.94-2.06-.94 2.06-2.06.94zm-11 1L8.5 8.5l.94-2.06 2.06-.94-2.06-.94L8.5 2.5l-.94 2.06-2.06.94zm10 10l.94 2.06.94-2.06 2.06-.94-2.06-.94-.94-2.06-.94 2.06-2.06.94z\"/><path d=\"M17.41 7.96l-1.37-1.37c-.4-.4-.92-.59-1.43-.59-.52 0-1.04.2-1.43.59L10.3 9.45l-7.72 7.72c-.78.78-.78 2.05 0 2.83L4 21.41c.39.39.9.59 1.41.59.51 0 1.02-.2 1.41-.59l7.78-7.78 2.81-2.81c.8-.78.8-2.07 0-2.86zM5.41 20L4 18.59l7.72-7.72 1.47 1.35L5.41 20z\"/>\n",
              "  </svg>\n",
              "      </button>\n",
              "      \n",
              "  <style>\n",
              "    .colab-df-container {\n",
              "      display:flex;\n",
              "      flex-wrap:wrap;\n",
              "      gap: 12px;\n",
              "    }\n",
              "\n",
              "    .colab-df-convert {\n",
              "      background-color: #E8F0FE;\n",
              "      border: none;\n",
              "      border-radius: 50%;\n",
              "      cursor: pointer;\n",
              "      display: none;\n",
              "      fill: #1967D2;\n",
              "      height: 32px;\n",
              "      padding: 0 0 0 0;\n",
              "      width: 32px;\n",
              "    }\n",
              "\n",
              "    .colab-df-convert:hover {\n",
              "      background-color: #E2EBFA;\n",
              "      box-shadow: 0px 1px 2px rgba(60, 64, 67, 0.3), 0px 1px 3px 1px rgba(60, 64, 67, 0.15);\n",
              "      fill: #174EA6;\n",
              "    }\n",
              "\n",
              "    [theme=dark] .colab-df-convert {\n",
              "      background-color: #3B4455;\n",
              "      fill: #D2E3FC;\n",
              "    }\n",
              "\n",
              "    [theme=dark] .colab-df-convert:hover {\n",
              "      background-color: #434B5C;\n",
              "      box-shadow: 0px 1px 3px 1px rgba(0, 0, 0, 0.15);\n",
              "      filter: drop-shadow(0px 1px 2px rgba(0, 0, 0, 0.3));\n",
              "      fill: #FFFFFF;\n",
              "    }\n",
              "  </style>\n",
              "\n",
              "      <script>\n",
              "        const buttonEl =\n",
              "          document.querySelector('#df-e53cbf41-30aa-4694-9782-fccffda0867b button.colab-df-convert');\n",
              "        buttonEl.style.display =\n",
              "          google.colab.kernel.accessAllowed ? 'block' : 'none';\n",
              "\n",
              "        async function convertToInteractive(key) {\n",
              "          const element = document.querySelector('#df-e53cbf41-30aa-4694-9782-fccffda0867b');\n",
              "          const dataTable =\n",
              "            await google.colab.kernel.invokeFunction('convertToInteractive',\n",
              "                                                     [key], {});\n",
              "          if (!dataTable) return;\n",
              "\n",
              "          const docLinkHtml = 'Like what you see? Visit the ' +\n",
              "            '<a target=\"_blank\" href=https://colab.research.google.com/notebooks/data_table.ipynb>data table notebook</a>'\n",
              "            + ' to learn more about interactive tables.';\n",
              "          element.innerHTML = '';\n",
              "          dataTable['output_type'] = 'display_data';\n",
              "          await google.colab.output.renderOutput(dataTable, element);\n",
              "          const docLink = document.createElement('div');\n",
              "          docLink.innerHTML = docLinkHtml;\n",
              "          element.appendChild(docLink);\n",
              "        }\n",
              "      </script>\n",
              "    </div>\n",
              "  </div>\n",
              "  "
            ],
            "text/plain": [
              "       country continent        date  ...  deaths  country_code  population\n",
              "0  Afghanistan      Asia  2020-04-12  ...       3           AFG  37172386.0\n",
              "1      Albania    Europe  2020-04-12  ...       0           ALB   2866376.0\n",
              "2      Algeria    Africa  2020-04-12  ...      19           DZA  42228429.0\n",
              "3      Andorra    Europe  2020-04-12  ...       2           AND     77006.0\n",
              "4       Angola    Africa  2020-04-12  ...       0           AGO  30809762.0\n",
              "\n",
              "[5 rows x 10 columns]"
            ]
          },
          "metadata": {},
          "execution_count": 9
        }
      ],
      "source": [
        "import pandas as pd\n",
        "import matplotlib.pyplot as plt\n",
        "import numpy as np\n",
        "\n",
        "df = pd.read_csv(\"/subset-covid-data (1).csv\", encoding= \"UTF-8\")\n",
        "df.head(5)"
      ]
    },
    {
      "cell_type": "code",
      "source": [
        "from google.colab import drive\n",
        "drive.mount('/content/drive')"
      ],
      "metadata": {
        "id": "26NkDKog8VrG"
      },
      "execution_count": null,
      "outputs": []
    },
    {
      "cell_type": "markdown",
      "source": [
        "# quan sát các thuộc tính\n"
      ],
      "metadata": {
        "id": "lrRKruP4HmTq"
      }
    },
    {
      "cell_type": "code",
      "source": [
        "df.info()"
      ],
      "metadata": {
        "colab": {
          "base_uri": "https://localhost:8080/"
        },
        "id": "p903_3SZHrzw",
        "outputId": "626acc7c-6268-4820-e88c-d51bbc437312"
      },
      "execution_count": null,
      "outputs": [
        {
          "output_type": "stream",
          "name": "stdout",
          "text": [
            "<class 'pandas.core.frame.DataFrame'>\n",
            "RangeIndex: 206 entries, 0 to 205\n",
            "Data columns (total 10 columns):\n",
            " #   Column        Non-Null Count  Dtype  \n",
            "---  ------        --------------  -----  \n",
            " 0   country       206 non-null    object \n",
            " 1   continent     206 non-null    object \n",
            " 2   date          206 non-null    object \n",
            " 3   day           206 non-null    int64  \n",
            " 4   month         206 non-null    int64  \n",
            " 5   year          206 non-null    int64  \n",
            " 6   cases         206 non-null    int64  \n",
            " 7   deaths        206 non-null    int64  \n",
            " 8   country_code  202 non-null    object \n",
            " 9   population    202 non-null    float64\n",
            "dtypes: float64(1), int64(5), object(4)\n",
            "memory usage: 16.2+ KB\n"
          ]
        }
      ]
    },
    {
      "cell_type": "markdown",
      "source": [
        "#3.1 . Liệu các quốc gia có số lượng ca mắc mới trong ngày 12-4-2020 giống nhau hay không"
      ],
      "metadata": {
        "id": "aSbfBae-Hy2B"
      }
    },
    {
      "cell_type": "code",
      "source": [
        "print(\"các ngày bị mắc bệnh:\", df.date.unique())\n",
        "print(\"số lượng ca mắc trong ngày 2020-04-12 là: \", str(len(df[df.date == \"2020-04-12\"])))"
      ],
      "metadata": {
        "colab": {
          "base_uri": "https://localhost:8080/"
        },
        "id": "UIi0i5qWH1r5",
        "outputId": "b45184dc-244a-45bf-9354-b0dcdaab2818"
      },
      "execution_count": null,
      "outputs": [
        {
          "output_type": "stream",
          "name": "stdout",
          "text": [
            "các ngày bị mắc bệnh: ['2020-04-12' '2020-01-18' '2020-04-11']\n",
            "số lượng ca mắc trong ngày 2020-04-12 là:  204\n"
          ]
        }
      ]
    },
    {
      "cell_type": "markdown",
      "source": [
        "#3.2 Tổng số lượng người mắc bệnh của từng châu lục"
      ],
      "metadata": {
        "id": "BVFo508yIsRn"
      }
    },
    {
      "cell_type": "code",
      "source": [
        "print(\"tổng số người mắc bệnh của tùng châu lục là: \\n\", str(df.groupby(\"continent\")[\"cases\"].sum()))"
      ],
      "metadata": {
        "colab": {
          "base_uri": "https://localhost:8080/"
        },
        "id": "TJ-k5o3cIxpB",
        "outputId": "a87a9e66-595a-4ef6-d78c-323350d12242"
      },
      "execution_count": null,
      "outputs": [
        {
          "output_type": "stream",
          "name": "stdout",
          "text": [
            "tổng số người mắc bệnh của tùng châu lục là continent\n",
            "Africa       714\n",
            "America    33519\n",
            "Asia       12979\n",
            "Europe     34141\n",
            "Oceania       68\n",
            "Other          0\n",
            "Name: cases, dtype: int64\n"
          ]
        }
      ]
    },
    {
      "cell_type": "markdown",
      "source": [
        "# 3.3 sô ca tử vong và mắc bệnh của các quốc gia\n"
      ],
      "metadata": {
        "id": "f955yvX2KHan"
      }
    },
    {
      "cell_type": "markdown",
      "source": [
        ""
      ],
      "metadata": {
        "id": "LiOEttDWKSmv"
      }
    },
    {
      "cell_type": "code",
      "source": [
        "data_casesAndDeaths = df.groupby('country')[[\"cases\", \"deaths\"]].sum()\n",
        "\n",
        "print(data_casesAndDeaths.head(10))"
      ],
      "metadata": {
        "colab": {
          "base_uri": "https://localhost:8080/"
        },
        "id": "vW-5hA7KKXUh",
        "outputId": "f0726f0a-a32f-483c-f84a-348b65846716"
      },
      "execution_count": null,
      "outputs": [
        {
          "output_type": "stream",
          "name": "stdout",
          "text": [
            "                     cases  deaths\n",
            "country                           \n",
            "Afghanistan             34       3\n",
            "Albania                 17       0\n",
            "Algeria                 64      19\n",
            "Andorra                 21       2\n",
            "Angola                   0       0\n",
            "Anguilla                 0       0\n",
            "Antigua_and_Barbuda      0       0\n",
            "Argentina              162       7\n",
            "Armenia                 30       2\n",
            "Aruba                    6       0\n"
          ]
        }
      ]
    },
    {
      "cell_type": "markdown",
      "source": [
        "# top 5 số ca mắc bệnh nhiều nhất thế giới\n"
      ],
      "metadata": {
        "id": "kynBZAunhIxP"
      }
    },
    {
      "cell_type": "code",
      "source": [
        "df.sort_values(\"cases\", ascending= False).head(5)\n"
      ],
      "metadata": {
        "colab": {
          "base_uri": "https://localhost:8080/",
          "height": 206
        },
        "id": "yvyeaZw0hS5m",
        "outputId": "84c45383-5600-4ecc-ccb8-c4153f2f8c8b"
      },
      "execution_count": null,
      "outputs": [
        {
          "output_type": "execute_result",
          "data": {
            "text/html": [
              "\n",
              "  <div id=\"df-ef396921-d422-4269-90e3-a047c5853a06\">\n",
              "    <div class=\"colab-df-container\">\n",
              "      <div>\n",
              "<style scoped>\n",
              "    .dataframe tbody tr th:only-of-type {\n",
              "        vertical-align: middle;\n",
              "    }\n",
              "\n",
              "    .dataframe tbody tr th {\n",
              "        vertical-align: top;\n",
              "    }\n",
              "\n",
              "    .dataframe thead th {\n",
              "        text-align: right;\n",
              "    }\n",
              "</style>\n",
              "<table border=\"1\" class=\"dataframe\">\n",
              "  <thead>\n",
              "    <tr style=\"text-align: right;\">\n",
              "      <th></th>\n",
              "      <th>country</th>\n",
              "      <th>continent</th>\n",
              "      <th>date</th>\n",
              "      <th>day</th>\n",
              "      <th>month</th>\n",
              "      <th>year</th>\n",
              "      <th>cases</th>\n",
              "      <th>deaths</th>\n",
              "      <th>country_code</th>\n",
              "      <th>population</th>\n",
              "    </tr>\n",
              "  </thead>\n",
              "  <tbody>\n",
              "    <tr>\n",
              "      <th>198</th>\n",
              "      <td>United_States_of_America</td>\n",
              "      <td>America</td>\n",
              "      <td>2020-04-12</td>\n",
              "      <td>12</td>\n",
              "      <td>4</td>\n",
              "      <td>2020</td>\n",
              "      <td>28391</td>\n",
              "      <td>1831</td>\n",
              "      <td>USA</td>\n",
              "      <td>327167434.0</td>\n",
              "    </tr>\n",
              "    <tr>\n",
              "      <th>195</th>\n",
              "      <td>United_Kingdom</td>\n",
              "      <td>Europe</td>\n",
              "      <td>2020-04-12</td>\n",
              "      <td>12</td>\n",
              "      <td>4</td>\n",
              "      <td>2020</td>\n",
              "      <td>8719</td>\n",
              "      <td>839</td>\n",
              "      <td>GBR</td>\n",
              "      <td>66488991.0</td>\n",
              "    </tr>\n",
              "    <tr>\n",
              "      <th>190</th>\n",
              "      <td>Turkey</td>\n",
              "      <td>Asia</td>\n",
              "      <td>2020-04-12</td>\n",
              "      <td>12</td>\n",
              "      <td>4</td>\n",
              "      <td>2020</td>\n",
              "      <td>5138</td>\n",
              "      <td>95</td>\n",
              "      <td>TUR</td>\n",
              "      <td>82319724.0</td>\n",
              "    </tr>\n",
              "    <tr>\n",
              "      <th>98</th>\n",
              "      <td>Italy</td>\n",
              "      <td>Europe</td>\n",
              "      <td>2020-04-12</td>\n",
              "      <td>12</td>\n",
              "      <td>4</td>\n",
              "      <td>2020</td>\n",
              "      <td>4694</td>\n",
              "      <td>619</td>\n",
              "      <td>ITA</td>\n",
              "      <td>60431283.0</td>\n",
              "    </tr>\n",
              "    <tr>\n",
              "      <th>177</th>\n",
              "      <td>Spain</td>\n",
              "      <td>Europe</td>\n",
              "      <td>2020-04-11</td>\n",
              "      <td>11</td>\n",
              "      <td>4</td>\n",
              "      <td>2020</td>\n",
              "      <td>4550</td>\n",
              "      <td>605</td>\n",
              "      <td>ESP</td>\n",
              "      <td>46723749.0</td>\n",
              "    </tr>\n",
              "  </tbody>\n",
              "</table>\n",
              "</div>\n",
              "      <button class=\"colab-df-convert\" onclick=\"convertToInteractive('df-ef396921-d422-4269-90e3-a047c5853a06')\"\n",
              "              title=\"Convert this dataframe to an interactive table.\"\n",
              "              style=\"display:none;\">\n",
              "        \n",
              "  <svg xmlns=\"http://www.w3.org/2000/svg\" height=\"24px\"viewBox=\"0 0 24 24\"\n",
              "       width=\"24px\">\n",
              "    <path d=\"M0 0h24v24H0V0z\" fill=\"none\"/>\n",
              "    <path d=\"M18.56 5.44l.94 2.06.94-2.06 2.06-.94-2.06-.94-.94-2.06-.94 2.06-2.06.94zm-11 1L8.5 8.5l.94-2.06 2.06-.94-2.06-.94L8.5 2.5l-.94 2.06-2.06.94zm10 10l.94 2.06.94-2.06 2.06-.94-2.06-.94-.94-2.06-.94 2.06-2.06.94z\"/><path d=\"M17.41 7.96l-1.37-1.37c-.4-.4-.92-.59-1.43-.59-.52 0-1.04.2-1.43.59L10.3 9.45l-7.72 7.72c-.78.78-.78 2.05 0 2.83L4 21.41c.39.39.9.59 1.41.59.51 0 1.02-.2 1.41-.59l7.78-7.78 2.81-2.81c.8-.78.8-2.07 0-2.86zM5.41 20L4 18.59l7.72-7.72 1.47 1.35L5.41 20z\"/>\n",
              "  </svg>\n",
              "      </button>\n",
              "      \n",
              "  <style>\n",
              "    .colab-df-container {\n",
              "      display:flex;\n",
              "      flex-wrap:wrap;\n",
              "      gap: 12px;\n",
              "    }\n",
              "\n",
              "    .colab-df-convert {\n",
              "      background-color: #E8F0FE;\n",
              "      border: none;\n",
              "      border-radius: 50%;\n",
              "      cursor: pointer;\n",
              "      display: none;\n",
              "      fill: #1967D2;\n",
              "      height: 32px;\n",
              "      padding: 0 0 0 0;\n",
              "      width: 32px;\n",
              "    }\n",
              "\n",
              "    .colab-df-convert:hover {\n",
              "      background-color: #E2EBFA;\n",
              "      box-shadow: 0px 1px 2px rgba(60, 64, 67, 0.3), 0px 1px 3px 1px rgba(60, 64, 67, 0.15);\n",
              "      fill: #174EA6;\n",
              "    }\n",
              "\n",
              "    [theme=dark] .colab-df-convert {\n",
              "      background-color: #3B4455;\n",
              "      fill: #D2E3FC;\n",
              "    }\n",
              "\n",
              "    [theme=dark] .colab-df-convert:hover {\n",
              "      background-color: #434B5C;\n",
              "      box-shadow: 0px 1px 3px 1px rgba(0, 0, 0, 0.15);\n",
              "      filter: drop-shadow(0px 1px 2px rgba(0, 0, 0, 0.3));\n",
              "      fill: #FFFFFF;\n",
              "    }\n",
              "  </style>\n",
              "\n",
              "      <script>\n",
              "        const buttonEl =\n",
              "          document.querySelector('#df-ef396921-d422-4269-90e3-a047c5853a06 button.colab-df-convert');\n",
              "        buttonEl.style.display =\n",
              "          google.colab.kernel.accessAllowed ? 'block' : 'none';\n",
              "\n",
              "        async function convertToInteractive(key) {\n",
              "          const element = document.querySelector('#df-ef396921-d422-4269-90e3-a047c5853a06');\n",
              "          const dataTable =\n",
              "            await google.colab.kernel.invokeFunction('convertToInteractive',\n",
              "                                                     [key], {});\n",
              "          if (!dataTable) return;\n",
              "\n",
              "          const docLinkHtml = 'Like what you see? Visit the ' +\n",
              "            '<a target=\"_blank\" href=https://colab.research.google.com/notebooks/data_table.ipynb>data table notebook</a>'\n",
              "            + ' to learn more about interactive tables.';\n",
              "          element.innerHTML = '';\n",
              "          dataTable['output_type'] = 'display_data';\n",
              "          await google.colab.output.renderOutput(dataTable, element);\n",
              "          const docLink = document.createElement('div');\n",
              "          docLink.innerHTML = docLinkHtml;\n",
              "          element.appendChild(docLink);\n",
              "        }\n",
              "      </script>\n",
              "    </div>\n",
              "  </div>\n",
              "  "
            ],
            "text/plain": [
              "                      country continent  ... country_code   population\n",
              "198  United_States_of_America   America  ...          USA  327167434.0\n",
              "195            United_Kingdom    Europe  ...          GBR   66488991.0\n",
              "190                    Turkey      Asia  ...          TUR   82319724.0\n",
              "98                      Italy    Europe  ...          ITA   60431283.0\n",
              "177                     Spain    Europe  ...          ESP   46723749.0\n",
              "\n",
              "[5 rows x 10 columns]"
            ]
          },
          "metadata": {},
          "execution_count": 47
        }
      ]
    },
    {
      "cell_type": "markdown",
      "source": [
        "# top 5 quốc gia có số người tử vong nhiều nhất"
      ],
      "metadata": {
        "id": "9St9lhCwhyaR"
      }
    },
    {
      "cell_type": "code",
      "source": [
        "df.sort_values(\"deaths\", ascending= False).head(5)"
      ],
      "metadata": {
        "colab": {
          "base_uri": "https://localhost:8080/",
          "height": 206
        },
        "id": "nOURQueLh7V5",
        "outputId": "bb5d7b46-dc35-4d39-d44d-e8e1bcec6190"
      },
      "execution_count": null,
      "outputs": [
        {
          "output_type": "execute_result",
          "data": {
            "text/html": [
              "\n",
              "  <div id=\"df-3b1a782d-662d-4314-8202-bd3a5a0aa9a6\">\n",
              "    <div class=\"colab-df-container\">\n",
              "      <div>\n",
              "<style scoped>\n",
              "    .dataframe tbody tr th:only-of-type {\n",
              "        vertical-align: middle;\n",
              "    }\n",
              "\n",
              "    .dataframe tbody tr th {\n",
              "        vertical-align: top;\n",
              "    }\n",
              "\n",
              "    .dataframe thead th {\n",
              "        text-align: right;\n",
              "    }\n",
              "</style>\n",
              "<table border=\"1\" class=\"dataframe\">\n",
              "  <thead>\n",
              "    <tr style=\"text-align: right;\">\n",
              "      <th></th>\n",
              "      <th>country</th>\n",
              "      <th>continent</th>\n",
              "      <th>date</th>\n",
              "      <th>day</th>\n",
              "      <th>month</th>\n",
              "      <th>year</th>\n",
              "      <th>cases</th>\n",
              "      <th>deaths</th>\n",
              "      <th>country_code</th>\n",
              "      <th>population</th>\n",
              "    </tr>\n",
              "  </thead>\n",
              "  <tbody>\n",
              "    <tr>\n",
              "      <th>198</th>\n",
              "      <td>United_States_of_America</td>\n",
              "      <td>America</td>\n",
              "      <td>2020-04-12</td>\n",
              "      <td>12</td>\n",
              "      <td>4</td>\n",
              "      <td>2020</td>\n",
              "      <td>28391</td>\n",
              "      <td>1831</td>\n",
              "      <td>USA</td>\n",
              "      <td>327167434.0</td>\n",
              "    </tr>\n",
              "    <tr>\n",
              "      <th>195</th>\n",
              "      <td>United_Kingdom</td>\n",
              "      <td>Europe</td>\n",
              "      <td>2020-04-12</td>\n",
              "      <td>12</td>\n",
              "      <td>4</td>\n",
              "      <td>2020</td>\n",
              "      <td>8719</td>\n",
              "      <td>839</td>\n",
              "      <td>GBR</td>\n",
              "      <td>66488991.0</td>\n",
              "    </tr>\n",
              "    <tr>\n",
              "      <th>69</th>\n",
              "      <td>France</td>\n",
              "      <td>Europe</td>\n",
              "      <td>2020-04-12</td>\n",
              "      <td>12</td>\n",
              "      <td>4</td>\n",
              "      <td>2020</td>\n",
              "      <td>3114</td>\n",
              "      <td>635</td>\n",
              "      <td>FRA</td>\n",
              "      <td>66987244.0</td>\n",
              "    </tr>\n",
              "    <tr>\n",
              "      <th>98</th>\n",
              "      <td>Italy</td>\n",
              "      <td>Europe</td>\n",
              "      <td>2020-04-12</td>\n",
              "      <td>12</td>\n",
              "      <td>4</td>\n",
              "      <td>2020</td>\n",
              "      <td>4694</td>\n",
              "      <td>619</td>\n",
              "      <td>ITA</td>\n",
              "      <td>60431283.0</td>\n",
              "    </tr>\n",
              "    <tr>\n",
              "      <th>177</th>\n",
              "      <td>Spain</td>\n",
              "      <td>Europe</td>\n",
              "      <td>2020-04-11</td>\n",
              "      <td>11</td>\n",
              "      <td>4</td>\n",
              "      <td>2020</td>\n",
              "      <td>4550</td>\n",
              "      <td>605</td>\n",
              "      <td>ESP</td>\n",
              "      <td>46723749.0</td>\n",
              "    </tr>\n",
              "  </tbody>\n",
              "</table>\n",
              "</div>\n",
              "      <button class=\"colab-df-convert\" onclick=\"convertToInteractive('df-3b1a782d-662d-4314-8202-bd3a5a0aa9a6')\"\n",
              "              title=\"Convert this dataframe to an interactive table.\"\n",
              "              style=\"display:none;\">\n",
              "        \n",
              "  <svg xmlns=\"http://www.w3.org/2000/svg\" height=\"24px\"viewBox=\"0 0 24 24\"\n",
              "       width=\"24px\">\n",
              "    <path d=\"M0 0h24v24H0V0z\" fill=\"none\"/>\n",
              "    <path d=\"M18.56 5.44l.94 2.06.94-2.06 2.06-.94-2.06-.94-.94-2.06-.94 2.06-2.06.94zm-11 1L8.5 8.5l.94-2.06 2.06-.94-2.06-.94L8.5 2.5l-.94 2.06-2.06.94zm10 10l.94 2.06.94-2.06 2.06-.94-2.06-.94-.94-2.06-.94 2.06-2.06.94z\"/><path d=\"M17.41 7.96l-1.37-1.37c-.4-.4-.92-.59-1.43-.59-.52 0-1.04.2-1.43.59L10.3 9.45l-7.72 7.72c-.78.78-.78 2.05 0 2.83L4 21.41c.39.39.9.59 1.41.59.51 0 1.02-.2 1.41-.59l7.78-7.78 2.81-2.81c.8-.78.8-2.07 0-2.86zM5.41 20L4 18.59l7.72-7.72 1.47 1.35L5.41 20z\"/>\n",
              "  </svg>\n",
              "      </button>\n",
              "      \n",
              "  <style>\n",
              "    .colab-df-container {\n",
              "      display:flex;\n",
              "      flex-wrap:wrap;\n",
              "      gap: 12px;\n",
              "    }\n",
              "\n",
              "    .colab-df-convert {\n",
              "      background-color: #E8F0FE;\n",
              "      border: none;\n",
              "      border-radius: 50%;\n",
              "      cursor: pointer;\n",
              "      display: none;\n",
              "      fill: #1967D2;\n",
              "      height: 32px;\n",
              "      padding: 0 0 0 0;\n",
              "      width: 32px;\n",
              "    }\n",
              "\n",
              "    .colab-df-convert:hover {\n",
              "      background-color: #E2EBFA;\n",
              "      box-shadow: 0px 1px 2px rgba(60, 64, 67, 0.3), 0px 1px 3px 1px rgba(60, 64, 67, 0.15);\n",
              "      fill: #174EA6;\n",
              "    }\n",
              "\n",
              "    [theme=dark] .colab-df-convert {\n",
              "      background-color: #3B4455;\n",
              "      fill: #D2E3FC;\n",
              "    }\n",
              "\n",
              "    [theme=dark] .colab-df-convert:hover {\n",
              "      background-color: #434B5C;\n",
              "      box-shadow: 0px 1px 3px 1px rgba(0, 0, 0, 0.15);\n",
              "      filter: drop-shadow(0px 1px 2px rgba(0, 0, 0, 0.3));\n",
              "      fill: #FFFFFF;\n",
              "    }\n",
              "  </style>\n",
              "\n",
              "      <script>\n",
              "        const buttonEl =\n",
              "          document.querySelector('#df-3b1a782d-662d-4314-8202-bd3a5a0aa9a6 button.colab-df-convert');\n",
              "        buttonEl.style.display =\n",
              "          google.colab.kernel.accessAllowed ? 'block' : 'none';\n",
              "\n",
              "        async function convertToInteractive(key) {\n",
              "          const element = document.querySelector('#df-3b1a782d-662d-4314-8202-bd3a5a0aa9a6');\n",
              "          const dataTable =\n",
              "            await google.colab.kernel.invokeFunction('convertToInteractive',\n",
              "                                                     [key], {});\n",
              "          if (!dataTable) return;\n",
              "\n",
              "          const docLinkHtml = 'Like what you see? Visit the ' +\n",
              "            '<a target=\"_blank\" href=https://colab.research.google.com/notebooks/data_table.ipynb>data table notebook</a>'\n",
              "            + ' to learn more about interactive tables.';\n",
              "          element.innerHTML = '';\n",
              "          dataTable['output_type'] = 'display_data';\n",
              "          await google.colab.output.renderOutput(dataTable, element);\n",
              "          const docLink = document.createElement('div');\n",
              "          docLink.innerHTML = docLinkHtml;\n",
              "          element.appendChild(docLink);\n",
              "        }\n",
              "      </script>\n",
              "    </div>\n",
              "  </div>\n",
              "  "
            ],
            "text/plain": [
              "                      country continent  ... country_code   population\n",
              "198  United_States_of_America   America  ...          USA  327167434.0\n",
              "195            United_Kingdom    Europe  ...          GBR   66488991.0\n",
              "69                     France    Europe  ...          FRA   66987244.0\n",
              "98                      Italy    Europe  ...          ITA   60431283.0\n",
              "177                     Spain    Europe  ...          ESP   46723749.0\n",
              "\n",
              "[5 rows x 10 columns]"
            ]
          },
          "metadata": {},
          "execution_count": 48
        }
      ]
    },
    {
      "cell_type": "markdown",
      "source": [
        "# vẽ biểu đồ các quốc gia biểu diễn số ca bênh của 10 quốc gia\n"
      ],
      "metadata": {
        "id": "z1KYpt7niOmH"
      }
    },
    {
      "cell_type": "code",
      "source": [
        "top10 = df.head(10)\n",
        "name_country = top10['country']\n",
        "plt.bar( name_country, top10['cases'])\n",
        "plt.xticks(rotation = 90)\n",
        "plt.show()\n"
      ],
      "metadata": {
        "colab": {
          "base_uri": "https://localhost:8080/",
          "height": 365
        },
        "id": "_FreEW1zixRx",
        "outputId": "98c384ff-2d3d-44cf-d667-80d6b9ff4adc"
      },
      "execution_count": null,
      "outputs": [
        {
          "output_type": "display_data",
          "data": {
            "image/png": "[encoded data removed]",
            "text/plain": [
              "<Figure size 432x288 with 1 Axes>"
            ]
          },
          "metadata": {
            "needs_background": "light"
          }
        }
      ]
    }
  ]
}
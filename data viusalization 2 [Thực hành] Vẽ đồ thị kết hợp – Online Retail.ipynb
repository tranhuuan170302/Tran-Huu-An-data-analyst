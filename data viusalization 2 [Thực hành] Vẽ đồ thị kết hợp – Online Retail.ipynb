{
 "cells": [
  {
   "cell_type": "markdown",
   "id": "b569d809",
   "metadata": {},
   "source": [
    "# import library"
   ]
  },
  {
   "cell_type": "code",
   "execution_count": 143,
   "id": "cad78d7c",
   "metadata": {},
   "outputs": [],
   "source": [
    "import pandas as pd\n",
    "import matplotlib.pyplot as plt\n",
    "import seaborn as sns\n",
    "import datetime as dt"
   ]
  },
  {
   "cell_type": "markdown",
   "id": "9db8d50b",
   "metadata": {},
   "source": [
    "# read file"
   ]
  },
  {
   "cell_type": "code",
   "execution_count": 144,
   "id": "2a2b820a",
   "metadata": {},
   "outputs": [],
   "source": [
    "df = pd.read_csv(\"C:\\\\Users\\\\FPTSHOP\\\\Downloads\\\\OnlineRetail(1).csv\", encoding= 'unicode_escape')"
   ]
  },
  {
   "cell_type": "code",
   "execution_count": 145,
   "id": "26cd615f",
   "metadata": {},
   "outputs": [
    {
     "name": "stdout",
     "output_type": "stream",
     "text": [
      "<class 'pandas.core.frame.DataFrame'>\n",
      "RangeIndex: 541909 entries, 0 to 541908\n",
      "Data columns (total 8 columns):\n",
      " #   Column       Non-Null Count   Dtype  \n",
      "---  ------       --------------   -----  \n",
      " 0   InvoiceNo    541909 non-null  object \n",
      " 1   StockCode    541909 non-null  object \n",
      " 2   Description  540455 non-null  object \n",
      " 3   Quantity     541909 non-null  int64  \n",
      " 4   InvoiceDate  541909 non-null  object \n",
      " 5   UnitPrice    541909 non-null  float64\n",
      " 6   CustomerID   406829 non-null  float64\n",
      " 7   Country      541909 non-null  object \n",
      "dtypes: float64(2), int64(1), object(5)\n",
      "memory usage: 33.1+ MB\n"
     ]
    }
   ],
   "source": [
    "df.info()"
   ]
  },
  {
   "cell_type": "code",
   "execution_count": 146,
   "id": "d4a0472e",
   "metadata": {},
   "outputs": [
    {
     "data": {
      "text/html": [
       "<div>\n",
       "<style scoped>\n",
       "    .dataframe tbody tr th:only-of-type {\n",
       "        vertical-align: middle;\n",
       "    }\n",
       "\n",
       "    .dataframe tbody tr th {\n",
       "        vertical-align: top;\n",
       "    }\n",
       "\n",
       "    .dataframe thead th {\n",
       "        text-align: right;\n",
       "    }\n",
       "</style>\n",
       "<table border=\"1\" class=\"dataframe\">\n",
       "  <thead>\n",
       "    <tr style=\"text-align: right;\">\n",
       "      <th></th>\n",
       "      <th>InvoiceNo</th>\n",
       "      <th>StockCode</th>\n",
       "      <th>Description</th>\n",
       "      <th>Quantity</th>\n",
       "      <th>InvoiceDate</th>\n",
       "      <th>UnitPrice</th>\n",
       "      <th>CustomerID</th>\n",
       "      <th>Country</th>\n",
       "    </tr>\n",
       "  </thead>\n",
       "  <tbody>\n",
       "    <tr>\n",
       "      <th>0</th>\n",
       "      <td>536365</td>\n",
       "      <td>85123A</td>\n",
       "      <td>WHITE HANGING HEART T-LIGHT HOLDER</td>\n",
       "      <td>6</td>\n",
       "      <td>12/1/2010 8:26</td>\n",
       "      <td>2.55</td>\n",
       "      <td>17850.0</td>\n",
       "      <td>United Kingdom</td>\n",
       "    </tr>\n",
       "    <tr>\n",
       "      <th>1</th>\n",
       "      <td>536365</td>\n",
       "      <td>71053</td>\n",
       "      <td>WHITE METAL LANTERN</td>\n",
       "      <td>6</td>\n",
       "      <td>12/1/2010 8:26</td>\n",
       "      <td>3.39</td>\n",
       "      <td>17850.0</td>\n",
       "      <td>United Kingdom</td>\n",
       "    </tr>\n",
       "    <tr>\n",
       "      <th>2</th>\n",
       "      <td>536365</td>\n",
       "      <td>84406B</td>\n",
       "      <td>CREAM CUPID HEARTS COAT HANGER</td>\n",
       "      <td>8</td>\n",
       "      <td>12/1/2010 8:26</td>\n",
       "      <td>2.75</td>\n",
       "      <td>17850.0</td>\n",
       "      <td>United Kingdom</td>\n",
       "    </tr>\n",
       "    <tr>\n",
       "      <th>3</th>\n",
       "      <td>536365</td>\n",
       "      <td>84029G</td>\n",
       "      <td>KNITTED UNION FLAG HOT WATER BOTTLE</td>\n",
       "      <td>6</td>\n",
       "      <td>12/1/2010 8:26</td>\n",
       "      <td>3.39</td>\n",
       "      <td>17850.0</td>\n",
       "      <td>United Kingdom</td>\n",
       "    </tr>\n",
       "    <tr>\n",
       "      <th>4</th>\n",
       "      <td>536365</td>\n",
       "      <td>84029E</td>\n",
       "      <td>RED WOOLLY HOTTIE WHITE HEART.</td>\n",
       "      <td>6</td>\n",
       "      <td>12/1/2010 8:26</td>\n",
       "      <td>3.39</td>\n",
       "      <td>17850.0</td>\n",
       "      <td>United Kingdom</td>\n",
       "    </tr>\n",
       "  </tbody>\n",
       "</table>\n",
       "</div>"
      ],
      "text/plain": [
       "  InvoiceNo StockCode                          Description  Quantity  \\\n",
       "0    536365    85123A   WHITE HANGING HEART T-LIGHT HOLDER         6   \n",
       "1    536365     71053                  WHITE METAL LANTERN         6   \n",
       "2    536365    84406B       CREAM CUPID HEARTS COAT HANGER         8   \n",
       "3    536365    84029G  KNITTED UNION FLAG HOT WATER BOTTLE         6   \n",
       "4    536365    84029E       RED WOOLLY HOTTIE WHITE HEART.         6   \n",
       "\n",
       "      InvoiceDate  UnitPrice  CustomerID         Country  \n",
       "0  12/1/2010 8:26       2.55     17850.0  United Kingdom  \n",
       "1  12/1/2010 8:26       3.39     17850.0  United Kingdom  \n",
       "2  12/1/2010 8:26       2.75     17850.0  United Kingdom  \n",
       "3  12/1/2010 8:26       3.39     17850.0  United Kingdom  \n",
       "4  12/1/2010 8:26       3.39     17850.0  United Kingdom  "
      ]
     },
     "execution_count": 146,
     "metadata": {},
     "output_type": "execute_result"
    }
   ],
   "source": [
    "df.head()"
   ]
  },
  {
   "cell_type": "code",
   "execution_count": 147,
   "id": "357cbe61",
   "metadata": {},
   "outputs": [],
   "source": [
    "df['InvoiceDate'] = pd.to_datetime(df['InvoiceDate'])"
   ]
  },
  {
   "cell_type": "code",
   "execution_count": 148,
   "id": "4b80f483",
   "metadata": {},
   "outputs": [
    {
     "name": "stdout",
     "output_type": "stream",
     "text": [
      "<class 'pandas.core.frame.DataFrame'>\n",
      "RangeIndex: 541909 entries, 0 to 541908\n",
      "Data columns (total 8 columns):\n",
      " #   Column       Non-Null Count   Dtype         \n",
      "---  ------       --------------   -----         \n",
      " 0   InvoiceNo    541909 non-null  object        \n",
      " 1   StockCode    541909 non-null  object        \n",
      " 2   Description  540455 non-null  object        \n",
      " 3   Quantity     541909 non-null  int64         \n",
      " 4   InvoiceDate  541909 non-null  datetime64[ns]\n",
      " 5   UnitPrice    541909 non-null  float64       \n",
      " 6   CustomerID   406829 non-null  float64       \n",
      " 7   Country      541909 non-null  object        \n",
      "dtypes: datetime64[ns](1), float64(2), int64(1), object(4)\n",
      "memory usage: 33.1+ MB\n"
     ]
    }
   ],
   "source": [
    "df.info()"
   ]
  },
  {
   "cell_type": "markdown",
   "id": "713a1b3e",
   "metadata": {},
   "source": [
    "# Biểu đồ đường thể hiện doanh thu theo từng tháng năm 2011."
   ]
  },
  {
   "cell_type": "code",
   "execution_count": 149,
   "id": "fe4753f8",
   "metadata": {},
   "outputs": [],
   "source": [
    "df['year'] = df['InvoiceDate'].dt.year"
   ]
  },
  {
   "cell_type": "code",
   "execution_count": 150,
   "id": "3cb0bef8",
   "metadata": {},
   "outputs": [
    {
     "name": "stdout",
     "output_type": "stream",
     "text": [
      "<class 'pandas.core.frame.DataFrame'>\n",
      "RangeIndex: 541909 entries, 0 to 541908\n",
      "Data columns (total 9 columns):\n",
      " #   Column       Non-Null Count   Dtype         \n",
      "---  ------       --------------   -----         \n",
      " 0   InvoiceNo    541909 non-null  object        \n",
      " 1   StockCode    541909 non-null  object        \n",
      " 2   Description  540455 non-null  object        \n",
      " 3   Quantity     541909 non-null  int64         \n",
      " 4   InvoiceDate  541909 non-null  datetime64[ns]\n",
      " 5   UnitPrice    541909 non-null  float64       \n",
      " 6   CustomerID   406829 non-null  float64       \n",
      " 7   Country      541909 non-null  object        \n",
      " 8   year         541909 non-null  int64         \n",
      "dtypes: datetime64[ns](1), float64(2), int64(2), object(4)\n",
      "memory usage: 37.2+ MB\n"
     ]
    }
   ],
   "source": [
    "df.info()"
   ]
  },
  {
   "cell_type": "code",
   "execution_count": 151,
   "id": "92a4672e",
   "metadata": {},
   "outputs": [],
   "source": [
    "df_priceAndYear = df[['Quantity', 'UnitPrice','InvoiceDate', 'year']]"
   ]
  },
  {
   "cell_type": "code",
   "execution_count": 152,
   "id": "dc6a019a",
   "metadata": {},
   "outputs": [
    {
     "name": "stdout",
     "output_type": "stream",
     "text": [
      "<class 'pandas.core.frame.DataFrame'>\n",
      "RangeIndex: 541909 entries, 0 to 541908\n",
      "Data columns (total 4 columns):\n",
      " #   Column       Non-Null Count   Dtype         \n",
      "---  ------       --------------   -----         \n",
      " 0   Quantity     541909 non-null  int64         \n",
      " 1   UnitPrice    541909 non-null  float64       \n",
      " 2   InvoiceDate  541909 non-null  datetime64[ns]\n",
      " 3   year         541909 non-null  int64         \n",
      "dtypes: datetime64[ns](1), float64(1), int64(2)\n",
      "memory usage: 16.5 MB\n"
     ]
    }
   ],
   "source": [
    "df_priceAndYear.info()"
   ]
  },
  {
   "cell_type": "code",
   "execution_count": 153,
   "id": "a706ab6c",
   "metadata": {},
   "outputs": [],
   "source": [
    "df_priceAndYear = df_priceAndYear.astype({'year': 'str'}) "
   ]
  },
  {
   "cell_type": "code",
   "execution_count": 154,
   "id": "a4e1e04c",
   "metadata": {},
   "outputs": [
    {
     "name": "stdout",
     "output_type": "stream",
     "text": [
      "<class 'pandas.core.frame.DataFrame'>\n",
      "RangeIndex: 541909 entries, 0 to 541908\n",
      "Data columns (total 4 columns):\n",
      " #   Column       Non-Null Count   Dtype         \n",
      "---  ------       --------------   -----         \n",
      " 0   Quantity     541909 non-null  int64         \n",
      " 1   UnitPrice    541909 non-null  float64       \n",
      " 2   InvoiceDate  541909 non-null  datetime64[ns]\n",
      " 3   year         541909 non-null  object        \n",
      "dtypes: datetime64[ns](1), float64(1), int64(1), object(1)\n",
      "memory usage: 16.5+ MB\n"
     ]
    }
   ],
   "source": [
    "df_priceAndYear.info()"
   ]
  },
  {
   "cell_type": "code",
   "execution_count": 155,
   "id": "d31159df",
   "metadata": {},
   "outputs": [
    {
     "data": {
      "text/html": [
       "<div>\n",
       "<style scoped>\n",
       "    .dataframe tbody tr th:only-of-type {\n",
       "        vertical-align: middle;\n",
       "    }\n",
       "\n",
       "    .dataframe tbody tr th {\n",
       "        vertical-align: top;\n",
       "    }\n",
       "\n",
       "    .dataframe thead th {\n",
       "        text-align: right;\n",
       "    }\n",
       "</style>\n",
       "<table border=\"1\" class=\"dataframe\">\n",
       "  <thead>\n",
       "    <tr style=\"text-align: right;\">\n",
       "      <th></th>\n",
       "      <th>Quantity</th>\n",
       "      <th>UnitPrice</th>\n",
       "      <th>InvoiceDate</th>\n",
       "      <th>year</th>\n",
       "    </tr>\n",
       "  </thead>\n",
       "  <tbody>\n",
       "    <tr>\n",
       "      <th>0</th>\n",
       "      <td>6</td>\n",
       "      <td>2.55</td>\n",
       "      <td>2010-12-01 08:26:00</td>\n",
       "      <td>2010</td>\n",
       "    </tr>\n",
       "    <tr>\n",
       "      <th>1</th>\n",
       "      <td>6</td>\n",
       "      <td>3.39</td>\n",
       "      <td>2010-12-01 08:26:00</td>\n",
       "      <td>2010</td>\n",
       "    </tr>\n",
       "    <tr>\n",
       "      <th>2</th>\n",
       "      <td>8</td>\n",
       "      <td>2.75</td>\n",
       "      <td>2010-12-01 08:26:00</td>\n",
       "      <td>2010</td>\n",
       "    </tr>\n",
       "    <tr>\n",
       "      <th>3</th>\n",
       "      <td>6</td>\n",
       "      <td>3.39</td>\n",
       "      <td>2010-12-01 08:26:00</td>\n",
       "      <td>2010</td>\n",
       "    </tr>\n",
       "    <tr>\n",
       "      <th>4</th>\n",
       "      <td>6</td>\n",
       "      <td>3.39</td>\n",
       "      <td>2010-12-01 08:26:00</td>\n",
       "      <td>2010</td>\n",
       "    </tr>\n",
       "  </tbody>\n",
       "</table>\n",
       "</div>"
      ],
      "text/plain": [
       "   Quantity  UnitPrice         InvoiceDate  year\n",
       "0         6       2.55 2010-12-01 08:26:00  2010\n",
       "1         6       3.39 2010-12-01 08:26:00  2010\n",
       "2         8       2.75 2010-12-01 08:26:00  2010\n",
       "3         6       3.39 2010-12-01 08:26:00  2010\n",
       "4         6       3.39 2010-12-01 08:26:00  2010"
      ]
     },
     "execution_count": 155,
     "metadata": {},
     "output_type": "execute_result"
    }
   ],
   "source": [
    "df_priceAndYear.head()"
   ]
  },
  {
   "cell_type": "code",
   "execution_count": 156,
   "id": "69f92d33",
   "metadata": {},
   "outputs": [
    {
     "data": {
      "text/plain": [
       "<AxesSubplot:xlabel='Quantity', ylabel='Density'>"
      ]
     },
     "execution_count": 156,
     "metadata": {},
     "output_type": "execute_result"
    },
    {
     "data": {
      "image/png": "[encoded data removed]",
      "text/plain": [
       "<Figure size 432x288 with 1 Axes>"
      ]
     },
     "metadata": {
      "needs_background": "light"
     },
     "output_type": "display_data"
    }
   ],
   "source": [
    "sns.kdeplot(df_priceAndYear['Quantity'])"
   ]
  },
  {
   "cell_type": "code",
   "execution_count": 157,
   "id": "f632b320",
   "metadata": {},
   "outputs": [
    {
     "data": {
      "text/plain": [
       "<AxesSubplot:xlabel='UnitPrice', ylabel='Density'>"
      ]
     },
     "execution_count": 157,
     "metadata": {},
     "output_type": "execute_result"
    },
    {
     "data": {
      "image/png": "[encoded data removed]",
      "text/plain": [
       "<Figure size 432x288 with 1 Axes>"
      ]
     },
     "metadata": {
      "needs_background": "light"
     },
     "output_type": "display_data"
    }
   ],
   "source": [
    "sns.kdeplot(df_priceAndYear['UnitPrice'])"
   ]
  },
  {
   "cell_type": "markdown",
   "id": "dadabb57",
   "metadata": {},
   "source": [
    "+ xử lí dữ liệu ngoại lai"
   ]
  },
  {
   "cell_type": "code",
   "execution_count": 158,
   "id": "14119a0d",
   "metadata": {},
   "outputs": [],
   "source": [
    "val = df_priceAndYear[df_priceAndYear['Quantity'] < 0]['Quantity'].values\n",
    "val_unitprice = df_priceAndYear[df_priceAndYear['UnitPrice'] < 0]['UnitPrice'].values"
   ]
  },
  {
   "cell_type": "code",
   "execution_count": 159,
   "id": "db84d9cd",
   "metadata": {},
   "outputs": [
    {
     "data": {
      "text/plain": [
       "<bound method Series.mode of 0          6\n",
       "1          6\n",
       "2          8\n",
       "3          6\n",
       "4          6\n",
       "          ..\n",
       "541904    12\n",
       "541905     6\n",
       "541906     4\n",
       "541907     4\n",
       "541908     3\n",
       "Name: Quantity, Length: 541909, dtype: int64>"
      ]
     },
     "execution_count": 159,
     "metadata": {},
     "output_type": "execute_result"
    }
   ],
   "source": [
    "df_priceAndYear['Quantity'].mode"
   ]
  },
  {
   "cell_type": "code",
   "execution_count": 160,
   "id": "7769fb78",
   "metadata": {},
   "outputs": [
    {
     "data": {
      "text/plain": [
       "<bound method Series.mode of 0         2.55\n",
       "1         3.39\n",
       "2         2.75\n",
       "3         3.39\n",
       "4         3.39\n",
       "          ... \n",
       "541904    0.85\n",
       "541905    2.10\n",
       "541906    4.15\n",
       "541907    4.15\n",
       "541908    4.95\n",
       "Name: UnitPrice, Length: 541909, dtype: float64>"
      ]
     },
     "execution_count": 160,
     "metadata": {},
     "output_type": "execute_result"
    }
   ],
   "source": [
    "df_priceAndYear['UnitPrice'].mode"
   ]
  },
  {
   "cell_type": "code",
   "execution_count": 161,
   "id": "e8841754",
   "metadata": {},
   "outputs": [],
   "source": [
    "df_priceAndYear['Quantity'] = df_priceAndYear['Quantity'].replace(to_replace = list(val), value = 12)"
   ]
  },
  {
   "cell_type": "code",
   "execution_count": 164,
   "id": "a48d3d66",
   "metadata": {},
   "outputs": [],
   "source": [
    "df_priceAndYear['UnitPrice'] = df_priceAndYear['UnitPrice'].replace(to_replace = list(val_unitprice), value = 3.39)"
   ]
  },
  {
   "cell_type": "code",
   "execution_count": 165,
   "id": "f6440fa7",
   "metadata": {},
   "outputs": [],
   "source": [
    "df_priceAndYear['Month'] = df_priceAndYear['InvoiceDate'].dt.month"
   ]
  },
  {
   "cell_type": "code",
   "execution_count": 166,
   "id": "8fd5bcfe",
   "metadata": {},
   "outputs": [
    {
     "name": "stdout",
     "output_type": "stream",
     "text": [
      "<class 'pandas.core.frame.DataFrame'>\n",
      "RangeIndex: 541909 entries, 0 to 541908\n",
      "Data columns (total 5 columns):\n",
      " #   Column       Non-Null Count   Dtype         \n",
      "---  ------       --------------   -----         \n",
      " 0   Quantity     541909 non-null  int64         \n",
      " 1   UnitPrice    541909 non-null  float64       \n",
      " 2   InvoiceDate  541909 non-null  datetime64[ns]\n",
      " 3   year         541909 non-null  object        \n",
      " 4   Month        541909 non-null  int64         \n",
      "dtypes: datetime64[ns](1), float64(1), int64(2), object(1)\n",
      "memory usage: 20.7+ MB\n"
     ]
    }
   ],
   "source": [
    "df_priceAndYear.info()"
   ]
  },
  {
   "cell_type": "code",
   "execution_count": 167,
   "id": "93f8363f",
   "metadata": {},
   "outputs": [
    {
     "data": {
      "text/plain": [
       "array([    6,     8,     2,    32,     3,     4,    24,    12,    48,\n",
       "          18,    20,    36,    80,    64,    10,   120,    96,    23,\n",
       "           5,     1,    50,    40,   100,   192,   432,   144,   288,\n",
       "          16,     9,   128,    25,    30,    28,     7,    56,    72,\n",
       "         200,   600,   480,    14,    11,    33,    13,    70,   252,\n",
       "          60,   216,   384,    27,    15,    22,    19,    17,    21,\n",
       "          34,    47,   108,    52,    75,   270,    42,   240,    90,\n",
       "         320,  1824,   204,    69,   160,  2880,  1400,    39,    26,\n",
       "        1440,    31,    82,    78,    97,    98,    35,    57,   110,\n",
       "         720,   156,   324,    38,    37,    49,    95,    29,    41,\n",
       "         402,   378,   150,   300,    54,   104,    67,   258,    66,\n",
       "          44,    55,    46,    99,    61,   408,   972,   208,  1008,\n",
       "        1000,  1488,   250,  1394,   400,    79,    84,   272,   113,\n",
       "          45,   106,    68,   267,   115,    65,  1728,    53,    76,\n",
       "         460,    71,    43,   213,    58,   576,  2400,   500,   180,\n",
       "         752,   960,  1296,   210,   172,   215,   129,   138,   116,\n",
       "         135,   197,   147,   168,   256,   860,  1010,  1356,  1284,\n",
       "         186,   114,   360,  1930,  2000,  3114,  1300,   670,   111,\n",
       "         211,    59,   176,   648,    62, 74215,    89,    73,   112,\n",
       "         456,  5568,  2560,   136,   900,   130,  2592,   420,   800,\n",
       "         101,  1200,   864,    94,  1287,   504,   123,   118,  1056,\n",
       "        1500,   280,   407,   141,   124,    51,  3906,   102,  1152,\n",
       "         198,   117,    86,   125,   140,   228,    81,  3000,   219,\n",
       "         232,   170,   768,    88,   700,  2160,   342,   304,   167,\n",
       "         640,   175,   220,    74,    93,   164,   163,    63,   637,\n",
       "         122,   158,   165,   350,    83,   312,   392,   330,   151,\n",
       "         462,   492,   273,    85,   105,  1350,   428,   336,   132,\n",
       "         227,  2700,   222,   246,   906,   756,   888,   552,   224,\n",
       "         738,   608,  4300,   146,   143,   276,  4000,  1600,   323,\n",
       "        1515,   660,   264,   188,   588,   612,   152,   430,    87,\n",
       "         155,   701,   828,   540,   696,   560,   121,   512,  3100,\n",
       "         126,   291,  3186,   109,   261,   352,   142,   107,   348,\n",
       "        1900,   157,   425,   968,   684,   824,   196,   248,   410,\n",
       "         236,   230,   145,   448,   245,   171,   840,   225,   750,\n",
       "         682,   344,   450,   310,   494,    92,  1788,   624,   744,\n",
       "         416,   496,   396,   306,  1878,  1944,   666,   708,  1428,\n",
       "         852,  1412,   528,   183,  1540,   672,    91,   255,   468,\n",
       "        4800,   912,  1992,   184,   148,   832,   992,   630,  1020,\n",
       "        2100,   162,   314,   370,   131,   133,   484,   149,   153,\n",
       "         257,   139,   137,   628,   179,  1820,   478,   335,   253,\n",
       "         242,   375,   281,   193,   181,   404,   244,   207,   199,\n",
       "        1130,   326,   654,   688,   268,   249,   234,   279,   374,\n",
       "         212, 12540,   760,   774,  2040,  1120,    77,   177,   490,\n",
       "         388,   620,  1404,   205,   698, 80995], dtype=int64)"
      ]
     },
     "execution_count": 167,
     "metadata": {},
     "output_type": "execute_result"
    }
   ],
   "source": [
    "df_priceAndYear['Quantity'].unique()"
   ]
  },
  {
   "cell_type": "code",
   "execution_count": 168,
   "id": "4f980371",
   "metadata": {},
   "outputs": [
    {
     "data": {
      "text/html": [
       "<div>\n",
       "<style scoped>\n",
       "    .dataframe tbody tr th:only-of-type {\n",
       "        vertical-align: middle;\n",
       "    }\n",
       "\n",
       "    .dataframe tbody tr th {\n",
       "        vertical-align: top;\n",
       "    }\n",
       "\n",
       "    .dataframe thead th {\n",
       "        text-align: right;\n",
       "    }\n",
       "</style>\n",
       "<table border=\"1\" class=\"dataframe\">\n",
       "  <thead>\n",
       "    <tr style=\"text-align: right;\">\n",
       "      <th></th>\n",
       "      <th>Quantity</th>\n",
       "      <th>UnitPrice</th>\n",
       "      <th>InvoiceDate</th>\n",
       "      <th>year</th>\n",
       "      <th>Month</th>\n",
       "    </tr>\n",
       "  </thead>\n",
       "  <tbody>\n",
       "    <tr>\n",
       "      <th>0</th>\n",
       "      <td>6</td>\n",
       "      <td>2.55</td>\n",
       "      <td>2010-12-01 08:26:00</td>\n",
       "      <td>2010</td>\n",
       "      <td>12</td>\n",
       "    </tr>\n",
       "    <tr>\n",
       "      <th>1</th>\n",
       "      <td>6</td>\n",
       "      <td>3.39</td>\n",
       "      <td>2010-12-01 08:26:00</td>\n",
       "      <td>2010</td>\n",
       "      <td>12</td>\n",
       "    </tr>\n",
       "    <tr>\n",
       "      <th>2</th>\n",
       "      <td>8</td>\n",
       "      <td>2.75</td>\n",
       "      <td>2010-12-01 08:26:00</td>\n",
       "      <td>2010</td>\n",
       "      <td>12</td>\n",
       "    </tr>\n",
       "    <tr>\n",
       "      <th>3</th>\n",
       "      <td>6</td>\n",
       "      <td>3.39</td>\n",
       "      <td>2010-12-01 08:26:00</td>\n",
       "      <td>2010</td>\n",
       "      <td>12</td>\n",
       "    </tr>\n",
       "    <tr>\n",
       "      <th>4</th>\n",
       "      <td>6</td>\n",
       "      <td>3.39</td>\n",
       "      <td>2010-12-01 08:26:00</td>\n",
       "      <td>2010</td>\n",
       "      <td>12</td>\n",
       "    </tr>\n",
       "  </tbody>\n",
       "</table>\n",
       "</div>"
      ],
      "text/plain": [
       "   Quantity  UnitPrice         InvoiceDate  year  Month\n",
       "0         6       2.55 2010-12-01 08:26:00  2010     12\n",
       "1         6       3.39 2010-12-01 08:26:00  2010     12\n",
       "2         8       2.75 2010-12-01 08:26:00  2010     12\n",
       "3         6       3.39 2010-12-01 08:26:00  2010     12\n",
       "4         6       3.39 2010-12-01 08:26:00  2010     12"
      ]
     },
     "execution_count": 168,
     "metadata": {},
     "output_type": "execute_result"
    }
   ],
   "source": [
    "df_priceAndYear.head()"
   ]
  },
  {
   "cell_type": "code",
   "execution_count": 169,
   "id": "0fe6f002",
   "metadata": {},
   "outputs": [],
   "source": [
    "df_priceAndYear['total'] = df_priceAndYear['UnitPrice'] * df_priceAndYear['Quantity'] "
   ]
  },
  {
   "cell_type": "code",
   "execution_count": 170,
   "id": "4f471b2d",
   "metadata": {},
   "outputs": [
    {
     "data": {
      "text/html": [
       "<div>\n",
       "<style scoped>\n",
       "    .dataframe tbody tr th:only-of-type {\n",
       "        vertical-align: middle;\n",
       "    }\n",
       "\n",
       "    .dataframe tbody tr th {\n",
       "        vertical-align: top;\n",
       "    }\n",
       "\n",
       "    .dataframe thead th {\n",
       "        text-align: right;\n",
       "    }\n",
       "</style>\n",
       "<table border=\"1\" class=\"dataframe\">\n",
       "  <thead>\n",
       "    <tr style=\"text-align: right;\">\n",
       "      <th></th>\n",
       "      <th>Quantity</th>\n",
       "      <th>UnitPrice</th>\n",
       "      <th>InvoiceDate</th>\n",
       "      <th>year</th>\n",
       "      <th>Month</th>\n",
       "      <th>total</th>\n",
       "    </tr>\n",
       "  </thead>\n",
       "  <tbody>\n",
       "    <tr>\n",
       "      <th>0</th>\n",
       "      <td>6</td>\n",
       "      <td>2.55</td>\n",
       "      <td>2010-12-01 08:26:00</td>\n",
       "      <td>2010</td>\n",
       "      <td>12</td>\n",
       "      <td>15.30</td>\n",
       "    </tr>\n",
       "    <tr>\n",
       "      <th>1</th>\n",
       "      <td>6</td>\n",
       "      <td>3.39</td>\n",
       "      <td>2010-12-01 08:26:00</td>\n",
       "      <td>2010</td>\n",
       "      <td>12</td>\n",
       "      <td>20.34</td>\n",
       "    </tr>\n",
       "    <tr>\n",
       "      <th>2</th>\n",
       "      <td>8</td>\n",
       "      <td>2.75</td>\n",
       "      <td>2010-12-01 08:26:00</td>\n",
       "      <td>2010</td>\n",
       "      <td>12</td>\n",
       "      <td>22.00</td>\n",
       "    </tr>\n",
       "    <tr>\n",
       "      <th>3</th>\n",
       "      <td>6</td>\n",
       "      <td>3.39</td>\n",
       "      <td>2010-12-01 08:26:00</td>\n",
       "      <td>2010</td>\n",
       "      <td>12</td>\n",
       "      <td>20.34</td>\n",
       "    </tr>\n",
       "    <tr>\n",
       "      <th>4</th>\n",
       "      <td>6</td>\n",
       "      <td>3.39</td>\n",
       "      <td>2010-12-01 08:26:00</td>\n",
       "      <td>2010</td>\n",
       "      <td>12</td>\n",
       "      <td>20.34</td>\n",
       "    </tr>\n",
       "  </tbody>\n",
       "</table>\n",
       "</div>"
      ],
      "text/plain": [
       "   Quantity  UnitPrice         InvoiceDate  year  Month  total\n",
       "0         6       2.55 2010-12-01 08:26:00  2010     12  15.30\n",
       "1         6       3.39 2010-12-01 08:26:00  2010     12  20.34\n",
       "2         8       2.75 2010-12-01 08:26:00  2010     12  22.00\n",
       "3         6       3.39 2010-12-01 08:26:00  2010     12  20.34\n",
       "4         6       3.39 2010-12-01 08:26:00  2010     12  20.34"
      ]
     },
     "execution_count": 170,
     "metadata": {},
     "output_type": "execute_result"
    }
   ],
   "source": [
    "df_priceAndYear.head()"
   ]
  },
  {
   "cell_type": "code",
   "execution_count": 176,
   "id": "f081e4f7",
   "metadata": {},
   "outputs": [],
   "source": [
    "df_priceAndYear2011 = df_priceAndYear[['Month', 'year', 'total', 'Quantity']]"
   ]
  },
  {
   "cell_type": "code",
   "execution_count": 177,
   "id": "6c63d18f",
   "metadata": {},
   "outputs": [],
   "source": [
    "df_priceAndYear2011 = df_priceAndYear2011.iloc[df_priceAndYear2011[df_priceAndYear2011['year'] == '2011'].index, :]"
   ]
  },
  {
   "cell_type": "code",
   "execution_count": 178,
   "id": "7735bc02",
   "metadata": {},
   "outputs": [
    {
     "name": "stdout",
     "output_type": "stream",
     "text": [
      "<class 'pandas.core.frame.DataFrame'>\n",
      "Int64Index: 499428 entries, 42481 to 541908\n",
      "Data columns (total 4 columns):\n",
      " #   Column    Non-Null Count   Dtype  \n",
      "---  ------    --------------   -----  \n",
      " 0   Month     499428 non-null  int64  \n",
      " 1   year      499428 non-null  object \n",
      " 2   total     499428 non-null  float64\n",
      " 3   Quantity  499428 non-null  int64  \n",
      "dtypes: float64(1), int64(2), object(1)\n",
      "memory usage: 19.1+ MB\n"
     ]
    }
   ],
   "source": [
    "df_priceAndYear2011.info()"
   ]
  },
  {
   "cell_type": "code",
   "execution_count": 179,
   "id": "becab2ba",
   "metadata": {},
   "outputs": [
    {
     "data": {
      "text/html": [
       "<div>\n",
       "<style scoped>\n",
       "    .dataframe tbody tr th:only-of-type {\n",
       "        vertical-align: middle;\n",
       "    }\n",
       "\n",
       "    .dataframe tbody tr th {\n",
       "        vertical-align: top;\n",
       "    }\n",
       "\n",
       "    .dataframe thead th {\n",
       "        text-align: right;\n",
       "    }\n",
       "</style>\n",
       "<table border=\"1\" class=\"dataframe\">\n",
       "  <thead>\n",
       "    <tr style=\"text-align: right;\">\n",
       "      <th></th>\n",
       "      <th>Month</th>\n",
       "      <th>year</th>\n",
       "      <th>total</th>\n",
       "      <th>Quantity</th>\n",
       "    </tr>\n",
       "  </thead>\n",
       "  <tbody>\n",
       "    <tr>\n",
       "      <th>42481</th>\n",
       "      <td>1</td>\n",
       "      <td>2011</td>\n",
       "      <td>19.5</td>\n",
       "      <td>10</td>\n",
       "    </tr>\n",
       "    <tr>\n",
       "      <th>42482</th>\n",
       "      <td>1</td>\n",
       "      <td>2011</td>\n",
       "      <td>10.5</td>\n",
       "      <td>25</td>\n",
       "    </tr>\n",
       "    <tr>\n",
       "      <th>42483</th>\n",
       "      <td>1</td>\n",
       "      <td>2011</td>\n",
       "      <td>10.5</td>\n",
       "      <td>25</td>\n",
       "    </tr>\n",
       "    <tr>\n",
       "      <th>42484</th>\n",
       "      <td>1</td>\n",
       "      <td>2011</td>\n",
       "      <td>10.5</td>\n",
       "      <td>5</td>\n",
       "    </tr>\n",
       "    <tr>\n",
       "      <th>42485</th>\n",
       "      <td>1</td>\n",
       "      <td>2011</td>\n",
       "      <td>12.5</td>\n",
       "      <td>10</td>\n",
       "    </tr>\n",
       "  </tbody>\n",
       "</table>\n",
       "</div>"
      ],
      "text/plain": [
       "       Month  year  total  Quantity\n",
       "42481      1  2011   19.5        10\n",
       "42482      1  2011   10.5        25\n",
       "42483      1  2011   10.5        25\n",
       "42484      1  2011   10.5         5\n",
       "42485      1  2011   12.5        10"
      ]
     },
     "execution_count": 179,
     "metadata": {},
     "output_type": "execute_result"
    }
   ],
   "source": [
    "df_priceAndYear2011.head()"
   ]
  },
  {
   "cell_type": "code",
   "execution_count": 180,
   "id": "fcc62e47",
   "metadata": {},
   "outputs": [
    {
     "data": {
      "text/html": [
       "<div>\n",
       "<style scoped>\n",
       "    .dataframe tbody tr th:only-of-type {\n",
       "        vertical-align: middle;\n",
       "    }\n",
       "\n",
       "    .dataframe tbody tr th {\n",
       "        vertical-align: top;\n",
       "    }\n",
       "\n",
       "    .dataframe thead th {\n",
       "        text-align: right;\n",
       "    }\n",
       "</style>\n",
       "<table border=\"1\" class=\"dataframe\">\n",
       "  <thead>\n",
       "    <tr style=\"text-align: right;\">\n",
       "      <th></th>\n",
       "      <th>Month</th>\n",
       "      <th>total</th>\n",
       "      <th>Quantity</th>\n",
       "    </tr>\n",
       "  </thead>\n",
       "  <tbody>\n",
       "    <tr>\n",
       "      <th>0</th>\n",
       "      <td>1</td>\n",
       "      <td>1207578.040</td>\n",
       "      <td>407280</td>\n",
       "    </tr>\n",
       "    <tr>\n",
       "      <th>1</th>\n",
       "      <td>2</td>\n",
       "      <td>754977.610</td>\n",
       "      <td>292971</td>\n",
       "    </tr>\n",
       "    <tr>\n",
       "      <th>2</th>\n",
       "      <td>3</td>\n",
       "      <td>1027938.600</td>\n",
       "      <td>394946</td>\n",
       "    </tr>\n",
       "    <tr>\n",
       "      <th>3</th>\n",
       "      <td>4</td>\n",
       "      <td>700543.381</td>\n",
       "      <td>321116</td>\n",
       "    </tr>\n",
       "    <tr>\n",
       "      <th>4</th>\n",
       "      <td>5</td>\n",
       "      <td>1253756.940</td>\n",
       "      <td>408281</td>\n",
       "    </tr>\n",
       "    <tr>\n",
       "      <th>5</th>\n",
       "      <td>6</td>\n",
       "      <td>1487463.300</td>\n",
       "      <td>404153</td>\n",
       "    </tr>\n",
       "    <tr>\n",
       "      <th>6</th>\n",
       "      <td>7</td>\n",
       "      <td>1066000.431</td>\n",
       "      <td>417163</td>\n",
       "    </tr>\n",
       "    <tr>\n",
       "      <th>7</th>\n",
       "      <td>8</td>\n",
       "      <td>1167815.000</td>\n",
       "      <td>433632</td>\n",
       "    </tr>\n",
       "    <tr>\n",
       "      <th>8</th>\n",
       "      <td>9</td>\n",
       "      <td>1352119.172</td>\n",
       "      <td>586252</td>\n",
       "    </tr>\n",
       "    <tr>\n",
       "      <th>9</th>\n",
       "      <td>10</td>\n",
       "      <td>1635065.940</td>\n",
       "      <td>644897</td>\n",
       "    </tr>\n",
       "    <tr>\n",
       "      <th>10</th>\n",
       "      <td>11</td>\n",
       "      <td>1828990.330</td>\n",
       "      <td>786154</td>\n",
       "    </tr>\n",
       "    <tr>\n",
       "      <th>11</th>\n",
       "      <td>12</td>\n",
       "      <td>1027063.720</td>\n",
       "      <td>319732</td>\n",
       "    </tr>\n",
       "  </tbody>\n",
       "</table>\n",
       "</div>"
      ],
      "text/plain": [
       "    Month        total  Quantity\n",
       "0       1  1207578.040    407280\n",
       "1       2   754977.610    292971\n",
       "2       3  1027938.600    394946\n",
       "3       4   700543.381    321116\n",
       "4       5  1253756.940    408281\n",
       "5       6  1487463.300    404153\n",
       "6       7  1066000.431    417163\n",
       "7       8  1167815.000    433632\n",
       "8       9  1352119.172    586252\n",
       "9      10  1635065.940    644897\n",
       "10     11  1828990.330    786154\n",
       "11     12  1027063.720    319732"
      ]
     },
     "execution_count": 180,
     "metadata": {},
     "output_type": "execute_result"
    }
   ],
   "source": [
    "df_priceAndYear2011 = df_priceAndYear2011.groupby(by = 'Month').sum()\n",
    "df_priceAndYear2011.reset_index()"
   ]
  },
  {
   "cell_type": "code",
   "execution_count": 184,
   "id": "b809b420",
   "metadata": {},
   "outputs": [
    {
     "data": {
      "image/png": "[encoded data removed]",
      "text/plain": [
       "<Figure size 432x288 with 2 Axes>"
      ]
     },
     "metadata": {
      "needs_background": "light"
     },
     "output_type": "display_data"
    }
   ],
   "source": [
    "x = df_priceAndYear2011.index.get_level_values(0)\n",
    "plt.bar(x, df_priceAndYear2011['total'], width = 0.5, label = 'total')\n",
    "axes1 = plt.gca()\n",
    "axes2 = axes1.twinx()\n",
    "axes2.plot(x, df_priceAndYear2011['Quantity'], label = 'Quantity', linewidth = 2, c = 'r', marker = 'o')\n",
    "axes1.set_xlabel('Month', fontsize = 14)\n",
    "axes1.set_ylabel('total', fontsize = 14)\n",
    "axes2.set_ylabel('quantity', fontsize = 14)\n",
    "\n",
    "axes1.legend(fontsize = 14)\n",
    "axes2.legend(fontsize = 14)\n",
    "plt.title('quantity and total price in 2011', fontsize = 16)\n",
    "plt.show()"
   ]
  },
  {
   "cell_type": "code",
   "execution_count": null,
   "id": "152585e8",
   "metadata": {},
   "outputs": [],
   "source": []
  }
 ],
 "metadata": {
  "kernelspec": {
   "display_name": "Python 3 (ipykernel)",
   "language": "python",
   "name": "python3"
  },
  "language_info": {
   "codemirror_mode": {
    "name": "ipython",
    "version": 3
   },
   "file_extension": ".py",
   "mimetype": "text/x-python",
   "name": "python",
   "nbconvert_exporter": "python",
   "pygments_lexer": "ipython3",
   "version": "3.9.7"
  }
 },
 "nbformat": 4,
 "nbformat_minor": 5
}

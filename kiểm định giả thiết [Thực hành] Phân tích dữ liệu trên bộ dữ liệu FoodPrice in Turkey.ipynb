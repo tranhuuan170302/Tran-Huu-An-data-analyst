{
 "cells": [
  {
   "cell_type": "markdown",
   "id": "5f39cc4b",
   "metadata": {},
   "source": [
    "# import library"
   ]
  },
  {
   "cell_type": "code",
   "execution_count": 1,
   "id": "ba9c947d",
   "metadata": {},
   "outputs": [],
   "source": [
    "import pandas as pd\n",
    "import seaborn as sns\n",
    "import matplotlib.pyplot as plt\n",
    "import numpy as np\n",
    "from sklearn.preprocessing  import StandardScaler\n",
    "import math\n",
    "from scipy import stats"
   ]
  },
  {
   "cell_type": "markdown",
   "id": "539c6912",
   "metadata": {},
   "source": [
    "# các bước xử lí:\n",
    "+ bước 1: đọc dữ liệu, xem tổng quan dữ liệu\n",
    "    + xem info\n",
    "    + xem head\n",
    "    + xác định các cột dữ liệu cần dùng trong từng câu hỏi ở bước 3\n",
    "+ bước 2: kiểm tra các dữ liệu và xử lí dữ liệu ngoại lai\n",
    "    + kiểm tra các giá trị có liên quan đến bước 3 có rỗng hay không\n",
    "    + kiểm tra dữ liệu ngoại lai có liên quan đến bước 3\n",
    "    + xử lí dữ liệu ngoại lai bằng phương pháp z-score\n",
    "+ bước 3: kiểm định các giả thiết\n",
    "    + 1. với mức ý nghĩa 5% kiểm định giả thuyết giá bán gạo trung bình năm 2019 là 10 Lira/kg\n",
    "    + 2. Với mức ý nghĩa 5% hãy kiểm định giả thuyết: Giá bột mỳ và giá gạo ở Turkey năm 2019 là bằng nhau\n",
    "    + 3. Vẽ biểu đồ sự biến đổi giá gạo trung bình từ năm 1/2014 đến năm 1/2019 và tìm mối liên hệ giữa giá Trà và giá Cà phê"
   ]
  },
  {
   "cell_type": "markdown",
   "id": "15f4630c",
   "metadata": {},
   "source": [
    "# bước 1:"
   ]
  },
  {
   "cell_type": "code",
   "execution_count": 2,
   "id": "b2a5311a",
   "metadata": {},
   "outputs": [],
   "source": [
    "df = pd.read_csv(\"C:\\\\Users\\\\FPTSHOP\\\\Downloads\\\\FoodPrice_in_Turkey.csv\")"
   ]
  },
  {
   "cell_type": "code",
   "execution_count": 3,
   "id": "29e1cc7a",
   "metadata": {},
   "outputs": [
    {
     "name": "stdout",
     "output_type": "stream",
     "text": [
      "<class 'pandas.core.frame.DataFrame'>\n",
      "RangeIndex: 7381 entries, 0 to 7380\n",
      "Data columns (total 8 columns):\n",
      " #   Column       Non-Null Count  Dtype  \n",
      "---  ------       --------------  -----  \n",
      " 0   Place        7381 non-null   object \n",
      " 1   ProductId    7381 non-null   int64  \n",
      " 2   ProductName  7381 non-null   object \n",
      " 3   UmId         7381 non-null   int64  \n",
      " 4   UmName       7381 non-null   object \n",
      " 5   Month        7381 non-null   int64  \n",
      " 6   Year         7381 non-null   int64  \n",
      " 7   Price        7381 non-null   float64\n",
      "dtypes: float64(1), int64(4), object(3)\n",
      "memory usage: 461.4+ KB\n"
     ]
    }
   ],
   "source": [
    "# info()\n",
    "df.info()"
   ]
  },
  {
   "cell_type": "code",
   "execution_count": 4,
   "id": "f3e9f457",
   "metadata": {},
   "outputs": [
    {
     "data": {
      "text/html": [
       "<div>\n",
       "<style scoped>\n",
       "    .dataframe tbody tr th:only-of-type {\n",
       "        vertical-align: middle;\n",
       "    }\n",
       "\n",
       "    .dataframe tbody tr th {\n",
       "        vertical-align: top;\n",
       "    }\n",
       "\n",
       "    .dataframe thead th {\n",
       "        text-align: right;\n",
       "    }\n",
       "</style>\n",
       "<table border=\"1\" class=\"dataframe\">\n",
       "  <thead>\n",
       "    <tr style=\"text-align: right;\">\n",
       "      <th></th>\n",
       "      <th>Place</th>\n",
       "      <th>ProductId</th>\n",
       "      <th>ProductName</th>\n",
       "      <th>UmId</th>\n",
       "      <th>UmName</th>\n",
       "      <th>Month</th>\n",
       "      <th>Year</th>\n",
       "      <th>Price</th>\n",
       "    </tr>\n",
       "  </thead>\n",
       "  <tbody>\n",
       "    <tr>\n",
       "      <th>0</th>\n",
       "      <td>National Average</td>\n",
       "      <td>52</td>\n",
       "      <td>Rice - Retail</td>\n",
       "      <td>5</td>\n",
       "      <td>KG</td>\n",
       "      <td>5</td>\n",
       "      <td>2013</td>\n",
       "      <td>4.4920</td>\n",
       "    </tr>\n",
       "    <tr>\n",
       "      <th>1</th>\n",
       "      <td>National Average</td>\n",
       "      <td>52</td>\n",
       "      <td>Rice - Retail</td>\n",
       "      <td>5</td>\n",
       "      <td>KG</td>\n",
       "      <td>6</td>\n",
       "      <td>2013</td>\n",
       "      <td>4.5786</td>\n",
       "    </tr>\n",
       "    <tr>\n",
       "      <th>2</th>\n",
       "      <td>National Average</td>\n",
       "      <td>52</td>\n",
       "      <td>Rice - Retail</td>\n",
       "      <td>5</td>\n",
       "      <td>KG</td>\n",
       "      <td>11</td>\n",
       "      <td>2013</td>\n",
       "      <td>4.7865</td>\n",
       "    </tr>\n",
       "    <tr>\n",
       "      <th>3</th>\n",
       "      <td>National Average</td>\n",
       "      <td>52</td>\n",
       "      <td>Rice - Retail</td>\n",
       "      <td>5</td>\n",
       "      <td>KG</td>\n",
       "      <td>12</td>\n",
       "      <td>2013</td>\n",
       "      <td>5.1337</td>\n",
       "    </tr>\n",
       "    <tr>\n",
       "      <th>4</th>\n",
       "      <td>National Average</td>\n",
       "      <td>52</td>\n",
       "      <td>Rice - Retail</td>\n",
       "      <td>5</td>\n",
       "      <td>KG</td>\n",
       "      <td>1</td>\n",
       "      <td>2014</td>\n",
       "      <td>5.5099</td>\n",
       "    </tr>\n",
       "  </tbody>\n",
       "</table>\n",
       "</div>"
      ],
      "text/plain": [
       "              Place  ProductId    ProductName  UmId UmName  Month  Year  \\\n",
       "0  National Average         52  Rice - Retail     5     KG      5  2013   \n",
       "1  National Average         52  Rice - Retail     5     KG      6  2013   \n",
       "2  National Average         52  Rice - Retail     5     KG     11  2013   \n",
       "3  National Average         52  Rice - Retail     5     KG     12  2013   \n",
       "4  National Average         52  Rice - Retail     5     KG      1  2014   \n",
       "\n",
       "    Price  \n",
       "0  4.4920  \n",
       "1  4.5786  \n",
       "2  4.7865  \n",
       "3  5.1337  \n",
       "4  5.5099  "
      ]
     },
     "execution_count": 4,
     "metadata": {},
     "output_type": "execute_result"
    }
   ],
   "source": [
    "# head()\n",
    "df.head()"
   ]
  },
  {
   "cell_type": "code",
   "execution_count": 5,
   "id": "fb1ee043",
   "metadata": {},
   "outputs": [
    {
     "data": {
      "text/plain": [
       "array(['Rice - Retail', 'Wheat flour - Retail', 'Beans (white) - Retail',\n",
       "       'Potatoes - Retail', 'Eggs - Retail', 'Meat (chicken) - Retail',\n",
       "       'Sugar - Retail', 'Garlic - Retail', 'Lentils - Retail',\n",
       "       'Pasta - Retail', 'Tomatoes - Retail',\n",
       "       'Groundnuts (shelled) - Retail', 'Bread (common) - Retail',\n",
       "       'Coffee - Retail', 'Onions - Retail', 'Tea (green) - Retail',\n",
       "       'Cabbage - Retail', 'Meat (mutton) - Retail',\n",
       "       'Oil (sunflower) - Retail', 'Salt - Retail',\n",
       "       'Coffee (instant) - Retail', 'Peas (green, dry) - Retail',\n",
       "       'Apples (red) - Retail', 'Cauliflower - Retail',\n",
       "       'Cucumbers (greenhouse) - Retail', 'Oil (olive) - Retail',\n",
       "       'Chickpeas - Retail', 'Bananas - Retail', 'Bulgur - Retail',\n",
       "       'Tea - Retail', 'Fuel (petrol-gasoline) - Retail',\n",
       "       'Transport (public) - Retail', 'Tomatoes (paste) - Retail',\n",
       "       'Fuel (gas) - Retail', 'Apples - Retail', 'Oranges - Retail',\n",
       "       'Yogurt - Retail', 'Bread (pita) - Retail', 'Cucumbers - Retail',\n",
       "       'Fish (fresh) - Retail', 'Spinach - Retail', 'Cheese - Retail',\n",
       "       'Meat (veal) - Retail', 'Eggplants - Retail',\n",
       "       'Milk (powder, infant formula) - Retail', 'Zucchini - Retail',\n",
       "       'Milk (pasteurized) - Retail',\n",
       "       'Wage (non-qualified labour, non-agricultural) - Retail',\n",
       "       'Electricity - Retail', 'Tea (herbal) - Retail', 'Water - Retail',\n",
       "       'Cocoa (powder) - Retail'], dtype=object)"
      ]
     },
     "execution_count": 5,
     "metadata": {},
     "output_type": "execute_result"
    }
   ],
   "source": [
    "df.ProductName.unique()"
   ]
  },
  {
   "cell_type": "markdown",
   "id": "0c586707",
   "metadata": {},
   "source": [
    "# với mức ý nghĩa 5% kiểm định giả thuyết giá bán gạo trung bình năm 2019 là 10 Lira/kg"
   ]
  },
  {
   "cell_type": "code",
   "execution_count": 6,
   "id": "9b3b8cf6",
   "metadata": {},
   "outputs": [],
   "source": [
    "df_rice = df[['ProductName','Month', 'Year','Price']]"
   ]
  },
  {
   "cell_type": "code",
   "execution_count": 7,
   "id": "fc5ee1c9",
   "metadata": {},
   "outputs": [],
   "source": [
    "df_rice = df_rice.loc[(df_rice['ProductName'] == 'Rice - Retail') & (df_rice['Year'] == 2019), ]"
   ]
  },
  {
   "cell_type": "code",
   "execution_count": 8,
   "id": "819c48c4",
   "metadata": {},
   "outputs": [
    {
     "name": "stdout",
     "output_type": "stream",
     "text": [
      "<class 'pandas.core.frame.DataFrame'>\n",
      "Int64Index: 48 entries, 54 to 5833\n",
      "Data columns (total 4 columns):\n",
      " #   Column       Non-Null Count  Dtype  \n",
      "---  ------       --------------  -----  \n",
      " 0   ProductName  48 non-null     object \n",
      " 1   Month        48 non-null     int64  \n",
      " 2   Year         48 non-null     int64  \n",
      " 3   Price        48 non-null     float64\n",
      "dtypes: float64(1), int64(2), object(1)\n",
      "memory usage: 1.9+ KB\n"
     ]
    }
   ],
   "source": [
    "df_rice.info()"
   ]
  },
  {
   "cell_type": "code",
   "execution_count": 9,
   "id": "1912415c",
   "metadata": {},
   "outputs": [
    {
     "data": {
      "text/html": [
       "<div>\n",
       "<style scoped>\n",
       "    .dataframe tbody tr th:only-of-type {\n",
       "        vertical-align: middle;\n",
       "    }\n",
       "\n",
       "    .dataframe tbody tr th {\n",
       "        vertical-align: top;\n",
       "    }\n",
       "\n",
       "    .dataframe thead th {\n",
       "        text-align: right;\n",
       "    }\n",
       "</style>\n",
       "<table border=\"1\" class=\"dataframe\">\n",
       "  <thead>\n",
       "    <tr style=\"text-align: right;\">\n",
       "      <th></th>\n",
       "      <th>ProductName</th>\n",
       "      <th>Month</th>\n",
       "      <th>Year</th>\n",
       "      <th>Price</th>\n",
       "    </tr>\n",
       "  </thead>\n",
       "  <tbody>\n",
       "    <tr>\n",
       "      <th>54</th>\n",
       "      <td>Rice - Retail</td>\n",
       "      <td>1</td>\n",
       "      <td>2019</td>\n",
       "      <td>8.4275</td>\n",
       "    </tr>\n",
       "    <tr>\n",
       "      <th>55</th>\n",
       "      <td>Rice - Retail</td>\n",
       "      <td>2</td>\n",
       "      <td>2019</td>\n",
       "      <td>8.7656</td>\n",
       "    </tr>\n",
       "    <tr>\n",
       "      <th>56</th>\n",
       "      <td>Rice - Retail</td>\n",
       "      <td>3</td>\n",
       "      <td>2019</td>\n",
       "      <td>8.8101</td>\n",
       "    </tr>\n",
       "    <tr>\n",
       "      <th>57</th>\n",
       "      <td>Rice - Retail</td>\n",
       "      <td>4</td>\n",
       "      <td>2019</td>\n",
       "      <td>8.9266</td>\n",
       "    </tr>\n",
       "    <tr>\n",
       "      <th>58</th>\n",
       "      <td>Rice - Retail</td>\n",
       "      <td>5</td>\n",
       "      <td>2019</td>\n",
       "      <td>9.1866</td>\n",
       "    </tr>\n",
       "  </tbody>\n",
       "</table>\n",
       "</div>"
      ],
      "text/plain": [
       "      ProductName  Month  Year   Price\n",
       "54  Rice - Retail      1  2019  8.4275\n",
       "55  Rice - Retail      2  2019  8.7656\n",
       "56  Rice - Retail      3  2019  8.8101\n",
       "57  Rice - Retail      4  2019  8.9266\n",
       "58  Rice - Retail      5  2019  9.1866"
      ]
     },
     "execution_count": 9,
     "metadata": {},
     "output_type": "execute_result"
    }
   ],
   "source": [
    "df_rice.head()"
   ]
  },
  {
   "cell_type": "markdown",
   "id": "c23033a7",
   "metadata": {},
   "source": [
    "# 2.Với mức ý nghĩa 5% hãy kiểm định giả thuyết: Giá bột mỳ và giá gạo ở Turkey năm 2019 là bằng nhau"
   ]
  },
  {
   "cell_type": "code",
   "execution_count": 10,
   "id": "55cf2894",
   "metadata": {},
   "outputs": [],
   "source": [
    "df_WheaflourRetai_rice = df[['ProductName','Month', 'Year','Price']]"
   ]
  },
  {
   "cell_type": "code",
   "execution_count": 11,
   "id": "c19d295c",
   "metadata": {},
   "outputs": [],
   "source": [
    "df_WheaflourRetai_rice =  df_WheaflourRetai_rice.loc[((df_WheaflourRetai_rice['ProductName'] == 'Rice - Retail') & (df_WheaflourRetai_rice['Year'] == 2019)) | ((df_WheaflourRetai_rice['ProductName'] == 'Wheat flour - Retail') & (df_WheaflourRetai_rice['Year'] == 2019)), ]"
   ]
  },
  {
   "cell_type": "code",
   "execution_count": 12,
   "id": "4d5fffe0",
   "metadata": {},
   "outputs": [
    {
     "name": "stdout",
     "output_type": "stream",
     "text": [
      "<class 'pandas.core.frame.DataFrame'>\n",
      "Int64Index: 96 entries, 54 to 5869\n",
      "Data columns (total 4 columns):\n",
      " #   Column       Non-Null Count  Dtype  \n",
      "---  ------       --------------  -----  \n",
      " 0   ProductName  96 non-null     object \n",
      " 1   Month        96 non-null     int64  \n",
      " 2   Year         96 non-null     int64  \n",
      " 3   Price        96 non-null     float64\n",
      "dtypes: float64(1), int64(2), object(1)\n",
      "memory usage: 3.8+ KB\n"
     ]
    }
   ],
   "source": [
    "df_WheaflourRetai_rice.info()"
   ]
  },
  {
   "cell_type": "code",
   "execution_count": 13,
   "id": "ed102f1f",
   "metadata": {},
   "outputs": [
    {
     "data": {
      "text/plain": [
       "array(['Rice - Retail', 'Wheat flour - Retail'], dtype=object)"
      ]
     },
     "execution_count": 13,
     "metadata": {},
     "output_type": "execute_result"
    }
   ],
   "source": [
    "df_WheaflourRetai_rice.ProductName.unique()"
   ]
  },
  {
   "cell_type": "code",
   "execution_count": 14,
   "id": "77848fbc",
   "metadata": {},
   "outputs": [
    {
     "data": {
      "text/html": [
       "<div>\n",
       "<style scoped>\n",
       "    .dataframe tbody tr th:only-of-type {\n",
       "        vertical-align: middle;\n",
       "    }\n",
       "\n",
       "    .dataframe tbody tr th {\n",
       "        vertical-align: top;\n",
       "    }\n",
       "\n",
       "    .dataframe thead th {\n",
       "        text-align: right;\n",
       "    }\n",
       "</style>\n",
       "<table border=\"1\" class=\"dataframe\">\n",
       "  <thead>\n",
       "    <tr style=\"text-align: right;\">\n",
       "      <th></th>\n",
       "      <th>ProductName</th>\n",
       "      <th>Month</th>\n",
       "      <th>Year</th>\n",
       "      <th>Price</th>\n",
       "    </tr>\n",
       "  </thead>\n",
       "  <tbody>\n",
       "    <tr>\n",
       "      <th>54</th>\n",
       "      <td>Rice - Retail</td>\n",
       "      <td>1</td>\n",
       "      <td>2019</td>\n",
       "      <td>8.4275</td>\n",
       "    </tr>\n",
       "    <tr>\n",
       "      <th>55</th>\n",
       "      <td>Rice - Retail</td>\n",
       "      <td>2</td>\n",
       "      <td>2019</td>\n",
       "      <td>8.7656</td>\n",
       "    </tr>\n",
       "    <tr>\n",
       "      <th>56</th>\n",
       "      <td>Rice - Retail</td>\n",
       "      <td>3</td>\n",
       "      <td>2019</td>\n",
       "      <td>8.8101</td>\n",
       "    </tr>\n",
       "    <tr>\n",
       "      <th>57</th>\n",
       "      <td>Rice - Retail</td>\n",
       "      <td>4</td>\n",
       "      <td>2019</td>\n",
       "      <td>8.9266</td>\n",
       "    </tr>\n",
       "    <tr>\n",
       "      <th>58</th>\n",
       "      <td>Rice - Retail</td>\n",
       "      <td>5</td>\n",
       "      <td>2019</td>\n",
       "      <td>9.1866</td>\n",
       "    </tr>\n",
       "  </tbody>\n",
       "</table>\n",
       "</div>"
      ],
      "text/plain": [
       "      ProductName  Month  Year   Price\n",
       "54  Rice - Retail      1  2019  8.4275\n",
       "55  Rice - Retail      2  2019  8.7656\n",
       "56  Rice - Retail      3  2019  8.8101\n",
       "57  Rice - Retail      4  2019  8.9266\n",
       "58  Rice - Retail      5  2019  9.1866"
      ]
     },
     "execution_count": 14,
     "metadata": {},
     "output_type": "execute_result"
    }
   ],
   "source": [
    "df_WheaflourRetai_rice.head()"
   ]
  },
  {
   "cell_type": "markdown",
   "id": "20c187c2",
   "metadata": {},
   "source": [
    "# 3. Vẽ biểu đồ sự biến đổi giá gạo trung bình từ năm 1/2014 đến năm 1/2019 và tìm mối liên hệ giữa giá Trà và giá Cà phê"
   ]
  },
  {
   "cell_type": "code",
   "execution_count": 15,
   "id": "38c46aac",
   "metadata": {},
   "outputs": [],
   "source": [
    "df_rice1 = df[['ProductName','Month', 'Year','Price']]"
   ]
  },
  {
   "cell_type": "code",
   "execution_count": 16,
   "id": "6ace6e05",
   "metadata": {},
   "outputs": [],
   "source": [
    "df_rice1 = df_rice1.loc[((df_rice1['ProductName'] == 'Rice - Retail') & (df_rice1['Month'] == 1) & ((df_rice1['Year'] == 2019) | (df_rice1['Year'] == 2014))) | ((df_rice1['ProductName'] == 'Tea - Retail') & (df_rice1['Month'] == 1) & ((df_rice1['Year'] == 2019) | (df_rice1['Year'] == 2014))) | ((df_rice1['ProductName'] == 'Coffee - Retail') & (df_rice1['Month'] == 1) & ((df_rice1['Year'] == 2019) | (df_rice1['Year'] == 2014))), ]"
   ]
  },
  {
   "cell_type": "code",
   "execution_count": 17,
   "id": "414e4d0c",
   "metadata": {},
   "outputs": [
    {
     "name": "stdout",
     "output_type": "stream",
     "text": [
      "<class 'pandas.core.frame.DataFrame'>\n",
      "Int64Index: 15 entries, 4 to 6678\n",
      "Data columns (total 4 columns):\n",
      " #   Column       Non-Null Count  Dtype  \n",
      "---  ------       --------------  -----  \n",
      " 0   ProductName  15 non-null     object \n",
      " 1   Month        15 non-null     int64  \n",
      " 2   Year         15 non-null     int64  \n",
      " 3   Price        15 non-null     float64\n",
      "dtypes: float64(1), int64(2), object(1)\n",
      "memory usage: 600.0+ bytes\n"
     ]
    }
   ],
   "source": [
    "df_rice1.info()"
   ]
  },
  {
   "cell_type": "code",
   "execution_count": 18,
   "id": "948c07a0",
   "metadata": {},
   "outputs": [
    {
     "data": {
      "text/html": [
       "<div>\n",
       "<style scoped>\n",
       "    .dataframe tbody tr th:only-of-type {\n",
       "        vertical-align: middle;\n",
       "    }\n",
       "\n",
       "    .dataframe tbody tr th {\n",
       "        vertical-align: top;\n",
       "    }\n",
       "\n",
       "    .dataframe thead th {\n",
       "        text-align: right;\n",
       "    }\n",
       "</style>\n",
       "<table border=\"1\" class=\"dataframe\">\n",
       "  <thead>\n",
       "    <tr style=\"text-align: right;\">\n",
       "      <th></th>\n",
       "      <th>ProductName</th>\n",
       "      <th>Month</th>\n",
       "      <th>Year</th>\n",
       "      <th>Price</th>\n",
       "    </tr>\n",
       "  </thead>\n",
       "  <tbody>\n",
       "    <tr>\n",
       "      <th>4</th>\n",
       "      <td>Rice - Retail</td>\n",
       "      <td>1</td>\n",
       "      <td>2014</td>\n",
       "      <td>5.5099</td>\n",
       "    </tr>\n",
       "    <tr>\n",
       "      <th>54</th>\n",
       "      <td>Rice - Retail</td>\n",
       "      <td>1</td>\n",
       "      <td>2019</td>\n",
       "      <td>8.4275</td>\n",
       "    </tr>\n",
       "    <tr>\n",
       "      <th>842</th>\n",
       "      <td>Coffee - Retail</td>\n",
       "      <td>1</td>\n",
       "      <td>2014</td>\n",
       "      <td>31.2607</td>\n",
       "    </tr>\n",
       "    <tr>\n",
       "      <th>892</th>\n",
       "      <td>Coffee - Retail</td>\n",
       "      <td>1</td>\n",
       "      <td>2019</td>\n",
       "      <td>46.7495</td>\n",
       "    </tr>\n",
       "    <tr>\n",
       "      <th>1705</th>\n",
       "      <td>Tea - Retail</td>\n",
       "      <td>1</td>\n",
       "      <td>2014</td>\n",
       "      <td>15.2072</td>\n",
       "    </tr>\n",
       "  </tbody>\n",
       "</table>\n",
       "</div>"
      ],
      "text/plain": [
       "          ProductName  Month  Year    Price\n",
       "4       Rice - Retail      1  2014   5.5099\n",
       "54      Rice - Retail      1  2019   8.4275\n",
       "842   Coffee - Retail      1  2014  31.2607\n",
       "892   Coffee - Retail      1  2019  46.7495\n",
       "1705     Tea - Retail      1  2014  15.2072"
      ]
     },
     "execution_count": 18,
     "metadata": {},
     "output_type": "execute_result"
    }
   ],
   "source": [
    "df_rice1.head()"
   ]
  },
  {
   "cell_type": "markdown",
   "id": "5ef88846",
   "metadata": {},
   "source": [
    "# Bước 2:"
   ]
  },
  {
   "cell_type": "code",
   "execution_count": 19,
   "id": "ef00dab9",
   "metadata": {},
   "outputs": [
    {
     "data": {
      "text/plain": [
       "count    48.000000\n",
       "mean      9.384565\n",
       "std       0.674674\n",
       "min       8.061700\n",
       "25%       8.798975\n",
       "50%       9.430650\n",
       "75%      10.110000\n",
       "max      10.404300\n",
       "Name: Price, dtype: float64"
      ]
     },
     "execution_count": 19,
     "metadata": {},
     "output_type": "execute_result"
    }
   ],
   "source": [
    "df_rice.Price.describe()"
   ]
  },
  {
   "cell_type": "code",
   "execution_count": 20,
   "id": "732bf53c",
   "metadata": {},
   "outputs": [
    {
     "name": "stderr",
     "output_type": "stream",
     "text": [
      "C:\\Users\\FPTSHOP\\anaconda3\\lib\\site-packages\\seaborn\\distributions.py:2619: FutureWarning: `distplot` is a deprecated function and will be removed in a future version. Please adapt your code to use either `displot` (a figure-level function with similar flexibility) or `histplot` (an axes-level function for histograms).\n",
      "  warnings.warn(msg, FutureWarning)\n"
     ]
    },
    {
     "data": {
      "text/plain": [
       "<AxesSubplot:xlabel='Price', ylabel='Density'>"
      ]
     },
     "execution_count": 20,
     "metadata": {},
     "output_type": "execute_result"
    },
    {
     "data": {
      "image/png": "[encoded data removed]",
      "text/plain": [
       "<Figure size 1008x576 with 1 Axes>"
      ]
     },
     "metadata": {
      "needs_background": "light"
     },
     "output_type": "display_data"
    }
   ],
   "source": [
    "plt.figure(figsize = (14,8))\n",
    "sns.distplot(df_rice.Price, color = 'green')"
   ]
  },
  {
   "cell_type": "code",
   "execution_count": 21,
   "id": "d3fb53b8",
   "metadata": {},
   "outputs": [
    {
     "data": {
      "text/plain": [
       "count    96.000000\n",
       "mean      6.535241\n",
       "std       2.910502\n",
       "min       3.067200\n",
       "25%       3.776525\n",
       "50%       6.166000\n",
       "75%       9.428675\n",
       "max      10.404300\n",
       "Name: Price, dtype: float64"
      ]
     },
     "execution_count": 21,
     "metadata": {},
     "output_type": "execute_result"
    }
   ],
   "source": [
    "df_WheaflourRetai_rice.Price.describe()"
   ]
  },
  {
   "cell_type": "code",
   "execution_count": 22,
   "id": "a205eda5",
   "metadata": {},
   "outputs": [
    {
     "name": "stderr",
     "output_type": "stream",
     "text": [
      "C:\\Users\\FPTSHOP\\anaconda3\\lib\\site-packages\\seaborn\\distributions.py:2619: FutureWarning: `distplot` is a deprecated function and will be removed in a future version. Please adapt your code to use either `displot` (a figure-level function with similar flexibility) or `histplot` (an axes-level function for histograms).\n",
      "  warnings.warn(msg, FutureWarning)\n"
     ]
    },
    {
     "data": {
      "text/plain": [
       "<AxesSubplot:xlabel='Price', ylabel='Density'>"
      ]
     },
     "execution_count": 22,
     "metadata": {},
     "output_type": "execute_result"
    },
    {
     "data": {
      "image/png": "[encoded data removed]",
      "text/plain": [
       "<Figure size 1296x576 with 1 Axes>"
      ]
     },
     "metadata": {
      "needs_background": "light"
     },
     "output_type": "display_data"
    }
   ],
   "source": [
    "plt.figure(figsize = (18,8))\n",
    "sns.distplot(df_WheaflourRetai_rice.Price, color = '#005700')"
   ]
  },
  {
   "cell_type": "code",
   "execution_count": 23,
   "id": "5740fc00",
   "metadata": {},
   "outputs": [
    {
     "data": {
      "text/plain": [
       "count    15.000000\n",
       "mean     25.556427\n",
       "std      16.123684\n",
       "min       5.509900\n",
       "25%       9.003750\n",
       "50%      26.001300\n",
       "75%      38.416150\n",
       "max      50.444000\n",
       "Name: Price, dtype: float64"
      ]
     },
     "execution_count": 23,
     "metadata": {},
     "output_type": "execute_result"
    }
   ],
   "source": [
    "df_rice1.Price.describe()"
   ]
  },
  {
   "cell_type": "code",
   "execution_count": 24,
   "id": "8443c1f7",
   "metadata": {},
   "outputs": [
    {
     "name": "stderr",
     "output_type": "stream",
     "text": [
      "C:\\Users\\FPTSHOP\\anaconda3\\lib\\site-packages\\seaborn\\distributions.py:2619: FutureWarning: `distplot` is a deprecated function and will be removed in a future version. Please adapt your code to use either `displot` (a figure-level function with similar flexibility) or `histplot` (an axes-level function for histograms).\n",
      "  warnings.warn(msg, FutureWarning)\n"
     ]
    },
    {
     "data": {
      "text/plain": [
       "<AxesSubplot:xlabel='Price', ylabel='Density'>"
      ]
     },
     "execution_count": 24,
     "metadata": {},
     "output_type": "execute_result"
    },
    {
     "data": {
      "image/png": "[encoded data removed]",
      "text/plain": [
       "<Figure size 1296x576 with 1 Axes>"
      ]
     },
     "metadata": {
      "needs_background": "light"
     },
     "output_type": "display_data"
    }
   ],
   "source": [
    "plt.figure(figsize = (18,8))\n",
    "sns.distplot(df_rice1.Price, color = '#005700')"
   ]
  },
  {
   "cell_type": "markdown",
   "id": "796f9e86",
   "metadata": {},
   "source": [
    "# Bước 3:"
   ]
  },
  {
   "cell_type": "markdown",
   "id": "4a9ab576",
   "metadata": {},
   "source": [
    "#  với mức ý nghĩa 5% kiểm định giả thuyết giá bán gạo trung bình năm 2019 là 10 Lira/kg\n",
    "+ dựa vào mức ý nghĩa tính z-score\n",
    "+ giả thiết Ho = 10 lira/ kg H1 != 10 \n",
    "+ a = 0.05 => p = 1 -0.05 = 0.95 => z = 1645"
   ]
  },
  {
   "cell_type": "code",
   "execution_count": 25,
   "id": "d0ea3907",
   "metadata": {},
   "outputs": [
    {
     "data": {
      "text/plain": [
       "Ttest_1sampResult(statistic=-1.1854023812590566, pvalue=0.24181730968913567)"
      ]
     },
     "execution_count": 25,
     "metadata": {},
     "output_type": "execute_result"
    }
   ],
   "source": [
    "stats.ttest_1samp(df_rice.Price, 9.5)"
   ]
  },
  {
   "cell_type": "raw",
   "id": "c4e714cf",
   "metadata": {},
   "source": [
    "kết luận: pvalue > a chưa đủ cơ sở để bác bỏ giả thuyết H0, giả thiết đúng"
   ]
  },
  {
   "cell_type": "markdown",
   "id": "a6b92773",
   "metadata": {},
   "source": [
    "# 2. Với mức ý nghĩa 5% hãy kiểm định giả thuyết: Giá bột mỳ và giá gạo ở Turkey năm 2019 là bằng nhau"
   ]
  },
  {
   "cell_type": "code",
   "execution_count": 26,
   "id": "e6013075",
   "metadata": {},
   "outputs": [],
   "source": [
    "price = df_WheaflourRetai_rice.loc[df_WheaflourRetai_rice['ProductName'] == 'Rice - Retail',]"
   ]
  },
  {
   "cell_type": "code",
   "execution_count": 27,
   "id": "5144077d",
   "metadata": {},
   "outputs": [],
   "source": [
    "wheat = df_WheaflourRetai_rice.loc[df_WheaflourRetai_rice['ProductName'] == 'Wheat flour - Retail',]"
   ]
  },
  {
   "cell_type": "code",
   "execution_count": 28,
   "id": "a8ed5989",
   "metadata": {},
   "outputs": [
    {
     "data": {
      "text/html": [
       "<div>\n",
       "<style scoped>\n",
       "    .dataframe tbody tr th:only-of-type {\n",
       "        vertical-align: middle;\n",
       "    }\n",
       "\n",
       "    .dataframe tbody tr th {\n",
       "        vertical-align: top;\n",
       "    }\n",
       "\n",
       "    .dataframe thead th {\n",
       "        text-align: right;\n",
       "    }\n",
       "</style>\n",
       "<table border=\"1\" class=\"dataframe\">\n",
       "  <thead>\n",
       "    <tr style=\"text-align: right;\">\n",
       "      <th></th>\n",
       "      <th>ProductName</th>\n",
       "      <th>Month</th>\n",
       "      <th>Year</th>\n",
       "      <th>Price</th>\n",
       "    </tr>\n",
       "  </thead>\n",
       "  <tbody>\n",
       "    <tr>\n",
       "      <th>54</th>\n",
       "      <td>Rice - Retail</td>\n",
       "      <td>1</td>\n",
       "      <td>2019</td>\n",
       "      <td>8.4275</td>\n",
       "    </tr>\n",
       "    <tr>\n",
       "      <th>55</th>\n",
       "      <td>Rice - Retail</td>\n",
       "      <td>2</td>\n",
       "      <td>2019</td>\n",
       "      <td>8.7656</td>\n",
       "    </tr>\n",
       "    <tr>\n",
       "      <th>56</th>\n",
       "      <td>Rice - Retail</td>\n",
       "      <td>3</td>\n",
       "      <td>2019</td>\n",
       "      <td>8.8101</td>\n",
       "    </tr>\n",
       "    <tr>\n",
       "      <th>57</th>\n",
       "      <td>Rice - Retail</td>\n",
       "      <td>4</td>\n",
       "      <td>2019</td>\n",
       "      <td>8.9266</td>\n",
       "    </tr>\n",
       "    <tr>\n",
       "      <th>58</th>\n",
       "      <td>Rice - Retail</td>\n",
       "      <td>5</td>\n",
       "      <td>2019</td>\n",
       "      <td>9.1866</td>\n",
       "    </tr>\n",
       "  </tbody>\n",
       "</table>\n",
       "</div>"
      ],
      "text/plain": [
       "      ProductName  Month  Year   Price\n",
       "54  Rice - Retail      1  2019  8.4275\n",
       "55  Rice - Retail      2  2019  8.7656\n",
       "56  Rice - Retail      3  2019  8.8101\n",
       "57  Rice - Retail      4  2019  8.9266\n",
       "58  Rice - Retail      5  2019  9.1866"
      ]
     },
     "execution_count": 28,
     "metadata": {},
     "output_type": "execute_result"
    }
   ],
   "source": [
    "price.head()"
   ]
  },
  {
   "cell_type": "code",
   "execution_count": 29,
   "id": "9856c5c2",
   "metadata": {},
   "outputs": [
    {
     "data": {
      "text/html": [
       "<div>\n",
       "<style scoped>\n",
       "    .dataframe tbody tr th:only-of-type {\n",
       "        vertical-align: middle;\n",
       "    }\n",
       "\n",
       "    .dataframe tbody tr th {\n",
       "        vertical-align: top;\n",
       "    }\n",
       "\n",
       "    .dataframe thead th {\n",
       "        text-align: right;\n",
       "    }\n",
       "</style>\n",
       "<table border=\"1\" class=\"dataframe\">\n",
       "  <thead>\n",
       "    <tr style=\"text-align: right;\">\n",
       "      <th></th>\n",
       "      <th>ProductName</th>\n",
       "      <th>Month</th>\n",
       "      <th>Year</th>\n",
       "      <th>Price</th>\n",
       "    </tr>\n",
       "  </thead>\n",
       "  <tbody>\n",
       "    <tr>\n",
       "      <th>120</th>\n",
       "      <td>Wheat flour - Retail</td>\n",
       "      <td>1</td>\n",
       "      <td>2019</td>\n",
       "      <td>3.5069</td>\n",
       "    </tr>\n",
       "    <tr>\n",
       "      <th>121</th>\n",
       "      <td>Wheat flour - Retail</td>\n",
       "      <td>2</td>\n",
       "      <td>2019</td>\n",
       "      <td>3.4963</td>\n",
       "    </tr>\n",
       "    <tr>\n",
       "      <th>122</th>\n",
       "      <td>Wheat flour - Retail</td>\n",
       "      <td>3</td>\n",
       "      <td>2019</td>\n",
       "      <td>3.5575</td>\n",
       "    </tr>\n",
       "    <tr>\n",
       "      <th>123</th>\n",
       "      <td>Wheat flour - Retail</td>\n",
       "      <td>4</td>\n",
       "      <td>2019</td>\n",
       "      <td>3.6129</td>\n",
       "    </tr>\n",
       "    <tr>\n",
       "      <th>124</th>\n",
       "      <td>Wheat flour - Retail</td>\n",
       "      <td>5</td>\n",
       "      <td>2019</td>\n",
       "      <td>3.5917</td>\n",
       "    </tr>\n",
       "  </tbody>\n",
       "</table>\n",
       "</div>"
      ],
      "text/plain": [
       "              ProductName  Month  Year   Price\n",
       "120  Wheat flour - Retail      1  2019  3.5069\n",
       "121  Wheat flour - Retail      2  2019  3.4963\n",
       "122  Wheat flour - Retail      3  2019  3.5575\n",
       "123  Wheat flour - Retail      4  2019  3.6129\n",
       "124  Wheat flour - Retail      5  2019  3.5917"
      ]
     },
     "execution_count": 29,
     "metadata": {},
     "output_type": "execute_result"
    }
   ],
   "source": [
    "wheat.head()"
   ]
  },
  {
   "cell_type": "code",
   "execution_count": 35,
   "id": "9c4aedfd",
   "metadata": {},
   "outputs": [],
   "source": [
    "df2 = pd.DataFrame({'rice': list(price['Price']),\n",
    "                     'wheat': list(wheat['Price'])})"
   ]
  },
  {
   "cell_type": "code",
   "execution_count": 36,
   "id": "6be42908",
   "metadata": {},
   "outputs": [
    {
     "data": {
      "text/plain": [
       "<AxesSubplot:>"
      ]
     },
     "execution_count": 36,
     "metadata": {},
     "output_type": "execute_result"
    },
    {
     "data": {
      "image/png": "[encoded data removed]",
      "text/plain": [
       "<Figure size 432x288 with 1 Axes>"
      ]
     },
     "metadata": {
      "needs_background": "light"
     },
     "output_type": "display_data"
    }
   ],
   "source": [
    "sns.boxplot(data = df2)"
   ]
  },
  {
   "cell_type": "code",
   "execution_count": 38,
   "id": "6b501b9f",
   "metadata": {},
   "outputs": [
    {
     "data": {
      "text/plain": [
       "Ttest_indResult(statistic=53.7516920363042, pvalue=7.11046528586048e-55)"
      ]
     },
     "execution_count": 38,
     "metadata": {},
     "output_type": "execute_result"
    }
   ],
   "source": [
    "stats.ttest_ind(df2['rice'], df2['wheat'], equal_var=False)"
   ]
  },
  {
   "cell_type": "markdown",
   "id": "4c4fd847",
   "metadata": {},
   "source": [
    "+ kết luận: vì pvalue < a <=> 7.11046528586048e-55 < 5% nên giả thiết H0 bị bác bỏ"
   ]
  },
  {
   "cell_type": "markdown",
   "id": "13324024",
   "metadata": {},
   "source": [
    "# 3. Vẽ biểu đồ sự biến đổi giá gạo trung bình từ năm 1/2014 đến năm 1/2019 và tìm mối liên hệ giữa giá Trà và giá Cà phê"
   ]
  },
  {
   "cell_type": "code",
   "execution_count": 39,
   "id": "207c113a",
   "metadata": {},
   "outputs": [],
   "source": [
    "rice1 = df_rice1.loc[df_rice1['ProductName'] == 'Rice - Retail',:]"
   ]
  },
  {
   "cell_type": "code",
   "execution_count": 41,
   "id": "fe704727",
   "metadata": {},
   "outputs": [],
   "source": [
    "cooffe = df_rice1.loc[df_rice1['ProductName'] == 'Coffee - Retail']"
   ]
  },
  {
   "cell_type": "code",
   "execution_count": 59,
   "id": "0cdbf881",
   "metadata": {},
   "outputs": [],
   "source": [
    "tea = df_rice1.loc[df_rice1['ProductName'] == 'Tea - Retail']"
   ]
  },
  {
   "cell_type": "code",
   "execution_count": 60,
   "id": "7cd1d2a9",
   "metadata": {},
   "outputs": [
    {
     "data": {
      "text/html": [
       "<div>\n",
       "<style scoped>\n",
       "    .dataframe tbody tr th:only-of-type {\n",
       "        vertical-align: middle;\n",
       "    }\n",
       "\n",
       "    .dataframe tbody tr th {\n",
       "        vertical-align: top;\n",
       "    }\n",
       "\n",
       "    .dataframe thead th {\n",
       "        text-align: right;\n",
       "    }\n",
       "</style>\n",
       "<table border=\"1\" class=\"dataframe\">\n",
       "  <thead>\n",
       "    <tr style=\"text-align: right;\">\n",
       "      <th></th>\n",
       "      <th>ProductName</th>\n",
       "      <th>Month</th>\n",
       "      <th>Year</th>\n",
       "      <th>Price</th>\n",
       "    </tr>\n",
       "  </thead>\n",
       "  <tbody>\n",
       "    <tr>\n",
       "      <th>4</th>\n",
       "      <td>Rice - Retail</td>\n",
       "      <td>1</td>\n",
       "      <td>2014</td>\n",
       "      <td>5.5099</td>\n",
       "    </tr>\n",
       "    <tr>\n",
       "      <th>54</th>\n",
       "      <td>Rice - Retail</td>\n",
       "      <td>1</td>\n",
       "      <td>2019</td>\n",
       "      <td>8.4275</td>\n",
       "    </tr>\n",
       "    <tr>\n",
       "      <th>2657</th>\n",
       "      <td>Rice - Retail</td>\n",
       "      <td>1</td>\n",
       "      <td>2019</td>\n",
       "      <td>8.0617</td>\n",
       "    </tr>\n",
       "    <tr>\n",
       "      <th>4239</th>\n",
       "      <td>Rice - Retail</td>\n",
       "      <td>1</td>\n",
       "      <td>2019</td>\n",
       "      <td>8.8745</td>\n",
       "    </tr>\n",
       "    <tr>\n",
       "      <th>5822</th>\n",
       "      <td>Rice - Retail</td>\n",
       "      <td>1</td>\n",
       "      <td>2019</td>\n",
       "      <td>9.1330</td>\n",
       "    </tr>\n",
       "  </tbody>\n",
       "</table>\n",
       "</div>"
      ],
      "text/plain": [
       "        ProductName  Month  Year   Price\n",
       "4     Rice - Retail      1  2014  5.5099\n",
       "54    Rice - Retail      1  2019  8.4275\n",
       "2657  Rice - Retail      1  2019  8.0617\n",
       "4239  Rice - Retail      1  2019  8.8745\n",
       "5822  Rice - Retail      1  2019  9.1330"
      ]
     },
     "execution_count": 60,
     "metadata": {},
     "output_type": "execute_result"
    }
   ],
   "source": [
    "rice1.head()"
   ]
  },
  {
   "cell_type": "code",
   "execution_count": 68,
   "id": "d48e28bf",
   "metadata": {},
   "outputs": [],
   "source": [
    "lst = pd.DataFrame()\n",
    "name = [rice1, cooffe, tea]\n",
    "\n",
    "for i in range(len(name)):\n",
    "    dfy = name[i].groupby('Year').sum()\n",
    "    dfy = dfy.reset_index()\n",
    "    lst = pd.concat([lst,dfy], ignore_index = True)"
   ]
  },
  {
   "cell_type": "code",
   "execution_count": 69,
   "id": "5d51d5d1",
   "metadata": {},
   "outputs": [
    {
     "data": {
      "text/html": [
       "<div>\n",
       "<style scoped>\n",
       "    .dataframe tbody tr th:only-of-type {\n",
       "        vertical-align: middle;\n",
       "    }\n",
       "\n",
       "    .dataframe tbody tr th {\n",
       "        vertical-align: top;\n",
       "    }\n",
       "\n",
       "    .dataframe thead th {\n",
       "        text-align: right;\n",
       "    }\n",
       "</style>\n",
       "<table border=\"1\" class=\"dataframe\">\n",
       "  <thead>\n",
       "    <tr style=\"text-align: right;\">\n",
       "      <th></th>\n",
       "      <th>Year</th>\n",
       "      <th>Month</th>\n",
       "      <th>Price</th>\n",
       "    </tr>\n",
       "  </thead>\n",
       "  <tbody>\n",
       "    <tr>\n",
       "      <th>0</th>\n",
       "      <td>2014</td>\n",
       "      <td>1</td>\n",
       "      <td>5.5099</td>\n",
       "    </tr>\n",
       "    <tr>\n",
       "      <th>1</th>\n",
       "      <td>2019</td>\n",
       "      <td>4</td>\n",
       "      <td>34.4967</td>\n",
       "    </tr>\n",
       "    <tr>\n",
       "      <th>2</th>\n",
       "      <td>2014</td>\n",
       "      <td>1</td>\n",
       "      <td>31.2607</td>\n",
       "    </tr>\n",
       "    <tr>\n",
       "      <th>3</th>\n",
       "      <td>2019</td>\n",
       "      <td>4</td>\n",
       "      <td>189.8043</td>\n",
       "    </tr>\n",
       "    <tr>\n",
       "      <th>4</th>\n",
       "      <td>2014</td>\n",
       "      <td>1</td>\n",
       "      <td>15.2072</td>\n",
       "    </tr>\n",
       "  </tbody>\n",
       "</table>\n",
       "</div>"
      ],
      "text/plain": [
       "   Year  Month     Price\n",
       "0  2014      1    5.5099\n",
       "1  2019      4   34.4967\n",
       "2  2014      1   31.2607\n",
       "3  2019      4  189.8043\n",
       "4  2014      1   15.2072"
      ]
     },
     "execution_count": 69,
     "metadata": {},
     "output_type": "execute_result"
    }
   ],
   "source": [
    "lst.head()"
   ]
  },
  {
   "cell_type": "code",
   "execution_count": 70,
   "id": "ed0c534e",
   "metadata": {},
   "outputs": [
    {
     "name": "stdout",
     "output_type": "stream",
     "text": [
      "<class 'pandas.core.frame.DataFrame'>\n",
      "RangeIndex: 6 entries, 0 to 5\n",
      "Data columns (total 3 columns):\n",
      " #   Column  Non-Null Count  Dtype  \n",
      "---  ------  --------------  -----  \n",
      " 0   Year    6 non-null      int64  \n",
      " 1   Month   6 non-null      int64  \n",
      " 2   Price   6 non-null      float64\n",
      "dtypes: float64(1), int64(2)\n",
      "memory usage: 272.0 bytes\n"
     ]
    }
   ],
   "source": [
    "lst.info()"
   ]
  },
  {
   "cell_type": "code",
   "execution_count": 71,
   "id": "179a3b2d",
   "metadata": {},
   "outputs": [],
   "source": [
    "data = pd.DataFrame({'productName': list(['Rice', 'cooffe', 'tea']),\n",
    "                      '2014': list(lst.loc[lst['Year'] == 2014, 'Price']),\n",
    "                    '2019': list(lst.loc[lst['Year'] == 2019, 'Price'])})"
   ]
  },
  {
   "cell_type": "code",
   "execution_count": 72,
   "id": "9acf8440",
   "metadata": {},
   "outputs": [
    {
     "data": {
      "text/html": [
       "<div>\n",
       "<style scoped>\n",
       "    .dataframe tbody tr th:only-of-type {\n",
       "        vertical-align: middle;\n",
       "    }\n",
       "\n",
       "    .dataframe tbody tr th {\n",
       "        vertical-align: top;\n",
       "    }\n",
       "\n",
       "    .dataframe thead th {\n",
       "        text-align: right;\n",
       "    }\n",
       "</style>\n",
       "<table border=\"1\" class=\"dataframe\">\n",
       "  <thead>\n",
       "    <tr style=\"text-align: right;\">\n",
       "      <th></th>\n",
       "      <th>productName</th>\n",
       "      <th>2014</th>\n",
       "      <th>2019</th>\n",
       "    </tr>\n",
       "  </thead>\n",
       "  <tbody>\n",
       "    <tr>\n",
       "      <th>0</th>\n",
       "      <td>Rice</td>\n",
       "      <td>5.5099</td>\n",
       "      <td>34.4967</td>\n",
       "    </tr>\n",
       "    <tr>\n",
       "      <th>1</th>\n",
       "      <td>cooffe</td>\n",
       "      <td>31.2607</td>\n",
       "      <td>189.8043</td>\n",
       "    </tr>\n",
       "    <tr>\n",
       "      <th>2</th>\n",
       "      <td>tea</td>\n",
       "      <td>15.2072</td>\n",
       "      <td>107.0676</td>\n",
       "    </tr>\n",
       "  </tbody>\n",
       "</table>\n",
       "</div>"
      ],
      "text/plain": [
       "  productName     2014      2019\n",
       "0        Rice   5.5099   34.4967\n",
       "1      cooffe  31.2607  189.8043\n",
       "2         tea  15.2072  107.0676"
      ]
     },
     "execution_count": 72,
     "metadata": {},
     "output_type": "execute_result"
    }
   ],
   "source": [
    "data.head()"
   ]
  },
  {
   "cell_type": "code",
   "execution_count": 77,
   "id": "692994a7",
   "metadata": {},
   "outputs": [
    {
     "data": {
      "image/png": "[encoded data removed]",
      "text/plain": [
       "<Figure size 1368x720 with 1 Axes>"
      ]
     },
     "metadata": {
      "needs_background": "light"
     },
     "output_type": "display_data"
    }
   ],
   "source": [
    "plt.figure( figsize = (19,10))\n",
    "x = np.arange(len(data['productName']))\n",
    "width = 0.35\n",
    "plt.bar(x- 0.1, list(data['2014']), width, color = '#005700')\n",
    "\n",
    "plt.bar(x+ 0.2, list(data['2019']), width, color = '#000080')\n",
    "\n",
    "\n",
    "plt.grid(color='black', linestyle='--', linewidth=2, axis='y', alpha=0.2)\n",
    "plt.xticks(x, list(data['productName']))\n",
    "plt.title(\"giá gạo trung bình từ năm 1/2014 đến năm 1/2019 và cafe, tea\",  fontsize = 24, fontweight ='bold')\n",
    "plt.ylabel(\"Price\", fontsize = 14)\n",
    "plt.xlabel('Product Name', fontsize = 14)\n",
    "plt.show()"
   ]
  },
  {
   "cell_type": "code",
   "execution_count": null,
   "id": "2b46d6fb",
   "metadata": {},
   "outputs": [],
   "source": []
  }
 ],
 "metadata": {
  "kernelspec": {
   "display_name": "Python 3 (ipykernel)",
   "language": "python",
   "name": "python3"
  },
  "language_info": {
   "codemirror_mode": {
    "name": "ipython",
    "version": 3
   },
   "file_extension": ".py",
   "mimetype": "text/x-python",
   "name": "python",
   "nbconvert_exporter": "python",
   "pygments_lexer": "ipython3",
   "version": "3.9.7"
  }
 },
 "nbformat": 4,
 "nbformat_minor": 5
}

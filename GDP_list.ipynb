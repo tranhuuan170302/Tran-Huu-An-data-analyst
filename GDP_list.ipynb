{
  "nbformat": 4,
  "nbformat_minor": 0,
  "metadata": {
    "colab": {
      "name": "GDP_list.ipynb",
      "provenance": [],
      "mount_file_id": "1nMvI-9TiIStBvmFG9rjzktdOJoDvAcb8",
      "authorship_tag": "ABX9TyPGyXiPy5zi4weYcmOrIEuK",
      "include_colab_link": true
    },
    "kernelspec": {
      "name": "python3",
      "display_name": "Python 3"
    },
    "language_info": {
      "name": "python"
    }
  },
  "cells": [
    {
      "cell_type": "markdown",
      "metadata": {
        "id": "view-in-github",
        "colab_type": "text"
      },
      "source": [
        "<a href=\"https://colab.research.google.com/github/tranhuuan170302/Tran-Huu-An-data-analyst/blob/main/GDP_list.ipynb\" target=\"_parent\"><img src=\"https://colab.research.google.com/assets/colab-badge.svg\" alt=\"Open In Colab\"/></a>"
      ]
    },
    {
      "cell_type": "code",
      "execution_count": 3,
      "metadata": {
        "id": "lkEZpaDAD5Ij"
      },
      "outputs": [],
      "source": [
        "import pandas as pd\n"
      ]
    },
    {
      "cell_type": "code",
      "source": [
        "from google.colab import drive\n",
        "drive.mount('/content/drive')"
      ],
      "metadata": {
        "colab": {
          "base_uri": "https://localhost:8080/"
        },
        "id": "waG9wYWPEQGd",
        "outputId": "981f0882-c693-4aff-e560-a9570fe30131"
      },
      "execution_count": 1,
      "outputs": [
        {
          "output_type": "stream",
          "name": "stdout",
          "text": [
            "Mounted at /content/drive\n"
          ]
        }
      ]
    },
    {
      "cell_type": "code",
      "source": [
        "df = pd.read_csv(\"/content/drive/MyDrive/phân tích dữ liệu/phân tích dữ liệu/data/GDPlist (1).csv\", encoding = 'unicode_escape')\n",
        "df.head()"
      ],
      "metadata": {
        "colab": {
          "base_uri": "https://localhost:8080/",
          "height": 206
        },
        "id": "4DR9LpEzElzg",
        "outputId": "ec4ec6fe-77c9-4fb3-8e84-b0b9090d65be"
      },
      "execution_count": 5,
      "outputs": [
        {
          "output_type": "execute_result",
          "data": {
            "text/html": [
              "\n",
              "  <div id=\"df-b80a325c-e19a-4337-b91a-c483f47efba9\">\n",
              "    <div class=\"colab-df-container\">\n",
              "      <div>\n",
              "<style scoped>\n",
              "    .dataframe tbody tr th:only-of-type {\n",
              "        vertical-align: middle;\n",
              "    }\n",
              "\n",
              "    .dataframe tbody tr th {\n",
              "        vertical-align: top;\n",
              "    }\n",
              "\n",
              "    .dataframe thead th {\n",
              "        text-align: right;\n",
              "    }\n",
              "</style>\n",
              "<table border=\"1\" class=\"dataframe\">\n",
              "  <thead>\n",
              "    <tr style=\"text-align: right;\">\n",
              "      <th></th>\n",
              "      <th>Country</th>\n",
              "      <th>Continent</th>\n",
              "      <th>GDP (millions of US$)</th>\n",
              "    </tr>\n",
              "  </thead>\n",
              "  <tbody>\n",
              "    <tr>\n",
              "      <th>0</th>\n",
              "      <td>Afghanistan</td>\n",
              "      <td>Asia</td>\n",
              "      <td>18181</td>\n",
              "    </tr>\n",
              "    <tr>\n",
              "      <th>1</th>\n",
              "      <td>Albania</td>\n",
              "      <td>Europe</td>\n",
              "      <td>12847</td>\n",
              "    </tr>\n",
              "    <tr>\n",
              "      <th>2</th>\n",
              "      <td>Algeria</td>\n",
              "      <td>Africa</td>\n",
              "      <td>190709</td>\n",
              "    </tr>\n",
              "    <tr>\n",
              "      <th>3</th>\n",
              "      <td>Angola</td>\n",
              "      <td>Africa</td>\n",
              "      <td>100948</td>\n",
              "    </tr>\n",
              "    <tr>\n",
              "      <th>4</th>\n",
              "      <td>Argentina</td>\n",
              "      <td>South America</td>\n",
              "      <td>447644</td>\n",
              "    </tr>\n",
              "  </tbody>\n",
              "</table>\n",
              "</div>\n",
              "      <button class=\"colab-df-convert\" onclick=\"convertToInteractive('df-b80a325c-e19a-4337-b91a-c483f47efba9')\"\n",
              "              title=\"Convert this dataframe to an interactive table.\"\n",
              "              style=\"display:none;\">\n",
              "        \n",
              "  <svg xmlns=\"http://www.w3.org/2000/svg\" height=\"24px\"viewBox=\"0 0 24 24\"\n",
              "       width=\"24px\">\n",
              "    <path d=\"M0 0h24v24H0V0z\" fill=\"none\"/>\n",
              "    <path d=\"M18.56 5.44l.94 2.06.94-2.06 2.06-.94-2.06-.94-.94-2.06-.94 2.06-2.06.94zm-11 1L8.5 8.5l.94-2.06 2.06-.94-2.06-.94L8.5 2.5l-.94 2.06-2.06.94zm10 10l.94 2.06.94-2.06 2.06-.94-2.06-.94-.94-2.06-.94 2.06-2.06.94z\"/><path d=\"M17.41 7.96l-1.37-1.37c-.4-.4-.92-.59-1.43-.59-.52 0-1.04.2-1.43.59L10.3 9.45l-7.72 7.72c-.78.78-.78 2.05 0 2.83L4 21.41c.39.39.9.59 1.41.59.51 0 1.02-.2 1.41-.59l7.78-7.78 2.81-2.81c.8-.78.8-2.07 0-2.86zM5.41 20L4 18.59l7.72-7.72 1.47 1.35L5.41 20z\"/>\n",
              "  </svg>\n",
              "      </button>\n",
              "      \n",
              "  <style>\n",
              "    .colab-df-container {\n",
              "      display:flex;\n",
              "      flex-wrap:wrap;\n",
              "      gap: 12px;\n",
              "    }\n",
              "\n",
              "    .colab-df-convert {\n",
              "      background-color: #E8F0FE;\n",
              "      border: none;\n",
              "      border-radius: 50%;\n",
              "      cursor: pointer;\n",
              "      display: none;\n",
              "      fill: #1967D2;\n",
              "      height: 32px;\n",
              "      padding: 0 0 0 0;\n",
              "      width: 32px;\n",
              "    }\n",
              "\n",
              "    .colab-df-convert:hover {\n",
              "      background-color: #E2EBFA;\n",
              "      box-shadow: 0px 1px 2px rgba(60, 64, 67, 0.3), 0px 1px 3px 1px rgba(60, 64, 67, 0.15);\n",
              "      fill: #174EA6;\n",
              "    }\n",
              "\n",
              "    [theme=dark] .colab-df-convert {\n",
              "      background-color: #3B4455;\n",
              "      fill: #D2E3FC;\n",
              "    }\n",
              "\n",
              "    [theme=dark] .colab-df-convert:hover {\n",
              "      background-color: #434B5C;\n",
              "      box-shadow: 0px 1px 3px 1px rgba(0, 0, 0, 0.15);\n",
              "      filter: drop-shadow(0px 1px 2px rgba(0, 0, 0, 0.3));\n",
              "      fill: #FFFFFF;\n",
              "    }\n",
              "  </style>\n",
              "\n",
              "      <script>\n",
              "        const buttonEl =\n",
              "          document.querySelector('#df-b80a325c-e19a-4337-b91a-c483f47efba9 button.colab-df-convert');\n",
              "        buttonEl.style.display =\n",
              "          google.colab.kernel.accessAllowed ? 'block' : 'none';\n",
              "\n",
              "        async function convertToInteractive(key) {\n",
              "          const element = document.querySelector('#df-b80a325c-e19a-4337-b91a-c483f47efba9');\n",
              "          const dataTable =\n",
              "            await google.colab.kernel.invokeFunction('convertToInteractive',\n",
              "                                                     [key], {});\n",
              "          if (!dataTable) return;\n",
              "\n",
              "          const docLinkHtml = 'Like what you see? Visit the ' +\n",
              "            '<a target=\"_blank\" href=https://colab.research.google.com/notebooks/data_table.ipynb>data table notebook</a>'\n",
              "            + ' to learn more about interactive tables.';\n",
              "          element.innerHTML = '';\n",
              "          dataTable['output_type'] = 'display_data';\n",
              "          await google.colab.output.renderOutput(dataTable, element);\n",
              "          const docLink = document.createElement('div');\n",
              "          docLink.innerHTML = docLinkHtml;\n",
              "          element.appendChild(docLink);\n",
              "        }\n",
              "      </script>\n",
              "    </div>\n",
              "  </div>\n",
              "  "
            ],
            "text/plain": [
              "        Country      Continent  GDP (millions of US$)\n",
              "0   Afghanistan           Asia                  18181\n",
              "1       Albania         Europe                  12847\n",
              "2       Algeria         Africa                 190709\n",
              "3        Angola         Africa                 100948\n",
              "4     Argentina  South America                 447644"
            ]
          },
          "metadata": {},
          "execution_count": 5
        }
      ]
    },
    {
      "cell_type": "markdown",
      "source": [
        "# bộ dữ liệu có bao nhiêu dong, bao nhiêu cột"
      ],
      "metadata": {
        "id": "N7_tqWZeE6ko"
      }
    },
    {
      "cell_type": "code",
      "source": [
        "print(\"số dòng: \", df.shape[0])\n",
        "print(\"số cột: \", df.shape[1])"
      ],
      "metadata": {
        "colab": {
          "base_uri": "https://localhost:8080/"
        },
        "id": "S1PIkUgCE-Wr",
        "outputId": "0d9e3058-c378-4a0f-818f-3caeb8ac5146"
      },
      "execution_count": 6,
      "outputs": [
        {
          "output_type": "stream",
          "name": "stdout",
          "text": [
            "số dòng:  125\n",
            "số cột:  3\n"
          ]
        }
      ]
    },
    {
      "cell_type": "markdown",
      "source": [
        "# sự phân bố GDP"
      ],
      "metadata": {
        "id": "6cNXYvZ0FOCY"
      }
    },
    {
      "cell_type": "code",
      "source": [
        "import matplotlib.pyplot as plt\n",
        "plt.hist(df[\"GDP (millions of US$)\"], bins = 200)"
      ],
      "metadata": {
        "colab": {
          "base_uri": "https://localhost:8080/",
          "height": 1000
        },
        "id": "lJrKZCd1FQ5D",
        "outputId": "d623c3df-fda2-431a-cb16-0c90fcc2074a"
      },
      "execution_count": 7,
      "outputs": [
        {
          "output_type": "execute_result",
          "data": {
            "text/plain": [
              "(array([62.,  7., 13.,  9.,  5.,  3.,  6.,  1.,  1.,  0.,  1.,  2.,  0.,\n",
              "         0.,  1.,  1.,  0.,  0.,  0.,  2.,  0.,  0.,  2.,  0.,  1.,  0.,\n",
              "         0.,  0.,  0.,  1.,  0.,  1.,  1.,  0.,  0.,  0.,  1.,  0.,  0.,\n",
              "         0.,  0.,  0.,  0.,  0.,  0.,  0.,  0.,  1.,  0.,  0.,  0.,  0.,\n",
              "         0.,  0.,  0.,  0.,  0.,  0.,  0.,  0.,  0.,  0.,  0.,  0.,  0.,\n",
              "         0.,  0.,  0.,  0.,  0.,  0.,  0.,  0.,  0.,  0.,  0.,  0.,  1.,\n",
              "         0.,  0.,  0.,  0.,  0.,  0.,  0.,  0.,  0.,  0.,  0.,  0.,  0.,\n",
              "         0.,  0.,  0.,  0.,  0.,  1.,  0.,  0.,  0.,  0.,  0.,  0.,  0.,\n",
              "         0.,  0.,  0.,  0.,  0.,  0.,  0.,  0.,  0.,  0.,  0.,  0.,  0.,\n",
              "         0.,  0.,  0.,  0.,  0.,  0.,  0.,  0.,  0.,  0.,  0.,  0.,  0.,\n",
              "         0.,  0.,  0.,  0.,  0.,  0.,  0.,  0.,  0.,  0.,  0.,  0.,  0.,\n",
              "         0.,  0.,  0.,  0.,  0.,  0.,  0.,  0.,  0.,  0.,  0.,  0.,  0.,\n",
              "         0.,  0.,  0.,  0.,  0.,  0.,  0.,  0.,  0.,  0.,  0.,  0.,  0.,\n",
              "         0.,  0.,  0.,  0.,  0.,  0.,  0.,  0.,  0.,  0.,  0.,  0.,  0.,\n",
              "         0.,  0.,  0.,  0.,  0.,  0.,  0.,  0.,  0.,  0.,  0.,  0.,  0.,\n",
              "         0.,  0.,  0.,  0.,  1.]),\n",
              " array([1.06000000e+04, 8.60171250e+04, 1.61434250e+05, 2.36851375e+05,\n",
              "        3.12268500e+05, 3.87685625e+05, 4.63102750e+05, 5.38519875e+05,\n",
              "        6.13937000e+05, 6.89354125e+05, 7.64771250e+05, 8.40188375e+05,\n",
              "        9.15605500e+05, 9.91022625e+05, 1.06643975e+06, 1.14185688e+06,\n",
              "        1.21727400e+06, 1.29269112e+06, 1.36810825e+06, 1.44352538e+06,\n",
              "        1.51894250e+06, 1.59435962e+06, 1.66977675e+06, 1.74519388e+06,\n",
              "        1.82061100e+06, 1.89602812e+06, 1.97144525e+06, 2.04686238e+06,\n",
              "        2.12227950e+06, 2.19769662e+06, 2.27311375e+06, 2.34853088e+06,\n",
              "        2.42394800e+06, 2.49936512e+06, 2.57478225e+06, 2.65019938e+06,\n",
              "        2.72561650e+06, 2.80103362e+06, 2.87645075e+06, 2.95186788e+06,\n",
              "        3.02728500e+06, 3.10270212e+06, 3.17811925e+06, 3.25353638e+06,\n",
              "        3.32895350e+06, 3.40437062e+06, 3.47978775e+06, 3.55520488e+06,\n",
              "        3.63062200e+06, 3.70603912e+06, 3.78145625e+06, 3.85687338e+06,\n",
              "        3.93229050e+06, 4.00770762e+06, 4.08312475e+06, 4.15854188e+06,\n",
              "        4.23395900e+06, 4.30937612e+06, 4.38479325e+06, 4.46021038e+06,\n",
              "        4.53562750e+06, 4.61104462e+06, 4.68646175e+06, 4.76187888e+06,\n",
              "        4.83729600e+06, 4.91271312e+06, 4.98813025e+06, 5.06354738e+06,\n",
              "        5.13896450e+06, 5.21438162e+06, 5.28979875e+06, 5.36521588e+06,\n",
              "        5.44063300e+06, 5.51605012e+06, 5.59146725e+06, 5.66688438e+06,\n",
              "        5.74230150e+06, 5.81771862e+06, 5.89313575e+06, 5.96855288e+06,\n",
              "        6.04397000e+06, 6.11938712e+06, 6.19480425e+06, 6.27022138e+06,\n",
              "        6.34563850e+06, 6.42105562e+06, 6.49647275e+06, 6.57188988e+06,\n",
              "        6.64730700e+06, 6.72272412e+06, 6.79814125e+06, 6.87355838e+06,\n",
              "        6.94897550e+06, 7.02439262e+06, 7.09980975e+06, 7.17522688e+06,\n",
              "        7.25064400e+06, 7.32606112e+06, 7.40147825e+06, 7.47689538e+06,\n",
              "        7.55231250e+06, 7.62772962e+06, 7.70314675e+06, 7.77856388e+06,\n",
              "        7.85398100e+06, 7.92939812e+06, 8.00481525e+06, 8.08023238e+06,\n",
              "        8.15564950e+06, 8.23106662e+06, 8.30648375e+06, 8.38190088e+06,\n",
              "        8.45731800e+06, 8.53273512e+06, 8.60815225e+06, 8.68356938e+06,\n",
              "        8.75898650e+06, 8.83440362e+06, 8.90982075e+06, 8.98523788e+06,\n",
              "        9.06065500e+06, 9.13607212e+06, 9.21148925e+06, 9.28690638e+06,\n",
              "        9.36232350e+06, 9.43774062e+06, 9.51315775e+06, 9.58857488e+06,\n",
              "        9.66399200e+06, 9.73940912e+06, 9.81482625e+06, 9.89024338e+06,\n",
              "        9.96566050e+06, 1.00410776e+07, 1.01164948e+07, 1.01919119e+07,\n",
              "        1.02673290e+07, 1.03427461e+07, 1.04181632e+07, 1.04935804e+07,\n",
              "        1.05689975e+07, 1.06444146e+07, 1.07198318e+07, 1.07952489e+07,\n",
              "        1.08706660e+07, 1.09460831e+07, 1.10215002e+07, 1.10969174e+07,\n",
              "        1.11723345e+07, 1.12477516e+07, 1.13231688e+07, 1.13985859e+07,\n",
              "        1.14740030e+07, 1.15494201e+07, 1.16248372e+07, 1.17002544e+07,\n",
              "        1.17756715e+07, 1.18510886e+07, 1.19265058e+07, 1.20019229e+07,\n",
              "        1.20773400e+07, 1.21527571e+07, 1.22281742e+07, 1.23035914e+07,\n",
              "        1.23790085e+07, 1.24544256e+07, 1.25298428e+07, 1.26052599e+07,\n",
              "        1.26806770e+07, 1.27560941e+07, 1.28315112e+07, 1.29069284e+07,\n",
              "        1.29823455e+07, 1.30577626e+07, 1.31331798e+07, 1.32085969e+07,\n",
              "        1.32840140e+07, 1.33594311e+07, 1.34348482e+07, 1.35102654e+07,\n",
              "        1.35856825e+07, 1.36610996e+07, 1.37365168e+07, 1.38119339e+07,\n",
              "        1.38873510e+07, 1.39627681e+07, 1.40381852e+07, 1.41136024e+07,\n",
              "        1.41890195e+07, 1.42644366e+07, 1.43398538e+07, 1.44152709e+07,\n",
              "        1.44906880e+07, 1.45661051e+07, 1.46415222e+07, 1.47169394e+07,\n",
              "        1.47923565e+07, 1.48677736e+07, 1.49431908e+07, 1.50186079e+07,\n",
              "        1.50940250e+07]),\n",
              " <a list of 200 Patch objects>)"
            ]
          },
          "metadata": {},
          "execution_count": 7
        },
        {
          "output_type": "display_data",
          "data": {
            "image/png": "[encoded data removed]",
            "text/plain": [
              "<Figure size 432x288 with 1 Axes>"
            ]
          },
          "metadata": {
            "needs_background": "light"
          }
        }
      ]
    },
    {
      "cell_type": "markdown",
      "source": [
        "# mỗi châu lục có bao nhiêu quốc gia"
      ],
      "metadata": {
        "id": "x-ljx094GMSu"
      }
    },
    {
      "cell_type": "code",
      "source": [
        "df.groupby([\"Continent\"]).count()['Country']"
      ],
      "metadata": {
        "colab": {
          "base_uri": "https://localhost:8080/"
        },
        "id": "rAtgLhCFGPAR",
        "outputId": "26a76f06-70ff-4a92-fab8-4fea981d9811"
      },
      "execution_count": 10,
      "outputs": [
        {
          "output_type": "execute_result",
          "data": {
            "text/plain": [
              "Continent\n",
              "Africa           29\n",
              "Asia             36\n",
              "Europe           37\n",
              "North America    11\n",
              "Oceania           3\n",
              "South America     9\n",
              "Name: Country, dtype: int64"
            ]
          },
          "metadata": {},
          "execution_count": 10
        }
      ]
    },
    {
      "cell_type": "markdown",
      "source": [
        "# tổng GDP của các châu lục"
      ],
      "metadata": {
        "id": "9zwu2cmLHMsQ"
      }
    },
    {
      "cell_type": "code",
      "source": [
        "df.groupby([\"Continent\"]).sum()"
      ],
      "metadata": {
        "colab": {
          "base_uri": "https://localhost:8080/",
          "height": 269
        },
        "id": "nIIX-RE9HP-F",
        "outputId": "b463e543-417f-4ab9-ff72-0d45d433c08e"
      },
      "execution_count": 11,
      "outputs": [
        {
          "output_type": "execute_result",
          "data": {
            "text/html": [
              "\n",
              "  <div id=\"df-8e727e81-b745-4e57-b390-4a314233847d\">\n",
              "    <div class=\"colab-df-container\">\n",
              "      <div>\n",
              "<style scoped>\n",
              "    .dataframe tbody tr th:only-of-type {\n",
              "        vertical-align: middle;\n",
              "    }\n",
              "\n",
              "    .dataframe tbody tr th {\n",
              "        vertical-align: top;\n",
              "    }\n",
              "\n",
              "    .dataframe thead th {\n",
              "        text-align: right;\n",
              "    }\n",
              "</style>\n",
              "<table border=\"1\" class=\"dataframe\">\n",
              "  <thead>\n",
              "    <tr style=\"text-align: right;\">\n",
              "      <th></th>\n",
              "      <th>GDP (millions of US$)</th>\n",
              "    </tr>\n",
              "    <tr>\n",
              "      <th>Continent</th>\n",
              "      <th></th>\n",
              "    </tr>\n",
              "  </thead>\n",
              "  <tbody>\n",
              "    <tr>\n",
              "      <th>Africa</th>\n",
              "      <td>1820811</td>\n",
              "    </tr>\n",
              "    <tr>\n",
              "      <th>Asia</th>\n",
              "      <td>24425891</td>\n",
              "    </tr>\n",
              "    <tr>\n",
              "      <th>Europe</th>\n",
              "      <td>19139380</td>\n",
              "    </tr>\n",
              "    <tr>\n",
              "      <th>North America</th>\n",
              "      <td>18238447</td>\n",
              "    </tr>\n",
              "    <tr>\n",
              "      <th>Oceania</th>\n",
              "      <td>1662727</td>\n",
              "    </tr>\n",
              "    <tr>\n",
              "      <th>South America</th>\n",
              "      <td>4141217</td>\n",
              "    </tr>\n",
              "  </tbody>\n",
              "</table>\n",
              "</div>\n",
              "      <button class=\"colab-df-convert\" onclick=\"convertToInteractive('df-8e727e81-b745-4e57-b390-4a314233847d')\"\n",
              "              title=\"Convert this dataframe to an interactive table.\"\n",
              "              style=\"display:none;\">\n",
              "        \n",
              "  <svg xmlns=\"http://www.w3.org/2000/svg\" height=\"24px\"viewBox=\"0 0 24 24\"\n",
              "       width=\"24px\">\n",
              "    <path d=\"M0 0h24v24H0V0z\" fill=\"none\"/>\n",
              "    <path d=\"M18.56 5.44l.94 2.06.94-2.06 2.06-.94-2.06-.94-.94-2.06-.94 2.06-2.06.94zm-11 1L8.5 8.5l.94-2.06 2.06-.94-2.06-.94L8.5 2.5l-.94 2.06-2.06.94zm10 10l.94 2.06.94-2.06 2.06-.94-2.06-.94-.94-2.06-.94 2.06-2.06.94z\"/><path d=\"M17.41 7.96l-1.37-1.37c-.4-.4-.92-.59-1.43-.59-.52 0-1.04.2-1.43.59L10.3 9.45l-7.72 7.72c-.78.78-.78 2.05 0 2.83L4 21.41c.39.39.9.59 1.41.59.51 0 1.02-.2 1.41-.59l7.78-7.78 2.81-2.81c.8-.78.8-2.07 0-2.86zM5.41 20L4 18.59l7.72-7.72 1.47 1.35L5.41 20z\"/>\n",
              "  </svg>\n",
              "      </button>\n",
              "      \n",
              "  <style>\n",
              "    .colab-df-container {\n",
              "      display:flex;\n",
              "      flex-wrap:wrap;\n",
              "      gap: 12px;\n",
              "    }\n",
              "\n",
              "    .colab-df-convert {\n",
              "      background-color: #E8F0FE;\n",
              "      border: none;\n",
              "      border-radius: 50%;\n",
              "      cursor: pointer;\n",
              "      display: none;\n",
              "      fill: #1967D2;\n",
              "      height: 32px;\n",
              "      padding: 0 0 0 0;\n",
              "      width: 32px;\n",
              "    }\n",
              "\n",
              "    .colab-df-convert:hover {\n",
              "      background-color: #E2EBFA;\n",
              "      box-shadow: 0px 1px 2px rgba(60, 64, 67, 0.3), 0px 1px 3px 1px rgba(60, 64, 67, 0.15);\n",
              "      fill: #174EA6;\n",
              "    }\n",
              "\n",
              "    [theme=dark] .colab-df-convert {\n",
              "      background-color: #3B4455;\n",
              "      fill: #D2E3FC;\n",
              "    }\n",
              "\n",
              "    [theme=dark] .colab-df-convert:hover {\n",
              "      background-color: #434B5C;\n",
              "      box-shadow: 0px 1px 3px 1px rgba(0, 0, 0, 0.15);\n",
              "      filter: drop-shadow(0px 1px 2px rgba(0, 0, 0, 0.3));\n",
              "      fill: #FFFFFF;\n",
              "    }\n",
              "  </style>\n",
              "\n",
              "      <script>\n",
              "        const buttonEl =\n",
              "          document.querySelector('#df-8e727e81-b745-4e57-b390-4a314233847d button.colab-df-convert');\n",
              "        buttonEl.style.display =\n",
              "          google.colab.kernel.accessAllowed ? 'block' : 'none';\n",
              "\n",
              "        async function convertToInteractive(key) {\n",
              "          const element = document.querySelector('#df-8e727e81-b745-4e57-b390-4a314233847d');\n",
              "          const dataTable =\n",
              "            await google.colab.kernel.invokeFunction('convertToInteractive',\n",
              "                                                     [key], {});\n",
              "          if (!dataTable) return;\n",
              "\n",
              "          const docLinkHtml = 'Like what you see? Visit the ' +\n",
              "            '<a target=\"_blank\" href=https://colab.research.google.com/notebooks/data_table.ipynb>data table notebook</a>'\n",
              "            + ' to learn more about interactive tables.';\n",
              "          element.innerHTML = '';\n",
              "          dataTable['output_type'] = 'display_data';\n",
              "          await google.colab.output.renderOutput(dataTable, element);\n",
              "          const docLink = document.createElement('div');\n",
              "          docLink.innerHTML = docLinkHtml;\n",
              "          element.appendChild(docLink);\n",
              "        }\n",
              "      </script>\n",
              "    </div>\n",
              "  </div>\n",
              "  "
            ],
            "text/plain": [
              "               GDP (millions of US$)\n",
              "Continent                           \n",
              "Africa                       1820811\n",
              "Asia                        24425891\n",
              "Europe                      19139380\n",
              "North America               18238447\n",
              "Oceania                      1662727\n",
              "South America                4141217"
            ]
          },
          "metadata": {},
          "execution_count": 11
        }
      ]
    },
    {
      "cell_type": "markdown",
      "source": [
        "# top 10 quốc gia có GDP cao nhất"
      ],
      "metadata": {
        "id": "mnlDzqPBHl9h"
      }
    },
    {
      "cell_type": "code",
      "source": [
        "sort = df.sort_values(by = \"GDP (millions of US$)\")\n",
        "sort.tail(10)"
      ],
      "metadata": {
        "colab": {
          "base_uri": "https://localhost:8080/",
          "height": 363
        },
        "id": "MdrAH47jHpNr",
        "outputId": "cf71f0d0-b372-4bd7-b141-55de5bc075b4"
      },
      "execution_count": 14,
      "outputs": [
        {
          "output_type": "execute_result",
          "data": {
            "text/html": [
              "\n",
              "  <div id=\"df-5ed67ced-a709-4382-bf94-8214e09f15ec\">\n",
              "    <div class=\"colab-df-container\">\n",
              "      <div>\n",
              "<style scoped>\n",
              "    .dataframe tbody tr th:only-of-type {\n",
              "        vertical-align: middle;\n",
              "    }\n",
              "\n",
              "    .dataframe tbody tr th {\n",
              "        vertical-align: top;\n",
              "    }\n",
              "\n",
              "    .dataframe thead th {\n",
              "        text-align: right;\n",
              "    }\n",
              "</style>\n",
              "<table border=\"1\" class=\"dataframe\">\n",
              "  <thead>\n",
              "    <tr style=\"text-align: right;\">\n",
              "      <th></th>\n",
              "      <th>Country</th>\n",
              "      <th>Continent</th>\n",
              "      <th>GDP (millions of US$)</th>\n",
              "    </tr>\n",
              "  </thead>\n",
              "  <tbody>\n",
              "    <tr>\n",
              "      <th>21</th>\n",
              "      <td>Canada</td>\n",
              "      <td>North America</td>\n",
              "      <td>1736869</td>\n",
              "    </tr>\n",
              "    <tr>\n",
              "      <th>93</th>\n",
              "      <td>Russia</td>\n",
              "      <td>Asia</td>\n",
              "      <td>1850401</td>\n",
              "    </tr>\n",
              "    <tr>\n",
              "      <th>58</th>\n",
              "      <td>Italy</td>\n",
              "      <td>Europe</td>\n",
              "      <td>2198730</td>\n",
              "    </tr>\n",
              "    <tr>\n",
              "      <th>117</th>\n",
              "      <td>United Kingdom</td>\n",
              "      <td>Europe</td>\n",
              "      <td>2417570</td>\n",
              "    </tr>\n",
              "    <tr>\n",
              "      <th>15</th>\n",
              "      <td>Brazil</td>\n",
              "      <td>South America</td>\n",
              "      <td>2492908</td>\n",
              "    </tr>\n",
              "    <tr>\n",
              "      <th>41</th>\n",
              "      <td>France</td>\n",
              "      <td>Europe</td>\n",
              "      <td>2776324</td>\n",
              "    </tr>\n",
              "    <tr>\n",
              "      <th>44</th>\n",
              "      <td>Germany</td>\n",
              "      <td>Europe</td>\n",
              "      <td>3577031</td>\n",
              "    </tr>\n",
              "    <tr>\n",
              "      <th>60</th>\n",
              "      <td>Japan</td>\n",
              "      <td>Asia</td>\n",
              "      <td>5869471</td>\n",
              "    </tr>\n",
              "    <tr>\n",
              "      <th>23</th>\n",
              "      <td>China</td>\n",
              "      <td>Asia</td>\n",
              "      <td>7298147</td>\n",
              "    </tr>\n",
              "    <tr>\n",
              "      <th>118</th>\n",
              "      <td>United States</td>\n",
              "      <td>North America</td>\n",
              "      <td>15094025</td>\n",
              "    </tr>\n",
              "  </tbody>\n",
              "</table>\n",
              "</div>\n",
              "      <button class=\"colab-df-convert\" onclick=\"convertToInteractive('df-5ed67ced-a709-4382-bf94-8214e09f15ec')\"\n",
              "              title=\"Convert this dataframe to an interactive table.\"\n",
              "              style=\"display:none;\">\n",
              "        \n",
              "  <svg xmlns=\"http://www.w3.org/2000/svg\" height=\"24px\"viewBox=\"0 0 24 24\"\n",
              "       width=\"24px\">\n",
              "    <path d=\"M0 0h24v24H0V0z\" fill=\"none\"/>\n",
              "    <path d=\"M18.56 5.44l.94 2.06.94-2.06 2.06-.94-2.06-.94-.94-2.06-.94 2.06-2.06.94zm-11 1L8.5 8.5l.94-2.06 2.06-.94-2.06-.94L8.5 2.5l-.94 2.06-2.06.94zm10 10l.94 2.06.94-2.06 2.06-.94-2.06-.94-.94-2.06-.94 2.06-2.06.94z\"/><path d=\"M17.41 7.96l-1.37-1.37c-.4-.4-.92-.59-1.43-.59-.52 0-1.04.2-1.43.59L10.3 9.45l-7.72 7.72c-.78.78-.78 2.05 0 2.83L4 21.41c.39.39.9.59 1.41.59.51 0 1.02-.2 1.41-.59l7.78-7.78 2.81-2.81c.8-.78.8-2.07 0-2.86zM5.41 20L4 18.59l7.72-7.72 1.47 1.35L5.41 20z\"/>\n",
              "  </svg>\n",
              "      </button>\n",
              "      \n",
              "  <style>\n",
              "    .colab-df-container {\n",
              "      display:flex;\n",
              "      flex-wrap:wrap;\n",
              "      gap: 12px;\n",
              "    }\n",
              "\n",
              "    .colab-df-convert {\n",
              "      background-color: #E8F0FE;\n",
              "      border: none;\n",
              "      border-radius: 50%;\n",
              "      cursor: pointer;\n",
              "      display: none;\n",
              "      fill: #1967D2;\n",
              "      height: 32px;\n",
              "      padding: 0 0 0 0;\n",
              "      width: 32px;\n",
              "    }\n",
              "\n",
              "    .colab-df-convert:hover {\n",
              "      background-color: #E2EBFA;\n",
              "      box-shadow: 0px 1px 2px rgba(60, 64, 67, 0.3), 0px 1px 3px 1px rgba(60, 64, 67, 0.15);\n",
              "      fill: #174EA6;\n",
              "    }\n",
              "\n",
              "    [theme=dark] .colab-df-convert {\n",
              "      background-color: #3B4455;\n",
              "      fill: #D2E3FC;\n",
              "    }\n",
              "\n",
              "    [theme=dark] .colab-df-convert:hover {\n",
              "      background-color: #434B5C;\n",
              "      box-shadow: 0px 1px 3px 1px rgba(0, 0, 0, 0.15);\n",
              "      filter: drop-shadow(0px 1px 2px rgba(0, 0, 0, 0.3));\n",
              "      fill: #FFFFFF;\n",
              "    }\n",
              "  </style>\n",
              "\n",
              "      <script>\n",
              "        const buttonEl =\n",
              "          document.querySelector('#df-5ed67ced-a709-4382-bf94-8214e09f15ec button.colab-df-convert');\n",
              "        buttonEl.style.display =\n",
              "          google.colab.kernel.accessAllowed ? 'block' : 'none';\n",
              "\n",
              "        async function convertToInteractive(key) {\n",
              "          const element = document.querySelector('#df-5ed67ced-a709-4382-bf94-8214e09f15ec');\n",
              "          const dataTable =\n",
              "            await google.colab.kernel.invokeFunction('convertToInteractive',\n",
              "                                                     [key], {});\n",
              "          if (!dataTable) return;\n",
              "\n",
              "          const docLinkHtml = 'Like what you see? Visit the ' +\n",
              "            '<a target=\"_blank\" href=https://colab.research.google.com/notebooks/data_table.ipynb>data table notebook</a>'\n",
              "            + ' to learn more about interactive tables.';\n",
              "          element.innerHTML = '';\n",
              "          dataTable['output_type'] = 'display_data';\n",
              "          await google.colab.output.renderOutput(dataTable, element);\n",
              "          const docLink = document.createElement('div');\n",
              "          docLink.innerHTML = docLinkHtml;\n",
              "          element.appendChild(docLink);\n",
              "        }\n",
              "      </script>\n",
              "    </div>\n",
              "  </div>\n",
              "  "
            ],
            "text/plain": [
              "             Country      Continent  GDP (millions of US$)\n",
              "21            Canada  North America                1736869\n",
              "93            Russia           Asia                1850401\n",
              "58             Italy         Europe                2198730\n",
              "117   United Kingdom         Europe                2417570\n",
              "15            Brazil  South America                2492908\n",
              "41            France         Europe                2776324\n",
              "44           Germany         Europe                3577031\n",
              "60             Japan           Asia                5869471\n",
              "23             China           Asia                7298147\n",
              "118    United States  North America               15094025"
            ]
          },
          "metadata": {},
          "execution_count": 14
        }
      ]
    }
  ]
}
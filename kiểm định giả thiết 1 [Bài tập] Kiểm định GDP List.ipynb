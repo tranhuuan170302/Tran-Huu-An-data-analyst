{
 "cells": [
  {
   "cell_type": "markdown",
   "id": "328af7e6",
   "metadata": {},
   "source": [
    "# import library"
   ]
  },
  {
   "cell_type": "code",
   "execution_count": 1,
   "id": "eb41b1fa",
   "metadata": {},
   "outputs": [],
   "source": [
    "import pandas as pd\n",
    "import matplotlib.pyplot as plt\n",
    "import seaborn as sns\n",
    "from scipy import stats"
   ]
  },
  {
   "cell_type": "markdown",
   "id": "9b0c6aee",
   "metadata": {},
   "source": [
    "# read file"
   ]
  },
  {
   "cell_type": "code",
   "execution_count": 3,
   "id": "9f4ea75e",
   "metadata": {},
   "outputs": [],
   "source": [
    "df = pd.read_csv(\"C:\\\\Users\\\\FPTSHOP\\\\Downloads\\\\GDPlist.csv\", encoding='windows-1252')"
   ]
  },
  {
   "cell_type": "code",
   "execution_count": 5,
   "id": "87f080ed",
   "metadata": {},
   "outputs": [
    {
     "name": "stdout",
     "output_type": "stream",
     "text": [
      "<class 'pandas.core.frame.DataFrame'>\n",
      "RangeIndex: 125 entries, 0 to 124\n",
      "Data columns (total 3 columns):\n",
      " #   Column                 Non-Null Count  Dtype \n",
      "---  ------                 --------------  ----- \n",
      " 0   Country                125 non-null    object\n",
      " 1   Continent              125 non-null    object\n",
      " 2   GDP (millions of US$)  125 non-null    int64 \n",
      "dtypes: int64(1), object(2)\n",
      "memory usage: 3.1+ KB\n"
     ]
    }
   ],
   "source": [
    "df.info()"
   ]
  },
  {
   "cell_type": "code",
   "execution_count": 4,
   "id": "a3c15070",
   "metadata": {},
   "outputs": [
    {
     "data": {
      "text/html": [
       "<div>\n",
       "<style scoped>\n",
       "    .dataframe tbody tr th:only-of-type {\n",
       "        vertical-align: middle;\n",
       "    }\n",
       "\n",
       "    .dataframe tbody tr th {\n",
       "        vertical-align: top;\n",
       "    }\n",
       "\n",
       "    .dataframe thead th {\n",
       "        text-align: right;\n",
       "    }\n",
       "</style>\n",
       "<table border=\"1\" class=\"dataframe\">\n",
       "  <thead>\n",
       "    <tr style=\"text-align: right;\">\n",
       "      <th></th>\n",
       "      <th>Country</th>\n",
       "      <th>Continent</th>\n",
       "      <th>GDP (millions of US$)</th>\n",
       "    </tr>\n",
       "  </thead>\n",
       "  <tbody>\n",
       "    <tr>\n",
       "      <th>0</th>\n",
       "      <td>Afghanistan</td>\n",
       "      <td>Asia</td>\n",
       "      <td>18181</td>\n",
       "    </tr>\n",
       "    <tr>\n",
       "      <th>1</th>\n",
       "      <td>Albania</td>\n",
       "      <td>Europe</td>\n",
       "      <td>12847</td>\n",
       "    </tr>\n",
       "    <tr>\n",
       "      <th>2</th>\n",
       "      <td>Algeria</td>\n",
       "      <td>Africa</td>\n",
       "      <td>190709</td>\n",
       "    </tr>\n",
       "    <tr>\n",
       "      <th>3</th>\n",
       "      <td>Angola</td>\n",
       "      <td>Africa</td>\n",
       "      <td>100948</td>\n",
       "    </tr>\n",
       "    <tr>\n",
       "      <th>4</th>\n",
       "      <td>Argentina</td>\n",
       "      <td>South America</td>\n",
       "      <td>447644</td>\n",
       "    </tr>\n",
       "  </tbody>\n",
       "</table>\n",
       "</div>"
      ],
      "text/plain": [
       "        Country      Continent  GDP (millions of US$)\n",
       "0   Afghanistan           Asia                  18181\n",
       "1       Albania         Europe                  12847\n",
       "2       Algeria         Africa                 190709\n",
       "3        Angola         Africa                 100948\n",
       "4     Argentina  South America                 447644"
      ]
     },
     "execution_count": 4,
     "metadata": {},
     "output_type": "execute_result"
    }
   ],
   "source": [
    "df.head()"
   ]
  },
  {
   "cell_type": "code",
   "execution_count": 6,
   "id": "3ca94927",
   "metadata": {},
   "outputs": [
    {
     "data": {
      "text/plain": [
       "Country                  0\n",
       "Continent                0\n",
       "GDP (millions of US$)    0\n",
       "dtype: int64"
      ]
     },
     "execution_count": 6,
     "metadata": {},
     "output_type": "execute_result"
    }
   ],
   "source": [
    "df.isna().sum()"
   ]
  },
  {
   "cell_type": "markdown",
   "id": "d9a55add",
   "metadata": {},
   "source": [
    "# kiểm định Trung bình GDP của các quốc gia trên thế giới là 500 tỉ usd/năm"
   ]
  },
  {
   "cell_type": "code",
   "execution_count": 12,
   "id": "bcea0249",
   "metadata": {},
   "outputs": [
    {
     "data": {
      "text/plain": [
       "count    1.250000e+02\n",
       "mean     5.554278e+05\n",
       "std      1.649266e+06\n",
       "min      1.060000e+04\n",
       "25%      2.574200e+04\n",
       "50%      9.608900e+04\n",
       "75%      3.332380e+05\n",
       "max      1.509402e+07\n",
       "Name: GDP (millions of US$), dtype: float64"
      ]
     },
     "execution_count": 12,
     "metadata": {},
     "output_type": "execute_result"
    }
   ],
   "source": [
    "df['GDP (millions of US$)'].describe()"
   ]
  },
  {
   "cell_type": "code",
   "execution_count": 9,
   "id": "0cf086a4",
   "metadata": {},
   "outputs": [
    {
     "name": "stdout",
     "output_type": "stream",
     "text": [
      "<class 'pandas.core.frame.DataFrame'>\n",
      "Int64Index: 23 entries, 5 to 118\n",
      "Data columns (total 3 columns):\n",
      " #   Column                 Non-Null Count  Dtype \n",
      "---  ------                 --------------  ----- \n",
      " 0   Country                23 non-null     object\n",
      " 1   Continent              23 non-null     object\n",
      " 2   GDP (millions of US$)  23 non-null     int64 \n",
      "dtypes: int64(1), object(2)\n",
      "memory usage: 736.0+ bytes\n"
     ]
    }
   ],
   "source": [
    "df_gdp.info()"
   ]
  },
  {
   "cell_type": "markdown",
   "id": "34de6eb9",
   "metadata": {},
   "source": [
    "+ tiến hành kiểm đinh giả thiết:\n",
    "    + H0: = 500\n",
    "    + H1:  # 500\n",
    "    + với mức ý nghĩa là 5%"
   ]
  },
  {
   "cell_type": "code",
   "execution_count": 16,
   "id": "4cc2a9c7",
   "metadata": {},
   "outputs": [
    {
     "data": {
      "text/plain": [
       "555427.784"
      ]
     },
     "execution_count": 16,
     "metadata": {},
     "output_type": "execute_result"
    }
   ],
   "source": [
    " df['GDP (millions of US$)'].mean()"
   ]
  },
  {
   "cell_type": "code",
   "execution_count": 17,
   "id": "b16ccadb",
   "metadata": {},
   "outputs": [
    {
     "data": {
      "text/plain": [
       "1649265.6802574366"
      ]
     },
     "execution_count": 17,
     "metadata": {},
     "output_type": "execute_result"
    }
   ],
   "source": [
    " df['GDP (millions of US$)'].std()"
   ]
  },
  {
   "cell_type": "code",
   "execution_count": 14,
   "id": "ff96323e",
   "metadata": {},
   "outputs": [],
   "source": [
    "test = stats.ttest_1samp(df['GDP (millions of US$)'], df['GDP (millions of US$)'].mean())"
   ]
  },
  {
   "cell_type": "code",
   "execution_count": 19,
   "id": "7bd6621b",
   "metadata": {},
   "outputs": [
    {
     "data": {
      "text/plain": [
       "Ttest_1sampResult(statistic=0.0, pvalue=1.0)"
      ]
     },
     "execution_count": 19,
     "metadata": {},
     "output_type": "execute_result"
    }
   ],
   "source": [
    "test"
   ]
  },
  {
   "cell_type": "markdown",
   "id": "31343e90",
   "metadata": {},
   "source": [
    "+ pvalue > apla => chấp nhận giả thiết H0\n",
    "+ kết luận : giả thiết đưa ra là đúng\n"
   ]
  },
  {
   "cell_type": "markdown",
   "id": "0a46eadf",
   "metadata": {},
   "source": [
    "# GDP trung bình ở các quốc gia ở châu Âu cao hơn châu Á không"
   ]
  },
  {
   "cell_type": "code",
   "execution_count": 20,
   "id": "5382a715",
   "metadata": {},
   "outputs": [
    {
     "data": {
      "text/plain": [
       "array(['Asia', 'Europe', 'Africa', 'South America', 'Oceania',\n",
       "       'North America'], dtype=object)"
      ]
     },
     "execution_count": 20,
     "metadata": {},
     "output_type": "execute_result"
    }
   ],
   "source": [
    "df['Continent'].unique()"
   ]
  },
  {
   "cell_type": "code",
   "execution_count": 25,
   "id": "03196bc8",
   "metadata": {},
   "outputs": [],
   "source": [
    "df_AsiaAndEurope = df[(df['Continent'] == 'Asia') | (df['Continent'] == 'Europe')]"
   ]
  },
  {
   "cell_type": "code",
   "execution_count": 26,
   "id": "ea48d9f2",
   "metadata": {},
   "outputs": [
    {
     "name": "stdout",
     "output_type": "stream",
     "text": [
      "<class 'pandas.core.frame.DataFrame'>\n",
      "Int64Index: 73 entries, 0 to 122\n",
      "Data columns (total 3 columns):\n",
      " #   Column                 Non-Null Count  Dtype \n",
      "---  ------                 --------------  ----- \n",
      " 0   Country                73 non-null     object\n",
      " 1   Continent              73 non-null     object\n",
      " 2   GDP (millions of US$)  73 non-null     int64 \n",
      "dtypes: int64(1), object(2)\n",
      "memory usage: 2.3+ KB\n"
     ]
    }
   ],
   "source": [
    "df_AsiaAndEurope.info()"
   ]
  },
  {
   "cell_type": "code",
   "execution_count": 27,
   "id": "b8fb718d",
   "metadata": {},
   "outputs": [
    {
     "data": {
      "text/html": [
       "<div>\n",
       "<style scoped>\n",
       "    .dataframe tbody tr th:only-of-type {\n",
       "        vertical-align: middle;\n",
       "    }\n",
       "\n",
       "    .dataframe tbody tr th {\n",
       "        vertical-align: top;\n",
       "    }\n",
       "\n",
       "    .dataframe thead th {\n",
       "        text-align: right;\n",
       "    }\n",
       "</style>\n",
       "<table border=\"1\" class=\"dataframe\">\n",
       "  <thead>\n",
       "    <tr style=\"text-align: right;\">\n",
       "      <th></th>\n",
       "      <th>Country</th>\n",
       "      <th>Continent</th>\n",
       "      <th>GDP (millions of US$)</th>\n",
       "    </tr>\n",
       "  </thead>\n",
       "  <tbody>\n",
       "    <tr>\n",
       "      <th>0</th>\n",
       "      <td>Afghanistan</td>\n",
       "      <td>Asia</td>\n",
       "      <td>18181</td>\n",
       "    </tr>\n",
       "    <tr>\n",
       "      <th>1</th>\n",
       "      <td>Albania</td>\n",
       "      <td>Europe</td>\n",
       "      <td>12847</td>\n",
       "    </tr>\n",
       "    <tr>\n",
       "      <th>6</th>\n",
       "      <td>Austria</td>\n",
       "      <td>Europe</td>\n",
       "      <td>419243</td>\n",
       "    </tr>\n",
       "    <tr>\n",
       "      <th>7</th>\n",
       "      <td>Azerbaijan</td>\n",
       "      <td>Europe</td>\n",
       "      <td>62321</td>\n",
       "    </tr>\n",
       "    <tr>\n",
       "      <th>8</th>\n",
       "      <td>Bahrain</td>\n",
       "      <td>Asia</td>\n",
       "      <td>26108</td>\n",
       "    </tr>\n",
       "  </tbody>\n",
       "</table>\n",
       "</div>"
      ],
      "text/plain": [
       "        Country Continent  GDP (millions of US$)\n",
       "0   Afghanistan      Asia                  18181\n",
       "1       Albania    Europe                  12847\n",
       "6       Austria    Europe                 419243\n",
       "7    Azerbaijan    Europe                  62321\n",
       "8       Bahrain      Asia                  26108"
      ]
     },
     "execution_count": 27,
     "metadata": {},
     "output_type": "execute_result"
    }
   ],
   "source": [
    "df_AsiaAndEurope.head()"
   ]
  },
  {
   "cell_type": "markdown",
   "id": "96ae1cf1",
   "metadata": {},
   "source": [
    "# tiến hành kiểm định\n",
    "    + giả thiết H0: châu âu >= châu Á\n",
    "    + giả thiết H1: châu âu < châu Á\n",
    "    + với mức ý nghĩa 5%"
   ]
  },
  {
   "cell_type": "code",
   "execution_count": 38,
   "id": "9f853627",
   "metadata": {},
   "outputs": [],
   "source": [
    "df_Asia = df_AsiaAndEurope[df_AsiaAndEurope['Continent'] == 'Asia']['GDP (millions of US$)']"
   ]
  },
  {
   "cell_type": "code",
   "execution_count": 39,
   "id": "a6f91857",
   "metadata": {},
   "outputs": [],
   "source": [
    "df_europe = df_AsiaAndEurope[df_AsiaAndEurope['Continent'] == 'Europe']['GDP (millions of US$)']"
   ]
  },
  {
   "cell_type": "code",
   "execution_count": 42,
   "id": "77e302dd",
   "metadata": {},
   "outputs": [
    {
     "data": {
      "text/plain": [
       "<AxesSubplot:xlabel='GDP (millions of US$)', ylabel='Density'>"
      ]
     },
     "execution_count": 42,
     "metadata": {},
     "output_type": "execute_result"
    },
    {
     "data": {
      "image/png": "[encoded data removed]",
      "text/plain": [
       "<Figure size 432x288 with 1 Axes>"
      ]
     },
     "metadata": {
      "needs_background": "light"
     },
     "output_type": "display_data"
    }
   ],
   "source": [
    "sns.distplot(df_Asia, color = '#00ad00')"
   ]
  },
  {
   "cell_type": "code",
   "execution_count": 43,
   "id": "cd58362f",
   "metadata": {},
   "outputs": [
    {
     "name": "stderr",
     "output_type": "stream",
     "text": [
      "C:\\Users\\FPTSHOP\\anaconda3\\lib\\site-packages\\seaborn\\distributions.py:2619: FutureWarning: `distplot` is a deprecated function and will be removed in a future version. Please adapt your code to use either `displot` (a figure-level function with similar flexibility) or `histplot` (an axes-level function for histograms).\n",
      "  warnings.warn(msg, FutureWarning)\n"
     ]
    },
    {
     "data": {
      "text/plain": [
       "<AxesSubplot:xlabel='GDP (millions of US$)', ylabel='Density'>"
      ]
     },
     "execution_count": 43,
     "metadata": {},
     "output_type": "execute_result"
    },
    {
     "data": {
      "image/png": "[encoded data removed]",
      "text/plain": [
       "<Figure size 432x288 with 1 Axes>"
      ]
     },
     "metadata": {
      "needs_background": "light"
     },
     "output_type": "display_data"
    }
   ],
   "source": [
    "sns.distplot(df_europe, color = '#00ad00')"
   ]
  },
  {
   "cell_type": "code",
   "execution_count": 44,
   "id": "ac337a89",
   "metadata": {},
   "outputs": [],
   "source": [
    "test = stats.ttest_ind(df_Asia, df_europe,equal_var=False)"
   ]
  },
  {
   "cell_type": "code",
   "execution_count": 45,
   "id": "7bbb8aaa",
   "metadata": {},
   "outputs": [
    {
     "data": {
      "text/plain": [
       "Ttest_indResult(statistic=0.5546583491057376, pvalue=0.5813877404597693)"
      ]
     },
     "execution_count": 45,
     "metadata": {},
     "output_type": "execute_result"
    }
   ],
   "source": [
    "test"
   ]
  },
  {
   "cell_type": "markdown",
   "id": "42e7bd23",
   "metadata": {},
   "source": [
    "# kết luận: \n",
    "    + với mức pvalue lớn hơn rất nhiều so với mức ý nghĩa => chấp nhận H0\n",
    "    "
   ]
  },
  {
   "cell_type": "markdown",
   "id": "78d9673a",
   "metadata": {},
   "source": [
    "# GDP trung bình của các quốc gia ở châu Âu và châu Mỹ là bằng nhau\n",
    "    + tiến hành kiểm định:\n",
    "        + với mức ý nghĩa 0.05\n",
    "        + H0: châu âu = châu mỹ\n",
    "        + H1: châu Âu # Châu mỹ"
   ]
  },
  {
   "cell_type": "code",
   "execution_count": 46,
   "id": "1bfa1336",
   "metadata": {},
   "outputs": [],
   "source": [
    "df_SouthAmerica = df[df['Continent'] == 'South America']['GDP (millions of US$)']"
   ]
  },
  {
   "cell_type": "code",
   "execution_count": 47,
   "id": "1d52eb8d",
   "metadata": {},
   "outputs": [],
   "source": [
    "test = stats.ttest_ind(df_SouthAmerica, df_europe,equal_var=False)"
   ]
  },
  {
   "cell_type": "code",
   "execution_count": 48,
   "id": "bdd76343",
   "metadata": {},
   "outputs": [
    {
     "data": {
      "text/plain": [
       "Ttest_indResult(statistic=-0.19407235215980828, pvalue=0.8490774181286702)"
      ]
     },
     "execution_count": 48,
     "metadata": {},
     "output_type": "execute_result"
    }
   ],
   "source": [
    "test"
   ]
  },
  {
   "cell_type": "markdown",
   "id": "ae95e41f",
   "metadata": {},
   "source": [
    "+ kết luận : pvalue lớn hơn rất nhiều so với mức ý nghĩa vì ta chấp nhận H0"
   ]
  },
  {
   "cell_type": "code",
   "execution_count": null,
   "id": "df148c54",
   "metadata": {},
   "outputs": [],
   "source": []
  }
 ],
 "metadata": {
  "kernelspec": {
   "display_name": "Python 3 (ipykernel)",
   "language": "python",
   "name": "python3"
  },
  "language_info": {
   "codemirror_mode": {
    "name": "ipython",
    "version": 3
   },
   "file_extension": ".py",
   "mimetype": "text/x-python",
   "name": "python",
   "nbconvert_exporter": "python",
   "pygments_lexer": "ipython3",
   "version": "3.9.7"
  }
 },
 "nbformat": 4,
 "nbformat_minor": 5
}

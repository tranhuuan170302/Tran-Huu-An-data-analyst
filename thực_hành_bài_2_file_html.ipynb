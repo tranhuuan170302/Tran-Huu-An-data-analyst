{
  "nbformat": 4,
  "nbformat_minor": 0,
  "metadata": {
    "colab": {
      "name": "thực hành bài 2 html.ipynb",
      "provenance": [],
      "collapsed_sections": [],
      "authorship_tag": "ABX9TyNpeweEhhgzOvMvmCXrgqV4",
      "include_colab_link": true
    },
    "kernelspec": {
      "name": "python3",
      "display_name": "Python 3"
    },
    "language_info": {
      "name": "python"
    }
  },
  "cells": [
    {
      "cell_type": "markdown",
      "metadata": {
        "id": "view-in-github",
        "colab_type": "text"
      },
      "source": [
        "<a href=\"https://colab.research.google.com/github/tranhuuan170302/Tran-Huu-An-data-analyst/blob/main/th%C6%B0%CC%A3c_ha%CC%80nh_ba%CC%80i_2_file_html.ipynb\" target=\"_parent\"><img src=\"https://colab.research.google.com/assets/colab-badge.svg\" alt=\"Open In Colab\"/></a>"
      ]
    },
    {
      "cell_type": "markdown",
      "source": [
        "# đọc file hdf và hiển thị ra 5 dòng\n"
      ],
      "metadata": {
        "id": "wb-2MXlTHnRb"
      }
    },
    {
      "cell_type": "code",
      "source": [
        "import pandas as pd\n",
        "df = pd.read_html(\"https://github.com/hainmit09/DataAnalysis/raw/main/Bai_2_data/FoodPrice_in_Turkey.html\")\n",
        "df[0].head(5)\n"
      ],
      "metadata": {
        "colab": {
          "base_uri": "https://localhost:8080/",
          "height": 206
        },
        "id": "Eu564yd2Hy0M",
        "outputId": "16716802-c2d5-4ba1-dd3b-e50ebd28bd1b"
      },
      "execution_count": 68,
      "outputs": [
        {
          "output_type": "execute_result",
          "data": {
            "text/html": [
              "\n",
              "  <div id=\"df-fdd6b39e-740f-4a2d-981b-e44ce9afbb89\">\n",
              "    <div class=\"colab-df-container\">\n",
              "      <div>\n",
              "<style scoped>\n",
              "    .dataframe tbody tr th:only-of-type {\n",
              "        vertical-align: middle;\n",
              "    }\n",
              "\n",
              "    .dataframe tbody tr th {\n",
              "        vertical-align: top;\n",
              "    }\n",
              "\n",
              "    .dataframe thead th {\n",
              "        text-align: right;\n",
              "    }\n",
              "</style>\n",
              "<table border=\"1\" class=\"dataframe\">\n",
              "  <thead>\n",
              "    <tr style=\"text-align: right;\">\n",
              "      <th></th>\n",
              "      <th>Unnamed: 0</th>\n",
              "      <th>Place</th>\n",
              "      <th>ProductId</th>\n",
              "      <th>ProductName</th>\n",
              "      <th>UmId</th>\n",
              "      <th>UmName</th>\n",
              "      <th>Month</th>\n",
              "      <th>Year</th>\n",
              "      <th>Price</th>\n",
              "    </tr>\n",
              "  </thead>\n",
              "  <tbody>\n",
              "    <tr>\n",
              "      <th>0</th>\n",
              "      <td>0</td>\n",
              "      <td>National Average</td>\n",
              "      <td>52</td>\n",
              "      <td>Rice - Retail</td>\n",
              "      <td>5</td>\n",
              "      <td>KG</td>\n",
              "      <td>5</td>\n",
              "      <td>2013</td>\n",
              "      <td>4.4920</td>\n",
              "    </tr>\n",
              "    <tr>\n",
              "      <th>1</th>\n",
              "      <td>1</td>\n",
              "      <td>National Average</td>\n",
              "      <td>52</td>\n",
              "      <td>Rice - Retail</td>\n",
              "      <td>5</td>\n",
              "      <td>KG</td>\n",
              "      <td>6</td>\n",
              "      <td>2013</td>\n",
              "      <td>4.5786</td>\n",
              "    </tr>\n",
              "    <tr>\n",
              "      <th>2</th>\n",
              "      <td>2</td>\n",
              "      <td>National Average</td>\n",
              "      <td>52</td>\n",
              "      <td>Rice - Retail</td>\n",
              "      <td>5</td>\n",
              "      <td>KG</td>\n",
              "      <td>11</td>\n",
              "      <td>2013</td>\n",
              "      <td>4.7865</td>\n",
              "    </tr>\n",
              "    <tr>\n",
              "      <th>3</th>\n",
              "      <td>3</td>\n",
              "      <td>National Average</td>\n",
              "      <td>52</td>\n",
              "      <td>Rice - Retail</td>\n",
              "      <td>5</td>\n",
              "      <td>KG</td>\n",
              "      <td>12</td>\n",
              "      <td>2013</td>\n",
              "      <td>5.1337</td>\n",
              "    </tr>\n",
              "    <tr>\n",
              "      <th>4</th>\n",
              "      <td>4</td>\n",
              "      <td>National Average</td>\n",
              "      <td>52</td>\n",
              "      <td>Rice - Retail</td>\n",
              "      <td>5</td>\n",
              "      <td>KG</td>\n",
              "      <td>1</td>\n",
              "      <td>2014</td>\n",
              "      <td>5.5099</td>\n",
              "    </tr>\n",
              "  </tbody>\n",
              "</table>\n",
              "</div>\n",
              "      <button class=\"colab-df-convert\" onclick=\"convertToInteractive('df-fdd6b39e-740f-4a2d-981b-e44ce9afbb89')\"\n",
              "              title=\"Convert this dataframe to an interactive table.\"\n",
              "              style=\"display:none;\">\n",
              "        \n",
              "  <svg xmlns=\"http://www.w3.org/2000/svg\" height=\"24px\"viewBox=\"0 0 24 24\"\n",
              "       width=\"24px\">\n",
              "    <path d=\"M0 0h24v24H0V0z\" fill=\"none\"/>\n",
              "    <path d=\"M18.56 5.44l.94 2.06.94-2.06 2.06-.94-2.06-.94-.94-2.06-.94 2.06-2.06.94zm-11 1L8.5 8.5l.94-2.06 2.06-.94-2.06-.94L8.5 2.5l-.94 2.06-2.06.94zm10 10l.94 2.06.94-2.06 2.06-.94-2.06-.94-.94-2.06-.94 2.06-2.06.94z\"/><path d=\"M17.41 7.96l-1.37-1.37c-.4-.4-.92-.59-1.43-.59-.52 0-1.04.2-1.43.59L10.3 9.45l-7.72 7.72c-.78.78-.78 2.05 0 2.83L4 21.41c.39.39.9.59 1.41.59.51 0 1.02-.2 1.41-.59l7.78-7.78 2.81-2.81c.8-.78.8-2.07 0-2.86zM5.41 20L4 18.59l7.72-7.72 1.47 1.35L5.41 20z\"/>\n",
              "  </svg>\n",
              "      </button>\n",
              "      \n",
              "  <style>\n",
              "    .colab-df-container {\n",
              "      display:flex;\n",
              "      flex-wrap:wrap;\n",
              "      gap: 12px;\n",
              "    }\n",
              "\n",
              "    .colab-df-convert {\n",
              "      background-color: #E8F0FE;\n",
              "      border: none;\n",
              "      border-radius: 50%;\n",
              "      cursor: pointer;\n",
              "      display: none;\n",
              "      fill: #1967D2;\n",
              "      height: 32px;\n",
              "      padding: 0 0 0 0;\n",
              "      width: 32px;\n",
              "    }\n",
              "\n",
              "    .colab-df-convert:hover {\n",
              "      background-color: #E2EBFA;\n",
              "      box-shadow: 0px 1px 2px rgba(60, 64, 67, 0.3), 0px 1px 3px 1px rgba(60, 64, 67, 0.15);\n",
              "      fill: #174EA6;\n",
              "    }\n",
              "\n",
              "    [theme=dark] .colab-df-convert {\n",
              "      background-color: #3B4455;\n",
              "      fill: #D2E3FC;\n",
              "    }\n",
              "\n",
              "    [theme=dark] .colab-df-convert:hover {\n",
              "      background-color: #434B5C;\n",
              "      box-shadow: 0px 1px 3px 1px rgba(0, 0, 0, 0.15);\n",
              "      filter: drop-shadow(0px 1px 2px rgba(0, 0, 0, 0.3));\n",
              "      fill: #FFFFFF;\n",
              "    }\n",
              "  </style>\n",
              "\n",
              "      <script>\n",
              "        const buttonEl =\n",
              "          document.querySelector('#df-fdd6b39e-740f-4a2d-981b-e44ce9afbb89 button.colab-df-convert');\n",
              "        buttonEl.style.display =\n",
              "          google.colab.kernel.accessAllowed ? 'block' : 'none';\n",
              "\n",
              "        async function convertToInteractive(key) {\n",
              "          const element = document.querySelector('#df-fdd6b39e-740f-4a2d-981b-e44ce9afbb89');\n",
              "          const dataTable =\n",
              "            await google.colab.kernel.invokeFunction('convertToInteractive',\n",
              "                                                     [key], {});\n",
              "          if (!dataTable) return;\n",
              "\n",
              "          const docLinkHtml = 'Like what you see? Visit the ' +\n",
              "            '<a target=\"_blank\" href=https://colab.research.google.com/notebooks/data_table.ipynb>data table notebook</a>'\n",
              "            + ' to learn more about interactive tables.';\n",
              "          element.innerHTML = '';\n",
              "          dataTable['output_type'] = 'display_data';\n",
              "          await google.colab.output.renderOutput(dataTable, element);\n",
              "          const docLink = document.createElement('div');\n",
              "          docLink.innerHTML = docLinkHtml;\n",
              "          element.appendChild(docLink);\n",
              "        }\n",
              "      </script>\n",
              "    </div>\n",
              "  </div>\n",
              "  "
            ],
            "text/plain": [
              "   Unnamed: 0             Place  ProductId  ... Month  Year   Price\n",
              "0           0  National Average         52  ...     5  2013  4.4920\n",
              "1           1  National Average         52  ...     6  2013  4.5786\n",
              "2           2  National Average         52  ...    11  2013  4.7865\n",
              "3           3  National Average         52  ...    12  2013  5.1337\n",
              "4           4  National Average         52  ...     1  2014  5.5099\n",
              "\n",
              "[5 rows x 9 columns]"
            ]
          },
          "metadata": {},
          "execution_count": 68
        }
      ]
    },
    {
      "cell_type": "markdown",
      "source": [
        "# quan sát dữ liệu các cột"
      ],
      "metadata": {
        "id": "9ginn1QEV4xc"
      }
    },
    {
      "cell_type": "code",
      "source": [
        "df[0].info()"
      ],
      "metadata": {
        "colab": {
          "base_uri": "https://localhost:8080/"
        },
        "id": "3CAZiEn6V-Z8",
        "outputId": "66a6da83-cb24-4810-fa57-7a366743b891"
      },
      "execution_count": 43,
      "outputs": [
        {
          "output_type": "stream",
          "name": "stdout",
          "text": [
            "<class 'pandas.core.frame.DataFrame'>\n",
            "RangeIndex: 7381 entries, 0 to 7380\n",
            "Data columns (total 9 columns):\n",
            " #   Column       Non-Null Count  Dtype  \n",
            "---  ------       --------------  -----  \n",
            " 0   Unnamed: 0   7381 non-null   int64  \n",
            " 1   Place        7381 non-null   object \n",
            " 2   ProductId    7381 non-null   int64  \n",
            " 3   ProductName  7381 non-null   object \n",
            " 4   UmId         7381 non-null   int64  \n",
            " 5   UmName       7381 non-null   object \n",
            " 6   Month        7381 non-null   int64  \n",
            " 7   Year         7381 non-null   int64  \n",
            " 8   Price        7381 non-null   float64\n",
            "dtypes: float64(1), int64(5), object(3)\n",
            "memory usage: 519.1+ KB\n"
          ]
        }
      ]
    },
    {
      "cell_type": "markdown",
      "source": [
        "# hiển thị số dòng và số cột "
      ],
      "metadata": {
        "id": "1ZZVQC3RWEcL"
      }
    },
    {
      "cell_type": "code",
      "source": [
        "print(\"số cột :\", df[0].shape[1])\n",
        "print(\"số hàng: \", df[0].shape[0])"
      ],
      "metadata": {
        "colab": {
          "base_uri": "https://localhost:8080/"
        },
        "id": "Qgh6fjntWL4o",
        "outputId": "1d65c098-7506-4d5e-dbb0-48a59522d32a"
      },
      "execution_count": 67,
      "outputs": [
        {
          "output_type": "stream",
          "name": "stdout",
          "text": [
            "số cột : 9\n",
            "số hàng:  7381\n"
          ]
        }
      ]
    },
    {
      "cell_type": "markdown",
      "source": [
        "# biểu đồ histrgram"
      ],
      "metadata": {
        "id": "jy1RwbggZ1vG"
      }
    },
    {
      "cell_type": "code",
      "source": [
        "import matplotlib.pyplot as plt\n",
        "plt.hist(df[0]['Price'], bins = 200)"
      ],
      "metadata": {
        "colab": {
          "base_uri": "https://localhost:8080/",
          "height": 1000
        },
        "id": "DWdL3T6KZ_fH",
        "outputId": "bca30ad4-d855-43da-8550-a1893ecb6add"
      },
      "execution_count": 70,
      "outputs": [
        {
          "output_type": "execute_result",
          "data": {
            "text/plain": [
              "(array([332., 350., 624., 726., 633., 517., 463., 357., 260., 173., 191.,\n",
              "        150., 166., 132.,  72.,  58.,  56.,  50.,  52.,  28.,  13.,  28.,\n",
              "         20.,  36.,  33.,  33.,  29.,  37.,  24.,  38.,  36.,  32.,  60.,\n",
              "         63.,  74.,  75.,  57.,  50.,  52.,  43.,  30.,  31.,  12.,  17.,\n",
              "         36.,  24.,  21.,  17.,  31.,  29.,  31.,  44.,  37.,  31.,  49.,\n",
              "         41.,  44.,  45.,  27.,  39.,  19.,  14.,  25.,  15.,  22.,  16.,\n",
              "         14.,  14.,  15.,  14.,   9.,   9.,  13.,   9.,   4.,   0.,   2.,\n",
              "          0.,   6.,  11.,   3.,   3.,   2.,   1.,   1.,   1.,   1.,   3.,\n",
              "          3.,   6.,   3.,   3.,   3.,   3.,   6.,   2.,   3.,   3.,   4.,\n",
              "          1.,   4.,   6.,   2.,   5.,   6.,   3.,   6.,   7.,   6.,   7.,\n",
              "          2.,   3.,   6.,   6.,   6.,   9.,   6.,   6.,   4.,   0.,   0.,\n",
              "          4.,   2.,   8.,   7.,   5.,   2.,   2.,   2.,   2.,   3.,   1.,\n",
              "          3.,   0.,   1.,   2.,   4.,   0.,   1.,   3.,   3.,   2.,   3.,\n",
              "          3.,   3.,   1.,   2.,   0.,   7.,   1.,   1.,   3.,   3.,   4.,\n",
              "          7.,   3.,   1.,   3.,   2.,   1.,   1.,   2.,   0.,   0.,   0.,\n",
              "          0.,   0.,   1.,   0.,   0.,   2.,   3.,   0.,   1.,   0.,   0.,\n",
              "          0.,   0.,   0.,   1.,   1.,   1.,   3.,   0.,   2.,   0.,   0.,\n",
              "          0.,   2.,   1.,   1.,   0.,   0.,   1.,   4.,   3.,   0.,   0.,\n",
              "          0.,   1.]),\n",
              " array([  0.2539   ,   1.0498595,   1.845819 ,   2.6417785,   3.437738 ,\n",
              "          4.2336975,   5.029657 ,   5.8256165,   6.621576 ,   7.4175355,\n",
              "          8.213495 ,   9.0094545,   9.805414 ,  10.6013735,  11.397333 ,\n",
              "         12.1932925,  12.989252 ,  13.7852115,  14.581171 ,  15.3771305,\n",
              "         16.17309  ,  16.9690495,  17.765009 ,  18.5609685,  19.356928 ,\n",
              "         20.1528875,  20.948847 ,  21.7448065,  22.540766 ,  23.3367255,\n",
              "         24.132685 ,  24.9286445,  25.724604 ,  26.5205635,  27.316523 ,\n",
              "         28.1124825,  28.908442 ,  29.7044015,  30.500361 ,  31.2963205,\n",
              "         32.09228  ,  32.8882395,  33.684199 ,  34.4801585,  35.276118 ,\n",
              "         36.0720775,  36.868037 ,  37.6639965,  38.459956 ,  39.2559155,\n",
              "         40.051875 ,  40.8478345,  41.643794 ,  42.4397535,  43.235713 ,\n",
              "         44.0316725,  44.827632 ,  45.6235915,  46.419551 ,  47.2155105,\n",
              "         48.01147  ,  48.8074295,  49.603389 ,  50.3993485,  51.195308 ,\n",
              "         51.9912675,  52.787227 ,  53.5831865,  54.379146 ,  55.1751055,\n",
              "         55.971065 ,  56.7670245,  57.562984 ,  58.3589435,  59.154903 ,\n",
              "         59.9508625,  60.746822 ,  61.5427815,  62.338741 ,  63.1347005,\n",
              "         63.93066  ,  64.7266195,  65.522579 ,  66.3185385,  67.114498 ,\n",
              "         67.9104575,  68.706417 ,  69.5023765,  70.298336 ,  71.0942955,\n",
              "         71.890255 ,  72.6862145,  73.482174 ,  74.2781335,  75.074093 ,\n",
              "         75.8700525,  76.666012 ,  77.4619715,  78.257931 ,  79.0538905,\n",
              "         79.84985  ,  80.6458095,  81.441769 ,  82.2377285,  83.033688 ,\n",
              "         83.8296475,  84.625607 ,  85.4215665,  86.217526 ,  87.0134855,\n",
              "         87.809445 ,  88.6054045,  89.401364 ,  90.1973235,  90.993283 ,\n",
              "         91.7892425,  92.585202 ,  93.3811615,  94.177121 ,  94.9730805,\n",
              "         95.76904  ,  96.5649995,  97.360959 ,  98.1569185,  98.952878 ,\n",
              "         99.7488375, 100.544797 , 101.3407565, 102.136716 , 102.9326755,\n",
              "        103.728635 , 104.5245945, 105.320554 , 106.1165135, 106.912473 ,\n",
              "        107.7084325, 108.504392 , 109.3003515, 110.096311 , 110.8922705,\n",
              "        111.68823  , 112.4841895, 113.280149 , 114.0761085, 114.872068 ,\n",
              "        115.6680275, 116.463987 , 117.2599465, 118.055906 , 118.8518655,\n",
              "        119.647825 , 120.4437845, 121.239744 , 122.0357035, 122.831663 ,\n",
              "        123.6276225, 124.423582 , 125.2195415, 126.015501 , 126.8114605,\n",
              "        127.60742  , 128.4033795, 129.199339 , 129.9952985, 130.791258 ,\n",
              "        131.5872175, 132.383177 , 133.1791365, 133.975096 , 134.7710555,\n",
              "        135.567015 , 136.3629745, 137.158934 , 137.9548935, 138.750853 ,\n",
              "        139.5468125, 140.342772 , 141.1387315, 141.934691 , 142.7306505,\n",
              "        143.52661  , 144.3225695, 145.118529 , 145.9144885, 146.710448 ,\n",
              "        147.5064075, 148.302367 , 149.0983265, 149.894286 , 150.6902455,\n",
              "        151.486205 , 152.2821645, 153.078124 , 153.8740835, 154.670043 ,\n",
              "        155.4660025, 156.261962 , 157.0579215, 157.853881 , 158.6498405,\n",
              "        159.4458   ]),\n",
              " <a list of 200 Patch objects>)"
            ]
          },
          "metadata": {},
          "execution_count": 70
        },
        {
          "output_type": "display_data",
          "data": {
            "image/png": "[encoded data removed]",
            "text/plain": [
              "<Figure size 432x288 with 1 Axes>"
            ]
          },
          "metadata": {
            "needs_background": "light"
          }
        }
      ]
    }
  ]
}
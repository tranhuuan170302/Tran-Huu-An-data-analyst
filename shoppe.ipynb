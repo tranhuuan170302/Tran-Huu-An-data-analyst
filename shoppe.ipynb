{
 "cells": [
  {
   "cell_type": "markdown",
   "id": "de059811",
   "metadata": {},
   "source": [
    "# import library"
   ]
  },
  {
   "cell_type": "code",
   "execution_count": 1,
   "id": "ba527efa",
   "metadata": {},
   "outputs": [],
   "source": [
    "import pandas as pd\n",
    "import matplotlib.pyplot as plt\n",
    "import numpy as np\n",
    "import seaborn as sns\n",
    "import datetime as dt\n",
    "import time"
   ]
  },
  {
   "cell_type": "code",
   "execution_count": 2,
   "id": "82abc292",
   "metadata": {},
   "outputs": [],
   "source": [
    "df = pd.read_csv(\"C:\\\\Users\\\\FPTSHOP\\\\Downloads\\\\shopeep_koreantop_clothing_shop_data.csv\")"
   ]
  },
  {
   "cell_type": "code",
   "execution_count": 3,
   "id": "0a637da3",
   "metadata": {},
   "outputs": [
    {
     "name": "stdout",
     "output_type": "stream",
     "text": [
      "<class 'pandas.core.frame.DataFrame'>\n",
      "RangeIndex: 746 entries, 0 to 745\n",
      "Data columns (total 18 columns):\n",
      " #   Column              Non-Null Count  Dtype  \n",
      "---  ------              --------------  -----  \n",
      " 0   pk_shop             746 non-null    int64  \n",
      " 1   date_collected      746 non-null    object \n",
      " 2   shopid              746 non-null    int64  \n",
      " 3   name                746 non-null    object \n",
      " 4   join_month          746 non-null    object \n",
      " 5   join_day            746 non-null    int64  \n",
      " 6   join_year           746 non-null    int64  \n",
      " 7   item_count          746 non-null    int64  \n",
      " 8   follower_count      746 non-null    int64  \n",
      " 9   response_time       746 non-null    object \n",
      " 10  response_rate       746 non-null    int64  \n",
      " 11  shop_location       428 non-null    object \n",
      " 12  rating_bad          746 non-null    int64  \n",
      " 13  rating_good         746 non-null    int64  \n",
      " 14  rating_normal       746 non-null    int64  \n",
      " 15  rating_star         740 non-null    float64\n",
      " 16  is_shopee_verified  746 non-null    int64  \n",
      " 17  is_official_shop    746 non-null    int64  \n",
      "dtypes: float64(1), int64(12), object(5)\n",
      "memory usage: 105.0+ KB\n"
     ]
    }
   ],
   "source": [
    "df.info()"
   ]
  },
  {
   "cell_type": "code",
   "execution_count": 4,
   "id": "2097b6c9",
   "metadata": {},
   "outputs": [
    {
     "data": {
      "text/html": [
       "<div>\n",
       "<style scoped>\n",
       "    .dataframe tbody tr th:only-of-type {\n",
       "        vertical-align: middle;\n",
       "    }\n",
       "\n",
       "    .dataframe tbody tr th {\n",
       "        vertical-align: top;\n",
       "    }\n",
       "\n",
       "    .dataframe thead th {\n",
       "        text-align: right;\n",
       "    }\n",
       "</style>\n",
       "<table border=\"1\" class=\"dataframe\">\n",
       "  <thead>\n",
       "    <tr style=\"text-align: right;\">\n",
       "      <th></th>\n",
       "      <th>pk_shop</th>\n",
       "      <th>date_collected</th>\n",
       "      <th>shopid</th>\n",
       "      <th>name</th>\n",
       "      <th>join_month</th>\n",
       "      <th>join_day</th>\n",
       "      <th>join_year</th>\n",
       "      <th>item_count</th>\n",
       "      <th>follower_count</th>\n",
       "      <th>response_time</th>\n",
       "      <th>response_rate</th>\n",
       "      <th>shop_location</th>\n",
       "      <th>rating_bad</th>\n",
       "      <th>rating_good</th>\n",
       "      <th>rating_normal</th>\n",
       "      <th>rating_star</th>\n",
       "      <th>is_shopee_verified</th>\n",
       "      <th>is_official_shop</th>\n",
       "    </tr>\n",
       "  </thead>\n",
       "  <tbody>\n",
       "    <tr>\n",
       "      <th>0</th>\n",
       "      <td>20210613254711738</td>\n",
       "      <td>2021-06-13</td>\n",
       "      <td>254711738</td>\n",
       "      <td>hello.may.ph</td>\n",
       "      <td>April</td>\n",
       "      <td>27</td>\n",
       "      <td>2020</td>\n",
       "      <td>446</td>\n",
       "      <td>17487</td>\n",
       "      <td>10:13:55</td>\n",
       "      <td>96</td>\n",
       "      <td>NaN</td>\n",
       "      <td>181</td>\n",
       "      <td>17510</td>\n",
       "      <td>729</td>\n",
       "      <td>4.81</td>\n",
       "      <td>1</td>\n",
       "      <td>0</td>\n",
       "    </tr>\n",
       "    <tr>\n",
       "      <th>1</th>\n",
       "      <td>20210613314198143</td>\n",
       "      <td>2021-06-13</td>\n",
       "      <td>314198143</td>\n",
       "      <td>love.women.shop</td>\n",
       "      <td>September</td>\n",
       "      <td>25</td>\n",
       "      <td>2020</td>\n",
       "      <td>263</td>\n",
       "      <td>8574</td>\n",
       "      <td>10:43:05</td>\n",
       "      <td>73</td>\n",
       "      <td>San Nicolas,Metro Manila</td>\n",
       "      <td>78</td>\n",
       "      <td>2656</td>\n",
       "      <td>198</td>\n",
       "      <td>4.68</td>\n",
       "      <td>0</td>\n",
       "      <td>0</td>\n",
       "    </tr>\n",
       "    <tr>\n",
       "      <th>2</th>\n",
       "      <td>2021061310377223</td>\n",
       "      <td>2021-06-13</td>\n",
       "      <td>10377223</td>\n",
       "      <td>R&amp;O RedOrange</td>\n",
       "      <td>September</td>\n",
       "      <td>27</td>\n",
       "      <td>2016</td>\n",
       "      <td>209</td>\n",
       "      <td>660417</td>\n",
       "      <td>08:32:07</td>\n",
       "      <td>90</td>\n",
       "      <td>Pasay City,Metro Manila</td>\n",
       "      <td>4647</td>\n",
       "      <td>1071829</td>\n",
       "      <td>18073</td>\n",
       "      <td>4.91</td>\n",
       "      <td>1</td>\n",
       "      <td>0</td>\n",
       "    </tr>\n",
       "    <tr>\n",
       "      <th>3</th>\n",
       "      <td>2021061321407329</td>\n",
       "      <td>2021-06-13</td>\n",
       "      <td>21407329</td>\n",
       "      <td>patriciacai</td>\n",
       "      <td>April</td>\n",
       "      <td>30</td>\n",
       "      <td>2017</td>\n",
       "      <td>165</td>\n",
       "      <td>18787</td>\n",
       "      <td>09:10:38</td>\n",
       "      <td>94</td>\n",
       "      <td>Binondo,Metro Manila</td>\n",
       "      <td>44</td>\n",
       "      <td>18959</td>\n",
       "      <td>215</td>\n",
       "      <td>4.94</td>\n",
       "      <td>1</td>\n",
       "      <td>0</td>\n",
       "    </tr>\n",
       "    <tr>\n",
       "      <th>4</th>\n",
       "      <td>2021061311187885</td>\n",
       "      <td>2021-06-13</td>\n",
       "      <td>11187885</td>\n",
       "      <td>Little Market Manila</td>\n",
       "      <td>October</td>\n",
       "      <td>18</td>\n",
       "      <td>2016</td>\n",
       "      <td>467</td>\n",
       "      <td>67371</td>\n",
       "      <td>11:40:59</td>\n",
       "      <td>89</td>\n",
       "      <td>Caloocan City,Metro Manila</td>\n",
       "      <td>680</td>\n",
       "      <td>39252</td>\n",
       "      <td>2383</td>\n",
       "      <td>4.73</td>\n",
       "      <td>1</td>\n",
       "      <td>0</td>\n",
       "    </tr>\n",
       "  </tbody>\n",
       "</table>\n",
       "</div>"
      ],
      "text/plain": [
       "             pk_shop date_collected     shopid                  name  \\\n",
       "0  20210613254711738     2021-06-13  254711738          hello.may.ph   \n",
       "1  20210613314198143     2021-06-13  314198143       love.women.shop   \n",
       "2   2021061310377223     2021-06-13   10377223         R&O RedOrange   \n",
       "3   2021061321407329     2021-06-13   21407329           patriciacai   \n",
       "4   2021061311187885     2021-06-13   11187885  Little Market Manila   \n",
       "\n",
       "  join_month  join_day  join_year  item_count  follower_count response_time  \\\n",
       "0      April        27       2020         446           17487      10:13:55   \n",
       "1  September        25       2020         263            8574      10:43:05   \n",
       "2  September        27       2016         209          660417      08:32:07   \n",
       "3      April        30       2017         165           18787      09:10:38   \n",
       "4    October        18       2016         467           67371      11:40:59   \n",
       "\n",
       "   response_rate               shop_location  rating_bad  rating_good  \\\n",
       "0             96                         NaN         181        17510   \n",
       "1             73    San Nicolas,Metro Manila          78         2656   \n",
       "2             90     Pasay City,Metro Manila        4647      1071829   \n",
       "3             94        Binondo,Metro Manila          44        18959   \n",
       "4             89  Caloocan City,Metro Manila         680        39252   \n",
       "\n",
       "   rating_normal  rating_star  is_shopee_verified  is_official_shop  \n",
       "0            729         4.81                   1                 0  \n",
       "1            198         4.68                   0                 0  \n",
       "2          18073         4.91                   1                 0  \n",
       "3            215         4.94                   1                 0  \n",
       "4           2383         4.73                   1                 0  "
      ]
     },
     "execution_count": 4,
     "metadata": {},
     "output_type": "execute_result"
    }
   ],
   "source": [
    "df.head()"
   ]
  },
  {
   "cell_type": "markdown",
   "id": "43cd8593",
   "metadata": {},
   "source": [
    "# Vẽ biểu đồ so sánh số lượng shop gia nhập theo các năm."
   ]
  },
  {
   "cell_type": "code",
   "execution_count": 5,
   "id": "2d351a97",
   "metadata": {},
   "outputs": [],
   "source": [
    "df1 = df[['join_year', 'shopid']]"
   ]
  },
  {
   "cell_type": "code",
   "execution_count": 6,
   "id": "57eaf946",
   "metadata": {},
   "outputs": [
    {
     "data": {
      "text/html": [
       "<div>\n",
       "<style scoped>\n",
       "    .dataframe tbody tr th:only-of-type {\n",
       "        vertical-align: middle;\n",
       "    }\n",
       "\n",
       "    .dataframe tbody tr th {\n",
       "        vertical-align: top;\n",
       "    }\n",
       "\n",
       "    .dataframe thead th {\n",
       "        text-align: right;\n",
       "    }\n",
       "</style>\n",
       "<table border=\"1\" class=\"dataframe\">\n",
       "  <thead>\n",
       "    <tr style=\"text-align: right;\">\n",
       "      <th></th>\n",
       "      <th>join_year</th>\n",
       "      <th>shopid</th>\n",
       "    </tr>\n",
       "  </thead>\n",
       "  <tbody>\n",
       "    <tr>\n",
       "      <th>0</th>\n",
       "      <td>2020</td>\n",
       "      <td>254711738</td>\n",
       "    </tr>\n",
       "    <tr>\n",
       "      <th>1</th>\n",
       "      <td>2020</td>\n",
       "      <td>314198143</td>\n",
       "    </tr>\n",
       "    <tr>\n",
       "      <th>2</th>\n",
       "      <td>2016</td>\n",
       "      <td>10377223</td>\n",
       "    </tr>\n",
       "    <tr>\n",
       "      <th>3</th>\n",
       "      <td>2017</td>\n",
       "      <td>21407329</td>\n",
       "    </tr>\n",
       "    <tr>\n",
       "      <th>4</th>\n",
       "      <td>2016</td>\n",
       "      <td>11187885</td>\n",
       "    </tr>\n",
       "  </tbody>\n",
       "</table>\n",
       "</div>"
      ],
      "text/plain": [
       "   join_year     shopid\n",
       "0       2020  254711738\n",
       "1       2020  314198143\n",
       "2       2016   10377223\n",
       "3       2017   21407329\n",
       "4       2016   11187885"
      ]
     },
     "execution_count": 6,
     "metadata": {},
     "output_type": "execute_result"
    }
   ],
   "source": [
    "df1.head()"
   ]
  },
  {
   "cell_type": "code",
   "execution_count": 7,
   "id": "9a56dee6",
   "metadata": {},
   "outputs": [],
   "source": [
    " df_number = df1.groupby(['join_year']).count()"
   ]
  },
  {
   "cell_type": "code",
   "execution_count": 8,
   "id": "39592931",
   "metadata": {},
   "outputs": [],
   "source": [
    "df_number = df_number.reset_index()"
   ]
  },
  {
   "cell_type": "code",
   "execution_count": 9,
   "id": "dc0ecc47",
   "metadata": {},
   "outputs": [
    {
     "data": {
      "image/png": "[encoded data removed]",
      "text/plain": [
       "<Figure size 1008x576 with 1 Axes>"
      ]
     },
     "metadata": {
      "needs_background": "light"
     },
     "output_type": "display_data"
    }
   ],
   "source": [
    "plt.figure(figsize = (14,8))\n",
    "plt.bar(df_number['join_year'], df_number['shopid'])\n",
    "plt.title(\"number shop participation year\", fontsize = 25)\n",
    "plt.xlabel(\"join year\", fontsize = 14)\n",
    "plt.ylabel(\"quantity shop\", fontsize = 14)\n",
    "plt.show()"
   ]
  },
  {
   "cell_type": "markdown",
   "id": "6691d1e5",
   "metadata": {},
   "source": [
    "# Vẽ biểu đồ thể hiện mối quan hệ giữa tỉ lệ phản hồi với số lượt khách hàng đánh giá tốt."
   ]
  },
  {
   "cell_type": "code",
   "execution_count": 10,
   "id": "530e406a",
   "metadata": {},
   "outputs": [],
   "source": [
    "# ranting bad\n",
    "df2 = df[['rating_bad', 'rating_good', 'rating_normal']]"
   ]
  },
  {
   "cell_type": "code",
   "execution_count": 11,
   "id": "aca500c8",
   "metadata": {},
   "outputs": [
    {
     "data": {
      "text/html": [
       "<div>\n",
       "<style scoped>\n",
       "    .dataframe tbody tr th:only-of-type {\n",
       "        vertical-align: middle;\n",
       "    }\n",
       "\n",
       "    .dataframe tbody tr th {\n",
       "        vertical-align: top;\n",
       "    }\n",
       "\n",
       "    .dataframe thead th {\n",
       "        text-align: right;\n",
       "    }\n",
       "</style>\n",
       "<table border=\"1\" class=\"dataframe\">\n",
       "  <thead>\n",
       "    <tr style=\"text-align: right;\">\n",
       "      <th></th>\n",
       "      <th>rating_bad</th>\n",
       "      <th>rating_good</th>\n",
       "      <th>rating_normal</th>\n",
       "    </tr>\n",
       "  </thead>\n",
       "  <tbody>\n",
       "    <tr>\n",
       "      <th>0</th>\n",
       "      <td>181</td>\n",
       "      <td>17510</td>\n",
       "      <td>729</td>\n",
       "    </tr>\n",
       "    <tr>\n",
       "      <th>1</th>\n",
       "      <td>78</td>\n",
       "      <td>2656</td>\n",
       "      <td>198</td>\n",
       "    </tr>\n",
       "    <tr>\n",
       "      <th>2</th>\n",
       "      <td>4647</td>\n",
       "      <td>1071829</td>\n",
       "      <td>18073</td>\n",
       "    </tr>\n",
       "    <tr>\n",
       "      <th>3</th>\n",
       "      <td>44</td>\n",
       "      <td>18959</td>\n",
       "      <td>215</td>\n",
       "    </tr>\n",
       "    <tr>\n",
       "      <th>4</th>\n",
       "      <td>680</td>\n",
       "      <td>39252</td>\n",
       "      <td>2383</td>\n",
       "    </tr>\n",
       "  </tbody>\n",
       "</table>\n",
       "</div>"
      ],
      "text/plain": [
       "   rating_bad  rating_good  rating_normal\n",
       "0         181        17510            729\n",
       "1          78         2656            198\n",
       "2        4647      1071829          18073\n",
       "3          44        18959            215\n",
       "4         680        39252           2383"
      ]
     },
     "execution_count": 11,
     "metadata": {},
     "output_type": "execute_result"
    }
   ],
   "source": [
    "df2.head()"
   ]
  },
  {
   "cell_type": "code",
   "execution_count": 12,
   "id": "b64778e2",
   "metadata": {},
   "outputs": [],
   "source": [
    "df2 = df2.sum()"
   ]
  },
  {
   "cell_type": "code",
   "execution_count": 13,
   "id": "f594a1ec",
   "metadata": {},
   "outputs": [],
   "source": [
    "total = df2.sum()"
   ]
  },
  {
   "cell_type": "code",
   "execution_count": 14,
   "id": "26158520",
   "metadata": {},
   "outputs": [
    {
     "data": {
      "text/plain": [
       "72516319"
      ]
     },
     "execution_count": 14,
     "metadata": {},
     "output_type": "execute_result"
    }
   ],
   "source": [
    "df2.rating_good"
   ]
  },
  {
   "cell_type": "code",
   "execution_count": 15,
   "id": "97fb9a6d",
   "metadata": {},
   "outputs": [],
   "source": [
    "listName = [\"rating_good\", \"total_rating\"]\n",
    "data = [df2.rating_good, total]"
   ]
  },
  {
   "cell_type": "code",
   "execution_count": 16,
   "id": "a417bbcf",
   "metadata": {},
   "outputs": [
    {
     "data": {
      "image/png": "[encoded data removed]",
      "text/plain": [
       "<Figure size 1296x576 with 1 Axes>"
      ]
     },
     "metadata": {
      "needs_background": "light"
     },
     "output_type": "display_data"
    }
   ],
   "source": [
    "plt.figure(figsize = (18,8))\n",
    "plt.title(\"compare bettwen rating good and total rating\", fontsize = 20)\n",
    "plt.bar(listName, data)\n",
    "plt.xlabel(\"name rating\", fontsize = 14, alpha=1)\n",
    "plt.grid(color='#95a5a6', linestyle='--', linewidth=2, axis='y', alpha=1)\n",
    "plt.ylabel(\"value\", fontsize = 14)\n",
    "plt.show()"
   ]
  },
  {
   "cell_type": "markdown",
   "id": "40d1a0f3",
   "metadata": {},
   "source": [
    "# Vẽ biểu đồ thể hiện mối quan hệ giữa thời gian phản hồi (đơn vị giây) với số lượt khách hàng đánh giá xấu."
   ]
  },
  {
   "cell_type": "code",
   "execution_count": 17,
   "id": "bc8459bc",
   "metadata": {},
   "outputs": [],
   "source": [
    "df_timeRatingBad = df[['response_time', 'rating_bad']]"
   ]
  },
  {
   "cell_type": "code",
   "execution_count": 18,
   "id": "1515b45c",
   "metadata": {},
   "outputs": [
    {
     "name": "stdout",
     "output_type": "stream",
     "text": [
      "<class 'pandas.core.frame.DataFrame'>\n",
      "RangeIndex: 746 entries, 0 to 745\n",
      "Data columns (total 2 columns):\n",
      " #   Column         Non-Null Count  Dtype \n",
      "---  ------         --------------  ----- \n",
      " 0   response_time  746 non-null    object\n",
      " 1   rating_bad     746 non-null    int64 \n",
      "dtypes: int64(1), object(1)\n",
      "memory usage: 11.8+ KB\n"
     ]
    }
   ],
   "source": [
    "df_timeRatingBad.info()"
   ]
  },
  {
   "cell_type": "code",
   "execution_count": 19,
   "id": "3e6ffcb3",
   "metadata": {},
   "outputs": [
    {
     "data": {
      "text/html": [
       "<div>\n",
       "<style scoped>\n",
       "    .dataframe tbody tr th:only-of-type {\n",
       "        vertical-align: middle;\n",
       "    }\n",
       "\n",
       "    .dataframe tbody tr th {\n",
       "        vertical-align: top;\n",
       "    }\n",
       "\n",
       "    .dataframe thead th {\n",
       "        text-align: right;\n",
       "    }\n",
       "</style>\n",
       "<table border=\"1\" class=\"dataframe\">\n",
       "  <thead>\n",
       "    <tr style=\"text-align: right;\">\n",
       "      <th></th>\n",
       "      <th>response_time</th>\n",
       "      <th>rating_bad</th>\n",
       "    </tr>\n",
       "  </thead>\n",
       "  <tbody>\n",
       "    <tr>\n",
       "      <th>0</th>\n",
       "      <td>10:13:55</td>\n",
       "      <td>181</td>\n",
       "    </tr>\n",
       "    <tr>\n",
       "      <th>1</th>\n",
       "      <td>10:43:05</td>\n",
       "      <td>78</td>\n",
       "    </tr>\n",
       "    <tr>\n",
       "      <th>2</th>\n",
       "      <td>08:32:07</td>\n",
       "      <td>4647</td>\n",
       "    </tr>\n",
       "    <tr>\n",
       "      <th>3</th>\n",
       "      <td>09:10:38</td>\n",
       "      <td>44</td>\n",
       "    </tr>\n",
       "    <tr>\n",
       "      <th>4</th>\n",
       "      <td>11:40:59</td>\n",
       "      <td>680</td>\n",
       "    </tr>\n",
       "  </tbody>\n",
       "</table>\n",
       "</div>"
      ],
      "text/plain": [
       "  response_time  rating_bad\n",
       "0      10:13:55         181\n",
       "1      10:43:05          78\n",
       "2      08:32:07        4647\n",
       "3      09:10:38          44\n",
       "4      11:40:59         680"
      ]
     },
     "execution_count": 19,
     "metadata": {},
     "output_type": "execute_result"
    }
   ],
   "source": [
    "df_timeRatingBad.head()"
   ]
  },
  {
   "cell_type": "code",
   "execution_count": 20,
   "id": "d3e8f228",
   "metadata": {},
   "outputs": [
    {
     "data": {
      "text/plain": [
       "array([' 10:13:55', ' 10:43:05', ' 08:32:07', ' 09:10:38', ' 11:40:59',\n",
       "       ' 12:33:58', ' 11:00:46', ' 11:03:13', ' 10:14:49', ' 09:41:23',\n",
       "       ' 08:55:06', ' 12:07:08', ' 11:57:43', ' 10:43:46', ' 11:46:01',\n",
       "       ' 09:36:00', ' 10:28:02', ' 08:05:48', ' 10:13:30', ' 10:03:06',\n",
       "       ' 09:34:41', ' 09:52:55', ' 11:25:23', ' 09:26:55', ' 14:56:24',\n",
       "       ' 11:43:29', ' 13:09:38', ' 11:14:33', ' 09:44:54', ' 08:35:40',\n",
       "       ' 11:43:52', ' 09:37:23', ' 11:03:30', ' 09:13:35', ' 10:13:24',\n",
       "       ' 10:40:12', ' 08:28:44', ' 11:45:05', ' 13:16:46', ' 12:48:36',\n",
       "       ' 10:58:45', ' 11:42:04', ' 08:25:22', ' 08:07:02', ' 11:01:08',\n",
       "       ' 11:49:38', ' 09:56:42', ' 11:32:50', ' 11:00:36', ' 10:10:57',\n",
       "       ' 11:41:13', ' 11:45:46', ' 11:30:22', ' 09:05:28', ' 10:40:10',\n",
       "       ' 12:45:44', ' 09:30:37', ' 12:06:34', ' 09:19:38', ' 10:24:59',\n",
       "       ' 12:30:35', ' 09:42:10', ' 08:54:58', ' 08:38:18', ' 11:21:03',\n",
       "       ' 10:54:52', ' 09:30:18', ' 08:00:13', ' 12:23:35', ' 11:17:17',\n",
       "       ' 11:17:25', ' 08:52:37', ' 09:06:59', ' 11:09:56', ' 09:39:04',\n",
       "       ' 12:41:50', ' 10:15:46', ' 13:14:25', ' 09:55:24', ' 10:44:06',\n",
       "       ' 11:20:03', ' 09:48:05', ' 09:06:02', ' 10:18:28', ' 09:47:04',\n",
       "       ' 09:28:00', ' 08:28:04', ' 09:49:47', ' 12:56:29', ' 09:37:05',\n",
       "       ' 12:30:55', ' 11:54:58', ' 11:32:09', ' 10:42:00', ' 10:46:36',\n",
       "       ' 09:48:54', ' 08:26:28', ' 09:54:54', ' 10:10:24', ' 11:20:07',\n",
       "       ' 11:21:13', ' 08:13:15', ' 09:18:17', ' 08:46:11', ' 10:43:03',\n",
       "       ' 11:14:21', ' 10:51:16', ' 09:13:18', ' 09:43:53', ' 10:40:19',\n",
       "       ' 09:28:13', ' 10:30:23', ' 10:09:57', ' 10:10:54', ' 09:49:57',\n",
       "       ' 11:53:55', ' 12:32:27', ' 08:55:41', ' 08:19:55', ' 09:42:13',\n",
       "       ' 09:41:36', ' 09:43:17', ' 09:25:42', ' 10:33:07', ' 10:16:57',\n",
       "       ' 08:46:30', ' 10:32:53', ' 09:08:34', ' 10:52:21', ' 11:14:00',\n",
       "       ' 08:58:06', ' 10:26:29', ' 10:27:10', ' 09:28:40', ' 10:13:44',\n",
       "       ' 10:03:02', ' 13:44:38', ' 10:55:11', ' 09:05:17', ' 12:05:33',\n",
       "       ' 11:26:35', ' 11:13:46', ' 09:20:42', ' 08:29:42', ' 11:28:29',\n",
       "       ' 13:25:29', ' 11:36:34', ' 09:19:53', ' 11:43:40', ' 09:50:40',\n",
       "       ' 09:48:26', ' 10:19:05', ' 12:16:57', ' 11:08:59', ' 09:42:23',\n",
       "       ' 10:35:10', ' 10:59:29', ' 10:36:47', ' 11:26:36', ' 11:40:56',\n",
       "       ' 09:17:20', ' 10:02:45', ' 10:27:14', ' 10:32:37', ' 10:17:58',\n",
       "       ' 09:24:32', ' 11:52:47', ' 08:03:34', ' 10:37:11', ' 10:40:51',\n",
       "       ' 11:50:52', ' 12:00:06', ' 08:35:13', ' 11:14:41', ' 09:03:07',\n",
       "       ' 11:18:18', ' 11:28:00', ' 11:21:34', ' 09:18:37', ' 10:17:37',\n",
       "       ' 10:47:39', ' 12:13:00', ' 08:54:28', ' 10:13:49', ' 11:08:36',\n",
       "       ' 12:12:37', ' 08:03:08', ' 10:09:16', ' 08:42:19', ' 08:00:01',\n",
       "       ' 10:30:02', ' 09:55:25', ' 12:01:35', ' 10:43:49', ' 10:14:16',\n",
       "       ' 08:05:03', ' 10:41:17', ' 11:45:37', ' 12:02:33', ' 10:17:14',\n",
       "       ' 10:51:12', ' 10:12:48', ' 10:42:26', ' 11:04:43', ' 09:09:05',\n",
       "       ' 11:07:02', ' 12:58:25', ' 10:09:49', ' 08:08:40', ' 11:56:51',\n",
       "       ' 09:24:33', ' 09:35:49', ' 09:40:33', ' 08:34:25', ' 08:34:11',\n",
       "       ' 11:57:04', ' 11:05:38', ' 11:08:30', ' 10:13:50', ' 11:54:22',\n",
       "       ' 10:03:44', ' 09:20:04', ' 12:03:39', ' 12:11:09', ' 11:56:24',\n",
       "       ' 08:25:10', ' 10:02:29', ' 10:45:25', ' 09:52:27', ' 11:53:53',\n",
       "       ' 11:47:03', ' 10:42:14', ' 09:05:33', ' 12:22:33', ' 11:28:04',\n",
       "       ' 11:31:04', ' 09:55:14', ' 10:00:39', ' 12:25:59', ' 09:56:37',\n",
       "       ' 11:29:41', ' 12:05:11', ' 12:19:37', ' 09:32:00', ' 12:33:31',\n",
       "       ' 08:31:09', ' 11:22:37', ' 10:35:14', ' 11:35:22', ' 10:14:13',\n",
       "       ' 09:39:18', ' 08:48:19', ' 09:55:38', ' 11:43:57', ' 12:52:46',\n",
       "       ' 09:32:24', ' 13:15:52', ' 12:24:38', ' 10:03:33', ' 09:07:15',\n",
       "       ' 08:52:29', ' 09:36:40', ' 09:43:02', ' 11:18:49', ' 09:43:03',\n",
       "       ' 10:15:58', ' 11:10:20', ' 10:23:35', ' 10:11:57', ' 10:25:23',\n",
       "       ' 09:01:03', ' 11:05:53', ' 08:36:38', ' 09:07:50', ' 10:02:14',\n",
       "       ' 08:12:03', ' 10:37:31', ' 11:20:27', ' 08:56:26', ' 10:19:43',\n",
       "       ' 09:11:48', ' 09:55:40', ' 09:56:39', ' 09:17:11', ' 10:40:07',\n",
       "       ' 10:51:31', ' 09:29:06', ' 09:53:03', ' 10:38:36', ' 11:24:28',\n",
       "       ' 12:11:17', ' 10:37:57', ' 09:53:51', ' 09:10:18', ' 08:43:56',\n",
       "       ' 10:19:42', ' 10:03:37', ' 11:19:33', ' 11:08:13', ' 12:59:56',\n",
       "       ' 09:13:25', ' 11:43:48', ' 09:41:59', ' 08:15:20', ' 08:30:34',\n",
       "       ' 13:37:37', ' 10:02:24', ' 10:46:45', ' 09:17:43', ' 10:21:16',\n",
       "       ' 12:45:01', ' 11:10:19', ' 08:49:13', ' 13:06:38', ' 09:33:56',\n",
       "       ' 12:08:23', ' 08:25:33', ' 10:00:04', ' 12:01:09', ' 10:56:38',\n",
       "       ' 11:21:12', ' 09:53:09', ' 12:10:29', ' 11:21:25', ' 11:37:23',\n",
       "       ' 09:01:18', ' 09:24:50', ' 12:54:46', ' 10:29:33', ' 08:33:08',\n",
       "       ' 10:34:16', ' 10:58:42', ' 10:52:10', ' 11:45:58', ' 09:34:35',\n",
       "       ' 08:39:17', ' 10:34:00', ' 11:26:24', ' 09:56:38', ' 09:29:36',\n",
       "       ' 12:18:54', ' 10:19:41', ' 09:46:46', ' 09:00:01', ' 10:03:52',\n",
       "       ' 10:21:49', ' 09:55:39', ' 09:11:44', ' 10:35:27', ' 11:12:36',\n",
       "       ' 09:39:55', ' 09:25:06', ' 10:11:36', ' 12:36:17', ' 09:04:03',\n",
       "       ' 11:20:15', ' 09:31:09', ' 09:51:51', ' 10:06:38', ' 10:13:22',\n",
       "       ' 08:33:50', ' 09:37:10', ' 10:15:51', ' 10:23:37', ' 10:30:18',\n",
       "       ' 12:30:06', ' 11:08:00', ' 11:05:56', ' 09:38:54', ' 11:09:12',\n",
       "       ' 13:01:03', ' 09:39:45', ' 10:30:27', ' 12:53:26', ' 08:08:20',\n",
       "       ' 09:46:28', ' 08:59:52', ' 09:12:01', ' 11:38:09', ' 11:49:04',\n",
       "       ' 08:28:20', ' 12:04:41', ' 10:25:46', ' 11:30:10', ' 12:05:23',\n",
       "       ' 08:45:23', ' 11:12:00', ' 10:17:41', ' 09:22:41', ' 11:34:07',\n",
       "       ' 11:45:09', ' 09:48:29', ' 12:54:31', ' 12:15:06', ' 09:16:33',\n",
       "       ' 10:11:05', ' 09:25:14', ' 09:30:50', ' 10:08:22', ' 11:37:58',\n",
       "       ' 12:07:50', ' 12:00:27', ' 08:40:39', ' 11:44:29', ' 10:06:09',\n",
       "       ' 11:20:33', ' 10:49:48', ' 11:42:35', ' 11:13:04', ' 10:00:24',\n",
       "       ' 09:51:31', ' 09:39:47', ' 12:24:28', ' 11:35:49', ' 09:18:02',\n",
       "       ' 10:11:14', ' 11:40:58', ' 12:00:15', ' 09:01:09', ' 09:32:39',\n",
       "       ' 09:29:02', ' 08:28:58', ' 08:28:16', ' 12:55:26', ' 08:30:06',\n",
       "       ' 13:04:30', ' 11:34:42', ' 11:24:46', ' 11:17:57', ' 08:51:54',\n",
       "       ' 09:20:44', ' 10:50:56', ' 13:12:00', ' 11:06:45', ' 12:54:35',\n",
       "       ' 08:47:32', ' 11:11:09', ' 09:33:05', ' 09:02:00', ' 09:32:02',\n",
       "       ' 10:03:31', ' 08:33:48', ' 09:02:09', ' 08:50:42', ' 09:41:53',\n",
       "       ' 11:38:20', ' 09:54:56', ' 08:22:14', ' 09:28:46', ' 09:52:49',\n",
       "       ' 08:43:49', ' 10:20:30', ' 10:59:15', ' 13:23:50', ' 08:32:54',\n",
       "       ' 10:01:56', ' 10:14:36', ' 10:32:31', ' 11:22:08', ' 09:43:13',\n",
       "       ' 11:48:12', ' 09:51:38', ' 09:27:17', ' 08:45:24', ' 08:13:20',\n",
       "       ' 09:40:07', ' 10:39:00', ' 10:17:48', ' 10:04:28', ' 09:31:01',\n",
       "       ' 11:08:29', ' 12:37:07', ' 08:15:07', ' 09:46:05', ' 11:12:31',\n",
       "       ' 10:10:32', ' 08:37:34', ' 08:37:56', ' 10:24:27', ' 11:43:38',\n",
       "       ' 10:37:21', ' 11:21:07', ' 09:30:23', ' 09:20:27', ' 10:50:30',\n",
       "       ' 11:56:46', ' 10:34:35', ' 13:04:59', ' 09:52:57', ' 10:12:12',\n",
       "       ' 09:24:43', ' 10:49:57', ' 09:42:36', ' 09:44:14', ' 11:19:09',\n",
       "       ' 11:02:09', ' 12:22:38', ' 09:57:56', ' 09:08:57', ' 11:59:49',\n",
       "       ' 10:07:36', ' 09:50:05', ' 11:12:21', ' 12:10:46', ' 08:11:57',\n",
       "       ' 10:47:28', ' 10:04:59', ' 09:02:22', ' 10:04:56', ' 09:14:17',\n",
       "       ' 09:26:40', ' 11:24:09', ' 11:01:51', ' 13:02:10', ' 10:13:05',\n",
       "       ' 09:48:59', ' 11:19:55', ' 10:12:52', ' 12:59:26', ' 10:00:53',\n",
       "       ' 10:26:56', ' 10:07:06', ' 08:48:54', ' 08:37:39', ' 08:31:53',\n",
       "       ' 09:15:47', ' 08:02:03', ' 11:42:18', ' 12:56:46', ' 11:59:08',\n",
       "       ' 08:39:46', ' 08:56:53', ' 09:25:07', ' 11:32:13', ' 08:26:48',\n",
       "       ' 10:20:00', ' 08:47:31', ' 08:47:03', ' 11:49:58', ' 10:00:57',\n",
       "       ' 11:16:19', ' 09:41:11', ' 08:53:57', ' 10:16:18', ' 09:31:38',\n",
       "       ' 10:17:43', ' 10:40:13', ' 10:26:03', ' 11:55:58', ' 10:44:35',\n",
       "       ' 11:22:33', ' 09:25:24', ' 09:27:10', ' 11:37:10', ' 10:08:14',\n",
       "       ' 09:48:38', ' 11:40:48', ' 11:09:45', ' 10:54:39', ' 08:40:43',\n",
       "       ' 11:44:18', ' 13:11:38', ' 09:52:01', ' 10:19:30', ' 10:42:56',\n",
       "       ' 10:23:31', ' 12:31:36', ' 11:58:19', ' 10:36:34', ' 08:52:48',\n",
       "       ' 11:26:54', ' 11:58:29', ' 08:39:13', ' 08:33:53', ' 08:27:19',\n",
       "       ' 11:22:00', ' 08:43:25', ' 11:49:11', ' 10:24:42', ' 08:07:41',\n",
       "       ' 10:19:22', ' 08:05:12', ' 09:40:10', ' 08:27:28', ' 10:17:49',\n",
       "       ' 11:34:29', ' 10:55:45', ' 10:13:25', ' 12:14:52', ' 11:33:48',\n",
       "       ' 10:13:04', ' 09:54:26', ' 08:59:39', ' 10:00:17', ' 10:27:18',\n",
       "       ' 08:00:11', ' 08:01:26', ' 10:55:07', ' 08:34:14', ' 08:43:42',\n",
       "       ' 09:09:57', ' 13:09:40', ' 09:51:46', ' 11:32:48', ' 10:33:04',\n",
       "       ' 12:29:44', ' 10:55:27', ' 10:09:26', ' 12:26:31', ' 09:28:56',\n",
       "       ' 12:49:01', ' 09:27:33', ' 11:15:29', ' 10:31:52', ' 10:12:28',\n",
       "       ' 11:16:14', ' 08:21:56', ' 08:43:30', ' 09:16:37', ' 10:28:07',\n",
       "       ' 09:43:44', ' 12:42:31', ' 11:42:32', ' 14:01:39', ' 08:39:57',\n",
       "       ' 09:18:14', ' 11:11:56', ' 17:16:55', ' 10:51:47', ' 10:51:36',\n",
       "       ' 09:54:35', ' 10:06:34', ' 08:59:06', ' 09:02:02', ' 09:24:55',\n",
       "       ' 12:27:29', ' 10:08:57', ' 11:07:43', ' 09:01:11', ' 09:15:29',\n",
       "       ' 09:51:00', ' 08:39:22', ' 11:41:08', ' 09:25:47', ' 10:05:06',\n",
       "       ' 09:18:54', ' 08:48:08', ' 10:05:14', ' 12:22:41', ' 10:58:48',\n",
       "       ' 09:56:11', ' 09:52:02', ' 11:17:14', ' 10:14:30', ' 09:51:07',\n",
       "       ' 09:23:57', ' 13:19:32', ' 10:58:31', ' 10:34:46', ' 12:44:06',\n",
       "       ' 09:23:04', ' 12:47:18', ' 10:13:53', ' 10:02:32', ' 10:55:57',\n",
       "       ' 10:30:11', ' 08:44:36', ' 10:04:27', ' 09:01:19', ' 12:56:07',\n",
       "       ' 10:35:29', ' 10:24:36', ' 09:34:50', ' 10:41:24', ' 08:05:20',\n",
       "       ' 08:00:12', ' 12:43:37', ' 11:05:57', ' 10:01:57', ' 09:34:04',\n",
       "       ' 11:16:09', ' 11:15:25', ' 11:14:20', ' 11:35:43', ' 10:40:39',\n",
       "       ' 08:25:45', ' 13:10:14', ' 09:49:41', ' 13:02:52', ' 09:28:50',\n",
       "       ' 09:21:12', ' 12:15:55', ' 09:36:02', ' 09:36:42', ' 10:10:33',\n",
       "       ' 13:27:40', ' 09:17:29', ' 12:04:06', ' 09:21:56', ' 08:21:26',\n",
       "       ' 09:45:30', ' 11:57:49', ' 11:17:06', ' 11:40:11', ' 11:06:30',\n",
       "       ' 08:27:54', ' 09:04:02', ' 12:23:40', ' 10:12:24', ' 12:31:26',\n",
       "       ' 12:01:30', ' 11:15:52', ' 10:18:05', ' 09:28:38', ' 10:36:44',\n",
       "       ' 10:01:49', ' 11:16:00', ' 08:20:51', ' 09:40:53', ' 09:44:25',\n",
       "       ' 09:33:28', ' 10:41:36', ' 12:55:27', ' 08:45:30', ' 08:01:23',\n",
       "       ' 12:19:44', ' 10:02:42'], dtype=object)"
      ]
     },
     "execution_count": 20,
     "metadata": {},
     "output_type": "execute_result"
    }
   ],
   "source": [
    "df_timeRatingBad['response_time'].unique()"
   ]
  },
  {
   "cell_type": "code",
   "execution_count": 21,
   "id": "ce797a08",
   "metadata": {},
   "outputs": [
    {
     "data": {
      "text/plain": [
       "array([   181,     78,   4647,     44,    680,      0,     87,    354,\n",
       "          679,   4524,     21,   3960,    809,   1809,      6,    452,\n",
       "         2353,   7797,     38,    289,      4,    269,      1,      5,\n",
       "          299,     13,     62,     80,     33,   2432,     76,  21494,\n",
       "           29,    111,   1023,   1912,     19,     70,  60527,   3720,\n",
       "           81,    129,    424,    561,     66,    113,    344,   1351,\n",
       "          533,     15,     53,    161,      3,    225,    122,    142,\n",
       "          170,     37,    278,  20771,    160,     10,   3485,   1424,\n",
       "          108,   2419,     74,    502,    322,     23,    133,    204,\n",
       "           61,      8,    286,     58,    652,     67,    126,   1793,\n",
       "           88,     17,    456,   1932,     32,    631,    128,    732,\n",
       "         6074,    152,    714,    779,     14,   2400,    721,    207,\n",
       "           22,     68,    184,   1220,   6536,   1248,    164,   1430,\n",
       "          174,   7581,  10544,    719,   1702,    217,    326,     45,\n",
       "          821,   2525,    603,    118,   2124,  12714,     90,    116,\n",
       "          643,    290,    185,    922,   2506,   1995, 100153,  12262,\n",
       "          380,    310,  23375,    591,   2245,    731,   4794,    649,\n",
       "         2026,   2474,    606,    812,  24115,   2304,    276,    187,\n",
       "          144,  12180,   7992,  16183,   2359,   1258,  21703,   2439,\n",
       "           79,    229,   1045,    294,   3772,  40184,   5468,    127,\n",
       "           34,     89,     27,    903,   3331,      7,     84,   1967,\n",
       "           57,      9,   3719,      2,   2132,    863,    230,    173,\n",
       "          429,     72,    183,    562,    282,     41,  61440,    330,\n",
       "          114,    146,    194,     96,    120,    293,    592,     30,\n",
       "           65, 101304,   3534,    749,     59,    210,    308,    353,\n",
       "          940,    138,    333,     20,    163,    385,     16,    258,\n",
       "         9467,    136,    640,    205,   1291,    728,    300,   1265,\n",
       "         7836,    332,     69,   6170,    130,   2415,     98,   5123,\n",
       "          786,    283,   1437,   6663,   1945,  10727,    154,    151,\n",
       "          655,     92,    475,   4637,   3999,    357,   1946,   2859,\n",
       "        12308,   1904,   1815,    135,     26,     28,    948,   1478,\n",
       "          781,  13024,   1119,    382,    203,  12353,   6302,    858,\n",
       "         2324,    179,   1498,   2534,  21877,   4531,   2449,   1060,\n",
       "         3822,     46,    132,     99,     12,     86,     75,     56,\n",
       "           11,   3332,    421,    235,    890,    536,    190,    119,\n",
       "          346,    232,     36,    291,   2532,    117,    297,    124,\n",
       "          123,    110,    331,     60,     31,    531,    341,    137,\n",
       "          104,   5599,    394,   1447,    778,  10874,  62235,    317,\n",
       "           18,    791,    650,   1281,    212,    214,    747,   5230,\n",
       "         1958,   1154,     39,   7876,    476,    338,    759,    311,\n",
       "          887,   6786,  13236,    172,    196,    102,   1826,    766,\n",
       "         3592,    815,    956,    433,     47,    427,    659,    620,\n",
       "       102120,    363,   2500,   4716,    384,  24730,   4912,    511,\n",
       "         1954,    668, 102833,     73,    906,   2561,   1753,    722,\n",
       "           85,   1534,   1623,   1944,  21997,   1071,     91,    103,\n",
       "        62901,    141,     49,   3856,  12310,    396,    191,    241,\n",
       "         1177,     48,    594,     24,   2918,   4548,     25,   2455,\n",
       "          121,    474,    541,   3633,    237,   4800,    595,    106,\n",
       "         1295,    327,     40,   2458,    347,    797,    296,    803,\n",
       "          403,    168,   6896,   1452,    760,    192,    206,  10988,\n",
       "          657,    744,    176,    660,     51,    318,    107,   1523,\n",
       "         1474,    312,    817,    826,    371,    352,    957,   5002,\n",
       "          554,    343,   2387,    634,   4431,  25325,   6389,     71,\n",
       "         1960,  13401], dtype=int64)"
      ]
     },
     "execution_count": 21,
     "metadata": {},
     "output_type": "execute_result"
    }
   ],
   "source": [
    "df_timeRatingBad['rating_bad'].unique()"
   ]
  },
  {
   "cell_type": "code",
   "execution_count": 22,
   "id": "09b0369b",
   "metadata": {},
   "outputs": [],
   "source": [
    "df_timeRatingBad = df_timeRatingBad.sort_values(by = 'response_time')"
   ]
  },
  {
   "cell_type": "code",
   "execution_count": 23,
   "id": "7bff5ab9",
   "metadata": {},
   "outputs": [
    {
     "data": {
      "image/png": "[encoded data removed]",
      "text/plain": [
       "<Figure size 1296x576 with 1 Axes>"
      ]
     },
     "metadata": {
      "needs_background": "light"
     },
     "output_type": "display_data"
    }
   ],
   "source": [
    "plt.figure(figsize = (18,8))\n",
    "plt.plot(df_timeRatingBad['response_time'],df_timeRatingBad['rating_bad'])\n",
    "plt.title(\"graph bettwen response time and rating bad\", fontsize = 20)\n",
    "plt.grid(color='#95a5a6', linestyle='--', linewidth=2, axis='y', alpha=0.7)\n",
    "plt.xlabel(\"time rating\", fontsize = 14)\n",
    "plt.ylabel(\"quantity ratig bad\", fontsize =14)\n",
    "plt.show()"
   ]
  },
  {
   "cell_type": "markdown",
   "id": "b99a24b5",
   "metadata": {},
   "source": [
    "# Vẽ biểu đồ thể hiện xu hướng của số lượng shop gia nhập theo thời gian."
   ]
  },
  {
   "cell_type": "code",
   "execution_count": 24,
   "id": "6e6a3720",
   "metadata": {},
   "outputs": [],
   "source": [
    "df_joinShopByYear = df[['join_month', 'join_year', 'shopid']]"
   ]
  },
  {
   "cell_type": "code",
   "execution_count": 25,
   "id": "701a1100",
   "metadata": {},
   "outputs": [
    {
     "name": "stdout",
     "output_type": "stream",
     "text": [
      "<class 'pandas.core.frame.DataFrame'>\n",
      "RangeIndex: 746 entries, 0 to 745\n",
      "Data columns (total 3 columns):\n",
      " #   Column      Non-Null Count  Dtype \n",
      "---  ------      --------------  ----- \n",
      " 0   join_month  746 non-null    object\n",
      " 1   join_year   746 non-null    int64 \n",
      " 2   shopid      746 non-null    int64 \n",
      "dtypes: int64(2), object(1)\n",
      "memory usage: 17.6+ KB\n"
     ]
    }
   ],
   "source": [
    "df_joinShopByYear.info()"
   ]
  },
  {
   "cell_type": "code",
   "execution_count": 26,
   "id": "6dec00eb",
   "metadata": {},
   "outputs": [
    {
     "data": {
      "text/html": [
       "<div>\n",
       "<style scoped>\n",
       "    .dataframe tbody tr th:only-of-type {\n",
       "        vertical-align: middle;\n",
       "    }\n",
       "\n",
       "    .dataframe tbody tr th {\n",
       "        vertical-align: top;\n",
       "    }\n",
       "\n",
       "    .dataframe thead th {\n",
       "        text-align: right;\n",
       "    }\n",
       "</style>\n",
       "<table border=\"1\" class=\"dataframe\">\n",
       "  <thead>\n",
       "    <tr style=\"text-align: right;\">\n",
       "      <th></th>\n",
       "      <th>join_month</th>\n",
       "      <th>join_year</th>\n",
       "      <th>shopid</th>\n",
       "    </tr>\n",
       "  </thead>\n",
       "  <tbody>\n",
       "    <tr>\n",
       "      <th>0</th>\n",
       "      <td>April</td>\n",
       "      <td>2020</td>\n",
       "      <td>254711738</td>\n",
       "    </tr>\n",
       "    <tr>\n",
       "      <th>1</th>\n",
       "      <td>September</td>\n",
       "      <td>2020</td>\n",
       "      <td>314198143</td>\n",
       "    </tr>\n",
       "    <tr>\n",
       "      <th>2</th>\n",
       "      <td>September</td>\n",
       "      <td>2016</td>\n",
       "      <td>10377223</td>\n",
       "    </tr>\n",
       "    <tr>\n",
       "      <th>3</th>\n",
       "      <td>April</td>\n",
       "      <td>2017</td>\n",
       "      <td>21407329</td>\n",
       "    </tr>\n",
       "    <tr>\n",
       "      <th>4</th>\n",
       "      <td>October</td>\n",
       "      <td>2016</td>\n",
       "      <td>11187885</td>\n",
       "    </tr>\n",
       "  </tbody>\n",
       "</table>\n",
       "</div>"
      ],
      "text/plain": [
       "  join_month  join_year     shopid\n",
       "0      April       2020  254711738\n",
       "1  September       2020  314198143\n",
       "2  September       2016   10377223\n",
       "3      April       2017   21407329\n",
       "4    October       2016   11187885"
      ]
     },
     "execution_count": 26,
     "metadata": {},
     "output_type": "execute_result"
    }
   ],
   "source": [
    "df_joinShopByYear.head()"
   ]
  },
  {
   "cell_type": "code",
   "execution_count": 27,
   "id": "6e30f875",
   "metadata": {},
   "outputs": [
    {
     "data": {
      "text/plain": [
       "array([2020, 2016, 2017, 2021, 2019, 2018, 2015], dtype=int64)"
      ]
     },
     "execution_count": 27,
     "metadata": {},
     "output_type": "execute_result"
    }
   ],
   "source": [
    "df_joinShopByYear['join_year'].unique()"
   ]
  },
  {
   "cell_type": "code",
   "execution_count": 28,
   "id": "d11cdfea",
   "metadata": {},
   "outputs": [],
   "source": [
    "df_2020 = df_joinShopByYear.iloc[df_joinShopByYear[df_joinShopByYear['join_year'] == 2020].index, :]"
   ]
  },
  {
   "cell_type": "code",
   "execution_count": 29,
   "id": "b42ded7b",
   "metadata": {},
   "outputs": [
    {
     "name": "stdout",
     "output_type": "stream",
     "text": [
      "<class 'pandas.core.frame.DataFrame'>\n",
      "Int64Index: 247 entries, 0 to 743\n",
      "Data columns (total 3 columns):\n",
      " #   Column      Non-Null Count  Dtype \n",
      "---  ------      --------------  ----- \n",
      " 0   join_month  247 non-null    object\n",
      " 1   join_year   247 non-null    int64 \n",
      " 2   shopid      247 non-null    int64 \n",
      "dtypes: int64(2), object(1)\n",
      "memory usage: 7.7+ KB\n"
     ]
    }
   ],
   "source": [
    "df_2020.info()"
   ]
  },
  {
   "cell_type": "code",
   "execution_count": 48,
   "id": "7da2291b",
   "metadata": {},
   "outputs": [],
   "source": [
    "year = list(df_joinShopByYear['join_year'].unique())\n",
    "dfy = pd.DataFrame()\n",
    "listDataYear = []\n",
    "for i in range(len(year)):\n",
    "    dfy = df_joinShopByYear.iloc[df_joinShopByYear[df_joinShopByYear['join_year'] == year[i]].index, :]\n",
    "    dfy =  dfy.groupby('join_month').count()\n",
    "    dfy = dfy.reset_index()\n",
    "    dfy['join_month'] = pd.to_datetime(dfy['join_month'], format='%B').dt.month\n",
    "    dfy = dfy.sort_values(by='join_month')\n",
    "    listDataYear.append(dfy)"
   ]
  },
  {
   "cell_type": "code",
   "execution_count": 49,
   "id": "c64f972c",
   "metadata": {
    "scrolled": true
   },
   "outputs": [
    {
     "name": "stdout",
     "output_type": "stream",
     "text": [
      "<class 'pandas.core.frame.DataFrame'>\n",
      "Int64Index: 11 entries, 3 to 2\n",
      "Data columns (total 3 columns):\n",
      " #   Column      Non-Null Count  Dtype\n",
      "---  ------      --------------  -----\n",
      " 0   join_month  11 non-null     int64\n",
      " 1   join_year   11 non-null     int64\n",
      " 2   shopid      11 non-null     int64\n",
      "dtypes: int64(3)\n",
      "memory usage: 352.0 bytes\n"
     ]
    }
   ],
   "source": [
    "listDataYear[0].info()"
   ]
  },
  {
   "cell_type": "code",
   "execution_count": 50,
   "id": "9815c4ac",
   "metadata": {},
   "outputs": [
    {
     "name": "stdout",
     "output_type": "stream",
     "text": [
      "<class 'pandas.core.frame.DataFrame'>\n",
      "Int64Index: 5 entries, 1 to 2\n",
      "Data columns (total 3 columns):\n",
      " #   Column      Non-Null Count  Dtype\n",
      "---  ------      --------------  -----\n",
      " 0   join_month  5 non-null      int64\n",
      " 1   join_year   5 non-null      int64\n",
      " 2   shopid      5 non-null      int64\n",
      "dtypes: int64(3)\n",
      "memory usage: 160.0 bytes\n"
     ]
    }
   ],
   "source": [
    "listDataYear[1].info()"
   ]
  },
  {
   "cell_type": "code",
   "execution_count": 51,
   "id": "8de1e0e0",
   "metadata": {},
   "outputs": [
    {
     "data": {
      "text/html": [
       "<div>\n",
       "<style scoped>\n",
       "    .dataframe tbody tr th:only-of-type {\n",
       "        vertical-align: middle;\n",
       "    }\n",
       "\n",
       "    .dataframe tbody tr th {\n",
       "        vertical-align: top;\n",
       "    }\n",
       "\n",
       "    .dataframe thead th {\n",
       "        text-align: right;\n",
       "    }\n",
       "</style>\n",
       "<table border=\"1\" class=\"dataframe\">\n",
       "  <thead>\n",
       "    <tr style=\"text-align: right;\">\n",
       "      <th></th>\n",
       "      <th>join_month</th>\n",
       "      <th>join_year</th>\n",
       "      <th>shopid</th>\n",
       "    </tr>\n",
       "  </thead>\n",
       "  <tbody>\n",
       "    <tr>\n",
       "      <th>4</th>\n",
       "      <td>1</td>\n",
       "      <td>2</td>\n",
       "      <td>2</td>\n",
       "    </tr>\n",
       "    <tr>\n",
       "      <th>3</th>\n",
       "      <td>2</td>\n",
       "      <td>2</td>\n",
       "      <td>2</td>\n",
       "    </tr>\n",
       "    <tr>\n",
       "      <th>7</th>\n",
       "      <td>3</td>\n",
       "      <td>8</td>\n",
       "      <td>8</td>\n",
       "    </tr>\n",
       "    <tr>\n",
       "      <th>0</th>\n",
       "      <td>4</td>\n",
       "      <td>8</td>\n",
       "      <td>8</td>\n",
       "    </tr>\n",
       "    <tr>\n",
       "      <th>8</th>\n",
       "      <td>5</td>\n",
       "      <td>4</td>\n",
       "      <td>4</td>\n",
       "    </tr>\n",
       "    <tr>\n",
       "      <th>6</th>\n",
       "      <td>6</td>\n",
       "      <td>7</td>\n",
       "      <td>7</td>\n",
       "    </tr>\n",
       "    <tr>\n",
       "      <th>5</th>\n",
       "      <td>7</td>\n",
       "      <td>3</td>\n",
       "      <td>3</td>\n",
       "    </tr>\n",
       "    <tr>\n",
       "      <th>1</th>\n",
       "      <td>8</td>\n",
       "      <td>12</td>\n",
       "      <td>12</td>\n",
       "    </tr>\n",
       "    <tr>\n",
       "      <th>11</th>\n",
       "      <td>9</td>\n",
       "      <td>36</td>\n",
       "      <td>36</td>\n",
       "    </tr>\n",
       "    <tr>\n",
       "      <th>10</th>\n",
       "      <td>10</td>\n",
       "      <td>32</td>\n",
       "      <td>32</td>\n",
       "    </tr>\n",
       "    <tr>\n",
       "      <th>9</th>\n",
       "      <td>11</td>\n",
       "      <td>14</td>\n",
       "      <td>14</td>\n",
       "    </tr>\n",
       "    <tr>\n",
       "      <th>2</th>\n",
       "      <td>12</td>\n",
       "      <td>28</td>\n",
       "      <td>28</td>\n",
       "    </tr>\n",
       "  </tbody>\n",
       "</table>\n",
       "</div>"
      ],
      "text/plain": [
       "    join_month  join_year  shopid\n",
       "4            1          2       2\n",
       "3            2          2       2\n",
       "7            3          8       8\n",
       "0            4          8       8\n",
       "8            5          4       4\n",
       "6            6          7       7\n",
       "5            7          3       3\n",
       "1            8         12      12\n",
       "11           9         36      36\n",
       "10          10         32      32\n",
       "9           11         14      14\n",
       "2           12         28      28"
      ]
     },
     "execution_count": 51,
     "metadata": {},
     "output_type": "execute_result"
    }
   ],
   "source": [
    "listDataYear[2].head(13)"
   ]
  },
  {
   "cell_type": "code",
   "execution_count": 43,
   "id": "569dc439",
   "metadata": {},
   "outputs": [
    {
     "data": {
      "image/png": "[encoded data removed]",
      "text/plain": [
       "<Figure size 1368x720 with 1 Axes>"
      ]
     },
     "metadata": {
      "needs_background": "light"
     },
     "output_type": "display_data"
    }
   ],
   "source": [
    "\n",
    "plt.figure( figsize = (19,10))\n",
    "# plot two lines\n",
    "plt.plot(listDataYear[0]['join_month'], listDataYear[0]['shopid'], 'o-g')\n",
    "plt.plot(listDataYear[1]['join_month'], listDataYear[1]['shopid'], 'o-b')\n",
    "plt.plot(listDataYear[2]['join_month'], listDataYear[2]['shopid'], 'o-r')\n",
    "plt.plot(listDataYear[3]['join_month'], listDataYear[3]['shopid'],'o-y')\n",
    "plt.plot(listDataYear[4]['join_month'], listDataYear[4]['shopid'], 'aqua')\n",
    "plt.plot(listDataYear[5]['join_month'], listDataYear[5]['shopid'], '#292929')\n",
    "# set axis titles\n",
    "plt.ylabel(\"quantity\", fontsize = 14)\n",
    "plt.xlabel(\"month\", fontsize = 14)\n",
    "# set chart title\n",
    "plt.title(\"quatity shop participation by time month in year\", fontsize = 20)\n",
    "# legend\n",
    "plt.legend(['2020', '2019','2018', '2017', '2016', '2015'])\n",
    "plt.show()"
   ]
  },
  {
   "cell_type": "markdown",
   "id": "3d0cdf5f",
   "metadata": {},
   "source": []
  },
  {
   "cell_type": "raw",
   "id": "f2a492ea",
   "metadata": {},
   "source": [
    "\n"
   ]
  }
 ],
 "metadata": {
  "kernelspec": {
   "display_name": "Python 3 (ipykernel)",
   "language": "python",
   "name": "python3"
  },
  "language_info": {
   "codemirror_mode": {
    "name": "ipython",
    "version": 3
   },
   "file_extension": ".py",
   "mimetype": "text/x-python",
   "name": "python",
   "nbconvert_exporter": "python",
   "pygments_lexer": "ipython3",
   "version": "3.9.7"
  }
 },
 "nbformat": 4,
 "nbformat_minor": 5
}

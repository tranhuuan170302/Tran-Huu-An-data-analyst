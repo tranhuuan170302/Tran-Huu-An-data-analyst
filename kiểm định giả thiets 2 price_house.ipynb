{
 "cells": [
  {
   "cell_type": "code",
   "execution_count": 1,
   "id": "5134c337",
   "metadata": {},
   "outputs": [],
   "source": [
    "import pandas as pd\n",
    "import matplotlib.pyplot as plt\n",
    "import seaborn as sns\n",
    "import numpy as np"
   ]
  },
  {
   "cell_type": "code",
   "execution_count": 2,
   "id": "d5068e3e",
   "metadata": {},
   "outputs": [],
   "source": [
    "df = pd.read_csv(\"C:\\\\Users\\\\FPTSHOP\\\\Downloads\\\\house_price_Dống-Da_Hà-Nội_subdata.csv\")"
   ]
  },
  {
   "cell_type": "code",
   "execution_count": 3,
   "id": "7061ab36",
   "metadata": {},
   "outputs": [
    {
     "data": {
      "text/html": [
       "<div>\n",
       "<style scoped>\n",
       "    .dataframe tbody tr th:only-of-type {\n",
       "        vertical-align: middle;\n",
       "    }\n",
       "\n",
       "    .dataframe tbody tr th {\n",
       "        vertical-align: top;\n",
       "    }\n",
       "\n",
       "    .dataframe thead th {\n",
       "        text-align: right;\n",
       "    }\n",
       "</style>\n",
       "<table border=\"1\" class=\"dataframe\">\n",
       "  <thead>\n",
       "    <tr style=\"text-align: right;\">\n",
       "      <th></th>\n",
       "      <th>area</th>\n",
       "      <th>price</th>\n",
       "      <th>postDate</th>\n",
       "      <th>land_certificate</th>\n",
       "      <th>house_direction</th>\n",
       "      <th>balcony_direction</th>\n",
       "      <th>toilet</th>\n",
       "      <th>bedroom</th>\n",
       "      <th>floor</th>\n",
       "      <th>lat</th>\n",
       "      <th>long</th>\n",
       "      <th>property_type</th>\n",
       "    </tr>\n",
       "  </thead>\n",
       "  <tbody>\n",
       "    <tr>\n",
       "      <th>0</th>\n",
       "      <td>50.0</td>\n",
       "      <td>14700.0</td>\n",
       "      <td>44197</td>\n",
       "      <td>So do</td>\n",
       "      <td>NaN</td>\n",
       "      <td>NaN</td>\n",
       "      <td>4.0</td>\n",
       "      <td>6.0</td>\n",
       "      <td>6.0</td>\n",
       "      <td>21.015698</td>\n",
       "      <td>105.824583</td>\n",
       "      <td>trong ngo</td>\n",
       "    </tr>\n",
       "    <tr>\n",
       "      <th>1</th>\n",
       "      <td>57.0</td>\n",
       "      <td>4200.0</td>\n",
       "      <td>44265</td>\n",
       "      <td>So do</td>\n",
       "      <td>Nam</td>\n",
       "      <td>Nam</td>\n",
       "      <td>3.0</td>\n",
       "      <td>8.0</td>\n",
       "      <td>4.0</td>\n",
       "      <td>21.025208</td>\n",
       "      <td>105.833111</td>\n",
       "      <td>trong ngo</td>\n",
       "    </tr>\n",
       "    <tr>\n",
       "      <th>2</th>\n",
       "      <td>62.0</td>\n",
       "      <td>11000.0</td>\n",
       "      <td>44268</td>\n",
       "      <td>So do</td>\n",
       "      <td>NaN</td>\n",
       "      <td>dong-Nam</td>\n",
       "      <td>6.0</td>\n",
       "      <td>5.0</td>\n",
       "      <td>6.0</td>\n",
       "      <td>21.025379</td>\n",
       "      <td>105.801011</td>\n",
       "      <td>trong ngo</td>\n",
       "    </tr>\n",
       "    <tr>\n",
       "      <th>3</th>\n",
       "      <td>26.0</td>\n",
       "      <td>2900.0</td>\n",
       "      <td>44292</td>\n",
       "      <td>So do</td>\n",
       "      <td>NaN</td>\n",
       "      <td>NaN</td>\n",
       "      <td>4.0</td>\n",
       "      <td>3.0</td>\n",
       "      <td>4.0</td>\n",
       "      <td>21.014325</td>\n",
       "      <td>105.834918</td>\n",
       "      <td>trong ngo</td>\n",
       "    </tr>\n",
       "    <tr>\n",
       "      <th>4</th>\n",
       "      <td>40.0</td>\n",
       "      <td>3950.0</td>\n",
       "      <td>44292</td>\n",
       "      <td>So do</td>\n",
       "      <td>NaN</td>\n",
       "      <td>NaN</td>\n",
       "      <td>NaN</td>\n",
       "      <td>NaN</td>\n",
       "      <td>5.0</td>\n",
       "      <td>21.009862</td>\n",
       "      <td>105.838083</td>\n",
       "      <td>trong ngo</td>\n",
       "    </tr>\n",
       "  </tbody>\n",
       "</table>\n",
       "</div>"
      ],
      "text/plain": [
       "   area    price  postDate land_certificate house_direction balcony_direction  \\\n",
       "0  50.0  14700.0     44197            So do             NaN               NaN   \n",
       "1  57.0   4200.0     44265            So do             Nam               Nam   \n",
       "2  62.0  11000.0     44268            So do             NaN          dong-Nam   \n",
       "3  26.0   2900.0     44292            So do             NaN               NaN   \n",
       "4  40.0   3950.0     44292            So do             NaN               NaN   \n",
       "\n",
       "   toilet  bedroom  floor        lat        long property_type  \n",
       "0     4.0      6.0    6.0  21.015698  105.824583     trong ngo  \n",
       "1     3.0      8.0    4.0  21.025208  105.833111     trong ngo  \n",
       "2     6.0      5.0    6.0  21.025379  105.801011     trong ngo  \n",
       "3     4.0      3.0    4.0  21.014325  105.834918     trong ngo  \n",
       "4     NaN      NaN    5.0  21.009862  105.838083     trong ngo  "
      ]
     },
     "execution_count": 3,
     "metadata": {},
     "output_type": "execute_result"
    }
   ],
   "source": [
    "df.head()"
   ]
  },
  {
   "cell_type": "code",
   "execution_count": 4,
   "id": "04fc4573",
   "metadata": {},
   "outputs": [
    {
     "name": "stdout",
     "output_type": "stream",
     "text": [
      "<class 'pandas.core.frame.DataFrame'>\n",
      "RangeIndex: 671 entries, 0 to 670\n",
      "Data columns (total 12 columns):\n",
      " #   Column             Non-Null Count  Dtype  \n",
      "---  ------             --------------  -----  \n",
      " 0   area               665 non-null    float64\n",
      " 1   price              617 non-null    float64\n",
      " 2   postDate           671 non-null    int64  \n",
      " 3   land_certificate   369 non-null    object \n",
      " 4   house_direction    42 non-null     object \n",
      " 5   balcony_direction  24 non-null     object \n",
      " 6   toilet             240 non-null    float64\n",
      " 7   bedroom            320 non-null    float64\n",
      " 8   floor              366 non-null    float64\n",
      " 9   lat                671 non-null    float64\n",
      " 10  long               671 non-null    float64\n",
      " 11  property_type      671 non-null    object \n",
      "dtypes: float64(7), int64(1), object(4)\n",
      "memory usage: 63.0+ KB\n"
     ]
    }
   ],
   "source": [
    "df.info()"
   ]
  },
  {
   "cell_type": "code",
   "execution_count": 6,
   "id": "6f33f051",
   "metadata": {},
   "outputs": [
    {
     "data": {
      "text/plain": [
       "area                   6\n",
       "price                 54\n",
       "postDate               0\n",
       "land_certificate     302\n",
       "house_direction      629\n",
       "balcony_direction    647\n",
       "toilet               431\n",
       "bedroom              351\n",
       "floor                305\n",
       "lat                    0\n",
       "long                   0\n",
       "property_type          0\n",
       "dtype: int64"
      ]
     },
     "execution_count": 6,
     "metadata": {},
     "output_type": "execute_result"
    }
   ],
   "source": [
    "df.isna().sum()"
   ]
  },
  {
   "cell_type": "markdown",
   "id": "c589f1db",
   "metadata": {},
   "source": [
    "# Giữa giá nhà và diện tích có tương quan với nhau?"
   ]
  },
  {
   "cell_type": "code",
   "execution_count": 7,
   "id": "2ad40658",
   "metadata": {},
   "outputs": [],
   "source": [
    "df1 = df[['price', 'area']]"
   ]
  },
  {
   "cell_type": "code",
   "execution_count": 8,
   "id": "bb57e9e8",
   "metadata": {},
   "outputs": [
    {
     "name": "stdout",
     "output_type": "stream",
     "text": [
      "<class 'pandas.core.frame.DataFrame'>\n",
      "RangeIndex: 671 entries, 0 to 670\n",
      "Data columns (total 2 columns):\n",
      " #   Column  Non-Null Count  Dtype  \n",
      "---  ------  --------------  -----  \n",
      " 0   price   617 non-null    float64\n",
      " 1   area    665 non-null    float64\n",
      "dtypes: float64(2)\n",
      "memory usage: 10.6 KB\n"
     ]
    }
   ],
   "source": [
    "df1.info()"
   ]
  },
  {
   "cell_type": "code",
   "execution_count": 9,
   "id": "cf638573",
   "metadata": {},
   "outputs": [],
   "source": [
    "df1 = df1.dropna()"
   ]
  },
  {
   "cell_type": "code",
   "execution_count": 10,
   "id": "51609d69",
   "metadata": {},
   "outputs": [
    {
     "name": "stdout",
     "output_type": "stream",
     "text": [
      "<class 'pandas.core.frame.DataFrame'>\n",
      "Int64Index: 615 entries, 0 to 670\n",
      "Data columns (total 2 columns):\n",
      " #   Column  Non-Null Count  Dtype  \n",
      "---  ------  --------------  -----  \n",
      " 0   price   615 non-null    float64\n",
      " 1   area    615 non-null    float64\n",
      "dtypes: float64(2)\n",
      "memory usage: 14.4 KB\n"
     ]
    }
   ],
   "source": [
    "df1.info()"
   ]
  },
  {
   "cell_type": "code",
   "execution_count": 13,
   "id": "39ec2695",
   "metadata": {},
   "outputs": [
    {
     "data": {
      "application/vnd.plotly.v1+json": {
       "config": {
        "plotlyServerURL": "https://plot.ly"
       },
       "data": [
        {
         "hovertemplate": "area=%{x}<br>price=%{y}<extra></extra>",
         "legendgroup": "",
         "marker": {
          "color": "#636efa",
          "symbol": "circle"
         },
         "mode": "markers",
         "name": "",
         "orientation": "v",
         "showlegend": false,
         "type": "scatter",
         "x": [
          50,
          57,
          62,
          26,
          40,
          41,
          39,
          52.2,
          75,
          100,
          70,
          70,
          110,
          40,
          65,
          39,
          120,
          50,
          72,
          100,
          110,
          42,
          52,
          62,
          47,
          92,
          40,
          68,
          105,
          28,
          42,
          45,
          43,
          210,
          55,
          50,
          72,
          120,
          62,
          35,
          70,
          65,
          35,
          32,
          55,
          65,
          35,
          65,
          75,
          100,
          25,
          77,
          100,
          110,
          50,
          30,
          22,
          52,
          70,
          70,
          62,
          42,
          80,
          90,
          70,
          52,
          50,
          80,
          47,
          52,
          45,
          130,
          33,
          51,
          33,
          55,
          42,
          46,
          90,
          0,
          41,
          38,
          0,
          32,
          41,
          0,
          50,
          32,
          38,
          32,
          45,
          33,
          0,
          60,
          71,
          45,
          25,
          56,
          0,
          0,
          52,
          45,
          30,
          32,
          52,
          48,
          35,
          52,
          45,
          0,
          53,
          35,
          39,
          25,
          21,
          64,
          40,
          39,
          0,
          25,
          48,
          46,
          0,
          34,
          48,
          27,
          26,
          50,
          51,
          20,
          35,
          32,
          0,
          34,
          40,
          35,
          0,
          60,
          69,
          0,
          14,
          45,
          75,
          0,
          36,
          60,
          82,
          40,
          31,
          41,
          60,
          20,
          35,
          33,
          38,
          45,
          42.2,
          83,
          30,
          80,
          42,
          140,
          70,
          60,
          0,
          45,
          0,
          34,
          50,
          83,
          34,
          50,
          55,
          50,
          100,
          35,
          35,
          62,
          47,
          35,
          40,
          89,
          89,
          20,
          32,
          36,
          48,
          45,
          61,
          40,
          48.25,
          37,
          45,
          180,
          40,
          35,
          25,
          44,
          35,
          30,
          300,
          23,
          46,
          62,
          60,
          62,
          56,
          65,
          41,
          77,
          60,
          23,
          35,
          55,
          98,
          35,
          92,
          45,
          75,
          44,
          55,
          45,
          36,
          36,
          110,
          40,
          35,
          90,
          60,
          54,
          40,
          60,
          30,
          98,
          57,
          97,
          29,
          50,
          61,
          52,
          25,
          72,
          47,
          35,
          39,
          40,
          50,
          81,
          50,
          71,
          68,
          28,
          56,
          20,
          45,
          35,
          70,
          45,
          46,
          35,
          30,
          34,
          62,
          80,
          41,
          35,
          55,
          46,
          67,
          84,
          67,
          36,
          58,
          85,
          45,
          55,
          43,
          43,
          110,
          65,
          40,
          46,
          52,
          45,
          85,
          35,
          115,
          30,
          55,
          25,
          55,
          90,
          65,
          48,
          45,
          72,
          35,
          55,
          35,
          45,
          30,
          55,
          60,
          50,
          50,
          41,
          45,
          86,
          45,
          42,
          36,
          300,
          75,
          36,
          66,
          101,
          40,
          40,
          57,
          25,
          62,
          100,
          35,
          40,
          56,
          46,
          65,
          35,
          54,
          50,
          111,
          50,
          31,
          168,
          44,
          140,
          50,
          36.3,
          60,
          50,
          85,
          51,
          55,
          85,
          35,
          63,
          110,
          38,
          36,
          95,
          33,
          300,
          36,
          60,
          30,
          61,
          36,
          58,
          55,
          55,
          80,
          65,
          55,
          112,
          168,
          55,
          55,
          55,
          51,
          70,
          48,
          120,
          60,
          112,
          55,
          92,
          55,
          35,
          49,
          36,
          56,
          55,
          35,
          52,
          50,
          51,
          53,
          60,
          40,
          73,
          55,
          55,
          42,
          64,
          35,
          62,
          50,
          48,
          43,
          180,
          25,
          90,
          58,
          96,
          38,
          25,
          35,
          70,
          41,
          50,
          75,
          35,
          56,
          59,
          60,
          94,
          50,
          55,
          40,
          70,
          35,
          65,
          38,
          142,
          133,
          234,
          50,
          40,
          41,
          100,
          80,
          4450,
          80,
          82,
          45,
          160,
          23,
          100,
          40,
          33,
          110,
          95,
          43,
          120,
          55,
          238,
          33,
          65,
          120,
          142,
          80,
          45,
          143,
          45,
          365,
          101,
          71,
          58,
          100,
          30,
          70,
          30,
          110,
          78.8,
          65,
          25,
          70,
          160,
          108,
          73,
          158,
          110,
          416,
          80,
          62,
          235,
          68,
          90,
          98,
          135,
          136,
          60,
          75,
          150,
          95,
          110,
          160,
          100,
          1000,
          280,
          140,
          100,
          129,
          416,
          75,
          60,
          416,
          60,
          130,
          75,
          92,
          81,
          40,
          150,
          55,
          89,
          100,
          85,
          33,
          69,
          131,
          69,
          160,
          90,
          89,
          105,
          120,
          210,
          100,
          130,
          35,
          1000,
          98,
          81,
          55,
          420,
          248,
          75,
          81,
          33,
          128,
          100,
          56,
          1000,
          40,
          60,
          50,
          25,
          100,
          1000,
          30,
          110,
          86,
          83,
          410,
          40,
          128,
          252,
          11000,
          57,
          80,
          165,
          416,
          80,
          55,
          44,
          108,
          66,
          46,
          80,
          1000,
          64,
          416,
          76,
          65,
          1000,
          42,
          54,
          240,
          43,
          85,
          57,
          120,
          45,
          170,
          1000,
          71,
          239,
          80,
          40,
          69,
          112,
          86,
          42,
          45,
          97,
          890,
          100,
          118,
          170,
          45,
          58,
          56,
          1000,
          55,
          50,
          100,
          160,
          45,
          45,
          68,
          236,
          235,
          65,
          45,
          368,
          50,
          36,
          143,
          76,
          168,
          65,
          60,
          45,
          107
         ],
         "xaxis": "x",
         "y": [
          14700,
          4200,
          11000,
          2900,
          3950,
          8900,
          5280,
          5376.6,
          1800,
          2400,
          2000,
          1800,
          2600,
          1180,
          1350,
          3800,
          3450,
          1800,
          1750,
          2200,
          2400,
          1290,
          1600,
          1700,
          6500,
          2450,
          1300,
          1850,
          2400,
          850,
          1170,
          1250,
          1200,
          4200,
          1630,
          3500,
          1600,
          8200,
          1600,
          900,
          3200,
          2050,
          890,
          1350,
          1550,
          1600,
          1300,
          1950,
          2950,
          3900,
          550,
          1950,
          2600,
          2400,
          1780,
          2100,
          450,
          1900,
          2100,
          1730,
          2080,
          1450,
          4000,
          2300,
          2100,
          1300,
          1700,
          2000,
          1490,
          1500,
          1330,
          2600,
          3100,
          6100,
          3100,
          6000,
          7250,
          3900,
          15500,
          1500,
          5000,
          4200,
          3600,
          3150,
          7400,
          3800,
          10000,
          2650,
          4200,
          3150,
          4200,
          3100,
          3200,
          9300,
          23000,
          4500,
          2900,
          6500,
          4200,
          2350,
          8400,
          4500,
          2750,
          3150,
          4800,
          14500,
          4350,
          3800,
          9300,
          7400,
          3750,
          4350,
          10500,
          2450,
          2450,
          7700,
          3800,
          4300,
          1100,
          2900,
          4350,
          3850,
          3800,
          6500,
          6100,
          2000,
          3300,
          6700,
          3400,
          2250,
          4350,
          3150,
          3500,
          3400,
          7000,
          5300,
          9400,
          6300,
          4700,
          1990,
          1480,
          4200,
          9500,
          1900,
          3600,
          8900,
          5750,
          6600,
          2750,
          7900,
          3600,
          2250,
          4350,
          3100,
          6800,
          4500,
          16500,
          12000,
          3500,
          5300,
          3950,
          34000,
          11800,
          12700,
          1680,
          7600,
          1550,
          3100,
          6000,
          38000,
          4700,
          13500,
          12800,
          8600,
          11000,
          4900,
          4900,
          10500,
          4950,
          4500,
          5700,
          33500,
          33000,
          2100,
          3300,
          5800,
          8500,
          6200,
          12500,
          2750,
          10500,
          3800,
          12000,
          36000,
          3300,
          4500,
          2850,
          3850,
          4250,
          8000,
          48000,
          2950,
          9000,
          5390,
          10500,
          6000,
          15500,
          12800,
          3100,
          9500,
          5590,
          2200,
          3450,
          8600,
          14000,
          3550,
          34000,
          8900,
          12000,
          8000,
          16000,
          5750,
          7800,
          4300,
          8800,
          6000,
          18600,
          26500,
          6900,
          7020,
          8500,
          12800,
          7500,
          14300,
          9200,
          18000,
          2700,
          7200,
          9000,
          6800,
          3100,
          7900,
          4300,
          3900,
          9500,
          12800,
          14600,
          15200,
          4800,
          15500,
          16000,
          2800,
          9500,
          1400,
          7900,
          6900,
          13000,
          1800,
          8800,
          7990,
          3300,
          5500,
          16300,
          11400,
          5600,
          2200,
          6100,
          8700,
          9500,
          34600,
          8000,
          2850,
          8600,
          34000,
          16500,
          10300,
          8300,
          5500,
          42000,
          16000,
          5000,
          8350,
          1460,
          5500,
          34200,
          1050,
          25000,
          2900,
          6100,
          3250,
          15000,
          25500,
          12500,
          4650,
          8800,
          7900,
          4300,
          6100,
          5300,
          5750,
          3150,
          3500,
          3150,
          1250,
          10500,
          4000,
          3450,
          26300,
          5400,
          5800,
          4000,
          120000,
          19000,
          4500,
          11500,
          11250,
          8500,
          3600,
          4500,
          2850,
          9800,
          7500,
          4500,
          3500,
          4550,
          4000,
          10900,
          4200,
          6500,
          5000,
          6400,
          12500,
          4900,
          23520,
          7800,
          13000,
          7450,
          7700,
          10000,
          12700,
          34000,
          3900,
          14900,
          3100,
          4400,
          11500,
          22000,
          2650,
          2600,
          25000,
          4300,
          34300,
          2550,
          8600,
          2950,
          15800,
          4500,
          6580,
          9300,
          9300,
          26000,
          17500,
          4800,
          12800,
          22500,
          9300,
          9300,
          9300,
          8600,
          32000,
          7800,
          33000,
          14000,
          12800,
          9300,
          18500,
          16000,
          3850,
          9000,
          4500,
          6200,
          9300,
          6900,
          20000,
          8450,
          5950,
          6600,
          9500,
          5300,
          7100,
          9300,
          9300,
          4100,
          16000,
          4500,
          16000,
          10000,
          11700,
          4700,
          36500,
          2850,
          32000,
          15800,
          10200,
          3900,
          2850,
          12500,
          36000,
          13500,
          13000,
          29000,
          10000,
          10000,
          50000,
          500000,
          26000,
          24000,
          18700,
          13999,
          12200,
          8500,
          9800,
          15500,
          70000,
          37000,
          103000,
          15000,
          5600,
          4200,
          44,
          45,
          50000,
          20000,
          12000,
          50000,
          54000,
          4.5,
          28.5,
          4.9,
          5800,
          21000,
          24000,
          24000,
          28500,
          12900,
          68000,
          7880,
          13999,
          40,
          75000,
          45,
          17000,
          70000,
          16500,
          58400,
          16000,
          23000,
          25600,
          26500,
          13000,
          28000,
          13500,
          45000,
          28000,
          28500,
          13600,
          14500,
          48000,
          28500,
          13700,
          50000,
          28000,
          260000,
          31800,
          22500,
          46000,
          15000,
          21900,
          33900,
          40000,
          38500,
          17200,
          28500,
          72000,
          22300,
          32000,
          50000,
          21000,
          350000,
          170000,
          35800,
          22500,
          43000,
          260000,
          22000,
          7000,
          260000,
          28500,
          41000,
          12300,
          33000,
          22000,
          18500,
          49500,
          17200,
          34000,
          30000,
          16400,
          13800,
          21500,
          42000,
          21800,
          53000,
          20700,
          33000,
          21000,
          32000,
          27000,
          22500,
          67800,
          10500,
          330000,
          28000,
          23000,
          21900,
          215000,
          170000,
          16000,
          17800,
          10500,
          39900,
          21500,
          30400,
          330000,
          27200,
          11000,
          14000,
          7400,
          10300,
          330000,
          13500,
          41000,
          21000,
          5950,
          250000,
          8500,
          49000,
          40000,
          330000,
          14700,
          25900,
          20000,
          199000,
          25900,
          17450,
          14000,
          28500,
          29000,
          13800,
          30000,
          330000,
          17500,
          210000,
          30500,
          15000,
          330000,
          7500,
          13500,
          67000,
          24800,
          34000,
          9200,
          27000,
          24800,
          80000,
          330000,
          29000,
          67000,
          23500,
          10000,
          21800,
          26800,
          21500,
          8250,
          30000,
          47500,
          995000,
          21500,
          40500,
          32500,
          18800,
          18600,
          30600,
          3300000,
          22000,
          22000,
          22500,
          45600,
          24800,
          30000,
          16300,
          68000,
          46000,
          30000,
          12000,
          78000,
          14500,
          7200,
          72000,
          30500,
          23500,
          17500,
          17500,
          24800,
          45000
         ],
         "yaxis": "y"
        }
       ],
       "layout": {
        "legend": {
         "tracegroupgap": 0
        },
        "template": {
         "data": {
          "bar": [
           {
            "error_x": {
             "color": "#2a3f5f"
            },
            "error_y": {
             "color": "#2a3f5f"
            },
            "marker": {
             "line": {
              "color": "#E5ECF6",
              "width": 0.5
             },
             "pattern": {
              "fillmode": "overlay",
              "size": 10,
              "solidity": 0.2
             }
            },
            "type": "bar"
           }
          ],
          "barpolar": [
           {
            "marker": {
             "line": {
              "color": "#E5ECF6",
              "width": 0.5
             },
             "pattern": {
              "fillmode": "overlay",
              "size": 10,
              "solidity": 0.2
             }
            },
            "type": "barpolar"
           }
          ],
          "carpet": [
           {
            "aaxis": {
             "endlinecolor": "#2a3f5f",
             "gridcolor": "white",
             "linecolor": "white",
             "minorgridcolor": "white",
             "startlinecolor": "#2a3f5f"
            },
            "baxis": {
             "endlinecolor": "#2a3f5f",
             "gridcolor": "white",
             "linecolor": "white",
             "minorgridcolor": "white",
             "startlinecolor": "#2a3f5f"
            },
            "type": "carpet"
           }
          ],
          "choropleth": [
           {
            "colorbar": {
             "outlinewidth": 0,
             "ticks": ""
            },
            "type": "choropleth"
           }
          ],
          "contour": [
           {
            "colorbar": {
             "outlinewidth": 0,
             "ticks": ""
            },
            "colorscale": [
             [
              0,
              "#0d0887"
             ],
             [
              0.1111111111111111,
              "#46039f"
             ],
             [
              0.2222222222222222,
              "#7201a8"
             ],
             [
              0.3333333333333333,
              "#9c179e"
             ],
             [
              0.4444444444444444,
              "#bd3786"
             ],
             [
              0.5555555555555556,
              "#d8576b"
             ],
             [
              0.6666666666666666,
              "#ed7953"
             ],
             [
              0.7777777777777778,
              "#fb9f3a"
             ],
             [
              0.8888888888888888,
              "#fdca26"
             ],
             [
              1,
              "#f0f921"
             ]
            ],
            "type": "contour"
           }
          ],
          "contourcarpet": [
           {
            "colorbar": {
             "outlinewidth": 0,
             "ticks": ""
            },
            "type": "contourcarpet"
           }
          ],
          "heatmap": [
           {
            "colorbar": {
             "outlinewidth": 0,
             "ticks": ""
            },
            "colorscale": [
             [
              0,
              "#0d0887"
             ],
             [
              0.1111111111111111,
              "#46039f"
             ],
             [
              0.2222222222222222,
              "#7201a8"
             ],
             [
              0.3333333333333333,
              "#9c179e"
             ],
             [
              0.4444444444444444,
              "#bd3786"
             ],
             [
              0.5555555555555556,
              "#d8576b"
             ],
             [
              0.6666666666666666,
              "#ed7953"
             ],
             [
              0.7777777777777778,
              "#fb9f3a"
             ],
             [
              0.8888888888888888,
              "#fdca26"
             ],
             [
              1,
              "#f0f921"
             ]
            ],
            "type": "heatmap"
           }
          ],
          "heatmapgl": [
           {
            "colorbar": {
             "outlinewidth": 0,
             "ticks": ""
            },
            "colorscale": [
             [
              0,
              "#0d0887"
             ],
             [
              0.1111111111111111,
              "#46039f"
             ],
             [
              0.2222222222222222,
              "#7201a8"
             ],
             [
              0.3333333333333333,
              "#9c179e"
             ],
             [
              0.4444444444444444,
              "#bd3786"
             ],
             [
              0.5555555555555556,
              "#d8576b"
             ],
             [
              0.6666666666666666,
              "#ed7953"
             ],
             [
              0.7777777777777778,
              "#fb9f3a"
             ],
             [
              0.8888888888888888,
              "#fdca26"
             ],
             [
              1,
              "#f0f921"
             ]
            ],
            "type": "heatmapgl"
           }
          ],
          "histogram": [
           {
            "marker": {
             "pattern": {
              "fillmode": "overlay",
              "size": 10,
              "solidity": 0.2
             }
            },
            "type": "histogram"
           }
          ],
          "histogram2d": [
           {
            "colorbar": {
             "outlinewidth": 0,
             "ticks": ""
            },
            "colorscale": [
             [
              0,
              "#0d0887"
             ],
             [
              0.1111111111111111,
              "#46039f"
             ],
             [
              0.2222222222222222,
              "#7201a8"
             ],
             [
              0.3333333333333333,
              "#9c179e"
             ],
             [
              0.4444444444444444,
              "#bd3786"
             ],
             [
              0.5555555555555556,
              "#d8576b"
             ],
             [
              0.6666666666666666,
              "#ed7953"
             ],
             [
              0.7777777777777778,
              "#fb9f3a"
             ],
             [
              0.8888888888888888,
              "#fdca26"
             ],
             [
              1,
              "#f0f921"
             ]
            ],
            "type": "histogram2d"
           }
          ],
          "histogram2dcontour": [
           {
            "colorbar": {
             "outlinewidth": 0,
             "ticks": ""
            },
            "colorscale": [
             [
              0,
              "#0d0887"
             ],
             [
              0.1111111111111111,
              "#46039f"
             ],
             [
              0.2222222222222222,
              "#7201a8"
             ],
             [
              0.3333333333333333,
              "#9c179e"
             ],
             [
              0.4444444444444444,
              "#bd3786"
             ],
             [
              0.5555555555555556,
              "#d8576b"
             ],
             [
              0.6666666666666666,
              "#ed7953"
             ],
             [
              0.7777777777777778,
              "#fb9f3a"
             ],
             [
              0.8888888888888888,
              "#fdca26"
             ],
             [
              1,
              "#f0f921"
             ]
            ],
            "type": "histogram2dcontour"
           }
          ],
          "mesh3d": [
           {
            "colorbar": {
             "outlinewidth": 0,
             "ticks": ""
            },
            "type": "mesh3d"
           }
          ],
          "parcoords": [
           {
            "line": {
             "colorbar": {
              "outlinewidth": 0,
              "ticks": ""
             }
            },
            "type": "parcoords"
           }
          ],
          "pie": [
           {
            "automargin": true,
            "type": "pie"
           }
          ],
          "scatter": [
           {
            "marker": {
             "colorbar": {
              "outlinewidth": 0,
              "ticks": ""
             }
            },
            "type": "scatter"
           }
          ],
          "scatter3d": [
           {
            "line": {
             "colorbar": {
              "outlinewidth": 0,
              "ticks": ""
             }
            },
            "marker": {
             "colorbar": {
              "outlinewidth": 0,
              "ticks": ""
             }
            },
            "type": "scatter3d"
           }
          ],
          "scattercarpet": [
           {
            "marker": {
             "colorbar": {
              "outlinewidth": 0,
              "ticks": ""
             }
            },
            "type": "scattercarpet"
           }
          ],
          "scattergeo": [
           {
            "marker": {
             "colorbar": {
              "outlinewidth": 0,
              "ticks": ""
             }
            },
            "type": "scattergeo"
           }
          ],
          "scattergl": [
           {
            "marker": {
             "colorbar": {
              "outlinewidth": 0,
              "ticks": ""
             }
            },
            "type": "scattergl"
           }
          ],
          "scattermapbox": [
           {
            "marker": {
             "colorbar": {
              "outlinewidth": 0,
              "ticks": ""
             }
            },
            "type": "scattermapbox"
           }
          ],
          "scatterpolar": [
           {
            "marker": {
             "colorbar": {
              "outlinewidth": 0,
              "ticks": ""
             }
            },
            "type": "scatterpolar"
           }
          ],
          "scatterpolargl": [
           {
            "marker": {
             "colorbar": {
              "outlinewidth": 0,
              "ticks": ""
             }
            },
            "type": "scatterpolargl"
           }
          ],
          "scatterternary": [
           {
            "marker": {
             "colorbar": {
              "outlinewidth": 0,
              "ticks": ""
             }
            },
            "type": "scatterternary"
           }
          ],
          "surface": [
           {
            "colorbar": {
             "outlinewidth": 0,
             "ticks": ""
            },
            "colorscale": [
             [
              0,
              "#0d0887"
             ],
             [
              0.1111111111111111,
              "#46039f"
             ],
             [
              0.2222222222222222,
              "#7201a8"
             ],
             [
              0.3333333333333333,
              "#9c179e"
             ],
             [
              0.4444444444444444,
              "#bd3786"
             ],
             [
              0.5555555555555556,
              "#d8576b"
             ],
             [
              0.6666666666666666,
              "#ed7953"
             ],
             [
              0.7777777777777778,
              "#fb9f3a"
             ],
             [
              0.8888888888888888,
              "#fdca26"
             ],
             [
              1,
              "#f0f921"
             ]
            ],
            "type": "surface"
           }
          ],
          "table": [
           {
            "cells": {
             "fill": {
              "color": "#EBF0F8"
             },
             "line": {
              "color": "white"
             }
            },
            "header": {
             "fill": {
              "color": "#C8D4E3"
             },
             "line": {
              "color": "white"
             }
            },
            "type": "table"
           }
          ]
         },
         "layout": {
          "annotationdefaults": {
           "arrowcolor": "#2a3f5f",
           "arrowhead": 0,
           "arrowwidth": 1
          },
          "autotypenumbers": "strict",
          "coloraxis": {
           "colorbar": {
            "outlinewidth": 0,
            "ticks": ""
           }
          },
          "colorscale": {
           "diverging": [
            [
             0,
             "#8e0152"
            ],
            [
             0.1,
             "#c51b7d"
            ],
            [
             0.2,
             "#de77ae"
            ],
            [
             0.3,
             "#f1b6da"
            ],
            [
             0.4,
             "#fde0ef"
            ],
            [
             0.5,
             "#f7f7f7"
            ],
            [
             0.6,
             "#e6f5d0"
            ],
            [
             0.7,
             "#b8e186"
            ],
            [
             0.8,
             "#7fbc41"
            ],
            [
             0.9,
             "#4d9221"
            ],
            [
             1,
             "#276419"
            ]
           ],
           "sequential": [
            [
             0,
             "#0d0887"
            ],
            [
             0.1111111111111111,
             "#46039f"
            ],
            [
             0.2222222222222222,
             "#7201a8"
            ],
            [
             0.3333333333333333,
             "#9c179e"
            ],
            [
             0.4444444444444444,
             "#bd3786"
            ],
            [
             0.5555555555555556,
             "#d8576b"
            ],
            [
             0.6666666666666666,
             "#ed7953"
            ],
            [
             0.7777777777777778,
             "#fb9f3a"
            ],
            [
             0.8888888888888888,
             "#fdca26"
            ],
            [
             1,
             "#f0f921"
            ]
           ],
           "sequentialminus": [
            [
             0,
             "#0d0887"
            ],
            [
             0.1111111111111111,
             "#46039f"
            ],
            [
             0.2222222222222222,
             "#7201a8"
            ],
            [
             0.3333333333333333,
             "#9c179e"
            ],
            [
             0.4444444444444444,
             "#bd3786"
            ],
            [
             0.5555555555555556,
             "#d8576b"
            ],
            [
             0.6666666666666666,
             "#ed7953"
            ],
            [
             0.7777777777777778,
             "#fb9f3a"
            ],
            [
             0.8888888888888888,
             "#fdca26"
            ],
            [
             1,
             "#f0f921"
            ]
           ]
          },
          "colorway": [
           "#636efa",
           "#EF553B",
           "#00cc96",
           "#ab63fa",
           "#FFA15A",
           "#19d3f3",
           "#FF6692",
           "#B6E880",
           "#FF97FF",
           "#FECB52"
          ],
          "font": {
           "color": "#2a3f5f"
          },
          "geo": {
           "bgcolor": "white",
           "lakecolor": "white",
           "landcolor": "#E5ECF6",
           "showlakes": true,
           "showland": true,
           "subunitcolor": "white"
          },
          "hoverlabel": {
           "align": "left"
          },
          "hovermode": "closest",
          "mapbox": {
           "style": "light"
          },
          "paper_bgcolor": "white",
          "plot_bgcolor": "#E5ECF6",
          "polar": {
           "angularaxis": {
            "gridcolor": "white",
            "linecolor": "white",
            "ticks": ""
           },
           "bgcolor": "#E5ECF6",
           "radialaxis": {
            "gridcolor": "white",
            "linecolor": "white",
            "ticks": ""
           }
          },
          "scene": {
           "xaxis": {
            "backgroundcolor": "#E5ECF6",
            "gridcolor": "white",
            "gridwidth": 2,
            "linecolor": "white",
            "showbackground": true,
            "ticks": "",
            "zerolinecolor": "white"
           },
           "yaxis": {
            "backgroundcolor": "#E5ECF6",
            "gridcolor": "white",
            "gridwidth": 2,
            "linecolor": "white",
            "showbackground": true,
            "ticks": "",
            "zerolinecolor": "white"
           },
           "zaxis": {
            "backgroundcolor": "#E5ECF6",
            "gridcolor": "white",
            "gridwidth": 2,
            "linecolor": "white",
            "showbackground": true,
            "ticks": "",
            "zerolinecolor": "white"
           }
          },
          "shapedefaults": {
           "line": {
            "color": "#2a3f5f"
           }
          },
          "ternary": {
           "aaxis": {
            "gridcolor": "white",
            "linecolor": "white",
            "ticks": ""
           },
           "baxis": {
            "gridcolor": "white",
            "linecolor": "white",
            "ticks": ""
           },
           "bgcolor": "#E5ECF6",
           "caxis": {
            "gridcolor": "white",
            "linecolor": "white",
            "ticks": ""
           }
          },
          "title": {
           "x": 0.05
          },
          "xaxis": {
           "automargin": true,
           "gridcolor": "white",
           "linecolor": "white",
           "ticks": "",
           "title": {
            "standoff": 15
           },
           "zerolinecolor": "white",
           "zerolinewidth": 2
          },
          "yaxis": {
           "automargin": true,
           "gridcolor": "white",
           "linecolor": "white",
           "ticks": "",
           "title": {
            "standoff": 15
           },
           "zerolinecolor": "white",
           "zerolinewidth": 2
          }
         }
        },
        "title": {
         "text": "relationship area to price"
        },
        "xaxis": {
         "anchor": "y",
         "domain": [
          0,
          1
         ],
         "title": {
          "text": "area"
         }
        },
        "yaxis": {
         "anchor": "x",
         "domain": [
          0,
          1
         ],
         "title": {
          "text": "price"
         }
        }
       }
      },
      "text/html": [
       "<div>                            <div id=\"d8811920-8d9c-4a99-833d-6451c1007506\" class=\"plotly-graph-div\" style=\"height:525px; width:100%;\"></div>            <script type=\"text/javascript\">                require([\"plotly\"], function(Plotly) {                    window.PLOTLYENV=window.PLOTLYENV || {};                                    if (document.getElementById(\"d8811920-8d9c-4a99-833d-6451c1007506\")) {                    Plotly.newPlot(                        \"d8811920-8d9c-4a99-833d-6451c1007506\",                        [{\"hovertemplate\":\"area=%{x}<br>price=%{y}<extra></extra>\",\"legendgroup\":\"\",\"marker\":{\"color\":\"#636efa\",\"symbol\":\"circle\"},\"mode\":\"markers\",\"name\":\"\",\"orientation\":\"v\",\"showlegend\":false,\"x\":[50.0,57.0,62.0,26.0,40.0,41.0,39.0,52.2,75.0,100.0,70.0,70.0,110.0,40.0,65.0,39.0,120.0,50.0,72.0,100.0,110.0,42.0,52.0,62.0,47.0,92.0,40.0,68.0,105.0,28.0,42.0,45.0,43.0,210.0,55.0,50.0,72.0,120.0,62.0,35.0,70.0,65.0,35.0,32.0,55.0,65.0,35.0,65.0,75.0,100.0,25.0,77.0,100.0,110.0,50.0,30.0,22.0,52.0,70.0,70.0,62.0,42.0,80.0,90.0,70.0,52.0,50.0,80.0,47.0,52.0,45.0,130.0,33.0,51.0,33.0,55.0,42.0,46.0,90.0,0.0,41.0,38.0,0.0,32.0,41.0,0.0,50.0,32.0,38.0,32.0,45.0,33.0,0.0,60.0,71.0,45.0,25.0,56.0,0.0,0.0,52.0,45.0,30.0,32.0,52.0,48.0,35.0,52.0,45.0,0.0,53.0,35.0,39.0,25.0,21.0,64.0,40.0,39.0,0.0,25.0,48.0,46.0,0.0,34.0,48.0,27.0,26.0,50.0,51.0,20.0,35.0,32.0,0.0,34.0,40.0,35.0,0.0,60.0,69.0,0.0,14.0,45.0,75.0,0.0,36.0,60.0,82.0,40.0,31.0,41.0,60.0,20.0,35.0,33.0,38.0,45.0,42.2,83.0,30.0,80.0,42.0,140.0,70.0,60.0,0.0,45.0,0.0,34.0,50.0,83.0,34.0,50.0,55.0,50.0,100.0,35.0,35.0,62.0,47.0,35.0,40.0,89.0,89.0,20.0,32.0,36.0,48.0,45.0,61.0,40.0,48.25,37.0,45.0,180.0,40.0,35.0,25.0,44.0,35.0,30.0,300.0,23.0,46.0,62.0,60.0,62.0,56.0,65.0,41.0,77.0,60.0,23.0,35.0,55.0,98.0,35.0,92.0,45.0,75.0,44.0,55.0,45.0,36.0,36.0,110.0,40.0,35.0,90.0,60.0,54.0,40.0,60.0,30.0,98.0,57.0,97.0,29.0,50.0,61.0,52.0,25.0,72.0,47.0,35.0,39.0,40.0,50.0,81.0,50.0,71.0,68.0,28.0,56.0,20.0,45.0,35.0,70.0,45.0,46.0,35.0,30.0,34.0,62.0,80.0,41.0,35.0,55.0,46.0,67.0,84.0,67.0,36.0,58.0,85.0,45.0,55.0,43.0,43.0,110.0,65.0,40.0,46.0,52.0,45.0,85.0,35.0,115.0,30.0,55.0,25.0,55.0,90.0,65.0,48.0,45.0,72.0,35.0,55.0,35.0,45.0,30.0,55.0,60.0,50.0,50.0,41.0,45.0,86.0,45.0,42.0,36.0,300.0,75.0,36.0,66.0,101.0,40.0,40.0,57.0,25.0,62.0,100.0,35.0,40.0,56.0,46.0,65.0,35.0,54.0,50.0,111.0,50.0,31.0,168.0,44.0,140.0,50.0,36.3,60.0,50.0,85.0,51.0,55.0,85.0,35.0,63.0,110.0,38.0,36.0,95.0,33.0,300.0,36.0,60.0,30.0,61.0,36.0,58.0,55.0,55.0,80.0,65.0,55.0,112.0,168.0,55.0,55.0,55.0,51.0,70.0,48.0,120.0,60.0,112.0,55.0,92.0,55.0,35.0,49.0,36.0,56.0,55.0,35.0,52.0,50.0,51.0,53.0,60.0,40.0,73.0,55.0,55.0,42.0,64.0,35.0,62.0,50.0,48.0,43.0,180.0,25.0,90.0,58.0,96.0,38.0,25.0,35.0,70.0,41.0,50.0,75.0,35.0,56.0,59.0,60.0,94.0,50.0,55.0,40.0,70.0,35.0,65.0,38.0,142.0,133.0,234.0,50.0,40.0,41.0,100.0,80.0,4450.0,80.0,82.0,45.0,160.0,23.0,100.0,40.0,33.0,110.0,95.0,43.0,120.0,55.0,238.0,33.0,65.0,120.0,142.0,80.0,45.0,143.0,45.0,365.0,101.0,71.0,58.0,100.0,30.0,70.0,30.0,110.0,78.8,65.0,25.0,70.0,160.0,108.0,73.0,158.0,110.0,416.0,80.0,62.0,235.0,68.0,90.0,98.0,135.0,136.0,60.0,75.0,150.0,95.0,110.0,160.0,100.0,1000.0,280.0,140.0,100.0,129.0,416.0,75.0,60.0,416.0,60.0,130.0,75.0,92.0,81.0,40.0,150.0,55.0,89.0,100.0,85.0,33.0,69.0,131.0,69.0,160.0,90.0,89.0,105.0,120.0,210.0,100.0,130.0,35.0,1000.0,98.0,81.0,55.0,420.0,248.0,75.0,81.0,33.0,128.0,100.0,56.0,1000.0,40.0,60.0,50.0,25.0,100.0,1000.0,30.0,110.0,86.0,83.0,410.0,40.0,128.0,252.0,11000.0,57.0,80.0,165.0,416.0,80.0,55.0,44.0,108.0,66.0,46.0,80.0,1000.0,64.0,416.0,76.0,65.0,1000.0,42.0,54.0,240.0,43.0,85.0,57.0,120.0,45.0,170.0,1000.0,71.0,239.0,80.0,40.0,69.0,112.0,86.0,42.0,45.0,97.0,890.0,100.0,118.0,170.0,45.0,58.0,56.0,1000.0,55.0,50.0,100.0,160.0,45.0,45.0,68.0,236.0,235.0,65.0,45.0,368.0,50.0,36.0,143.0,76.0,168.0,65.0,60.0,45.0,107.0],\"xaxis\":\"x\",\"y\":[14700.0,4200.0,11000.0,2900.0,3950.0,8900.0,5280.0,5376.6,1800.0,2400.0,2000.0,1800.0,2600.0,1180.0,1350.0,3800.0,3450.0,1800.0,1750.0,2200.0,2400.0,1290.0,1600.0,1700.0,6500.0,2450.0,1300.0,1850.0,2400.0,850.0,1170.0,1250.0,1200.0,4200.0,1630.0,3500.0,1600.0,8200.0,1600.0,900.0,3200.0,2050.0,890.0,1350.0,1550.0,1600.0,1300.0,1950.0,2950.0,3900.0,550.0,1950.0,2600.0,2400.0,1780.0,2100.0,450.0,1900.0,2100.0,1730.0,2080.0,1450.0,4000.0,2300.0,2100.0,1300.0,1700.0,2000.0,1490.0,1500.0,1330.0,2600.0,3100.0,6100.0,3100.0,6000.0,7250.0,3900.0,15500.0,1500.0,5000.0,4200.0,3600.0,3150.0,7400.0,3800.0,10000.0,2650.0,4200.0,3150.0,4200.0,3100.0,3200.0,9300.0,23000.0,4500.0,2900.0,6500.0,4200.0,2350.0,8400.0,4500.0,2750.0,3150.0,4800.0,14500.0,4350.0,3800.0,9300.0,7400.0,3750.0,4350.0,10500.0,2450.0,2450.0,7700.0,3800.0,4300.0,1100.0,2900.0,4350.0,3850.0,3800.0,6500.0,6100.0,2000.0,3300.0,6700.0,3400.0,2250.0,4350.0,3150.0,3500.0,3400.0,7000.0,5300.0,9400.0,6300.0,4700.0,1990.0,1480.0,4200.0,9500.0,1900.0,3600.0,8900.0,5750.0,6600.0,2750.0,7900.0,3600.0,2250.0,4350.0,3100.0,6800.0,4500.0,16500.0,12000.0,3500.0,5300.0,3950.0,34000.0,11800.0,12700.0,1680.0,7600.0,1550.0,3100.0,6000.0,38000.0,4700.0,13500.0,12800.0,8600.0,11000.0,4900.0,4900.0,10500.0,4950.0,4500.0,5700.0,33500.0,33000.0,2100.0,3300.0,5800.0,8500.0,6200.0,12500.0,2750.0,10500.0,3800.0,12000.0,36000.0,3300.0,4500.0,2850.0,3850.0,4250.0,8000.0,48000.0,2950.0,9000.0,5390.0,10500.0,6000.0,15500.0,12800.0,3100.0,9500.0,5590.0,2200.0,3450.0,8600.0,14000.0,3550.0,34000.0,8900.0,12000.0,8000.0,16000.0,5750.0,7800.0,4300.0,8800.0,6000.0,18600.0,26500.0,6900.0,7020.0,8500.0,12800.0,7500.0,14300.0,9200.0,18000.0,2700.0,7200.0,9000.0,6800.0,3100.0,7900.0,4300.0,3900.0,9500.0,12800.0,14600.0,15200.0,4800.0,15500.0,16000.0,2800.0,9500.0,1400.0,7900.0,6900.0,13000.0,1800.0,8800.0,7990.0,3300.0,5500.0,16300.0,11400.0,5600.0,2200.0,6100.0,8700.0,9500.0,34600.0,8000.0,2850.0,8600.0,34000.0,16500.0,10300.0,8300.0,5500.0,42000.0,16000.0,5000.0,8350.0,1460.0,5500.0,34200.0,1050.0,25000.0,2900.0,6100.0,3250.0,15000.0,25500.0,12500.0,4650.0,8800.0,7900.0,4300.0,6100.0,5300.0,5750.0,3150.0,3500.0,3150.0,1250.0,10500.0,4000.0,3450.0,26300.0,5400.0,5800.0,4000.0,120000.0,19000.0,4500.0,11500.0,11250.0,8500.0,3600.0,4500.0,2850.0,9800.0,7500.0,4500.0,3500.0,4550.0,4000.0,10900.0,4200.0,6500.0,5000.0,6400.0,12500.0,4900.0,23520.0,7800.0,13000.0,7450.0,7700.0,10000.0,12700.0,34000.0,3900.0,14900.0,3100.0,4400.0,11500.0,22000.0,2650.0,2600.0,25000.0,4300.0,34300.0,2550.0,8600.0,2950.0,15800.0,4500.0,6580.0,9300.0,9300.0,26000.0,17500.0,4800.0,12800.0,22500.0,9300.0,9300.0,9300.0,8600.0,32000.0,7800.0,33000.0,14000.0,12800.0,9300.0,18500.0,16000.0,3850.0,9000.0,4500.0,6200.0,9300.0,6900.0,20000.0,8450.0,5950.0,6600.0,9500.0,5300.0,7100.0,9300.0,9300.0,4100.0,16000.0,4500.0,16000.0,10000.0,11700.0,4700.0,36500.0,2850.0,32000.0,15800.0,10200.0,3900.0,2850.0,12500.0,36000.0,13500.0,13000.0,29000.0,10000.0,10000.0,50000.0,500000.0,26000.0,24000.0,18700.0,13999.0,12200.0,8500.0,9800.0,15500.0,70000.0,37000.0,103000.0,15000.0,5600.0,4200.0,44.0,45.0,50000.0,20000.0,12000.0,50000.0,54000.0,4.5,28.5,4.9,5800.0,21000.0,24000.0,24000.0,28500.0,12900.0,68000.0,7880.0,13999.0,40.0,75000.0,45.0,17000.0,70000.0,16500.0,58400.0,16000.0,23000.0,25600.0,26500.0,13000.0,28000.0,13500.0,45000.0,28000.0,28500.0,13600.0,14500.0,48000.0,28500.0,13700.0,50000.0,28000.0,260000.0,31800.0,22500.0,46000.0,15000.0,21900.0,33900.0,40000.0,38500.0,17200.0,28500.0,72000.0,22300.0,32000.0,50000.0,21000.0,350000.0,170000.0,35800.0,22500.0,43000.0,260000.0,22000.0,7000.0,260000.0,28500.0,41000.0,12300.0,33000.0,22000.0,18500.0,49500.0,17200.0,34000.0,30000.0,16400.0,13800.0,21500.0,42000.0,21800.0,53000.0,20700.0,33000.0,21000.0,32000.0,27000.0,22500.0,67800.0,10500.0,330000.0,28000.0,23000.0,21900.0,215000.0,170000.0,16000.0,17800.0,10500.0,39900.0,21500.0,30400.0,330000.0,27200.0,11000.0,14000.0,7400.0,10300.0,330000.0,13500.0,41000.0,21000.0,5950.0,250000.0,8500.0,49000.0,40000.0,330000.0,14700.0,25900.0,20000.0,199000.0,25900.0,17450.0,14000.0,28500.0,29000.0,13800.0,30000.0,330000.0,17500.0,210000.0,30500.0,15000.0,330000.0,7500.0,13500.0,67000.0,24800.0,34000.0,9200.0,27000.0,24800.0,80000.0,330000.0,29000.0,67000.0,23500.0,10000.0,21800.0,26800.0,21500.0,8250.0,30000.0,47500.0,995000.0,21500.0,40500.0,32500.0,18800.0,18600.0,30600.0,3300000.0,22000.0,22000.0,22500.0,45600.0,24800.0,30000.0,16300.0,68000.0,46000.0,30000.0,12000.0,78000.0,14500.0,7200.0,72000.0,30500.0,23500.0,17500.0,17500.0,24800.0,45000.0],\"yaxis\":\"y\",\"type\":\"scatter\"}],                        {\"template\":{\"data\":{\"bar\":[{\"error_x\":{\"color\":\"#2a3f5f\"},\"error_y\":{\"color\":\"#2a3f5f\"},\"marker\":{\"line\":{\"color\":\"#E5ECF6\",\"width\":0.5},\"pattern\":{\"fillmode\":\"overlay\",\"size\":10,\"solidity\":0.2}},\"type\":\"bar\"}],\"barpolar\":[{\"marker\":{\"line\":{\"color\":\"#E5ECF6\",\"width\":0.5},\"pattern\":{\"fillmode\":\"overlay\",\"size\":10,\"solidity\":0.2}},\"type\":\"barpolar\"}],\"carpet\":[{\"aaxis\":{\"endlinecolor\":\"#2a3f5f\",\"gridcolor\":\"white\",\"linecolor\":\"white\",\"minorgridcolor\":\"white\",\"startlinecolor\":\"#2a3f5f\"},\"baxis\":{\"endlinecolor\":\"#2a3f5f\",\"gridcolor\":\"white\",\"linecolor\":\"white\",\"minorgridcolor\":\"white\",\"startlinecolor\":\"#2a3f5f\"},\"type\":\"carpet\"}],\"choropleth\":[{\"colorbar\":{\"outlinewidth\":0,\"ticks\":\"\"},\"type\":\"choropleth\"}],\"contour\":[{\"colorbar\":{\"outlinewidth\":0,\"ticks\":\"\"},\"colorscale\":[[0.0,\"#0d0887\"],[0.1111111111111111,\"#46039f\"],[0.2222222222222222,\"#7201a8\"],[0.3333333333333333,\"#9c179e\"],[0.4444444444444444,\"#bd3786\"],[0.5555555555555556,\"#d8576b\"],[0.6666666666666666,\"#ed7953\"],[0.7777777777777778,\"#fb9f3a\"],[0.8888888888888888,\"#fdca26\"],[1.0,\"#f0f921\"]],\"type\":\"contour\"}],\"contourcarpet\":[{\"colorbar\":{\"outlinewidth\":0,\"ticks\":\"\"},\"type\":\"contourcarpet\"}],\"heatmap\":[{\"colorbar\":{\"outlinewidth\":0,\"ticks\":\"\"},\"colorscale\":[[0.0,\"#0d0887\"],[0.1111111111111111,\"#46039f\"],[0.2222222222222222,\"#7201a8\"],[0.3333333333333333,\"#9c179e\"],[0.4444444444444444,\"#bd3786\"],[0.5555555555555556,\"#d8576b\"],[0.6666666666666666,\"#ed7953\"],[0.7777777777777778,\"#fb9f3a\"],[0.8888888888888888,\"#fdca26\"],[1.0,\"#f0f921\"]],\"type\":\"heatmap\"}],\"heatmapgl\":[{\"colorbar\":{\"outlinewidth\":0,\"ticks\":\"\"},\"colorscale\":[[0.0,\"#0d0887\"],[0.1111111111111111,\"#46039f\"],[0.2222222222222222,\"#7201a8\"],[0.3333333333333333,\"#9c179e\"],[0.4444444444444444,\"#bd3786\"],[0.5555555555555556,\"#d8576b\"],[0.6666666666666666,\"#ed7953\"],[0.7777777777777778,\"#fb9f3a\"],[0.8888888888888888,\"#fdca26\"],[1.0,\"#f0f921\"]],\"type\":\"heatmapgl\"}],\"histogram\":[{\"marker\":{\"pattern\":{\"fillmode\":\"overlay\",\"size\":10,\"solidity\":0.2}},\"type\":\"histogram\"}],\"histogram2d\":[{\"colorbar\":{\"outlinewidth\":0,\"ticks\":\"\"},\"colorscale\":[[0.0,\"#0d0887\"],[0.1111111111111111,\"#46039f\"],[0.2222222222222222,\"#7201a8\"],[0.3333333333333333,\"#9c179e\"],[0.4444444444444444,\"#bd3786\"],[0.5555555555555556,\"#d8576b\"],[0.6666666666666666,\"#ed7953\"],[0.7777777777777778,\"#fb9f3a\"],[0.8888888888888888,\"#fdca26\"],[1.0,\"#f0f921\"]],\"type\":\"histogram2d\"}],\"histogram2dcontour\":[{\"colorbar\":{\"outlinewidth\":0,\"ticks\":\"\"},\"colorscale\":[[0.0,\"#0d0887\"],[0.1111111111111111,\"#46039f\"],[0.2222222222222222,\"#7201a8\"],[0.3333333333333333,\"#9c179e\"],[0.4444444444444444,\"#bd3786\"],[0.5555555555555556,\"#d8576b\"],[0.6666666666666666,\"#ed7953\"],[0.7777777777777778,\"#fb9f3a\"],[0.8888888888888888,\"#fdca26\"],[1.0,\"#f0f921\"]],\"type\":\"histogram2dcontour\"}],\"mesh3d\":[{\"colorbar\":{\"outlinewidth\":0,\"ticks\":\"\"},\"type\":\"mesh3d\"}],\"parcoords\":[{\"line\":{\"colorbar\":{\"outlinewidth\":0,\"ticks\":\"\"}},\"type\":\"parcoords\"}],\"pie\":[{\"automargin\":true,\"type\":\"pie\"}],\"scatter\":[{\"marker\":{\"colorbar\":{\"outlinewidth\":0,\"ticks\":\"\"}},\"type\":\"scatter\"}],\"scatter3d\":[{\"line\":{\"colorbar\":{\"outlinewidth\":0,\"ticks\":\"\"}},\"marker\":{\"colorbar\":{\"outlinewidth\":0,\"ticks\":\"\"}},\"type\":\"scatter3d\"}],\"scattercarpet\":[{\"marker\":{\"colorbar\":{\"outlinewidth\":0,\"ticks\":\"\"}},\"type\":\"scattercarpet\"}],\"scattergeo\":[{\"marker\":{\"colorbar\":{\"outlinewidth\":0,\"ticks\":\"\"}},\"type\":\"scattergeo\"}],\"scattergl\":[{\"marker\":{\"colorbar\":{\"outlinewidth\":0,\"ticks\":\"\"}},\"type\":\"scattergl\"}],\"scattermapbox\":[{\"marker\":{\"colorbar\":{\"outlinewidth\":0,\"ticks\":\"\"}},\"type\":\"scattermapbox\"}],\"scatterpolar\":[{\"marker\":{\"colorbar\":{\"outlinewidth\":0,\"ticks\":\"\"}},\"type\":\"scatterpolar\"}],\"scatterpolargl\":[{\"marker\":{\"colorbar\":{\"outlinewidth\":0,\"ticks\":\"\"}},\"type\":\"scatterpolargl\"}],\"scatterternary\":[{\"marker\":{\"colorbar\":{\"outlinewidth\":0,\"ticks\":\"\"}},\"type\":\"scatterternary\"}],\"surface\":[{\"colorbar\":{\"outlinewidth\":0,\"ticks\":\"\"},\"colorscale\":[[0.0,\"#0d0887\"],[0.1111111111111111,\"#46039f\"],[0.2222222222222222,\"#7201a8\"],[0.3333333333333333,\"#9c179e\"],[0.4444444444444444,\"#bd3786\"],[0.5555555555555556,\"#d8576b\"],[0.6666666666666666,\"#ed7953\"],[0.7777777777777778,\"#fb9f3a\"],[0.8888888888888888,\"#fdca26\"],[1.0,\"#f0f921\"]],\"type\":\"surface\"}],\"table\":[{\"cells\":{\"fill\":{\"color\":\"#EBF0F8\"},\"line\":{\"color\":\"white\"}},\"header\":{\"fill\":{\"color\":\"#C8D4E3\"},\"line\":{\"color\":\"white\"}},\"type\":\"table\"}]},\"layout\":{\"annotationdefaults\":{\"arrowcolor\":\"#2a3f5f\",\"arrowhead\":0,\"arrowwidth\":1},\"autotypenumbers\":\"strict\",\"coloraxis\":{\"colorbar\":{\"outlinewidth\":0,\"ticks\":\"\"}},\"colorscale\":{\"diverging\":[[0,\"#8e0152\"],[0.1,\"#c51b7d\"],[0.2,\"#de77ae\"],[0.3,\"#f1b6da\"],[0.4,\"#fde0ef\"],[0.5,\"#f7f7f7\"],[0.6,\"#e6f5d0\"],[0.7,\"#b8e186\"],[0.8,\"#7fbc41\"],[0.9,\"#4d9221\"],[1,\"#276419\"]],\"sequential\":[[0.0,\"#0d0887\"],[0.1111111111111111,\"#46039f\"],[0.2222222222222222,\"#7201a8\"],[0.3333333333333333,\"#9c179e\"],[0.4444444444444444,\"#bd3786\"],[0.5555555555555556,\"#d8576b\"],[0.6666666666666666,\"#ed7953\"],[0.7777777777777778,\"#fb9f3a\"],[0.8888888888888888,\"#fdca26\"],[1.0,\"#f0f921\"]],\"sequentialminus\":[[0.0,\"#0d0887\"],[0.1111111111111111,\"#46039f\"],[0.2222222222222222,\"#7201a8\"],[0.3333333333333333,\"#9c179e\"],[0.4444444444444444,\"#bd3786\"],[0.5555555555555556,\"#d8576b\"],[0.6666666666666666,\"#ed7953\"],[0.7777777777777778,\"#fb9f3a\"],[0.8888888888888888,\"#fdca26\"],[1.0,\"#f0f921\"]]},\"colorway\":[\"#636efa\",\"#EF553B\",\"#00cc96\",\"#ab63fa\",\"#FFA15A\",\"#19d3f3\",\"#FF6692\",\"#B6E880\",\"#FF97FF\",\"#FECB52\"],\"font\":{\"color\":\"#2a3f5f\"},\"geo\":{\"bgcolor\":\"white\",\"lakecolor\":\"white\",\"landcolor\":\"#E5ECF6\",\"showlakes\":true,\"showland\":true,\"subunitcolor\":\"white\"},\"hoverlabel\":{\"align\":\"left\"},\"hovermode\":\"closest\",\"mapbox\":{\"style\":\"light\"},\"paper_bgcolor\":\"white\",\"plot_bgcolor\":\"#E5ECF6\",\"polar\":{\"angularaxis\":{\"gridcolor\":\"white\",\"linecolor\":\"white\",\"ticks\":\"\"},\"bgcolor\":\"#E5ECF6\",\"radialaxis\":{\"gridcolor\":\"white\",\"linecolor\":\"white\",\"ticks\":\"\"}},\"scene\":{\"xaxis\":{\"backgroundcolor\":\"#E5ECF6\",\"gridcolor\":\"white\",\"gridwidth\":2,\"linecolor\":\"white\",\"showbackground\":true,\"ticks\":\"\",\"zerolinecolor\":\"white\"},\"yaxis\":{\"backgroundcolor\":\"#E5ECF6\",\"gridcolor\":\"white\",\"gridwidth\":2,\"linecolor\":\"white\",\"showbackground\":true,\"ticks\":\"\",\"zerolinecolor\":\"white\"},\"zaxis\":{\"backgroundcolor\":\"#E5ECF6\",\"gridcolor\":\"white\",\"gridwidth\":2,\"linecolor\":\"white\",\"showbackground\":true,\"ticks\":\"\",\"zerolinecolor\":\"white\"}},\"shapedefaults\":{\"line\":{\"color\":\"#2a3f5f\"}},\"ternary\":{\"aaxis\":{\"gridcolor\":\"white\",\"linecolor\":\"white\",\"ticks\":\"\"},\"baxis\":{\"gridcolor\":\"white\",\"linecolor\":\"white\",\"ticks\":\"\"},\"bgcolor\":\"#E5ECF6\",\"caxis\":{\"gridcolor\":\"white\",\"linecolor\":\"white\",\"ticks\":\"\"}},\"title\":{\"x\":0.05},\"xaxis\":{\"automargin\":true,\"gridcolor\":\"white\",\"linecolor\":\"white\",\"ticks\":\"\",\"title\":{\"standoff\":15},\"zerolinecolor\":\"white\",\"zerolinewidth\":2},\"yaxis\":{\"automargin\":true,\"gridcolor\":\"white\",\"linecolor\":\"white\",\"ticks\":\"\",\"title\":{\"standoff\":15},\"zerolinecolor\":\"white\",\"zerolinewidth\":2}}},\"xaxis\":{\"anchor\":\"y\",\"domain\":[0.0,1.0],\"title\":{\"text\":\"area\"}},\"yaxis\":{\"anchor\":\"x\",\"domain\":[0.0,1.0],\"title\":{\"text\":\"price\"}},\"legend\":{\"tracegroupgap\":0},\"title\":{\"text\":\"relationship area to price\"}},                        {\"responsive\": true}                    ).then(function(){\n",
       "                            \n",
       "var gd = document.getElementById('d8811920-8d9c-4a99-833d-6451c1007506');\n",
       "var x = new MutationObserver(function (mutations, observer) {{\n",
       "        var display = window.getComputedStyle(gd).display;\n",
       "        if (!display || display === 'none') {{\n",
       "            console.log([gd, 'removed!']);\n",
       "            Plotly.purge(gd);\n",
       "            observer.disconnect();\n",
       "        }}\n",
       "}});\n",
       "\n",
       "// Listen for the removal of the full notebook cells\n",
       "var notebookContainer = gd.closest('#notebook-container');\n",
       "if (notebookContainer) {{\n",
       "    x.observe(notebookContainer, {childList: true});\n",
       "}}\n",
       "\n",
       "// Listen for the clearing of the current output cell\n",
       "var outputEl = gd.closest('.output');\n",
       "if (outputEl) {{\n",
       "    x.observe(outputEl, {childList: true});\n",
       "}}\n",
       "\n",
       "                        })                };                });            </script>        </div>"
      ]
     },
     "metadata": {},
     "output_type": "display_data"
    }
   ],
   "source": [
    "# x and y given as array_like objects\n",
    "import plotly.express as px\n",
    "fig = px.scatter(df1, x=df1['area'], y=df1['price'], title=\"relationship area to price\")\n",
    "fig.show()"
   ]
  },
  {
   "cell_type": "code",
   "execution_count": 14,
   "id": "f4cad7ac",
   "metadata": {},
   "outputs": [],
   "source": [
    "from scipy.stats import pearsonr"
   ]
  },
  {
   "cell_type": "code",
   "execution_count": 16,
   "id": "1d28f8dd",
   "metadata": {},
   "outputs": [],
   "source": [
    "r, pvalue = pearsonr(df1['area'], df1['price'])"
   ]
  },
  {
   "cell_type": "code",
   "execution_count": 17,
   "id": "83d6d07d",
   "metadata": {},
   "outputs": [
    {
     "name": "stdout",
     "output_type": "stream",
     "text": [
      "R: 0.22852101906798145\n",
      "pvalue: 9.947613326077062e-09\n"
     ]
    }
   ],
   "source": [
    "print('R:', r)\n",
    "print('pvalue:', pvalue)"
   ]
  },
  {
   "cell_type": "markdown",
   "id": "d13adc96",
   "metadata": {},
   "source": [
    "# tiến hành kiểm định\n",
    "+ với mức ý nghĩa: 0.05\n",
    "+ 0.2 <= r < 0.4 => giữa hai thuộc tính có tính tương quan yếu ( tương quan thuận)\n",
    "+ pvalue > 0.05 => không đủ cơ sở để bác bỏ H0<br>\n",
    "kêt luận: ta nhận thấy hai thuộc tính có sự tương quan với nhau (tương quan yếu)"
   ]
  },
  {
   "cell_type": "markdown",
   "id": "78b552d5",
   "metadata": {},
   "source": [
    "# Giữa giá nhà và tọa độ địa lý (lat, long) có tương quan với nhau"
   ]
  },
  {
   "cell_type": "code",
   "execution_count": 18,
   "id": "fbb62e0b",
   "metadata": {},
   "outputs": [
    {
     "data": {
      "text/html": [
       "<div>\n",
       "<style scoped>\n",
       "    .dataframe tbody tr th:only-of-type {\n",
       "        vertical-align: middle;\n",
       "    }\n",
       "\n",
       "    .dataframe tbody tr th {\n",
       "        vertical-align: top;\n",
       "    }\n",
       "\n",
       "    .dataframe thead th {\n",
       "        text-align: right;\n",
       "    }\n",
       "</style>\n",
       "<table border=\"1\" class=\"dataframe\">\n",
       "  <thead>\n",
       "    <tr style=\"text-align: right;\">\n",
       "      <th></th>\n",
       "      <th>area</th>\n",
       "      <th>price</th>\n",
       "      <th>postDate</th>\n",
       "      <th>land_certificate</th>\n",
       "      <th>house_direction</th>\n",
       "      <th>balcony_direction</th>\n",
       "      <th>toilet</th>\n",
       "      <th>bedroom</th>\n",
       "      <th>floor</th>\n",
       "      <th>lat</th>\n",
       "      <th>long</th>\n",
       "      <th>property_type</th>\n",
       "    </tr>\n",
       "  </thead>\n",
       "  <tbody>\n",
       "    <tr>\n",
       "      <th>0</th>\n",
       "      <td>50.0</td>\n",
       "      <td>14700.0</td>\n",
       "      <td>44197</td>\n",
       "      <td>So do</td>\n",
       "      <td>NaN</td>\n",
       "      <td>NaN</td>\n",
       "      <td>4.0</td>\n",
       "      <td>6.0</td>\n",
       "      <td>6.0</td>\n",
       "      <td>21.015698</td>\n",
       "      <td>105.824583</td>\n",
       "      <td>trong ngo</td>\n",
       "    </tr>\n",
       "    <tr>\n",
       "      <th>1</th>\n",
       "      <td>57.0</td>\n",
       "      <td>4200.0</td>\n",
       "      <td>44265</td>\n",
       "      <td>So do</td>\n",
       "      <td>Nam</td>\n",
       "      <td>Nam</td>\n",
       "      <td>3.0</td>\n",
       "      <td>8.0</td>\n",
       "      <td>4.0</td>\n",
       "      <td>21.025208</td>\n",
       "      <td>105.833111</td>\n",
       "      <td>trong ngo</td>\n",
       "    </tr>\n",
       "    <tr>\n",
       "      <th>2</th>\n",
       "      <td>62.0</td>\n",
       "      <td>11000.0</td>\n",
       "      <td>44268</td>\n",
       "      <td>So do</td>\n",
       "      <td>NaN</td>\n",
       "      <td>dong-Nam</td>\n",
       "      <td>6.0</td>\n",
       "      <td>5.0</td>\n",
       "      <td>6.0</td>\n",
       "      <td>21.025379</td>\n",
       "      <td>105.801011</td>\n",
       "      <td>trong ngo</td>\n",
       "    </tr>\n",
       "    <tr>\n",
       "      <th>3</th>\n",
       "      <td>26.0</td>\n",
       "      <td>2900.0</td>\n",
       "      <td>44292</td>\n",
       "      <td>So do</td>\n",
       "      <td>NaN</td>\n",
       "      <td>NaN</td>\n",
       "      <td>4.0</td>\n",
       "      <td>3.0</td>\n",
       "      <td>4.0</td>\n",
       "      <td>21.014325</td>\n",
       "      <td>105.834918</td>\n",
       "      <td>trong ngo</td>\n",
       "    </tr>\n",
       "    <tr>\n",
       "      <th>4</th>\n",
       "      <td>40.0</td>\n",
       "      <td>3950.0</td>\n",
       "      <td>44292</td>\n",
       "      <td>So do</td>\n",
       "      <td>NaN</td>\n",
       "      <td>NaN</td>\n",
       "      <td>NaN</td>\n",
       "      <td>NaN</td>\n",
       "      <td>5.0</td>\n",
       "      <td>21.009862</td>\n",
       "      <td>105.838083</td>\n",
       "      <td>trong ngo</td>\n",
       "    </tr>\n",
       "  </tbody>\n",
       "</table>\n",
       "</div>"
      ],
      "text/plain": [
       "   area    price  postDate land_certificate house_direction balcony_direction  \\\n",
       "0  50.0  14700.0     44197            So do             NaN               NaN   \n",
       "1  57.0   4200.0     44265            So do             Nam               Nam   \n",
       "2  62.0  11000.0     44268            So do             NaN          dong-Nam   \n",
       "3  26.0   2900.0     44292            So do             NaN               NaN   \n",
       "4  40.0   3950.0     44292            So do             NaN               NaN   \n",
       "\n",
       "   toilet  bedroom  floor        lat        long property_type  \n",
       "0     4.0      6.0    6.0  21.015698  105.824583     trong ngo  \n",
       "1     3.0      8.0    4.0  21.025208  105.833111     trong ngo  \n",
       "2     6.0      5.0    6.0  21.025379  105.801011     trong ngo  \n",
       "3     4.0      3.0    4.0  21.014325  105.834918     trong ngo  \n",
       "4     NaN      NaN    5.0  21.009862  105.838083     trong ngo  "
      ]
     },
     "execution_count": 18,
     "metadata": {},
     "output_type": "execute_result"
    }
   ],
   "source": [
    "df.head()"
   ]
  },
  {
   "cell_type": "code",
   "execution_count": 19,
   "id": "f3888dae",
   "metadata": {},
   "outputs": [],
   "source": [
    "df2 = df[['price', 'long', 'lat']]"
   ]
  },
  {
   "cell_type": "code",
   "execution_count": 22,
   "id": "88c0465b",
   "metadata": {},
   "outputs": [
    {
     "name": "stdout",
     "output_type": "stream",
     "text": [
      "<class 'pandas.core.frame.DataFrame'>\n",
      "RangeIndex: 671 entries, 0 to 670\n",
      "Data columns (total 3 columns):\n",
      " #   Column  Non-Null Count  Dtype  \n",
      "---  ------  --------------  -----  \n",
      " 0   price   617 non-null    float64\n",
      " 1   long    671 non-null    float64\n",
      " 2   lat     671 non-null    float64\n",
      "dtypes: float64(3)\n",
      "memory usage: 15.9 KB\n"
     ]
    }
   ],
   "source": [
    "df2.info()"
   ]
  },
  {
   "cell_type": "code",
   "execution_count": 23,
   "id": "84b42adc",
   "metadata": {},
   "outputs": [],
   "source": [
    "df2 = df2.dropna()"
   ]
  },
  {
   "cell_type": "code",
   "execution_count": 67,
   "id": "2441d2e6",
   "metadata": {},
   "outputs": [
    {
     "data": {
      "text/html": [
       "<div>\n",
       "<style scoped>\n",
       "    .dataframe tbody tr th:only-of-type {\n",
       "        vertical-align: middle;\n",
       "    }\n",
       "\n",
       "    .dataframe tbody tr th {\n",
       "        vertical-align: top;\n",
       "    }\n",
       "\n",
       "    .dataframe thead th {\n",
       "        text-align: right;\n",
       "    }\n",
       "</style>\n",
       "<table border=\"1\" class=\"dataframe\">\n",
       "  <thead>\n",
       "    <tr style=\"text-align: right;\">\n",
       "      <th>price</th>\n",
       "      <th>4.5</th>\n",
       "      <th>4.9</th>\n",
       "      <th>28.5</th>\n",
       "      <th>40.0</th>\n",
       "      <th>44.0</th>\n",
       "      <th>45.0</th>\n",
       "      <th>450.0</th>\n",
       "      <th>550.0</th>\n",
       "      <th>850.0</th>\n",
       "      <th>890.0</th>\n",
       "      <th>...</th>\n",
       "      <th>199000.0</th>\n",
       "      <th>210000.0</th>\n",
       "      <th>215000.0</th>\n",
       "      <th>250000.0</th>\n",
       "      <th>260000.0</th>\n",
       "      <th>330000.0</th>\n",
       "      <th>350000.0</th>\n",
       "      <th>500000.0</th>\n",
       "      <th>995000.0</th>\n",
       "      <th>3300000.0</th>\n",
       "    </tr>\n",
       "    <tr>\n",
       "      <th>lat</th>\n",
       "      <th></th>\n",
       "      <th></th>\n",
       "      <th></th>\n",
       "      <th></th>\n",
       "      <th></th>\n",
       "      <th></th>\n",
       "      <th></th>\n",
       "      <th></th>\n",
       "      <th></th>\n",
       "      <th></th>\n",
       "      <th></th>\n",
       "      <th></th>\n",
       "      <th></th>\n",
       "      <th></th>\n",
       "      <th></th>\n",
       "      <th></th>\n",
       "      <th></th>\n",
       "      <th></th>\n",
       "      <th></th>\n",
       "      <th></th>\n",
       "      <th></th>\n",
       "    </tr>\n",
       "  </thead>\n",
       "  <tbody>\n",
       "    <tr>\n",
       "      <th>20.998499</th>\n",
       "      <td>0</td>\n",
       "      <td>0</td>\n",
       "      <td>0</td>\n",
       "      <td>0</td>\n",
       "      <td>0</td>\n",
       "      <td>0</td>\n",
       "      <td>0</td>\n",
       "      <td>0</td>\n",
       "      <td>0</td>\n",
       "      <td>0</td>\n",
       "      <td>...</td>\n",
       "      <td>0</td>\n",
       "      <td>0</td>\n",
       "      <td>0</td>\n",
       "      <td>0</td>\n",
       "      <td>0</td>\n",
       "      <td>0</td>\n",
       "      <td>0</td>\n",
       "      <td>0</td>\n",
       "      <td>0</td>\n",
       "      <td>0</td>\n",
       "    </tr>\n",
       "    <tr>\n",
       "      <th>20.998502</th>\n",
       "      <td>0</td>\n",
       "      <td>0</td>\n",
       "      <td>0</td>\n",
       "      <td>0</td>\n",
       "      <td>0</td>\n",
       "      <td>0</td>\n",
       "      <td>0</td>\n",
       "      <td>0</td>\n",
       "      <td>0</td>\n",
       "      <td>0</td>\n",
       "      <td>...</td>\n",
       "      <td>0</td>\n",
       "      <td>0</td>\n",
       "      <td>0</td>\n",
       "      <td>0</td>\n",
       "      <td>0</td>\n",
       "      <td>0</td>\n",
       "      <td>0</td>\n",
       "      <td>0</td>\n",
       "      <td>0</td>\n",
       "      <td>0</td>\n",
       "    </tr>\n",
       "    <tr>\n",
       "      <th>21.000149</th>\n",
       "      <td>0</td>\n",
       "      <td>0</td>\n",
       "      <td>0</td>\n",
       "      <td>0</td>\n",
       "      <td>0</td>\n",
       "      <td>0</td>\n",
       "      <td>0</td>\n",
       "      <td>0</td>\n",
       "      <td>0</td>\n",
       "      <td>0</td>\n",
       "      <td>...</td>\n",
       "      <td>0</td>\n",
       "      <td>0</td>\n",
       "      <td>0</td>\n",
       "      <td>0</td>\n",
       "      <td>0</td>\n",
       "      <td>0</td>\n",
       "      <td>0</td>\n",
       "      <td>0</td>\n",
       "      <td>0</td>\n",
       "      <td>0</td>\n",
       "    </tr>\n",
       "    <tr>\n",
       "      <th>21.000549</th>\n",
       "      <td>0</td>\n",
       "      <td>0</td>\n",
       "      <td>0</td>\n",
       "      <td>0</td>\n",
       "      <td>0</td>\n",
       "      <td>0</td>\n",
       "      <td>0</td>\n",
       "      <td>0</td>\n",
       "      <td>0</td>\n",
       "      <td>0</td>\n",
       "      <td>...</td>\n",
       "      <td>0</td>\n",
       "      <td>0</td>\n",
       "      <td>0</td>\n",
       "      <td>0</td>\n",
       "      <td>0</td>\n",
       "      <td>0</td>\n",
       "      <td>0</td>\n",
       "      <td>0</td>\n",
       "      <td>0</td>\n",
       "      <td>0</td>\n",
       "    </tr>\n",
       "    <tr>\n",
       "      <th>21.000823</th>\n",
       "      <td>0</td>\n",
       "      <td>0</td>\n",
       "      <td>0</td>\n",
       "      <td>0</td>\n",
       "      <td>0</td>\n",
       "      <td>0</td>\n",
       "      <td>0</td>\n",
       "      <td>0</td>\n",
       "      <td>0</td>\n",
       "      <td>0</td>\n",
       "      <td>...</td>\n",
       "      <td>0</td>\n",
       "      <td>0</td>\n",
       "      <td>0</td>\n",
       "      <td>0</td>\n",
       "      <td>0</td>\n",
       "      <td>0</td>\n",
       "      <td>0</td>\n",
       "      <td>0</td>\n",
       "      <td>0</td>\n",
       "      <td>0</td>\n",
       "    </tr>\n",
       "    <tr>\n",
       "      <th>...</th>\n",
       "      <td>...</td>\n",
       "      <td>...</td>\n",
       "      <td>...</td>\n",
       "      <td>...</td>\n",
       "      <td>...</td>\n",
       "      <td>...</td>\n",
       "      <td>...</td>\n",
       "      <td>...</td>\n",
       "      <td>...</td>\n",
       "      <td>...</td>\n",
       "      <td>...</td>\n",
       "      <td>...</td>\n",
       "      <td>...</td>\n",
       "      <td>...</td>\n",
       "      <td>...</td>\n",
       "      <td>...</td>\n",
       "      <td>...</td>\n",
       "      <td>...</td>\n",
       "      <td>...</td>\n",
       "      <td>...</td>\n",
       "      <td>...</td>\n",
       "    </tr>\n",
       "    <tr>\n",
       "      <th>21.028846</th>\n",
       "      <td>0</td>\n",
       "      <td>0</td>\n",
       "      <td>0</td>\n",
       "      <td>0</td>\n",
       "      <td>0</td>\n",
       "      <td>0</td>\n",
       "      <td>0</td>\n",
       "      <td>0</td>\n",
       "      <td>0</td>\n",
       "      <td>0</td>\n",
       "      <td>...</td>\n",
       "      <td>0</td>\n",
       "      <td>0</td>\n",
       "      <td>0</td>\n",
       "      <td>0</td>\n",
       "      <td>0</td>\n",
       "      <td>0</td>\n",
       "      <td>0</td>\n",
       "      <td>0</td>\n",
       "      <td>0</td>\n",
       "      <td>0</td>\n",
       "    </tr>\n",
       "    <tr>\n",
       "      <th>21.028905</th>\n",
       "      <td>0</td>\n",
       "      <td>0</td>\n",
       "      <td>0</td>\n",
       "      <td>0</td>\n",
       "      <td>0</td>\n",
       "      <td>0</td>\n",
       "      <td>0</td>\n",
       "      <td>0</td>\n",
       "      <td>0</td>\n",
       "      <td>0</td>\n",
       "      <td>...</td>\n",
       "      <td>0</td>\n",
       "      <td>0</td>\n",
       "      <td>0</td>\n",
       "      <td>0</td>\n",
       "      <td>0</td>\n",
       "      <td>0</td>\n",
       "      <td>0</td>\n",
       "      <td>0</td>\n",
       "      <td>0</td>\n",
       "      <td>0</td>\n",
       "    </tr>\n",
       "    <tr>\n",
       "      <th>21.028983</th>\n",
       "      <td>0</td>\n",
       "      <td>0</td>\n",
       "      <td>0</td>\n",
       "      <td>0</td>\n",
       "      <td>0</td>\n",
       "      <td>0</td>\n",
       "      <td>0</td>\n",
       "      <td>0</td>\n",
       "      <td>0</td>\n",
       "      <td>0</td>\n",
       "      <td>...</td>\n",
       "      <td>0</td>\n",
       "      <td>0</td>\n",
       "      <td>0</td>\n",
       "      <td>0</td>\n",
       "      <td>0</td>\n",
       "      <td>0</td>\n",
       "      <td>0</td>\n",
       "      <td>0</td>\n",
       "      <td>0</td>\n",
       "      <td>0</td>\n",
       "    </tr>\n",
       "    <tr>\n",
       "      <th>21.029522</th>\n",
       "      <td>0</td>\n",
       "      <td>0</td>\n",
       "      <td>0</td>\n",
       "      <td>0</td>\n",
       "      <td>0</td>\n",
       "      <td>0</td>\n",
       "      <td>0</td>\n",
       "      <td>0</td>\n",
       "      <td>0</td>\n",
       "      <td>0</td>\n",
       "      <td>...</td>\n",
       "      <td>0</td>\n",
       "      <td>0</td>\n",
       "      <td>0</td>\n",
       "      <td>0</td>\n",
       "      <td>0</td>\n",
       "      <td>0</td>\n",
       "      <td>0</td>\n",
       "      <td>0</td>\n",
       "      <td>0</td>\n",
       "      <td>0</td>\n",
       "    </tr>\n",
       "    <tr>\n",
       "      <th>21.036845</th>\n",
       "      <td>0</td>\n",
       "      <td>0</td>\n",
       "      <td>0</td>\n",
       "      <td>0</td>\n",
       "      <td>0</td>\n",
       "      <td>0</td>\n",
       "      <td>0</td>\n",
       "      <td>0</td>\n",
       "      <td>0</td>\n",
       "      <td>0</td>\n",
       "      <td>...</td>\n",
       "      <td>0</td>\n",
       "      <td>0</td>\n",
       "      <td>0</td>\n",
       "      <td>0</td>\n",
       "      <td>0</td>\n",
       "      <td>0</td>\n",
       "      <td>0</td>\n",
       "      <td>0</td>\n",
       "      <td>0</td>\n",
       "      <td>0</td>\n",
       "    </tr>\n",
       "  </tbody>\n",
       "</table>\n",
       "<p>153 rows × 279 columns</p>\n",
       "</div>"
      ],
      "text/plain": [
       "price      4.5        4.9        28.5       40.0       44.0       45.0       \\\n",
       "lat                                                                           \n",
       "20.998499          0          0          0          0          0          0   \n",
       "20.998502          0          0          0          0          0          0   \n",
       "21.000149          0          0          0          0          0          0   \n",
       "21.000549          0          0          0          0          0          0   \n",
       "21.000823          0          0          0          0          0          0   \n",
       "...              ...        ...        ...        ...        ...        ...   \n",
       "21.028846          0          0          0          0          0          0   \n",
       "21.028905          0          0          0          0          0          0   \n",
       "21.028983          0          0          0          0          0          0   \n",
       "21.029522          0          0          0          0          0          0   \n",
       "21.036845          0          0          0          0          0          0   \n",
       "\n",
       "price      450.0      550.0      850.0      890.0      ...  199000.0   \\\n",
       "lat                                                    ...              \n",
       "20.998499          0          0          0          0  ...          0   \n",
       "20.998502          0          0          0          0  ...          0   \n",
       "21.000149          0          0          0          0  ...          0   \n",
       "21.000549          0          0          0          0  ...          0   \n",
       "21.000823          0          0          0          0  ...          0   \n",
       "...              ...        ...        ...        ...  ...        ...   \n",
       "21.028846          0          0          0          0  ...          0   \n",
       "21.028905          0          0          0          0  ...          0   \n",
       "21.028983          0          0          0          0  ...          0   \n",
       "21.029522          0          0          0          0  ...          0   \n",
       "21.036845          0          0          0          0  ...          0   \n",
       "\n",
       "price      210000.0   215000.0   250000.0   260000.0   330000.0   350000.0   \\\n",
       "lat                                                                           \n",
       "20.998499          0          0          0          0          0          0   \n",
       "20.998502          0          0          0          0          0          0   \n",
       "21.000149          0          0          0          0          0          0   \n",
       "21.000549          0          0          0          0          0          0   \n",
       "21.000823          0          0          0          0          0          0   \n",
       "...              ...        ...        ...        ...        ...        ...   \n",
       "21.028846          0          0          0          0          0          0   \n",
       "21.028905          0          0          0          0          0          0   \n",
       "21.028983          0          0          0          0          0          0   \n",
       "21.029522          0          0          0          0          0          0   \n",
       "21.036845          0          0          0          0          0          0   \n",
       "\n",
       "price      500000.0   995000.0   3300000.0  \n",
       "lat                                         \n",
       "20.998499          0          0          0  \n",
       "20.998502          0          0          0  \n",
       "21.000149          0          0          0  \n",
       "21.000549          0          0          0  \n",
       "21.000823          0          0          0  \n",
       "...              ...        ...        ...  \n",
       "21.028846          0          0          0  \n",
       "21.028905          0          0          0  \n",
       "21.028983          0          0          0  \n",
       "21.029522          0          0          0  \n",
       "21.036845          0          0          0  \n",
       "\n",
       "[153 rows x 279 columns]"
      ]
     },
     "execution_count": 67,
     "metadata": {},
     "output_type": "execute_result"
    }
   ],
   "source": [
    "contigency= pd.crosstab(df2['lat'], df2['price'])\n",
    "\n",
    "contigency"
   ]
  },
  {
   "cell_type": "code",
   "execution_count": 68,
   "id": "00d3dcdc",
   "metadata": {},
   "outputs": [
    {
     "data": {
      "text/plain": [
       "<AxesSubplot:xlabel='price', ylabel='lat'>"
      ]
     },
     "execution_count": 68,
     "metadata": {},
     "output_type": "execute_result"
    },
    {
     "data": {
      "image/png": "[encoded data removed]",
      "text/plain": [
       "<Figure size 864x576 with 2 Axes>"
      ]
     },
     "metadata": {
      "needs_background": "light"
     },
     "output_type": "display_data"
    }
   ],
   "source": [
    "plt.figure(figsize=(12,8))\n",
    "\n",
    "sns.heatmap(contigency, annot=True, cmap=\"YlGnBu\")"
   ]
  },
  {
   "cell_type": "markdown",
   "id": "3dd46cde",
   "metadata": {},
   "source": [
    "# nhận xét:\n",
    "+ nhìn vào biểu đồ heatmap ta nhận thấy các thuộc tính này không hề tương quan với nhau"
   ]
  },
  {
   "cell_type": "code",
   "execution_count": 45,
   "id": "299d33f7",
   "metadata": {},
   "outputs": [],
   "source": [
    "from scipy.stats import chi2_contingency"
   ]
  },
  {
   "cell_type": "code",
   "execution_count": 69,
   "id": "185b147a",
   "metadata": {},
   "outputs": [],
   "source": [
    "# thực hiện kiểm định chi bình phương\n",
    "\n",
    "c, p, dof, expected = chi2_contingency(contigency)"
   ]
  },
  {
   "cell_type": "code",
   "execution_count": 70,
   "id": "6fba8ee6",
   "metadata": {},
   "outputs": [
    {
     "name": "stdout",
     "output_type": "stream",
     "text": [
      "C: 44796.54533870114\n",
      "P: 5.0780882993345975e-18\n",
      "dof: 42256\n",
      "expected:  [[0.00324149 0.00324149 0.00324149 ... 0.00324149 0.00324149 0.00324149]\n",
      " [0.00162075 0.00162075 0.00162075 ... 0.00162075 0.00162075 0.00162075]\n",
      " [0.00324149 0.00324149 0.00324149 ... 0.00324149 0.00324149 0.00324149]\n",
      " ...\n",
      " [0.00486224 0.00486224 0.00486224 ... 0.00486224 0.00486224 0.00486224]\n",
      " [0.01944895 0.01944895 0.01944895 ... 0.01944895 0.01944895 0.01944895]\n",
      " [0.00162075 0.00162075 0.00162075 ... 0.00162075 0.00162075 0.00162075]]\n"
     ]
    }
   ],
   "source": [
    "print('C:', c)\n",
    "print('P:', p)\n",
    "print('dof:', dof)\n",
    "print('expected: ', expected)"
   ]
  },
  {
   "cell_type": "markdown",
   "id": "a0f0571d",
   "metadata": {},
   "source": [
    "# tiến hành kiểm định giả thiết\n",
    "+ H0: các thuộc tính không có tương quan với nhau\n",
    "+ H1: các thuộc tính có tương quan với nhau\n",
    "+ với mức ý nghĩa: 0.05\n",
    "+ p < apla => bác bỏ giả thiết H0 và chấp nhận giả thiết H1"
   ]
  },
  {
   "cell_type": "markdown",
   "id": "4517f531",
   "metadata": {},
   "source": [
    "kết luận: các thuộc tính không hề tương quan đến nhau"
   ]
  },
  {
   "cell_type": "markdown",
   "id": "74b5f90a",
   "metadata": {},
   "source": [
    "# Giữa thuộc tính land_certificate và property_type có tương quan với nhau"
   ]
  },
  {
   "cell_type": "code",
   "execution_count": 53,
   "id": "fe91d8d3",
   "metadata": {},
   "outputs": [],
   "source": [
    "df3 = df[['land_certificate', 'property_type']]"
   ]
  },
  {
   "cell_type": "code",
   "execution_count": 54,
   "id": "abafd457",
   "metadata": {},
   "outputs": [
    {
     "name": "stdout",
     "output_type": "stream",
     "text": [
      "<class 'pandas.core.frame.DataFrame'>\n",
      "RangeIndex: 671 entries, 0 to 670\n",
      "Data columns (total 2 columns):\n",
      " #   Column            Non-Null Count  Dtype \n",
      "---  ------            --------------  ----- \n",
      " 0   land_certificate  369 non-null    object\n",
      " 1   property_type     671 non-null    object\n",
      "dtypes: object(2)\n",
      "memory usage: 10.6+ KB\n"
     ]
    }
   ],
   "source": [
    "df3.info()"
   ]
  },
  {
   "cell_type": "markdown",
   "id": "ab7a685a",
   "metadata": {},
   "source": [
    "# Hãy  mã hóa lại thuộc tính giá nhà theo đơn vị (nghìn đồng/m2) và sắp xếp giá nhà thành 4 mức tương ứng với các khoảng tứ phân vị. Tiến hành kiểm định tương quan giữa biến giá nhà này với các biến tọa độ vị trí (lat, long)"
   ]
  },
  {
   "cell_type": "code",
   "execution_count": 58,
   "id": "5f980fa1",
   "metadata": {},
   "outputs": [],
   "source": [
    "# tiến hành tính các khoảng tứ phân vị của df\n",
    "q1, q2, q3 = df.price.quantile(0.25), df.price.quantile(0.5), df.price.quantile(0.75)\n",
    "def price_order(price):\n",
    "    if price < q1:\n",
    "        return 1\n",
    "    elif (price>=q1) & (price <q2):\n",
    "        return 2\n",
    "    elif (price >= q2) & (price < q3):\n",
    "        return 3\n",
    "    else:\n",
    "        return 4"
   ]
  },
  {
   "cell_type": "code",
   "execution_count": 59,
   "id": "73473f7f",
   "metadata": {},
   "outputs": [
    {
     "data": {
      "text/html": [
       "<div>\n",
       "<style scoped>\n",
       "    .dataframe tbody tr th:only-of-type {\n",
       "        vertical-align: middle;\n",
       "    }\n",
       "\n",
       "    .dataframe tbody tr th {\n",
       "        vertical-align: top;\n",
       "    }\n",
       "\n",
       "    .dataframe thead th {\n",
       "        text-align: right;\n",
       "    }\n",
       "</style>\n",
       "<table border=\"1\" class=\"dataframe\">\n",
       "  <thead>\n",
       "    <tr style=\"text-align: right;\">\n",
       "      <th></th>\n",
       "      <th>area</th>\n",
       "      <th>price</th>\n",
       "      <th>postDate</th>\n",
       "      <th>land_certificate</th>\n",
       "      <th>house_direction</th>\n",
       "      <th>balcony_direction</th>\n",
       "      <th>toilet</th>\n",
       "      <th>bedroom</th>\n",
       "      <th>floor</th>\n",
       "      <th>lat</th>\n",
       "      <th>long</th>\n",
       "      <th>property_type</th>\n",
       "      <th>price_ordinal</th>\n",
       "    </tr>\n",
       "  </thead>\n",
       "  <tbody>\n",
       "    <tr>\n",
       "      <th>0</th>\n",
       "      <td>50.0</td>\n",
       "      <td>14700.0</td>\n",
       "      <td>44197</td>\n",
       "      <td>So do</td>\n",
       "      <td>NaN</td>\n",
       "      <td>NaN</td>\n",
       "      <td>4.0</td>\n",
       "      <td>6.0</td>\n",
       "      <td>6.0</td>\n",
       "      <td>21.015698</td>\n",
       "      <td>105.824583</td>\n",
       "      <td>trong ngo</td>\n",
       "      <td>3</td>\n",
       "    </tr>\n",
       "    <tr>\n",
       "      <th>1</th>\n",
       "      <td>57.0</td>\n",
       "      <td>4200.0</td>\n",
       "      <td>44265</td>\n",
       "      <td>So do</td>\n",
       "      <td>Nam</td>\n",
       "      <td>Nam</td>\n",
       "      <td>3.0</td>\n",
       "      <td>8.0</td>\n",
       "      <td>4.0</td>\n",
       "      <td>21.025208</td>\n",
       "      <td>105.833111</td>\n",
       "      <td>trong ngo</td>\n",
       "      <td>2</td>\n",
       "    </tr>\n",
       "    <tr>\n",
       "      <th>2</th>\n",
       "      <td>62.0</td>\n",
       "      <td>11000.0</td>\n",
       "      <td>44268</td>\n",
       "      <td>So do</td>\n",
       "      <td>NaN</td>\n",
       "      <td>dong-Nam</td>\n",
       "      <td>6.0</td>\n",
       "      <td>5.0</td>\n",
       "      <td>6.0</td>\n",
       "      <td>21.025379</td>\n",
       "      <td>105.801011</td>\n",
       "      <td>trong ngo</td>\n",
       "      <td>3</td>\n",
       "    </tr>\n",
       "    <tr>\n",
       "      <th>3</th>\n",
       "      <td>26.0</td>\n",
       "      <td>2900.0</td>\n",
       "      <td>44292</td>\n",
       "      <td>So do</td>\n",
       "      <td>NaN</td>\n",
       "      <td>NaN</td>\n",
       "      <td>4.0</td>\n",
       "      <td>3.0</td>\n",
       "      <td>4.0</td>\n",
       "      <td>21.014325</td>\n",
       "      <td>105.834918</td>\n",
       "      <td>trong ngo</td>\n",
       "      <td>1</td>\n",
       "    </tr>\n",
       "    <tr>\n",
       "      <th>4</th>\n",
       "      <td>40.0</td>\n",
       "      <td>3950.0</td>\n",
       "      <td>44292</td>\n",
       "      <td>So do</td>\n",
       "      <td>NaN</td>\n",
       "      <td>NaN</td>\n",
       "      <td>NaN</td>\n",
       "      <td>NaN</td>\n",
       "      <td>5.0</td>\n",
       "      <td>21.009862</td>\n",
       "      <td>105.838083</td>\n",
       "      <td>trong ngo</td>\n",
       "      <td>2</td>\n",
       "    </tr>\n",
       "  </tbody>\n",
       "</table>\n",
       "</div>"
      ],
      "text/plain": [
       "   area    price  postDate land_certificate house_direction balcony_direction  \\\n",
       "0  50.0  14700.0     44197            So do             NaN               NaN   \n",
       "1  57.0   4200.0     44265            So do             Nam               Nam   \n",
       "2  62.0  11000.0     44268            So do             NaN          dong-Nam   \n",
       "3  26.0   2900.0     44292            So do             NaN               NaN   \n",
       "4  40.0   3950.0     44292            So do             NaN               NaN   \n",
       "\n",
       "   toilet  bedroom  floor        lat        long property_type  price_ordinal  \n",
       "0     4.0      6.0    6.0  21.015698  105.824583     trong ngo              3  \n",
       "1     3.0      8.0    4.0  21.025208  105.833111     trong ngo              2  \n",
       "2     6.0      5.0    6.0  21.025379  105.801011     trong ngo              3  \n",
       "3     4.0      3.0    4.0  21.014325  105.834918     trong ngo              1  \n",
       "4     NaN      NaN    5.0  21.009862  105.838083     trong ngo              2  "
      ]
     },
     "execution_count": 59,
     "metadata": {},
     "output_type": "execute_result"
    }
   ],
   "source": [
    "df['price_ordinal'] = df.price.apply(price_order)\n",
    "df.head()"
   ]
  },
  {
   "cell_type": "code",
   "execution_count": 64,
   "id": "59c75ef7",
   "metadata": {},
   "outputs": [],
   "source": [
    "from scipy.stats import spearmanr\n",
    "r, pvalue = spearmanr(df['lat'], df['price_ordinal'])"
   ]
  },
  {
   "cell_type": "code",
   "execution_count": 65,
   "id": "4431394c",
   "metadata": {},
   "outputs": [
    {
     "name": "stdout",
     "output_type": "stream",
     "text": [
      "r: 0.015118516451586999\n",
      "pvalue:  0.6958584491304425\n"
     ]
    }
   ],
   "source": [
    "print('r:', r)\n",
    "print('pvalue: ', pvalue)"
   ]
  },
  {
   "cell_type": "markdown",
   "id": "eb4120c6",
   "metadata": {},
   "source": [
    "# tiến hành kiểm định:\n",
    " + với mức ý nghĩa: 0.05\n",
    " + H0: price và lat không có tương quan với nhau\n",
    " + H1: hai thuộc tính có tương quan với nhau\n",
    " + pvalue > 0.05 không đủ cơ sở đê bác bỏ H0"
   ]
  },
  {
   "cell_type": "code",
   "execution_count": null,
   "id": "72e77465",
   "metadata": {},
   "outputs": [],
   "source": []
  }
 ],
 "metadata": {
  "kernelspec": {
   "display_name": "Python 3 (ipykernel)",
   "language": "python",
   "name": "python3"
  },
  "language_info": {
   "codemirror_mode": {
    "name": "ipython",
    "version": 3
   },
   "file_extension": ".py",
   "mimetype": "text/x-python",
   "name": "python",
   "nbconvert_exporter": "python",
   "pygments_lexer": "ipython3",
   "version": "3.9.7"
  }
 },
 "nbformat": 4,
 "nbformat_minor": 5
}

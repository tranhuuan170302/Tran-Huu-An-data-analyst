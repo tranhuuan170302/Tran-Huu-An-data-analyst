{
 "cells": [
  {
   "cell_type": "code",
   "execution_count": 138,
   "id": "641086e5-84e9-481a-a112-10e7b693a782",
   "metadata": {},
   "outputs": [],
   "source": [
    "import pandas as pd\n",
    "import matplotlib.pyplot as plt\n",
    "from itertools import groupby\n",
    "import seaborn as sns\n",
    "import numpy as np"
   ]
  },
  {
   "cell_type": "markdown",
   "id": "7b8eb672-03c1-4bad-a154-f999d6fe7ca5",
   "metadata": {},
   "source": [
    "## Data Overview"
   ]
  },
  {
   "cell_type": "code",
   "execution_count": 139,
   "id": "04ac41e5-428b-4a9c-a34f-666068d252ad",
   "metadata": {},
   "outputs": [],
   "source": [
    "df = pd.read_csv(\"C:\\\\Users\\\\FPTSHOP\\\\Downloads\\\\Case_study_CarPrice_Assignment.csv\")"
   ]
  },
  {
   "cell_type": "code",
   "execution_count": 140,
   "id": "c73e83fa-00d0-44a9-8a90-124e479f8b76",
   "metadata": {},
   "outputs": [
    {
     "name": "stdout",
     "output_type": "stream",
     "text": [
      "<class 'pandas.core.frame.DataFrame'>\n",
      "RangeIndex: 205 entries, 0 to 204\n",
      "Data columns (total 26 columns):\n",
      " #   Column            Non-Null Count  Dtype  \n",
      "---  ------            --------------  -----  \n",
      " 0   car_ID            205 non-null    int64  \n",
      " 1   symboling         205 non-null    int64  \n",
      " 2   CarName           205 non-null    object \n",
      " 3   fueltype          205 non-null    object \n",
      " 4   aspiration        205 non-null    object \n",
      " 5   doornumber        205 non-null    object \n",
      " 6   carbody           205 non-null    object \n",
      " 7   drivewheel        205 non-null    object \n",
      " 8   enginelocation    205 non-null    object \n",
      " 9   wheelbase         205 non-null    float64\n",
      " 10  carlength         205 non-null    float64\n",
      " 11  carwidth          205 non-null    float64\n",
      " 12  carheight         205 non-null    float64\n",
      " 13  curbweight        205 non-null    int64  \n",
      " 14  enginetype        205 non-null    object \n",
      " 15  cylindernumber    205 non-null    object \n",
      " 16  enginesize        205 non-null    int64  \n",
      " 17  fuelsystem        205 non-null    object \n",
      " 18  boreratio         205 non-null    float64\n",
      " 19  stroke            205 non-null    float64\n",
      " 20  compressionratio  205 non-null    float64\n",
      " 21  horsepower        205 non-null    int64  \n",
      " 22  peakrpm           205 non-null    int64  \n",
      " 23  citympg           205 non-null    int64  \n",
      " 24  highwaympg        205 non-null    int64  \n",
      " 25  price             205 non-null    float64\n",
      "dtypes: float64(8), int64(8), object(10)\n",
      "memory usage: 41.8+ KB\n"
     ]
    }
   ],
   "source": [
    "df.info()"
   ]
  },
  {
   "cell_type": "code",
   "execution_count": 141,
   "id": "1767b4dd-d80d-4303-92e8-508e0709fb51",
   "metadata": {},
   "outputs": [
    {
     "data": {
      "text/plain": [
       "car_ID              0\n",
       "symboling           0\n",
       "CarName             0\n",
       "fueltype            0\n",
       "aspiration          0\n",
       "doornumber          0\n",
       "carbody             0\n",
       "drivewheel          0\n",
       "enginelocation      0\n",
       "wheelbase           0\n",
       "carlength           0\n",
       "carwidth            0\n",
       "carheight           0\n",
       "curbweight          0\n",
       "enginetype          0\n",
       "cylindernumber      0\n",
       "enginesize          0\n",
       "fuelsystem          0\n",
       "boreratio           0\n",
       "stroke              0\n",
       "compressionratio    0\n",
       "horsepower          0\n",
       "peakrpm             0\n",
       "citympg             0\n",
       "highwaympg          0\n",
       "price               0\n",
       "dtype: int64"
      ]
     },
     "execution_count": 141,
     "metadata": {},
     "output_type": "execute_result"
    }
   ],
   "source": [
    "df.isna().sum()"
   ]
  },
  {
   "cell_type": "code",
   "execution_count": 142,
   "id": "366b9edf-a024-4c23-8937-44158d607dc2",
   "metadata": {},
   "outputs": [
    {
     "data": {
      "text/html": [
       "<div>\n",
       "<style scoped>\n",
       "    .dataframe tbody tr th:only-of-type {\n",
       "        vertical-align: middle;\n",
       "    }\n",
       "\n",
       "    .dataframe tbody tr th {\n",
       "        vertical-align: top;\n",
       "    }\n",
       "\n",
       "    .dataframe thead th {\n",
       "        text-align: right;\n",
       "    }\n",
       "</style>\n",
       "<table border=\"1\" class=\"dataframe\">\n",
       "  <thead>\n",
       "    <tr style=\"text-align: right;\">\n",
       "      <th></th>\n",
       "      <th>car_ID</th>\n",
       "      <th>symboling</th>\n",
       "      <th>CarName</th>\n",
       "      <th>fueltype</th>\n",
       "      <th>aspiration</th>\n",
       "      <th>doornumber</th>\n",
       "      <th>carbody</th>\n",
       "      <th>drivewheel</th>\n",
       "      <th>enginelocation</th>\n",
       "      <th>wheelbase</th>\n",
       "      <th>...</th>\n",
       "      <th>enginesize</th>\n",
       "      <th>fuelsystem</th>\n",
       "      <th>boreratio</th>\n",
       "      <th>stroke</th>\n",
       "      <th>compressionratio</th>\n",
       "      <th>horsepower</th>\n",
       "      <th>peakrpm</th>\n",
       "      <th>citympg</th>\n",
       "      <th>highwaympg</th>\n",
       "      <th>price</th>\n",
       "    </tr>\n",
       "  </thead>\n",
       "  <tbody>\n",
       "    <tr>\n",
       "      <th>0</th>\n",
       "      <td>1</td>\n",
       "      <td>3</td>\n",
       "      <td>alfa-romero giulia</td>\n",
       "      <td>gas</td>\n",
       "      <td>std</td>\n",
       "      <td>two</td>\n",
       "      <td>convertible</td>\n",
       "      <td>rwd</td>\n",
       "      <td>front</td>\n",
       "      <td>88.6</td>\n",
       "      <td>...</td>\n",
       "      <td>130</td>\n",
       "      <td>mpfi</td>\n",
       "      <td>3.47</td>\n",
       "      <td>2.68</td>\n",
       "      <td>9.0</td>\n",
       "      <td>111</td>\n",
       "      <td>5000</td>\n",
       "      <td>21</td>\n",
       "      <td>27</td>\n",
       "      <td>13495.0</td>\n",
       "    </tr>\n",
       "    <tr>\n",
       "      <th>1</th>\n",
       "      <td>2</td>\n",
       "      <td>3</td>\n",
       "      <td>alfa-romero stelvio</td>\n",
       "      <td>gas</td>\n",
       "      <td>std</td>\n",
       "      <td>two</td>\n",
       "      <td>convertible</td>\n",
       "      <td>rwd</td>\n",
       "      <td>front</td>\n",
       "      <td>88.6</td>\n",
       "      <td>...</td>\n",
       "      <td>130</td>\n",
       "      <td>mpfi</td>\n",
       "      <td>3.47</td>\n",
       "      <td>2.68</td>\n",
       "      <td>9.0</td>\n",
       "      <td>111</td>\n",
       "      <td>5000</td>\n",
       "      <td>21</td>\n",
       "      <td>27</td>\n",
       "      <td>16500.0</td>\n",
       "    </tr>\n",
       "    <tr>\n",
       "      <th>2</th>\n",
       "      <td>3</td>\n",
       "      <td>1</td>\n",
       "      <td>alfa-romero Quadrifoglio</td>\n",
       "      <td>gas</td>\n",
       "      <td>std</td>\n",
       "      <td>two</td>\n",
       "      <td>hatchback</td>\n",
       "      <td>rwd</td>\n",
       "      <td>front</td>\n",
       "      <td>94.5</td>\n",
       "      <td>...</td>\n",
       "      <td>152</td>\n",
       "      <td>mpfi</td>\n",
       "      <td>2.68</td>\n",
       "      <td>3.47</td>\n",
       "      <td>9.0</td>\n",
       "      <td>154</td>\n",
       "      <td>5000</td>\n",
       "      <td>19</td>\n",
       "      <td>26</td>\n",
       "      <td>16500.0</td>\n",
       "    </tr>\n",
       "    <tr>\n",
       "      <th>3</th>\n",
       "      <td>4</td>\n",
       "      <td>2</td>\n",
       "      <td>audi 100 ls</td>\n",
       "      <td>gas</td>\n",
       "      <td>std</td>\n",
       "      <td>four</td>\n",
       "      <td>sedan</td>\n",
       "      <td>fwd</td>\n",
       "      <td>front</td>\n",
       "      <td>99.8</td>\n",
       "      <td>...</td>\n",
       "      <td>109</td>\n",
       "      <td>mpfi</td>\n",
       "      <td>3.19</td>\n",
       "      <td>3.40</td>\n",
       "      <td>10.0</td>\n",
       "      <td>102</td>\n",
       "      <td>5500</td>\n",
       "      <td>24</td>\n",
       "      <td>30</td>\n",
       "      <td>13950.0</td>\n",
       "    </tr>\n",
       "    <tr>\n",
       "      <th>4</th>\n",
       "      <td>5</td>\n",
       "      <td>2</td>\n",
       "      <td>audi 100ls</td>\n",
       "      <td>gas</td>\n",
       "      <td>std</td>\n",
       "      <td>four</td>\n",
       "      <td>sedan</td>\n",
       "      <td>4wd</td>\n",
       "      <td>front</td>\n",
       "      <td>99.4</td>\n",
       "      <td>...</td>\n",
       "      <td>136</td>\n",
       "      <td>mpfi</td>\n",
       "      <td>3.19</td>\n",
       "      <td>3.40</td>\n",
       "      <td>8.0</td>\n",
       "      <td>115</td>\n",
       "      <td>5500</td>\n",
       "      <td>18</td>\n",
       "      <td>22</td>\n",
       "      <td>17450.0</td>\n",
       "    </tr>\n",
       "  </tbody>\n",
       "</table>\n",
       "<p>5 rows × 26 columns</p>\n",
       "</div>"
      ],
      "text/plain": [
       "   car_ID  symboling                   CarName fueltype aspiration doornumber  \\\n",
       "0       1          3        alfa-romero giulia      gas        std        two   \n",
       "1       2          3       alfa-romero stelvio      gas        std        two   \n",
       "2       3          1  alfa-romero Quadrifoglio      gas        std        two   \n",
       "3       4          2               audi 100 ls      gas        std       four   \n",
       "4       5          2                audi 100ls      gas        std       four   \n",
       "\n",
       "       carbody drivewheel enginelocation  wheelbase  ...  enginesize  \\\n",
       "0  convertible        rwd          front       88.6  ...         130   \n",
       "1  convertible        rwd          front       88.6  ...         130   \n",
       "2    hatchback        rwd          front       94.5  ...         152   \n",
       "3        sedan        fwd          front       99.8  ...         109   \n",
       "4        sedan        4wd          front       99.4  ...         136   \n",
       "\n",
       "   fuelsystem  boreratio  stroke compressionratio horsepower  peakrpm citympg  \\\n",
       "0        mpfi       3.47    2.68              9.0        111     5000      21   \n",
       "1        mpfi       3.47    2.68              9.0        111     5000      21   \n",
       "2        mpfi       2.68    3.47              9.0        154     5000      19   \n",
       "3        mpfi       3.19    3.40             10.0        102     5500      24   \n",
       "4        mpfi       3.19    3.40              8.0        115     5500      18   \n",
       "\n",
       "   highwaympg    price  \n",
       "0          27  13495.0  \n",
       "1          27  16500.0  \n",
       "2          26  16500.0  \n",
       "3          30  13950.0  \n",
       "4          22  17450.0  \n",
       "\n",
       "[5 rows x 26 columns]"
      ]
     },
     "execution_count": 142,
     "metadata": {},
     "output_type": "execute_result"
    }
   ],
   "source": [
    "df.head()"
   ]
  },
  {
   "cell_type": "code",
   "execution_count": 143,
   "id": "38a6afd4-1378-4d8e-b7e5-702aa2777301",
   "metadata": {},
   "outputs": [
    {
     "data": {
      "text/plain": [
       "array(['alfa-romero giulia', 'alfa-romero stelvio',\n",
       "       'alfa-romero Quadrifoglio', 'audi 100 ls', 'audi 100ls',\n",
       "       'audi fox', 'audi 5000', 'audi 4000', 'audi 5000s (diesel)',\n",
       "       'bmw 320i', 'bmw x1', 'bmw x3', 'bmw z4', 'bmw x4', 'bmw x5',\n",
       "       'chevrolet impala', 'chevrolet monte carlo', 'chevrolet vega 2300',\n",
       "       'dodge rampage', 'dodge challenger se', 'dodge d200',\n",
       "       'dodge monaco (sw)', 'dodge colt hardtop', 'dodge colt (sw)',\n",
       "       'dodge coronet custom', 'dodge dart custom',\n",
       "       'dodge coronet custom (sw)', 'honda civic', 'honda civic cvcc',\n",
       "       'honda accord cvcc', 'honda accord lx', 'honda civic 1500 gl',\n",
       "       'honda accord', 'honda civic 1300', 'honda prelude',\n",
       "       'honda civic (auto)', 'isuzu MU-X', 'isuzu D-Max ',\n",
       "       'isuzu D-Max V-Cross', 'jaguar xj', 'jaguar xf', 'jaguar xk',\n",
       "       'maxda rx3', 'maxda glc deluxe', 'mazda rx2 coupe', 'mazda rx-4',\n",
       "       'mazda glc deluxe', 'mazda 626', 'mazda glc', 'mazda rx-7 gs',\n",
       "       'mazda glc 4', 'mazda glc custom l', 'mazda glc custom',\n",
       "       'buick electra 225 custom', 'buick century luxus (sw)',\n",
       "       'buick century', 'buick skyhawk', 'buick opel isuzu deluxe',\n",
       "       'buick skylark', 'buick century special',\n",
       "       'buick regal sport coupe (turbo)', 'mercury cougar',\n",
       "       'mitsubishi mirage', 'mitsubishi lancer', 'mitsubishi outlander',\n",
       "       'mitsubishi g4', 'mitsubishi mirage g4', 'mitsubishi montero',\n",
       "       'mitsubishi pajero', 'Nissan versa', 'nissan gt-r', 'nissan rogue',\n",
       "       'nissan latio', 'nissan titan', 'nissan leaf', 'nissan juke',\n",
       "       'nissan note', 'nissan clipper', 'nissan nv200', 'nissan dayz',\n",
       "       'nissan fuga', 'nissan otti', 'nissan teana', 'nissan kicks',\n",
       "       'peugeot 504', 'peugeot 304', 'peugeot 504 (sw)', 'peugeot 604sl',\n",
       "       'peugeot 505s turbo diesel', 'plymouth fury iii',\n",
       "       'plymouth cricket', 'plymouth satellite custom (sw)',\n",
       "       'plymouth fury gran sedan', 'plymouth valiant', 'plymouth duster',\n",
       "       'porsche macan', 'porcshce panamera', 'porsche cayenne',\n",
       "       'porsche boxter', 'renault 12tl', 'renault 5 gtl', 'saab 99e',\n",
       "       'saab 99le', 'saab 99gle', 'subaru', 'subaru dl', 'subaru brz',\n",
       "       'subaru baja', 'subaru r1', 'subaru r2', 'subaru trezia',\n",
       "       'subaru tribeca', 'toyota corona mark ii', 'toyota corona',\n",
       "       'toyota corolla 1200', 'toyota corona hardtop',\n",
       "       'toyota corolla 1600 (sw)', 'toyota carina', 'toyota mark ii',\n",
       "       'toyota corolla', 'toyota corolla liftback',\n",
       "       'toyota celica gt liftback', 'toyota corolla tercel',\n",
       "       'toyota corona liftback', 'toyota starlet', 'toyota tercel',\n",
       "       'toyota cressida', 'toyota celica gt', 'toyouta tercel',\n",
       "       'vokswagen rabbit', 'volkswagen 1131 deluxe sedan',\n",
       "       'volkswagen model 111', 'volkswagen type 3', 'volkswagen 411 (sw)',\n",
       "       'volkswagen super beetle', 'volkswagen dasher', 'vw dasher',\n",
       "       'vw rabbit', 'volkswagen rabbit', 'volkswagen rabbit custom',\n",
       "       'volvo 145e (sw)', 'volvo 144ea', 'volvo 244dl', 'volvo 245',\n",
       "       'volvo 264gl', 'volvo diesel', 'volvo 246'], dtype=object)"
      ]
     },
     "execution_count": 143,
     "metadata": {},
     "output_type": "execute_result"
    }
   ],
   "source": [
    "df.CarName.unique()"
   ]
  },
  {
   "cell_type": "code",
   "execution_count": 144,
   "id": "814a5b35-d321-4649-a6ce-12ccc8f88020",
   "metadata": {},
   "outputs": [],
   "source": [
    "companyName = df['CarName'].apply(lambda x : x.split(\" \")[0])"
   ]
  },
  {
   "cell_type": "code",
   "execution_count": 145,
   "id": "41bb1dc3-7ae6-4e79-ab01-4623c3dde0bc",
   "metadata": {},
   "outputs": [],
   "source": [
    "df.insert(2, \"companyName\", companyName)"
   ]
  },
  {
   "cell_type": "code",
   "execution_count": 146,
   "id": "ce1519eb-a2fe-4a6b-b1d6-2e730dd0613b",
   "metadata": {},
   "outputs": [
    {
     "data": {
      "text/html": [
       "<div>\n",
       "<style scoped>\n",
       "    .dataframe tbody tr th:only-of-type {\n",
       "        vertical-align: middle;\n",
       "    }\n",
       "\n",
       "    .dataframe tbody tr th {\n",
       "        vertical-align: top;\n",
       "    }\n",
       "\n",
       "    .dataframe thead th {\n",
       "        text-align: right;\n",
       "    }\n",
       "</style>\n",
       "<table border=\"1\" class=\"dataframe\">\n",
       "  <thead>\n",
       "    <tr style=\"text-align: right;\">\n",
       "      <th></th>\n",
       "      <th>car_ID</th>\n",
       "      <th>symboling</th>\n",
       "      <th>companyName</th>\n",
       "      <th>CarName</th>\n",
       "      <th>fueltype</th>\n",
       "      <th>aspiration</th>\n",
       "      <th>doornumber</th>\n",
       "      <th>carbody</th>\n",
       "      <th>drivewheel</th>\n",
       "      <th>enginelocation</th>\n",
       "      <th>...</th>\n",
       "      <th>enginesize</th>\n",
       "      <th>fuelsystem</th>\n",
       "      <th>boreratio</th>\n",
       "      <th>stroke</th>\n",
       "      <th>compressionratio</th>\n",
       "      <th>horsepower</th>\n",
       "      <th>peakrpm</th>\n",
       "      <th>citympg</th>\n",
       "      <th>highwaympg</th>\n",
       "      <th>price</th>\n",
       "    </tr>\n",
       "  </thead>\n",
       "  <tbody>\n",
       "    <tr>\n",
       "      <th>0</th>\n",
       "      <td>1</td>\n",
       "      <td>3</td>\n",
       "      <td>alfa-romero</td>\n",
       "      <td>alfa-romero giulia</td>\n",
       "      <td>gas</td>\n",
       "      <td>std</td>\n",
       "      <td>two</td>\n",
       "      <td>convertible</td>\n",
       "      <td>rwd</td>\n",
       "      <td>front</td>\n",
       "      <td>...</td>\n",
       "      <td>130</td>\n",
       "      <td>mpfi</td>\n",
       "      <td>3.47</td>\n",
       "      <td>2.68</td>\n",
       "      <td>9.0</td>\n",
       "      <td>111</td>\n",
       "      <td>5000</td>\n",
       "      <td>21</td>\n",
       "      <td>27</td>\n",
       "      <td>13495.0</td>\n",
       "    </tr>\n",
       "    <tr>\n",
       "      <th>1</th>\n",
       "      <td>2</td>\n",
       "      <td>3</td>\n",
       "      <td>alfa-romero</td>\n",
       "      <td>alfa-romero stelvio</td>\n",
       "      <td>gas</td>\n",
       "      <td>std</td>\n",
       "      <td>two</td>\n",
       "      <td>convertible</td>\n",
       "      <td>rwd</td>\n",
       "      <td>front</td>\n",
       "      <td>...</td>\n",
       "      <td>130</td>\n",
       "      <td>mpfi</td>\n",
       "      <td>3.47</td>\n",
       "      <td>2.68</td>\n",
       "      <td>9.0</td>\n",
       "      <td>111</td>\n",
       "      <td>5000</td>\n",
       "      <td>21</td>\n",
       "      <td>27</td>\n",
       "      <td>16500.0</td>\n",
       "    </tr>\n",
       "    <tr>\n",
       "      <th>2</th>\n",
       "      <td>3</td>\n",
       "      <td>1</td>\n",
       "      <td>alfa-romero</td>\n",
       "      <td>alfa-romero Quadrifoglio</td>\n",
       "      <td>gas</td>\n",
       "      <td>std</td>\n",
       "      <td>two</td>\n",
       "      <td>hatchback</td>\n",
       "      <td>rwd</td>\n",
       "      <td>front</td>\n",
       "      <td>...</td>\n",
       "      <td>152</td>\n",
       "      <td>mpfi</td>\n",
       "      <td>2.68</td>\n",
       "      <td>3.47</td>\n",
       "      <td>9.0</td>\n",
       "      <td>154</td>\n",
       "      <td>5000</td>\n",
       "      <td>19</td>\n",
       "      <td>26</td>\n",
       "      <td>16500.0</td>\n",
       "    </tr>\n",
       "    <tr>\n",
       "      <th>3</th>\n",
       "      <td>4</td>\n",
       "      <td>2</td>\n",
       "      <td>audi</td>\n",
       "      <td>audi 100 ls</td>\n",
       "      <td>gas</td>\n",
       "      <td>std</td>\n",
       "      <td>four</td>\n",
       "      <td>sedan</td>\n",
       "      <td>fwd</td>\n",
       "      <td>front</td>\n",
       "      <td>...</td>\n",
       "      <td>109</td>\n",
       "      <td>mpfi</td>\n",
       "      <td>3.19</td>\n",
       "      <td>3.40</td>\n",
       "      <td>10.0</td>\n",
       "      <td>102</td>\n",
       "      <td>5500</td>\n",
       "      <td>24</td>\n",
       "      <td>30</td>\n",
       "      <td>13950.0</td>\n",
       "    </tr>\n",
       "    <tr>\n",
       "      <th>4</th>\n",
       "      <td>5</td>\n",
       "      <td>2</td>\n",
       "      <td>audi</td>\n",
       "      <td>audi 100ls</td>\n",
       "      <td>gas</td>\n",
       "      <td>std</td>\n",
       "      <td>four</td>\n",
       "      <td>sedan</td>\n",
       "      <td>4wd</td>\n",
       "      <td>front</td>\n",
       "      <td>...</td>\n",
       "      <td>136</td>\n",
       "      <td>mpfi</td>\n",
       "      <td>3.19</td>\n",
       "      <td>3.40</td>\n",
       "      <td>8.0</td>\n",
       "      <td>115</td>\n",
       "      <td>5500</td>\n",
       "      <td>18</td>\n",
       "      <td>22</td>\n",
       "      <td>17450.0</td>\n",
       "    </tr>\n",
       "  </tbody>\n",
       "</table>\n",
       "<p>5 rows × 27 columns</p>\n",
       "</div>"
      ],
      "text/plain": [
       "   car_ID  symboling  companyName                   CarName fueltype  \\\n",
       "0       1          3  alfa-romero        alfa-romero giulia      gas   \n",
       "1       2          3  alfa-romero       alfa-romero stelvio      gas   \n",
       "2       3          1  alfa-romero  alfa-romero Quadrifoglio      gas   \n",
       "3       4          2         audi               audi 100 ls      gas   \n",
       "4       5          2         audi                audi 100ls      gas   \n",
       "\n",
       "  aspiration doornumber      carbody drivewheel enginelocation  ...  \\\n",
       "0        std        two  convertible        rwd          front  ...   \n",
       "1        std        two  convertible        rwd          front  ...   \n",
       "2        std        two    hatchback        rwd          front  ...   \n",
       "3        std       four        sedan        fwd          front  ...   \n",
       "4        std       four        sedan        4wd          front  ...   \n",
       "\n",
       "   enginesize  fuelsystem  boreratio  stroke  compressionratio horsepower  \\\n",
       "0         130        mpfi       3.47    2.68               9.0        111   \n",
       "1         130        mpfi       3.47    2.68               9.0        111   \n",
       "2         152        mpfi       2.68    3.47               9.0        154   \n",
       "3         109        mpfi       3.19    3.40              10.0        102   \n",
       "4         136        mpfi       3.19    3.40               8.0        115   \n",
       "\n",
       "  peakrpm  citympg highwaympg    price  \n",
       "0    5000       21         27  13495.0  \n",
       "1    5000       21         27  16500.0  \n",
       "2    5000       19         26  16500.0  \n",
       "3    5500       24         30  13950.0  \n",
       "4    5500       18         22  17450.0  \n",
       "\n",
       "[5 rows x 27 columns]"
      ]
     },
     "execution_count": 146,
     "metadata": {},
     "output_type": "execute_result"
    }
   ],
   "source": [
    "df.head()"
   ]
  },
  {
   "cell_type": "code",
   "execution_count": 147,
   "id": "204264ac-f4a4-45b3-8dbf-4071283a5db7",
   "metadata": {},
   "outputs": [
    {
     "data": {
      "text/plain": [
       "array(['alfa-romero', 'audi', 'bmw', 'chevrolet', 'dodge', 'honda',\n",
       "       'isuzu', 'jaguar', 'maxda', 'mazda', 'buick', 'mercury',\n",
       "       'mitsubishi', 'Nissan', 'nissan', 'peugeot', 'plymouth', 'porsche',\n",
       "       'porcshce', 'renault', 'saab', 'subaru', 'toyota', 'toyouta',\n",
       "       'vokswagen', 'volkswagen', 'vw', 'volvo'], dtype=object)"
      ]
     },
     "execution_count": 147,
     "metadata": {},
     "output_type": "execute_result"
    }
   ],
   "source": [
    "df['companyName'].unique()"
   ]
  },
  {
   "cell_type": "code",
   "execution_count": 148,
   "id": "fbb16199-a826-4534-9fc1-b52f6dd403d2",
   "metadata": {},
   "outputs": [],
   "source": [
    "def replace(x, y):\n",
    "    df['companyName'].replace(x,y, inplace = True)\n",
    "replace('maxda', 'mazda')\n",
    "replace('vokswagen', 'volkswagen')\n",
    "replace('vw', 'volkswagen')\n",
    "replace('porcshce', 'porsche')\n",
    "replace('nissan', 'Nissan')\n",
    "replace('toyouta', 'toyota')\n"
   ]
  },
  {
   "cell_type": "code",
   "execution_count": 149,
   "id": "2223c946-4a76-411c-a6f9-5c6ca4055d6a",
   "metadata": {},
   "outputs": [
    {
     "data": {
      "text/plain": [
       "array(['alfa-romero', 'audi', 'bmw', 'chevrolet', 'dodge', 'honda',\n",
       "       'isuzu', 'jaguar', 'mazda', 'buick', 'mercury', 'mitsubishi',\n",
       "       'Nissan', 'peugeot', 'plymouth', 'porsche', 'renault', 'saab',\n",
       "       'subaru', 'toyota', 'volkswagen', 'volvo'], dtype=object)"
      ]
     },
     "execution_count": 149,
     "metadata": {},
     "output_type": "execute_result"
    }
   ],
   "source": [
    "df['companyName'].unique()"
   ]
  },
  {
   "cell_type": "markdown",
   "id": "2d45a625-8608-479f-8fc0-a5c8b841ba28",
   "metadata": {},
   "source": [
    "# visualization"
   ]
  },
  {
   "cell_type": "markdown",
   "id": "285c2880-5b8c-4d39-a92e-f9bc4e529756",
   "metadata": {},
   "source": [
    "## design"
   ]
  },
  {
   "cell_type": "code",
   "execution_count": 150,
   "id": "989624f6-42a7-4d2e-b897-4893bdc1d841",
   "metadata": {},
   "outputs": [],
   "source": [
    "df1 = df[['companyName', 'price']]\n",
    "df1 = df1.groupby('companyName')['price'].mean()\n",
    "df1 = pd.DataFrame(df1)\n",
    "df1 = df1.reset_index()"
   ]
  },
  {
   "cell_type": "code",
   "execution_count": 151,
   "id": "fa18a8fc-bf11-4c79-9195-3d1ea1ed6859",
   "metadata": {},
   "outputs": [],
   "source": [
    "df1 = df1.sort_values('price')"
   ]
  },
  {
   "cell_type": "code",
   "execution_count": 152,
   "id": "e51342b4-80fc-4c74-8ef2-78d6a72837b7",
   "metadata": {},
   "outputs": [
    {
     "data": {
      "image/png": "[encoded data removed]",
      "text/plain": [
       "<Figure size 1440x720 with 1 Axes>"
      ]
     },
     "metadata": {
      "needs_background": "light"
     },
     "output_type": "display_data"
    }
   ],
   "source": [
    "plt.figure(figsize=(20,10))\n",
    "plt.barh(df1['companyName'], df1['price'])\n",
    "plt.title(\"average price of car company\")\n",
    "plt.xlabel(\"average price\")\n",
    "plt.ylabel(\"name car company\")\n",
    "plt.show()"
   ]
  },
  {
   "cell_type": "code",
   "execution_count": 153,
   "id": "4f484c08-99b2-477b-b968-e1bc6cf28b3c",
   "metadata": {},
   "outputs": [
    {
     "data": {
      "text/plain": [
       "count      205.000000\n",
       "mean     13276.710571\n",
       "std       7988.852332\n",
       "min       5118.000000\n",
       "25%       7788.000000\n",
       "50%      10295.000000\n",
       "75%      16503.000000\n",
       "max      45400.000000\n",
       "Name: price, dtype: float64"
      ]
     },
     "execution_count": 153,
     "metadata": {},
     "output_type": "execute_result"
    }
   ],
   "source": [
    "df['price'].describe()"
   ]
  },
  {
   "cell_type": "code",
   "execution_count": 154,
   "id": "6d68a65b-361c-4663-9dc8-ceca5fd6ecd5",
   "metadata": {},
   "outputs": [
    {
     "data": {
      "text/plain": [
       "(array([ 7.,  2.,  5., 11., 11.,  8., 12., 11.,  6., 10.,  9.,  2., 10.,\n",
       "         2.,  4.,  5.,  5.,  2.,  3.,  3.,  6.,  4.,  0.,  2.,  2.,  3.,\n",
       "         4.,  1.,  8.,  5.,  1.,  4.,  5.,  2.,  3.,  0.,  1.,  0.,  0.,\n",
       "         2.,  1.,  1.,  0.,  2.,  0.,  0.,  1.,  0.,  1.,  0.,  1.,  0.,\n",
       "         0.,  0.,  0.,  0.,  0.,  2.,  0.,  0.,  0.,  0.,  0.,  1.,  0.,\n",
       "         2.,  0.,  1.,  1.,  0.,  0.,  1.,  1.,  0.,  1.,  1.,  1.,  0.,\n",
       "         1.,  1.,  0.,  0.,  0.,  0.,  0.,  0.,  0.,  0.,  1.,  1.,  0.,\n",
       "         0.,  0.,  0.,  0.,  0.,  0.,  0.,  0.,  1.]),\n",
       " array([ 5118.  ,  5520.82,  5923.64,  6326.46,  6729.28,  7132.1 ,\n",
       "         7534.92,  7937.74,  8340.56,  8743.38,  9146.2 ,  9549.02,\n",
       "         9951.84, 10354.66, 10757.48, 11160.3 , 11563.12, 11965.94,\n",
       "        12368.76, 12771.58, 13174.4 , 13577.22, 13980.04, 14382.86,\n",
       "        14785.68, 15188.5 , 15591.32, 15994.14, 16396.96, 16799.78,\n",
       "        17202.6 , 17605.42, 18008.24, 18411.06, 18813.88, 19216.7 ,\n",
       "        19619.52, 20022.34, 20425.16, 20827.98, 21230.8 , 21633.62,\n",
       "        22036.44, 22439.26, 22842.08, 23244.9 , 23647.72, 24050.54,\n",
       "        24453.36, 24856.18, 25259.  , 25661.82, 26064.64, 26467.46,\n",
       "        26870.28, 27273.1 , 27675.92, 28078.74, 28481.56, 28884.38,\n",
       "        29287.2 , 29690.02, 30092.84, 30495.66, 30898.48, 31301.3 ,\n",
       "        31704.12, 32106.94, 32509.76, 32912.58, 33315.4 , 33718.22,\n",
       "        34121.04, 34523.86, 34926.68, 35329.5 , 35732.32, 36135.14,\n",
       "        36537.96, 36940.78, 37343.6 , 37746.42, 38149.24, 38552.06,\n",
       "        38954.88, 39357.7 , 39760.52, 40163.34, 40566.16, 40968.98,\n",
       "        41371.8 , 41774.62, 42177.44, 42580.26, 42983.08, 43385.9 ,\n",
       "        43788.72, 44191.54, 44594.36, 44997.18, 45400.  ]),\n",
       " <BarContainer object of 100 artists>)"
      ]
     },
     "execution_count": 154,
     "metadata": {},
     "output_type": "execute_result"
    },
    {
     "data": {
      "image/png": "[encoded data removed]",
      "text/plain": [
       "<Figure size 1440x720 with 1 Axes>"
      ]
     },
     "metadata": {
      "needs_background": "light"
     },
     "output_type": "display_data"
    }
   ],
   "source": [
    "plt.figure(figsize=(20,10))\n",
    "plt.hist(df['price'], bins = 100)"
   ]
  },
  {
   "cell_type": "markdown",
   "id": "a467e447-a279-4175-b791-380ebc3b26a2",
   "metadata": {},
   "source": [
    "+ nhận xét:<br>\n",
    " giá trung bình của một chiếc xe có giá khoảng 13276 usd<br>\n",
    " giá thấp nhất của một chiếc xe là 5119 usd<br>\n",
    " giá cao nhất của một chiếc xe là 45400 usd<br>\n",
    " => từ nhận xét trên ta chia ra 3 phân khúc xe (tầm thấp(5000-> 9000), tầm trung(9000-> 20000 , tầm cao > 20000)"
   ]
  },
  {
   "cell_type": "markdown",
   "id": "f2d36a24-83e6-4ef7-9588-bffa50fe97e9",
   "metadata": {},
   "source": [
    "### doornumber car"
   ]
  },
  {
   "cell_type": "code",
   "execution_count": 155,
   "id": "f3d4eaa8-acd1-4d5a-92f0-e864a7d1d86a",
   "metadata": {},
   "outputs": [],
   "source": [
    "df2 = df[[\"doornumber\", \"price\"]]"
   ]
  },
  {
   "cell_type": "code",
   "execution_count": 156,
   "id": "dc6d5598-8f7f-49ec-8aea-ddcb1e6e15f4",
   "metadata": {},
   "outputs": [],
   "source": [
    "df3 = df2.groupby([\"doornumber\"])['doornumber'].count()\n",
    "df3 = pd.DataFrame(df3)\n",
    "df3.rename(columns = {'doornumber': 'quantity'}, inplace = True)\n",
    "df3 = df3.reset_index()"
   ]
  },
  {
   "cell_type": "code",
   "execution_count": 157,
   "id": "48226296-6e78-454c-a7de-465551622505",
   "metadata": {},
   "outputs": [
    {
     "data": {
      "text/html": [
       "<div>\n",
       "<style scoped>\n",
       "    .dataframe tbody tr th:only-of-type {\n",
       "        vertical-align: middle;\n",
       "    }\n",
       "\n",
       "    .dataframe tbody tr th {\n",
       "        vertical-align: top;\n",
       "    }\n",
       "\n",
       "    .dataframe thead th {\n",
       "        text-align: right;\n",
       "    }\n",
       "</style>\n",
       "<table border=\"1\" class=\"dataframe\">\n",
       "  <thead>\n",
       "    <tr style=\"text-align: right;\">\n",
       "      <th></th>\n",
       "      <th>doornumber</th>\n",
       "      <th>quantity</th>\n",
       "    </tr>\n",
       "  </thead>\n",
       "  <tbody>\n",
       "    <tr>\n",
       "      <th>0</th>\n",
       "      <td>four</td>\n",
       "      <td>115</td>\n",
       "    </tr>\n",
       "    <tr>\n",
       "      <th>1</th>\n",
       "      <td>two</td>\n",
       "      <td>90</td>\n",
       "    </tr>\n",
       "  </tbody>\n",
       "</table>\n",
       "</div>"
      ],
      "text/plain": [
       "  doornumber  quantity\n",
       "0       four       115\n",
       "1        two        90"
      ]
     },
     "execution_count": 157,
     "metadata": {},
     "output_type": "execute_result"
    }
   ],
   "source": [
    "df3.head()"
   ]
  },
  {
   "cell_type": "code",
   "execution_count": 158,
   "id": "70bf988b-ed2b-494d-9ab1-8e48e96ee0dc",
   "metadata": {},
   "outputs": [
    {
     "name": "stderr",
     "output_type": "stream",
     "text": [
      "C:\\Users\\FPTSHOP\\anaconda3\\lib\\site-packages\\seaborn\\_decorators.py:36: FutureWarning: Pass the following variables as keyword args: x, y. From version 0.12, the only valid positional argument will be `data`, and passing other arguments without an explicit keyword will result in an error or misinterpretation.\n",
      "  warnings.warn(\n"
     ]
    },
    {
     "data": {
      "image/png": "[encoded data removed]",
      "text/plain": [
       "<Figure size 1080x360 with 2 Axes>"
      ]
     },
     "metadata": {
      "needs_background": "light"
     },
     "output_type": "display_data"
    }
   ],
   "source": [
    "plt.figure(figsize=(15,5))\n",
    "plt.subplot(1, 2, 1)\n",
    "plt.bar(df3['doornumber'],df3['quantity'])\n",
    "plt.subplot(1, 2, 2)\n",
    "sns.boxplot(df2['doornumber'],df2['price'])\n",
    "plt.show()"
   ]
  },
  {
   "cell_type": "code",
   "execution_count": 159,
   "id": "966ed8bc-8a5a-47b6-886a-a02951eab9e9",
   "metadata": {},
   "outputs": [],
   "source": [
    "\n",
    "df4 = df2.loc[df2['doornumber'] == 'two', :]\n",
    "two = df4.describe()"
   ]
  },
  {
   "cell_type": "code",
   "execution_count": 160,
   "id": "2f6b749a-faee-4c52-97df-42c78be4ae3a",
   "metadata": {},
   "outputs": [],
   "source": [
    "\n",
    "df5 = df2.loc[df2['doornumber'] == 'four', :]\n",
    "four = df5.describe()"
   ]
  },
  {
   "cell_type": "code",
   "execution_count": 161,
   "id": "ddd31510-c277-4cd5-9855-c42f1925eeb9",
   "metadata": {},
   "outputs": [
    {
     "name": "stdout",
     "output_type": "stream",
     "text": [
      "giá trung bình của xe 2 cửa               price\n",
      "count     90.000000\n",
      "mean   12989.924078\n",
      "std     8784.227805\n",
      "min     5118.000000\n",
      "25%     7171.500000\n",
      "50%     9927.000000\n",
      "75%    15909.750000\n",
      "max    45400.000000\n",
      "giá trung bình của xe 4 cửa               price\n",
      "count    115.000000\n",
      "mean   13501.152174\n",
      "std     7338.296321\n",
      "min     6229.000000\n",
      "25%     8006.000000\n",
      "50%    10898.000000\n",
      "75%    16872.500000\n",
      "max    40960.000000\n"
     ]
    }
   ],
   "source": [
    "print(\"giá trung bình của xe 2 cửa\", two)\n",
    "print(\"giá trung bình của xe 4 cửa\", four)"
   ]
  },
  {
   "cell_type": "code",
   "execution_count": 162,
   "id": "283fa189-abf6-4eb0-99e6-2d4bab6c15da",
   "metadata": {},
   "outputs": [
    {
     "data": {
      "text/plain": [
       "Text(0.5, 0, 'price 4 doornumber car')"
      ]
     },
     "execution_count": 162,
     "metadata": {},
     "output_type": "execute_result"
    },
    {
     "data": {
      "image/png": "[encoded data removed]",
      "text/plain": [
       "<Figure size 1080x360 with 2 Axes>"
      ]
     },
     "metadata": {
      "needs_background": "light"
     },
     "output_type": "display_data"
    }
   ],
   "source": [
    "plt.figure(figsize=(15,5))\n",
    "\n",
    "plt.subplot(1, 2, 1)\n",
    "plt.title(\"price of 2 doornumber car\")\n",
    "plt.hist(df4['price'])\n",
    "plt.xlabel(\"price 2 doornumber\")\n",
    "plt.subplot(1, 2, 2)\n",
    "plt.title(\"price of 4 doornumber car\")\n",
    "plt.hist(df5['price'])\n",
    "plt.xlabel(\"price 4 doornumber car\")"
   ]
  },
  {
   "cell_type": "markdown",
   "id": "71e6b397-3900-4674-8ee5-6430710f5b59",
   "metadata": {},
   "source": [
    "+ nhìn chung trung bình giá của xe 2 cửa và giá của xe 4 cửa là tương đương với nhau"
   ]
  },
  {
   "cell_type": "code",
   "execution_count": 163,
   "id": "54487a26-9390-4ca0-9953-bf9d7c818e14",
   "metadata": {},
   "outputs": [
    {
     "data": {
      "text/html": [
       "<div>\n",
       "<style scoped>\n",
       "    .dataframe tbody tr th:only-of-type {\n",
       "        vertical-align: middle;\n",
       "    }\n",
       "\n",
       "    .dataframe tbody tr th {\n",
       "        vertical-align: top;\n",
       "    }\n",
       "\n",
       "    .dataframe thead th {\n",
       "        text-align: right;\n",
       "    }\n",
       "</style>\n",
       "<table border=\"1\" class=\"dataframe\">\n",
       "  <thead>\n",
       "    <tr style=\"text-align: right;\">\n",
       "      <th></th>\n",
       "      <th>car_ID</th>\n",
       "      <th>symboling</th>\n",
       "      <th>companyName</th>\n",
       "      <th>CarName</th>\n",
       "      <th>fueltype</th>\n",
       "      <th>aspiration</th>\n",
       "      <th>doornumber</th>\n",
       "      <th>carbody</th>\n",
       "      <th>drivewheel</th>\n",
       "      <th>enginelocation</th>\n",
       "      <th>...</th>\n",
       "      <th>enginesize</th>\n",
       "      <th>fuelsystem</th>\n",
       "      <th>boreratio</th>\n",
       "      <th>stroke</th>\n",
       "      <th>compressionratio</th>\n",
       "      <th>horsepower</th>\n",
       "      <th>peakrpm</th>\n",
       "      <th>citympg</th>\n",
       "      <th>highwaympg</th>\n",
       "      <th>price</th>\n",
       "    </tr>\n",
       "  </thead>\n",
       "  <tbody>\n",
       "    <tr>\n",
       "      <th>0</th>\n",
       "      <td>1</td>\n",
       "      <td>3</td>\n",
       "      <td>alfa-romero</td>\n",
       "      <td>alfa-romero giulia</td>\n",
       "      <td>gas</td>\n",
       "      <td>std</td>\n",
       "      <td>two</td>\n",
       "      <td>convertible</td>\n",
       "      <td>rwd</td>\n",
       "      <td>front</td>\n",
       "      <td>...</td>\n",
       "      <td>130</td>\n",
       "      <td>mpfi</td>\n",
       "      <td>3.47</td>\n",
       "      <td>2.68</td>\n",
       "      <td>9.0</td>\n",
       "      <td>111</td>\n",
       "      <td>5000</td>\n",
       "      <td>21</td>\n",
       "      <td>27</td>\n",
       "      <td>13495.0</td>\n",
       "    </tr>\n",
       "    <tr>\n",
       "      <th>1</th>\n",
       "      <td>2</td>\n",
       "      <td>3</td>\n",
       "      <td>alfa-romero</td>\n",
       "      <td>alfa-romero stelvio</td>\n",
       "      <td>gas</td>\n",
       "      <td>std</td>\n",
       "      <td>two</td>\n",
       "      <td>convertible</td>\n",
       "      <td>rwd</td>\n",
       "      <td>front</td>\n",
       "      <td>...</td>\n",
       "      <td>130</td>\n",
       "      <td>mpfi</td>\n",
       "      <td>3.47</td>\n",
       "      <td>2.68</td>\n",
       "      <td>9.0</td>\n",
       "      <td>111</td>\n",
       "      <td>5000</td>\n",
       "      <td>21</td>\n",
       "      <td>27</td>\n",
       "      <td>16500.0</td>\n",
       "    </tr>\n",
       "    <tr>\n",
       "      <th>2</th>\n",
       "      <td>3</td>\n",
       "      <td>1</td>\n",
       "      <td>alfa-romero</td>\n",
       "      <td>alfa-romero Quadrifoglio</td>\n",
       "      <td>gas</td>\n",
       "      <td>std</td>\n",
       "      <td>two</td>\n",
       "      <td>hatchback</td>\n",
       "      <td>rwd</td>\n",
       "      <td>front</td>\n",
       "      <td>...</td>\n",
       "      <td>152</td>\n",
       "      <td>mpfi</td>\n",
       "      <td>2.68</td>\n",
       "      <td>3.47</td>\n",
       "      <td>9.0</td>\n",
       "      <td>154</td>\n",
       "      <td>5000</td>\n",
       "      <td>19</td>\n",
       "      <td>26</td>\n",
       "      <td>16500.0</td>\n",
       "    </tr>\n",
       "    <tr>\n",
       "      <th>3</th>\n",
       "      <td>4</td>\n",
       "      <td>2</td>\n",
       "      <td>audi</td>\n",
       "      <td>audi 100 ls</td>\n",
       "      <td>gas</td>\n",
       "      <td>std</td>\n",
       "      <td>four</td>\n",
       "      <td>sedan</td>\n",
       "      <td>fwd</td>\n",
       "      <td>front</td>\n",
       "      <td>...</td>\n",
       "      <td>109</td>\n",
       "      <td>mpfi</td>\n",
       "      <td>3.19</td>\n",
       "      <td>3.40</td>\n",
       "      <td>10.0</td>\n",
       "      <td>102</td>\n",
       "      <td>5500</td>\n",
       "      <td>24</td>\n",
       "      <td>30</td>\n",
       "      <td>13950.0</td>\n",
       "    </tr>\n",
       "    <tr>\n",
       "      <th>4</th>\n",
       "      <td>5</td>\n",
       "      <td>2</td>\n",
       "      <td>audi</td>\n",
       "      <td>audi 100ls</td>\n",
       "      <td>gas</td>\n",
       "      <td>std</td>\n",
       "      <td>four</td>\n",
       "      <td>sedan</td>\n",
       "      <td>4wd</td>\n",
       "      <td>front</td>\n",
       "      <td>...</td>\n",
       "      <td>136</td>\n",
       "      <td>mpfi</td>\n",
       "      <td>3.19</td>\n",
       "      <td>3.40</td>\n",
       "      <td>8.0</td>\n",
       "      <td>115</td>\n",
       "      <td>5500</td>\n",
       "      <td>18</td>\n",
       "      <td>22</td>\n",
       "      <td>17450.0</td>\n",
       "    </tr>\n",
       "  </tbody>\n",
       "</table>\n",
       "<p>5 rows × 27 columns</p>\n",
       "</div>"
      ],
      "text/plain": [
       "   car_ID  symboling  companyName                   CarName fueltype  \\\n",
       "0       1          3  alfa-romero        alfa-romero giulia      gas   \n",
       "1       2          3  alfa-romero       alfa-romero stelvio      gas   \n",
       "2       3          1  alfa-romero  alfa-romero Quadrifoglio      gas   \n",
       "3       4          2         audi               audi 100 ls      gas   \n",
       "4       5          2         audi                audi 100ls      gas   \n",
       "\n",
       "  aspiration doornumber      carbody drivewheel enginelocation  ...  \\\n",
       "0        std        two  convertible        rwd          front  ...   \n",
       "1        std        two  convertible        rwd          front  ...   \n",
       "2        std        two    hatchback        rwd          front  ...   \n",
       "3        std       four        sedan        fwd          front  ...   \n",
       "4        std       four        sedan        4wd          front  ...   \n",
       "\n",
       "   enginesize  fuelsystem  boreratio  stroke  compressionratio horsepower  \\\n",
       "0         130        mpfi       3.47    2.68               9.0        111   \n",
       "1         130        mpfi       3.47    2.68               9.0        111   \n",
       "2         152        mpfi       2.68    3.47               9.0        154   \n",
       "3         109        mpfi       3.19    3.40              10.0        102   \n",
       "4         136        mpfi       3.19    3.40               8.0        115   \n",
       "\n",
       "  peakrpm  citympg highwaympg    price  \n",
       "0    5000       21         27  13495.0  \n",
       "1    5000       21         27  16500.0  \n",
       "2    5000       19         26  16500.0  \n",
       "3    5500       24         30  13950.0  \n",
       "4    5500       18         22  17450.0  \n",
       "\n",
       "[5 rows x 27 columns]"
      ]
     },
     "execution_count": 163,
     "metadata": {},
     "output_type": "execute_result"
    }
   ],
   "source": [
    "df.head()"
   ]
  },
  {
   "cell_type": "code",
   "execution_count": 164,
   "id": "5ae798e0-3598-4ad8-baac-b2fc52b8bef0",
   "metadata": {},
   "outputs": [],
   "source": [
    "df6 = df[['carbody', 'enginelocation', 'wheelbase', 'carlength', 'carwidth', 'carheight', 'curbweight']]"
   ]
  },
  {
   "cell_type": "code",
   "execution_count": 165,
   "id": "30212729-b7d5-40a2-a6ba-418e7cfbaf45",
   "metadata": {},
   "outputs": [
    {
     "data": {
      "text/html": [
       "<div>\n",
       "<style scoped>\n",
       "    .dataframe tbody tr th:only-of-type {\n",
       "        vertical-align: middle;\n",
       "    }\n",
       "\n",
       "    .dataframe tbody tr th {\n",
       "        vertical-align: top;\n",
       "    }\n",
       "\n",
       "    .dataframe thead th {\n",
       "        text-align: right;\n",
       "    }\n",
       "</style>\n",
       "<table border=\"1\" class=\"dataframe\">\n",
       "  <thead>\n",
       "    <tr style=\"text-align: right;\">\n",
       "      <th></th>\n",
       "      <th>carbody</th>\n",
       "      <th>enginelocation</th>\n",
       "      <th>wheelbase</th>\n",
       "      <th>carlength</th>\n",
       "      <th>carwidth</th>\n",
       "      <th>carheight</th>\n",
       "      <th>curbweight</th>\n",
       "    </tr>\n",
       "  </thead>\n",
       "  <tbody>\n",
       "    <tr>\n",
       "      <th>0</th>\n",
       "      <td>convertible</td>\n",
       "      <td>front</td>\n",
       "      <td>88.6</td>\n",
       "      <td>168.8</td>\n",
       "      <td>64.1</td>\n",
       "      <td>48.8</td>\n",
       "      <td>2548</td>\n",
       "    </tr>\n",
       "    <tr>\n",
       "      <th>1</th>\n",
       "      <td>convertible</td>\n",
       "      <td>front</td>\n",
       "      <td>88.6</td>\n",
       "      <td>168.8</td>\n",
       "      <td>64.1</td>\n",
       "      <td>48.8</td>\n",
       "      <td>2548</td>\n",
       "    </tr>\n",
       "    <tr>\n",
       "      <th>2</th>\n",
       "      <td>hatchback</td>\n",
       "      <td>front</td>\n",
       "      <td>94.5</td>\n",
       "      <td>171.2</td>\n",
       "      <td>65.5</td>\n",
       "      <td>52.4</td>\n",
       "      <td>2823</td>\n",
       "    </tr>\n",
       "    <tr>\n",
       "      <th>3</th>\n",
       "      <td>sedan</td>\n",
       "      <td>front</td>\n",
       "      <td>99.8</td>\n",
       "      <td>176.6</td>\n",
       "      <td>66.2</td>\n",
       "      <td>54.3</td>\n",
       "      <td>2337</td>\n",
       "    </tr>\n",
       "    <tr>\n",
       "      <th>4</th>\n",
       "      <td>sedan</td>\n",
       "      <td>front</td>\n",
       "      <td>99.4</td>\n",
       "      <td>176.6</td>\n",
       "      <td>66.4</td>\n",
       "      <td>54.3</td>\n",
       "      <td>2824</td>\n",
       "    </tr>\n",
       "  </tbody>\n",
       "</table>\n",
       "</div>"
      ],
      "text/plain": [
       "       carbody enginelocation  wheelbase  carlength  carwidth  carheight  \\\n",
       "0  convertible          front       88.6      168.8      64.1       48.8   \n",
       "1  convertible          front       88.6      168.8      64.1       48.8   \n",
       "2    hatchback          front       94.5      171.2      65.5       52.4   \n",
       "3        sedan          front       99.8      176.6      66.2       54.3   \n",
       "4        sedan          front       99.4      176.6      66.4       54.3   \n",
       "\n",
       "   curbweight  \n",
       "0        2548  \n",
       "1        2548  \n",
       "2        2823  \n",
       "3        2337  \n",
       "4        2824  "
      ]
     },
     "execution_count": 165,
     "metadata": {},
     "output_type": "execute_result"
    }
   ],
   "source": [
    "df6.head()"
   ]
  },
  {
   "cell_type": "code",
   "execution_count": 166,
   "id": "abd4eeb1-1594-43ca-97cc-459db88e4ce7",
   "metadata": {},
   "outputs": [],
   "source": [
    "df6 = df6.groupby([\"carbody\", \"enginelocation\"]).mean()"
   ]
  },
  {
   "cell_type": "code",
   "execution_count": 167,
   "id": "2f8c03c2-de54-49a1-ba7a-00bd42d56634",
   "metadata": {},
   "outputs": [
    {
     "data": {
      "text/html": [
       "<div>\n",
       "<style scoped>\n",
       "    .dataframe tbody tr th:only-of-type {\n",
       "        vertical-align: middle;\n",
       "    }\n",
       "\n",
       "    .dataframe tbody tr th {\n",
       "        vertical-align: top;\n",
       "    }\n",
       "\n",
       "    .dataframe thead th {\n",
       "        text-align: right;\n",
       "    }\n",
       "</style>\n",
       "<table border=\"1\" class=\"dataframe\">\n",
       "  <thead>\n",
       "    <tr style=\"text-align: right;\">\n",
       "      <th></th>\n",
       "      <th></th>\n",
       "      <th>wheelbase</th>\n",
       "      <th>carlength</th>\n",
       "      <th>carwidth</th>\n",
       "      <th>carheight</th>\n",
       "      <th>curbweight</th>\n",
       "    </tr>\n",
       "    <tr>\n",
       "      <th>carbody</th>\n",
       "      <th>enginelocation</th>\n",
       "      <th></th>\n",
       "      <th></th>\n",
       "      <th></th>\n",
       "      <th></th>\n",
       "      <th></th>\n",
       "    </tr>\n",
       "  </thead>\n",
       "  <tbody>\n",
       "    <tr>\n",
       "      <th rowspan=\"2\" valign=\"top\">convertible</th>\n",
       "      <th>front</th>\n",
       "      <td>93.340000</td>\n",
       "      <td>170.680000</td>\n",
       "      <td>65.700000</td>\n",
       "      <td>51.400000</td>\n",
       "      <td>2802.000000</td>\n",
       "    </tr>\n",
       "    <tr>\n",
       "      <th>rear</th>\n",
       "      <td>89.500000</td>\n",
       "      <td>168.900000</td>\n",
       "      <td>65.000000</td>\n",
       "      <td>51.600000</td>\n",
       "      <td>2800.000000</td>\n",
       "    </tr>\n",
       "    <tr>\n",
       "      <th rowspan=\"2\" valign=\"top\">hardtop</th>\n",
       "      <th>front</th>\n",
       "      <td>101.500000</td>\n",
       "      <td>179.616667</td>\n",
       "      <td>67.150000</td>\n",
       "      <td>53.266667</td>\n",
       "      <td>2828.833333</td>\n",
       "    </tr>\n",
       "    <tr>\n",
       "      <th>rear</th>\n",
       "      <td>89.500000</td>\n",
       "      <td>168.900000</td>\n",
       "      <td>65.000000</td>\n",
       "      <td>51.600000</td>\n",
       "      <td>2756.000000</td>\n",
       "    </tr>\n",
       "    <tr>\n",
       "      <th>hatchback</th>\n",
       "      <th>front</th>\n",
       "      <td>95.535714</td>\n",
       "      <td>166.592857</td>\n",
       "      <td>65.247143</td>\n",
       "      <td>52.108571</td>\n",
       "      <td>2348.185714</td>\n",
       "    </tr>\n",
       "    <tr>\n",
       "      <th>sedan</th>\n",
       "      <th>front</th>\n",
       "      <td>100.619792</td>\n",
       "      <td>177.585417</td>\n",
       "      <td>66.260417</td>\n",
       "      <td>54.337500</td>\n",
       "      <td>2610.593750</td>\n",
       "    </tr>\n",
       "    <tr>\n",
       "      <th>wagon</th>\n",
       "      <th>front</th>\n",
       "      <td>102.156000</td>\n",
       "      <td>181.304000</td>\n",
       "      <td>66.256000</td>\n",
       "      <td>56.728000</td>\n",
       "      <td>2784.240000</td>\n",
       "    </tr>\n",
       "  </tbody>\n",
       "</table>\n",
       "</div>"
      ],
      "text/plain": [
       "                             wheelbase   carlength   carwidth  carheight  \\\n",
       "carbody     enginelocation                                                 \n",
       "convertible front            93.340000  170.680000  65.700000  51.400000   \n",
       "            rear             89.500000  168.900000  65.000000  51.600000   \n",
       "hardtop     front           101.500000  179.616667  67.150000  53.266667   \n",
       "            rear             89.500000  168.900000  65.000000  51.600000   \n",
       "hatchback   front            95.535714  166.592857  65.247143  52.108571   \n",
       "sedan       front           100.619792  177.585417  66.260417  54.337500   \n",
       "wagon       front           102.156000  181.304000  66.256000  56.728000   \n",
       "\n",
       "                             curbweight  \n",
       "carbody     enginelocation               \n",
       "convertible front           2802.000000  \n",
       "            rear            2800.000000  \n",
       "hardtop     front           2828.833333  \n",
       "            rear            2756.000000  \n",
       "hatchback   front           2348.185714  \n",
       "sedan       front           2610.593750  \n",
       "wagon       front           2784.240000  "
      ]
     },
     "execution_count": 167,
     "metadata": {},
     "output_type": "execute_result"
    }
   ],
   "source": [
    "df6"
   ]
  },
  {
   "cell_type": "code",
   "execution_count": 168,
   "id": "7f96d92d-0d87-40b1-83c3-5e841b77c9d2",
   "metadata": {},
   "outputs": [],
   "source": [
    "def add_line(ax, xpos, ypos):\n",
    "    line = plt.Line2D([xpos, xpos], [ypos + .1, ypos],\n",
    "                      transform=ax.transAxes, color='gray')\n",
    "    line.set_clip_on(False)\n",
    "    ax.add_line(line)"
   ]
  },
  {
   "cell_type": "code",
   "execution_count": 169,
   "id": "6c9e81da-f06e-4b03-88eb-de58f7caa9a7",
   "metadata": {},
   "outputs": [],
   "source": [
    "def label_len(my_index,level):\n",
    "    labels = my_index.get_level_values(level)\n",
    "    return [(k, sum(1 for i in g)) for k,g in groupby(labels)]"
   ]
  },
  {
   "cell_type": "code",
   "execution_count": 170,
   "id": "78c96391-3529-4fa5-ac14-3259e3676466",
   "metadata": {},
   "outputs": [],
   "source": [
    "def label_group_bar_table(ax, df):\n",
    "    ypos = -.1\n",
    "    scale = 1./df.index.size\n",
    "    for level in range(df.index.nlevels)[::-1]:\n",
    "        pos = 0\n",
    "        for label, rpos in label_len(df.index,level):\n",
    "            lxpos = (pos + .5 * rpos)*scale\n",
    "            ax.text(lxpos, ypos, label, ha='center', transform=ax.transAxes)\n",
    "            add_line(ax, pos*scale, ypos)\n",
    "            pos += rpos\n",
    "        add_line(ax, pos*scale , ypos)\n",
    "        ypos -= .1\n"
   ]
  },
  {
   "cell_type": "code",
   "execution_count": 171,
   "id": "94e62a90-8bed-4a94-bf56-f1d1339a07e3",
   "metadata": {},
   "outputs": [
    {
     "data": {
      "image/png": "[encoded data removed]",
      "text/plain": [
       "<Figure size 1656x720 with 1 Axes>"
      ]
     },
     "metadata": {
      "needs_background": "light"
     },
     "output_type": "display_data"
    }
   ],
   "source": [
    "\n",
    "ax = df6.plot(kind='bar',stacked=False, figsize=(23,10))\n",
    "#Below 2 lines remove default labels\n",
    "ax.set_xticklabels('')\n",
    "ax.set_xlabel('')\n",
    "\n",
    "ax.grid('on', which='minor', axis='x' )\n",
    "ax.grid('on', which='major', axis='y' )\n",
    "label_group_bar_table(ax, df6)"
   ]
  },
  {
   "cell_type": "code",
   "execution_count": 172,
   "id": "6d1d4fe5-8917-4775-ba9c-0394f6baf19e",
   "metadata": {},
   "outputs": [
    {
     "data": {
      "text/html": [
       "<div>\n",
       "<style scoped>\n",
       "    .dataframe tbody tr th:only-of-type {\n",
       "        vertical-align: middle;\n",
       "    }\n",
       "\n",
       "    .dataframe tbody tr th {\n",
       "        vertical-align: top;\n",
       "    }\n",
       "\n",
       "    .dataframe thead th {\n",
       "        text-align: right;\n",
       "    }\n",
       "</style>\n",
       "<table border=\"1\" class=\"dataframe\">\n",
       "  <thead>\n",
       "    <tr style=\"text-align: right;\">\n",
       "      <th></th>\n",
       "      <th></th>\n",
       "      <th>wheelbase</th>\n",
       "      <th>carlength</th>\n",
       "      <th>carwidth</th>\n",
       "      <th>carheight</th>\n",
       "      <th>curbweight</th>\n",
       "    </tr>\n",
       "    <tr>\n",
       "      <th>carbody</th>\n",
       "      <th>enginelocation</th>\n",
       "      <th></th>\n",
       "      <th></th>\n",
       "      <th></th>\n",
       "      <th></th>\n",
       "      <th></th>\n",
       "    </tr>\n",
       "  </thead>\n",
       "  <tbody>\n",
       "    <tr>\n",
       "      <th rowspan=\"2\" valign=\"top\">convertible</th>\n",
       "      <th>front</th>\n",
       "      <td>93.340000</td>\n",
       "      <td>170.680000</td>\n",
       "      <td>65.700000</td>\n",
       "      <td>51.400000</td>\n",
       "      <td>2802.000000</td>\n",
       "    </tr>\n",
       "    <tr>\n",
       "      <th>rear</th>\n",
       "      <td>89.500000</td>\n",
       "      <td>168.900000</td>\n",
       "      <td>65.000000</td>\n",
       "      <td>51.600000</td>\n",
       "      <td>2800.000000</td>\n",
       "    </tr>\n",
       "    <tr>\n",
       "      <th rowspan=\"2\" valign=\"top\">hardtop</th>\n",
       "      <th>front</th>\n",
       "      <td>101.500000</td>\n",
       "      <td>179.616667</td>\n",
       "      <td>67.150000</td>\n",
       "      <td>53.266667</td>\n",
       "      <td>2828.833333</td>\n",
       "    </tr>\n",
       "    <tr>\n",
       "      <th>rear</th>\n",
       "      <td>89.500000</td>\n",
       "      <td>168.900000</td>\n",
       "      <td>65.000000</td>\n",
       "      <td>51.600000</td>\n",
       "      <td>2756.000000</td>\n",
       "    </tr>\n",
       "    <tr>\n",
       "      <th>hatchback</th>\n",
       "      <th>front</th>\n",
       "      <td>95.535714</td>\n",
       "      <td>166.592857</td>\n",
       "      <td>65.247143</td>\n",
       "      <td>52.108571</td>\n",
       "      <td>2348.185714</td>\n",
       "    </tr>\n",
       "    <tr>\n",
       "      <th>sedan</th>\n",
       "      <th>front</th>\n",
       "      <td>100.619792</td>\n",
       "      <td>177.585417</td>\n",
       "      <td>66.260417</td>\n",
       "      <td>54.337500</td>\n",
       "      <td>2610.593750</td>\n",
       "    </tr>\n",
       "    <tr>\n",
       "      <th>wagon</th>\n",
       "      <th>front</th>\n",
       "      <td>102.156000</td>\n",
       "      <td>181.304000</td>\n",
       "      <td>66.256000</td>\n",
       "      <td>56.728000</td>\n",
       "      <td>2784.240000</td>\n",
       "    </tr>\n",
       "  </tbody>\n",
       "</table>\n",
       "</div>"
      ],
      "text/plain": [
       "                             wheelbase   carlength   carwidth  carheight  \\\n",
       "carbody     enginelocation                                                 \n",
       "convertible front            93.340000  170.680000  65.700000  51.400000   \n",
       "            rear             89.500000  168.900000  65.000000  51.600000   \n",
       "hardtop     front           101.500000  179.616667  67.150000  53.266667   \n",
       "            rear             89.500000  168.900000  65.000000  51.600000   \n",
       "hatchback   front            95.535714  166.592857  65.247143  52.108571   \n",
       "sedan       front           100.619792  177.585417  66.260417  54.337500   \n",
       "wagon       front           102.156000  181.304000  66.256000  56.728000   \n",
       "\n",
       "                             curbweight  \n",
       "carbody     enginelocation               \n",
       "convertible front           2802.000000  \n",
       "            rear            2800.000000  \n",
       "hardtop     front           2828.833333  \n",
       "            rear            2756.000000  \n",
       "hatchback   front           2348.185714  \n",
       "sedan       front           2610.593750  \n",
       "wagon       front           2784.240000  "
      ]
     },
     "execution_count": 172,
     "metadata": {},
     "output_type": "execute_result"
    }
   ],
   "source": [
    "df6"
   ]
  },
  {
   "cell_type": "markdown",
   "id": "724d6790-bd62-4646-a365-922590c345e3",
   "metadata": {},
   "source": [
    "### nhận xét:\n",
    "+ đối với thân xe <b>hatchback</b>, <b>sedan</b>, <b>wagon</b> động cơ được đặt phía trước<br>\n",
    "+ đối với thân xe <b>convertible</b>, <b>hardtop</b> động cơ có thể đặt ở phía trước hoặc phía sau\n",
    "+ trọng lượng thân xe đều > 2500 chỉ riêng thân hatchback < 2500"
   ]
  },
  {
   "cell_type": "markdown",
   "id": "d7523ac1-a7c1-443b-bbb7-b056a3703de1",
   "metadata": {},
   "source": [
    "# analytics relationship price to engine"
   ]
  },
  {
   "cell_type": "code",
   "execution_count": 173,
   "id": "bfb9b7fb-6a28-4b00-9b63-852c6996f55b",
   "metadata": {},
   "outputs": [],
   "source": [
    "dfEngine = df[['fueltype', 'aspiration', 'enginetype', 'cylindernumber', 'enginesize', 'fuelsystem', 'boreratio', 'stroke', 'compressionratio', 'horsepower', 'peakrpm', 'citympg', 'highwaympg', 'price']]"
   ]
  },
  {
   "cell_type": "code",
   "execution_count": 174,
   "id": "9ff70c40-9dd2-4a9e-9ecc-53a82753078e",
   "metadata": {},
   "outputs": [
    {
     "name": "stdout",
     "output_type": "stream",
     "text": [
      "<class 'pandas.core.frame.DataFrame'>\n",
      "RangeIndex: 205 entries, 0 to 204\n",
      "Data columns (total 14 columns):\n",
      " #   Column            Non-Null Count  Dtype  \n",
      "---  ------            --------------  -----  \n",
      " 0   fueltype          205 non-null    object \n",
      " 1   aspiration        205 non-null    object \n",
      " 2   enginetype        205 non-null    object \n",
      " 3   cylindernumber    205 non-null    object \n",
      " 4   enginesize        205 non-null    int64  \n",
      " 5   fuelsystem        205 non-null    object \n",
      " 6   boreratio         205 non-null    float64\n",
      " 7   stroke            205 non-null    float64\n",
      " 8   compressionratio  205 non-null    float64\n",
      " 9   horsepower        205 non-null    int64  \n",
      " 10  peakrpm           205 non-null    int64  \n",
      " 11  citympg           205 non-null    int64  \n",
      " 12  highwaympg        205 non-null    int64  \n",
      " 13  price             205 non-null    float64\n",
      "dtypes: float64(4), int64(5), object(5)\n",
      "memory usage: 22.5+ KB\n"
     ]
    }
   ],
   "source": [
    "dfEngine.info()"
   ]
  },
  {
   "cell_type": "code",
   "execution_count": 175,
   "id": "719b1252-bd0b-43c1-9516-a5c33f6ee325",
   "metadata": {},
   "outputs": [
    {
     "data": {
      "text/html": [
       "<div>\n",
       "<style scoped>\n",
       "    .dataframe tbody tr th:only-of-type {\n",
       "        vertical-align: middle;\n",
       "    }\n",
       "\n",
       "    .dataframe tbody tr th {\n",
       "        vertical-align: top;\n",
       "    }\n",
       "\n",
       "    .dataframe thead th {\n",
       "        text-align: right;\n",
       "    }\n",
       "</style>\n",
       "<table border=\"1\" class=\"dataframe\">\n",
       "  <thead>\n",
       "    <tr style=\"text-align: right;\">\n",
       "      <th></th>\n",
       "      <th>fueltype</th>\n",
       "      <th>aspiration</th>\n",
       "      <th>enginetype</th>\n",
       "      <th>cylindernumber</th>\n",
       "      <th>enginesize</th>\n",
       "      <th>fuelsystem</th>\n",
       "      <th>boreratio</th>\n",
       "      <th>stroke</th>\n",
       "      <th>compressionratio</th>\n",
       "      <th>horsepower</th>\n",
       "      <th>peakrpm</th>\n",
       "      <th>citympg</th>\n",
       "      <th>highwaympg</th>\n",
       "      <th>price</th>\n",
       "    </tr>\n",
       "  </thead>\n",
       "  <tbody>\n",
       "    <tr>\n",
       "      <th>0</th>\n",
       "      <td>gas</td>\n",
       "      <td>std</td>\n",
       "      <td>dohc</td>\n",
       "      <td>four</td>\n",
       "      <td>130</td>\n",
       "      <td>mpfi</td>\n",
       "      <td>3.47</td>\n",
       "      <td>2.68</td>\n",
       "      <td>9.0</td>\n",
       "      <td>111</td>\n",
       "      <td>5000</td>\n",
       "      <td>21</td>\n",
       "      <td>27</td>\n",
       "      <td>13495.0</td>\n",
       "    </tr>\n",
       "    <tr>\n",
       "      <th>1</th>\n",
       "      <td>gas</td>\n",
       "      <td>std</td>\n",
       "      <td>dohc</td>\n",
       "      <td>four</td>\n",
       "      <td>130</td>\n",
       "      <td>mpfi</td>\n",
       "      <td>3.47</td>\n",
       "      <td>2.68</td>\n",
       "      <td>9.0</td>\n",
       "      <td>111</td>\n",
       "      <td>5000</td>\n",
       "      <td>21</td>\n",
       "      <td>27</td>\n",
       "      <td>16500.0</td>\n",
       "    </tr>\n",
       "    <tr>\n",
       "      <th>2</th>\n",
       "      <td>gas</td>\n",
       "      <td>std</td>\n",
       "      <td>ohcv</td>\n",
       "      <td>six</td>\n",
       "      <td>152</td>\n",
       "      <td>mpfi</td>\n",
       "      <td>2.68</td>\n",
       "      <td>3.47</td>\n",
       "      <td>9.0</td>\n",
       "      <td>154</td>\n",
       "      <td>5000</td>\n",
       "      <td>19</td>\n",
       "      <td>26</td>\n",
       "      <td>16500.0</td>\n",
       "    </tr>\n",
       "    <tr>\n",
       "      <th>3</th>\n",
       "      <td>gas</td>\n",
       "      <td>std</td>\n",
       "      <td>ohc</td>\n",
       "      <td>four</td>\n",
       "      <td>109</td>\n",
       "      <td>mpfi</td>\n",
       "      <td>3.19</td>\n",
       "      <td>3.40</td>\n",
       "      <td>10.0</td>\n",
       "      <td>102</td>\n",
       "      <td>5500</td>\n",
       "      <td>24</td>\n",
       "      <td>30</td>\n",
       "      <td>13950.0</td>\n",
       "    </tr>\n",
       "    <tr>\n",
       "      <th>4</th>\n",
       "      <td>gas</td>\n",
       "      <td>std</td>\n",
       "      <td>ohc</td>\n",
       "      <td>five</td>\n",
       "      <td>136</td>\n",
       "      <td>mpfi</td>\n",
       "      <td>3.19</td>\n",
       "      <td>3.40</td>\n",
       "      <td>8.0</td>\n",
       "      <td>115</td>\n",
       "      <td>5500</td>\n",
       "      <td>18</td>\n",
       "      <td>22</td>\n",
       "      <td>17450.0</td>\n",
       "    </tr>\n",
       "  </tbody>\n",
       "</table>\n",
       "</div>"
      ],
      "text/plain": [
       "  fueltype aspiration enginetype cylindernumber  enginesize fuelsystem  \\\n",
       "0      gas        std       dohc           four         130       mpfi   \n",
       "1      gas        std       dohc           four         130       mpfi   \n",
       "2      gas        std       ohcv            six         152       mpfi   \n",
       "3      gas        std        ohc           four         109       mpfi   \n",
       "4      gas        std        ohc           five         136       mpfi   \n",
       "\n",
       "   boreratio  stroke  compressionratio  horsepower  peakrpm  citympg  \\\n",
       "0       3.47    2.68               9.0         111     5000       21   \n",
       "1       3.47    2.68               9.0         111     5000       21   \n",
       "2       2.68    3.47               9.0         154     5000       19   \n",
       "3       3.19    3.40              10.0         102     5500       24   \n",
       "4       3.19    3.40               8.0         115     5500       18   \n",
       "\n",
       "   highwaympg    price  \n",
       "0          27  13495.0  \n",
       "1          27  16500.0  \n",
       "2          26  16500.0  \n",
       "3          30  13950.0  \n",
       "4          22  17450.0  "
      ]
     },
     "execution_count": 175,
     "metadata": {},
     "output_type": "execute_result"
    }
   ],
   "source": [
    "dfEngine.head()"
   ]
  },
  {
   "cell_type": "code",
   "execution_count": 176,
   "id": "331604c8-95db-4a78-9525-d8ed925b3a75",
   "metadata": {},
   "outputs": [],
   "source": [
    "dfEngineFueltype = dfEngine[['fueltype','price']].groupby(\"fueltype\")['price'].mean()\n",
    "dfEngineFueltype = pd.DataFrame(dfEngineFueltype)\n",
    "dfEngineFueltype = dfEngineFueltype.reset_index()"
   ]
  },
  {
   "cell_type": "code",
   "execution_count": 177,
   "id": "aa13cec1-9579-4ae4-9bf7-dd8c98a54621",
   "metadata": {},
   "outputs": [
    {
     "name": "stderr",
     "output_type": "stream",
     "text": [
      "C:\\Users\\FPTSHOP\\anaconda3\\lib\\site-packages\\seaborn\\_decorators.py:36: FutureWarning: Pass the following variables as keyword args: x, y. From version 0.12, the only valid positional argument will be `data`, and passing other arguments without an explicit keyword will result in an error or misinterpretation.\n",
      "  warnings.warn(\n"
     ]
    },
    {
     "data": {
      "image/png": "[encoded data removed]",
      "text/plain": [
       "<Figure size 1080x360 with 2 Axes>"
      ]
     },
     "metadata": {
      "needs_background": "light"
     },
     "output_type": "display_data"
    }
   ],
   "source": [
    "plt.figure(figsize=(15,5))\n",
    "plt.subplot(1, 2, 1)\n",
    "plt.bar(dfEngineFueltype['fueltype'],dfEngineFueltype['price'])\n",
    "plt.title(\"average price by fueltype\")\n",
    "plt.ylabel(\"mean price\")\n",
    "plt.xlabel(\"name fuel type\")\n",
    "plt.subplot(1, 2, 2)\n",
    "sns.boxplot(dfEngine['fueltype'],dfEngine['price'])\n",
    "plt.show()"
   ]
  },
  {
   "cell_type": "code",
   "execution_count": 178,
   "id": "59b858ae-ce1f-453d-9d3d-f3e406b8fe8b",
   "metadata": {},
   "outputs": [],
   "source": [
    "dfEnginetype = dfEngine[[\"enginetype\", \"fueltype\"]].groupby(\"enginetype\")[\"fueltype\"].count()\n",
    "dfEnginetype = pd.DataFrame(dfEnginetype)\n",
    "dfEnginetype = dfEnginetype.reset_index()"
   ]
  },
  {
   "cell_type": "code",
   "execution_count": 179,
   "id": "8b9efc06-ef2c-4bb2-b64a-8736caefa1ff",
   "metadata": {},
   "outputs": [
    {
     "data": {
      "text/html": [
       "<div>\n",
       "<style scoped>\n",
       "    .dataframe tbody tr th:only-of-type {\n",
       "        vertical-align: middle;\n",
       "    }\n",
       "\n",
       "    .dataframe tbody tr th {\n",
       "        vertical-align: top;\n",
       "    }\n",
       "\n",
       "    .dataframe thead th {\n",
       "        text-align: right;\n",
       "    }\n",
       "</style>\n",
       "<table border=\"1\" class=\"dataframe\">\n",
       "  <thead>\n",
       "    <tr style=\"text-align: right;\">\n",
       "      <th></th>\n",
       "      <th>enginetype</th>\n",
       "      <th>fueltype</th>\n",
       "    </tr>\n",
       "  </thead>\n",
       "  <tbody>\n",
       "    <tr>\n",
       "      <th>0</th>\n",
       "      <td>dohc</td>\n",
       "      <td>12</td>\n",
       "    </tr>\n",
       "    <tr>\n",
       "      <th>1</th>\n",
       "      <td>dohcv</td>\n",
       "      <td>1</td>\n",
       "    </tr>\n",
       "    <tr>\n",
       "      <th>2</th>\n",
       "      <td>l</td>\n",
       "      <td>12</td>\n",
       "    </tr>\n",
       "    <tr>\n",
       "      <th>3</th>\n",
       "      <td>ohc</td>\n",
       "      <td>148</td>\n",
       "    </tr>\n",
       "    <tr>\n",
       "      <th>4</th>\n",
       "      <td>ohcf</td>\n",
       "      <td>15</td>\n",
       "    </tr>\n",
       "  </tbody>\n",
       "</table>\n",
       "</div>"
      ],
      "text/plain": [
       "  enginetype  fueltype\n",
       "0       dohc        12\n",
       "1      dohcv         1\n",
       "2          l        12\n",
       "3        ohc       148\n",
       "4       ohcf        15"
      ]
     },
     "execution_count": 179,
     "metadata": {},
     "output_type": "execute_result"
    }
   ],
   "source": [
    "dfEnginetype.head()"
   ]
  },
  {
   "cell_type": "code",
   "execution_count": 180,
   "id": "7b8ba1b7-4dda-4b9b-9607-e6a86ff547fb",
   "metadata": {},
   "outputs": [
    {
     "name": "stderr",
     "output_type": "stream",
     "text": [
      "C:\\Users\\FPTSHOP\\anaconda3\\lib\\site-packages\\seaborn\\_decorators.py:36: FutureWarning: Pass the following variables as keyword args: x, y. From version 0.12, the only valid positional argument will be `data`, and passing other arguments without an explicit keyword will result in an error or misinterpretation.\n",
      "  warnings.warn(\n"
     ]
    },
    {
     "data": {
      "image/png": "[encoded data removed]",
      "text/plain": [
       "<Figure size 1080x360 with 2 Axes>"
      ]
     },
     "metadata": {
      "needs_background": "light"
     },
     "output_type": "display_data"
    }
   ],
   "source": [
    "plt.figure(figsize=(15,5))\n",
    "plt.subplot(1, 2, 1)\n",
    "plt.bar(dfEnginetype['enginetype'],dfEnginetype['fueltype'])\n",
    "plt.title(\"quantity fueltype by enginetype\")\n",
    "plt.ylabel(\"quantity\")\n",
    "plt.xlabel(\"name enginetype\")\n",
    "plt.subplot(1, 2, 2)\n",
    "sns.boxplot(dfEngine['enginetype'],dfEngine['price'])\n",
    "plt.show()"
   ]
  },
  {
   "cell_type": "code",
   "execution_count": 181,
   "id": "c040ad74-4b8d-455e-9568-4ebb94245c96",
   "metadata": {},
   "outputs": [
    {
     "data": {
      "text/html": [
       "<div>\n",
       "<style scoped>\n",
       "    .dataframe tbody tr th:only-of-type {\n",
       "        vertical-align: middle;\n",
       "    }\n",
       "\n",
       "    .dataframe tbody tr th {\n",
       "        vertical-align: top;\n",
       "    }\n",
       "\n",
       "    .dataframe thead th {\n",
       "        text-align: right;\n",
       "    }\n",
       "</style>\n",
       "<table border=\"1\" class=\"dataframe\">\n",
       "  <thead>\n",
       "    <tr style=\"text-align: right;\">\n",
       "      <th></th>\n",
       "      <th>fueltype</th>\n",
       "    </tr>\n",
       "  </thead>\n",
       "  <tbody>\n",
       "    <tr>\n",
       "      <th>3</th>\n",
       "      <td>gas</td>\n",
       "    </tr>\n",
       "    <tr>\n",
       "      <th>4</th>\n",
       "      <td>gas</td>\n",
       "    </tr>\n",
       "    <tr>\n",
       "      <th>5</th>\n",
       "      <td>gas</td>\n",
       "    </tr>\n",
       "    <tr>\n",
       "      <th>6</th>\n",
       "      <td>gas</td>\n",
       "    </tr>\n",
       "    <tr>\n",
       "      <th>7</th>\n",
       "      <td>gas</td>\n",
       "    </tr>\n",
       "  </tbody>\n",
       "</table>\n",
       "</div>"
      ],
      "text/plain": [
       "  fueltype\n",
       "3      gas\n",
       "4      gas\n",
       "5      gas\n",
       "6      gas\n",
       "7      gas"
      ]
     },
     "execution_count": 181,
     "metadata": {},
     "output_type": "execute_result"
    }
   ],
   "source": [
    "df.loc[df[\"enginetype\"] == \"ohc\", [\"fueltype\"]].head()"
   ]
  },
  {
   "cell_type": "markdown",
   "id": "5a005f5c-79e7-4bca-9cd0-c09f8cd9ea7c",
   "metadata": {},
   "source": [
    "+ động cơ được ưa chuộng ở mĩ là <b> ohc </b> "
   ]
  },
  {
   "cell_type": "code",
   "execution_count": 182,
   "id": "799ce204-9384-41dc-9c7b-4cfcbe41b4c3",
   "metadata": {},
   "outputs": [
    {
     "data": {
      "text/html": [
       "<div>\n",
       "<style scoped>\n",
       "    .dataframe tbody tr th:only-of-type {\n",
       "        vertical-align: middle;\n",
       "    }\n",
       "\n",
       "    .dataframe tbody tr th {\n",
       "        vertical-align: top;\n",
       "    }\n",
       "\n",
       "    .dataframe thead th {\n",
       "        text-align: right;\n",
       "    }\n",
       "</style>\n",
       "<table border=\"1\" class=\"dataframe\">\n",
       "  <thead>\n",
       "    <tr style=\"text-align: right;\">\n",
       "      <th></th>\n",
       "      <th>fueltype</th>\n",
       "      <th>enginetype</th>\n",
       "      <th>companyName</th>\n",
       "      <th>CarName</th>\n",
       "    </tr>\n",
       "  </thead>\n",
       "  <tbody>\n",
       "    <tr>\n",
       "      <th>15</th>\n",
       "      <td>gas</td>\n",
       "      <td>ohc</td>\n",
       "      <td>bmw</td>\n",
       "      <td>bmw x4</td>\n",
       "    </tr>\n",
       "    <tr>\n",
       "      <th>16</th>\n",
       "      <td>gas</td>\n",
       "      <td>ohc</td>\n",
       "      <td>bmw</td>\n",
       "      <td>bmw x5</td>\n",
       "    </tr>\n",
       "    <tr>\n",
       "      <th>17</th>\n",
       "      <td>gas</td>\n",
       "      <td>ohc</td>\n",
       "      <td>bmw</td>\n",
       "      <td>bmw x3</td>\n",
       "    </tr>\n",
       "    <tr>\n",
       "      <th>47</th>\n",
       "      <td>gas</td>\n",
       "      <td>dohc</td>\n",
       "      <td>jaguar</td>\n",
       "      <td>jaguar xj</td>\n",
       "    </tr>\n",
       "    <tr>\n",
       "      <th>48</th>\n",
       "      <td>gas</td>\n",
       "      <td>dohc</td>\n",
       "      <td>jaguar</td>\n",
       "      <td>jaguar xf</td>\n",
       "    </tr>\n",
       "    <tr>\n",
       "      <th>49</th>\n",
       "      <td>gas</td>\n",
       "      <td>ohcv</td>\n",
       "      <td>jaguar</td>\n",
       "      <td>jaguar xk</td>\n",
       "    </tr>\n",
       "    <tr>\n",
       "      <th>70</th>\n",
       "      <td>diesel</td>\n",
       "      <td>ohc</td>\n",
       "      <td>buick</td>\n",
       "      <td>buick skyhawk</td>\n",
       "    </tr>\n",
       "    <tr>\n",
       "      <th>71</th>\n",
       "      <td>gas</td>\n",
       "      <td>ohcv</td>\n",
       "      <td>buick</td>\n",
       "      <td>buick opel isuzu deluxe</td>\n",
       "    </tr>\n",
       "    <tr>\n",
       "      <th>72</th>\n",
       "      <td>gas</td>\n",
       "      <td>ohcv</td>\n",
       "      <td>buick</td>\n",
       "      <td>buick skylark</td>\n",
       "    </tr>\n",
       "    <tr>\n",
       "      <th>73</th>\n",
       "      <td>gas</td>\n",
       "      <td>ohcv</td>\n",
       "      <td>buick</td>\n",
       "      <td>buick century special</td>\n",
       "    </tr>\n",
       "    <tr>\n",
       "      <th>74</th>\n",
       "      <td>gas</td>\n",
       "      <td>ohcv</td>\n",
       "      <td>buick</td>\n",
       "      <td>buick regal sport coupe (turbo)</td>\n",
       "    </tr>\n",
       "    <tr>\n",
       "      <th>126</th>\n",
       "      <td>gas</td>\n",
       "      <td>ohcf</td>\n",
       "      <td>porsche</td>\n",
       "      <td>porcshce panamera</td>\n",
       "    </tr>\n",
       "    <tr>\n",
       "      <th>127</th>\n",
       "      <td>gas</td>\n",
       "      <td>ohcf</td>\n",
       "      <td>porsche</td>\n",
       "      <td>porsche cayenne</td>\n",
       "    </tr>\n",
       "    <tr>\n",
       "      <th>128</th>\n",
       "      <td>gas</td>\n",
       "      <td>ohcf</td>\n",
       "      <td>porsche</td>\n",
       "      <td>porsche boxter</td>\n",
       "    </tr>\n",
       "    <tr>\n",
       "      <th>129</th>\n",
       "      <td>gas</td>\n",
       "      <td>dohcv</td>\n",
       "      <td>porsche</td>\n",
       "      <td>porsche cayenne</td>\n",
       "    </tr>\n",
       "  </tbody>\n",
       "</table>\n",
       "</div>"
      ],
      "text/plain": [
       "    fueltype enginetype companyName                          CarName\n",
       "15       gas        ohc         bmw                           bmw x4\n",
       "16       gas        ohc         bmw                           bmw x5\n",
       "17       gas        ohc         bmw                           bmw x3\n",
       "47       gas       dohc      jaguar                        jaguar xj\n",
       "48       gas       dohc      jaguar                        jaguar xf\n",
       "49       gas       ohcv      jaguar                        jaguar xk\n",
       "70    diesel        ohc       buick                    buick skyhawk\n",
       "71       gas       ohcv       buick          buick opel isuzu deluxe\n",
       "72       gas       ohcv       buick                    buick skylark\n",
       "73       gas       ohcv       buick            buick century special\n",
       "74       gas       ohcv       buick  buick regal sport coupe (turbo)\n",
       "126      gas       ohcf     porsche                porcshce panamera\n",
       "127      gas       ohcf     porsche                  porsche cayenne\n",
       "128      gas       ohcf     porsche                   porsche boxter\n",
       "129      gas      dohcv     porsche                  porsche cayenne"
      ]
     },
     "execution_count": 182,
     "metadata": {},
     "output_type": "execute_result"
    }
   ],
   "source": [
    "df.loc[df[\"price\"] > 30000, [\"fueltype\",\"enginetype\", \"companyName\", \"CarName\"]]"
   ]
  },
  {
   "cell_type": "markdown",
   "id": "a73e58a7-3ffe-4990-b893-98605174aa8e",
   "metadata": {},
   "source": [
    "+ phần lớn phân khúc xe tầm cao sử dụng nhiên liệu gas\n",
    "+ sử dụng động cơ <b>dohc</b>, <b>ohcf</b>"
   ]
  },
  {
   "cell_type": "markdown",
   "id": "beb8685b-5b7b-41f3-b968-f4daf32e3979",
   "metadata": {},
   "source": [
    "# 3. forecast price car by argument"
   ]
  },
  {
   "cell_type": "code",
   "execution_count": 183,
   "id": "f339d7fa-2586-4140-9d68-83a44517902f",
   "metadata": {},
   "outputs": [],
   "source": [
    "df_onehot = df[['price', 'fueltype', 'aspiration','carbody', 'drivewheel','wheelbase','curbweight', 'enginetype', 'cylindernumber', 'enginesize', 'boreratio','horsepower', 'carlength','carwidth']]\n"
   ]
  },
  {
   "cell_type": "code",
   "execution_count": 184,
   "id": "6ace9af1-9fec-402d-9d95-ba2574e60f99",
   "metadata": {},
   "outputs": [
    {
     "data": {
      "text/plain": [
       "price             0\n",
       "fueltype          0\n",
       "aspiration        0\n",
       "carbody           0\n",
       "drivewheel        0\n",
       "wheelbase         0\n",
       "curbweight        0\n",
       "enginetype        0\n",
       "cylindernumber    0\n",
       "enginesize        0\n",
       "boreratio         0\n",
       "horsepower        0\n",
       "carlength         0\n",
       "carwidth          0\n",
       "dtype: int64"
      ]
     },
     "execution_count": 184,
     "metadata": {},
     "output_type": "execute_result"
    }
   ],
   "source": [
    "df_onehot.isna().sum()"
   ]
  },
  {
   "cell_type": "markdown",
   "id": "5f949d59-631d-441b-abec-26f473fecfca",
   "metadata": {},
   "source": [
    "### implement standardized data"
   ]
  },
  {
   "cell_type": "code",
   "execution_count": 185,
   "id": "db9e0a66-54e5-433d-bcd5-6295adc13ba1",
   "metadata": {},
   "outputs": [],
   "source": [
    "def dummies(x, df):\n",
    "    temp = pd.get_dummies(df[x], drop_first = True)\n",
    "    df = pd.concat([df, temp], axis = 1)\n",
    "    df.drop([x], axis = 1, inplace= True )\n",
    "    return df\n"
   ]
  },
  {
   "cell_type": "code",
   "execution_count": 186,
   "id": "ec8d7b37-9e89-49ed-b240-3fcbc6bfdccc",
   "metadata": {},
   "outputs": [],
   "source": [
    "df_onehot = dummies('fueltype',df_onehot)\n",
    "df_onehot = dummies('aspiration',df_onehot)\n",
    "df_onehot = dummies('carbody',df_onehot)\n",
    "df_onehot = dummies('drivewheel',df_onehot)\n",
    "df_onehot = dummies('cylindernumber',df_onehot)\n",
    "df_onehot = dummies('enginetype',df_onehot)"
   ]
  },
  {
   "cell_type": "code",
   "execution_count": 187,
   "id": "9b42a71e-c2b9-4fca-b6ae-b857284bd091",
   "metadata": {},
   "outputs": [
    {
     "data": {
      "text/html": [
       "<div>\n",
       "<style scoped>\n",
       "    .dataframe tbody tr th:only-of-type {\n",
       "        vertical-align: middle;\n",
       "    }\n",
       "\n",
       "    .dataframe tbody tr th {\n",
       "        vertical-align: top;\n",
       "    }\n",
       "\n",
       "    .dataframe thead th {\n",
       "        text-align: right;\n",
       "    }\n",
       "</style>\n",
       "<table border=\"1\" class=\"dataframe\">\n",
       "  <thead>\n",
       "    <tr style=\"text-align: right;\">\n",
       "      <th></th>\n",
       "      <th>price</th>\n",
       "      <th>wheelbase</th>\n",
       "      <th>curbweight</th>\n",
       "      <th>enginesize</th>\n",
       "      <th>boreratio</th>\n",
       "      <th>horsepower</th>\n",
       "      <th>carlength</th>\n",
       "      <th>carwidth</th>\n",
       "      <th>gas</th>\n",
       "      <th>turbo</th>\n",
       "      <th>...</th>\n",
       "      <th>six</th>\n",
       "      <th>three</th>\n",
       "      <th>twelve</th>\n",
       "      <th>two</th>\n",
       "      <th>dohcv</th>\n",
       "      <th>l</th>\n",
       "      <th>ohc</th>\n",
       "      <th>ohcf</th>\n",
       "      <th>ohcv</th>\n",
       "      <th>rotor</th>\n",
       "    </tr>\n",
       "  </thead>\n",
       "  <tbody>\n",
       "    <tr>\n",
       "      <th>0</th>\n",
       "      <td>13495.0</td>\n",
       "      <td>88.6</td>\n",
       "      <td>2548</td>\n",
       "      <td>130</td>\n",
       "      <td>3.47</td>\n",
       "      <td>111</td>\n",
       "      <td>168.8</td>\n",
       "      <td>64.1</td>\n",
       "      <td>1</td>\n",
       "      <td>0</td>\n",
       "      <td>...</td>\n",
       "      <td>0</td>\n",
       "      <td>0</td>\n",
       "      <td>0</td>\n",
       "      <td>0</td>\n",
       "      <td>0</td>\n",
       "      <td>0</td>\n",
       "      <td>0</td>\n",
       "      <td>0</td>\n",
       "      <td>0</td>\n",
       "      <td>0</td>\n",
       "    </tr>\n",
       "    <tr>\n",
       "      <th>1</th>\n",
       "      <td>16500.0</td>\n",
       "      <td>88.6</td>\n",
       "      <td>2548</td>\n",
       "      <td>130</td>\n",
       "      <td>3.47</td>\n",
       "      <td>111</td>\n",
       "      <td>168.8</td>\n",
       "      <td>64.1</td>\n",
       "      <td>1</td>\n",
       "      <td>0</td>\n",
       "      <td>...</td>\n",
       "      <td>0</td>\n",
       "      <td>0</td>\n",
       "      <td>0</td>\n",
       "      <td>0</td>\n",
       "      <td>0</td>\n",
       "      <td>0</td>\n",
       "      <td>0</td>\n",
       "      <td>0</td>\n",
       "      <td>0</td>\n",
       "      <td>0</td>\n",
       "    </tr>\n",
       "    <tr>\n",
       "      <th>2</th>\n",
       "      <td>16500.0</td>\n",
       "      <td>94.5</td>\n",
       "      <td>2823</td>\n",
       "      <td>152</td>\n",
       "      <td>2.68</td>\n",
       "      <td>154</td>\n",
       "      <td>171.2</td>\n",
       "      <td>65.5</td>\n",
       "      <td>1</td>\n",
       "      <td>0</td>\n",
       "      <td>...</td>\n",
       "      <td>1</td>\n",
       "      <td>0</td>\n",
       "      <td>0</td>\n",
       "      <td>0</td>\n",
       "      <td>0</td>\n",
       "      <td>0</td>\n",
       "      <td>0</td>\n",
       "      <td>0</td>\n",
       "      <td>1</td>\n",
       "      <td>0</td>\n",
       "    </tr>\n",
       "    <tr>\n",
       "      <th>3</th>\n",
       "      <td>13950.0</td>\n",
       "      <td>99.8</td>\n",
       "      <td>2337</td>\n",
       "      <td>109</td>\n",
       "      <td>3.19</td>\n",
       "      <td>102</td>\n",
       "      <td>176.6</td>\n",
       "      <td>66.2</td>\n",
       "      <td>1</td>\n",
       "      <td>0</td>\n",
       "      <td>...</td>\n",
       "      <td>0</td>\n",
       "      <td>0</td>\n",
       "      <td>0</td>\n",
       "      <td>0</td>\n",
       "      <td>0</td>\n",
       "      <td>0</td>\n",
       "      <td>1</td>\n",
       "      <td>0</td>\n",
       "      <td>0</td>\n",
       "      <td>0</td>\n",
       "    </tr>\n",
       "    <tr>\n",
       "      <th>4</th>\n",
       "      <td>17450.0</td>\n",
       "      <td>99.4</td>\n",
       "      <td>2824</td>\n",
       "      <td>136</td>\n",
       "      <td>3.19</td>\n",
       "      <td>115</td>\n",
       "      <td>176.6</td>\n",
       "      <td>66.4</td>\n",
       "      <td>1</td>\n",
       "      <td>0</td>\n",
       "      <td>...</td>\n",
       "      <td>0</td>\n",
       "      <td>0</td>\n",
       "      <td>0</td>\n",
       "      <td>0</td>\n",
       "      <td>0</td>\n",
       "      <td>0</td>\n",
       "      <td>1</td>\n",
       "      <td>0</td>\n",
       "      <td>0</td>\n",
       "      <td>0</td>\n",
       "    </tr>\n",
       "  </tbody>\n",
       "</table>\n",
       "<p>5 rows × 28 columns</p>\n",
       "</div>"
      ],
      "text/plain": [
       "     price  wheelbase  curbweight  enginesize  boreratio  horsepower  \\\n",
       "0  13495.0       88.6        2548         130       3.47         111   \n",
       "1  16500.0       88.6        2548         130       3.47         111   \n",
       "2  16500.0       94.5        2823         152       2.68         154   \n",
       "3  13950.0       99.8        2337         109       3.19         102   \n",
       "4  17450.0       99.4        2824         136       3.19         115   \n",
       "\n",
       "   carlength  carwidth  gas  turbo  ...  six  three  twelve  two  dohcv  l  \\\n",
       "0      168.8      64.1    1      0  ...    0      0       0    0      0  0   \n",
       "1      168.8      64.1    1      0  ...    0      0       0    0      0  0   \n",
       "2      171.2      65.5    1      0  ...    1      0       0    0      0  0   \n",
       "3      176.6      66.2    1      0  ...    0      0       0    0      0  0   \n",
       "4      176.6      66.4    1      0  ...    0      0       0    0      0  0   \n",
       "\n",
       "   ohc  ohcf  ohcv  rotor  \n",
       "0    0     0     0      0  \n",
       "1    0     0     0      0  \n",
       "2    0     0     1      0  \n",
       "3    1     0     0      0  \n",
       "4    1     0     0      0  \n",
       "\n",
       "[5 rows x 28 columns]"
      ]
     },
     "execution_count": 187,
     "metadata": {},
     "output_type": "execute_result"
    }
   ],
   "source": [
    "df_onehot.head()"
   ]
  },
  {
   "cell_type": "code",
   "execution_count": 188,
   "id": "cc50a661-b4bd-43b4-bd67-f5ec019ab1ba",
   "metadata": {},
   "outputs": [
    {
     "data": {
      "text/plain": [
       "price         0\n",
       "wheelbase     0\n",
       "curbweight    0\n",
       "enginesize    0\n",
       "boreratio     0\n",
       "horsepower    0\n",
       "carlength     0\n",
       "carwidth      0\n",
       "gas           0\n",
       "turbo         0\n",
       "hardtop       0\n",
       "hatchback     0\n",
       "sedan         0\n",
       "wagon         0\n",
       "fwd           0\n",
       "rwd           0\n",
       "five          0\n",
       "four          0\n",
       "six           0\n",
       "three         0\n",
       "twelve        0\n",
       "two           0\n",
       "dohcv         0\n",
       "l             0\n",
       "ohc           0\n",
       "ohcf          0\n",
       "ohcv          0\n",
       "rotor         0\n",
       "dtype: int64"
      ]
     },
     "execution_count": 188,
     "metadata": {},
     "output_type": "execute_result"
    }
   ],
   "source": [
    "df_onehot.isna().sum()"
   ]
  },
  {
   "cell_type": "code",
   "execution_count": 189,
   "id": "9683e342-e871-42b1-9564-425814251b28",
   "metadata": {},
   "outputs": [],
   "source": [
    "# For splitting Dataset\n",
    "from sklearn.model_selection import train_test_split as tts\n",
    "X = df_onehot.drop(\"price\" , axis = 1).values\n",
    "Y = df_onehot.price.values"
   ]
  },
  {
   "cell_type": "code",
   "execution_count": 190,
   "id": "c0377d7e-0243-4bf1-b31e-d8d13ca88087",
   "metadata": {},
   "outputs": [],
   "source": [
    "x_train , x_test , y_train , y_test = tts(X , Y , test_size = 0.3, random_state = 0)"
   ]
  },
  {
   "cell_type": "code",
   "execution_count": 191,
   "id": "05180968-2700-4084-8139-602c223443f9",
   "metadata": {},
   "outputs": [
    {
     "data": {
      "text/plain": [
       "LinearRegression()"
      ]
     },
     "execution_count": 191,
     "metadata": {},
     "output_type": "execute_result"
    }
   ],
   "source": [
    "# train machine learning module\n",
    "from sklearn.linear_model import LinearRegression\n",
    "\n",
    "reg = LinearRegression()\n",
    "reg.fit(x_train,y_train)"
   ]
  },
  {
   "cell_type": "code",
   "execution_count": 192,
   "id": "0cb96b0d-f51b-4ed1-a466-0441fbd9f816",
   "metadata": {},
   "outputs": [],
   "source": [
    "# creating prediction\n",
    "pred = reg.predict(x_test)\n"
   ]
  },
  {
   "cell_type": "code",
   "execution_count": 193,
   "id": "6836fd83-ff6f-4a47-adb4-2de166f27fb3",
   "metadata": {},
   "outputs": [],
   "source": [
    "col = list(df_onehot.columns)\n",
    "col.remove('price')\n"
   ]
  },
  {
   "cell_type": "code",
   "execution_count": 194,
   "id": "b8f59a9f-fb7d-4af1-9318-8f0fa1bfbfb8",
   "metadata": {},
   "outputs": [],
   "source": [
    "val = list()\n",
    "for i in range(len(col)):\n",
    "    val.append(df_onehot[col[i]][0])"
   ]
  },
  {
   "cell_type": "code",
   "execution_count": 195,
   "id": "643390cb-ca89-4a0f-9f10-1a6284a90251",
   "metadata": {},
   "outputs": [
    {
     "data": {
      "text/plain": [
       "27"
      ]
     },
     "execution_count": 195,
     "metadata": {},
     "output_type": "execute_result"
    }
   ],
   "source": [
    "len(val)"
   ]
  },
  {
   "cell_type": "code",
   "execution_count": 196,
   "id": "12d842dc-c9a6-45d5-8842-f2544bfb72fc",
   "metadata": {},
   "outputs": [
    {
     "data": {
      "text/plain": [
       "array([13716.47229738])"
      ]
     },
     "execution_count": 196,
     "metadata": {},
     "output_type": "execute_result"
    }
   ],
   "source": [
    "reg.predict([val])"
   ]
  },
  {
   "cell_type": "code",
   "execution_count": 197,
   "id": "10c93fc7-c4c2-44f9-ac1b-55941a1a847d",
   "metadata": {},
   "outputs": [
    {
     "name": "stdout",
     "output_type": "stream",
     "text": [
      "R2-score is  0.7908944673964747\n",
      "Mean_sqrd_error is== 13808779.527976511\n",
      "Root_mean_squared error of is== 3716.0166210576226\n"
     ]
    }
   ],
   "source": [
    "from sklearn.metrics import r2_score\n",
    "from sklearn.metrics import mean_squared_error\n",
    "# Calculate R2-score\n",
    "score=r2_score(y_test,pred)\n",
    "print('R2-score is ',score)\n",
    "print('Mean_sqrd_error is==',mean_squared_error(y_test,pred))\n",
    "print('Root_mean_squared error of is==',np.sqrt(mean_squared_error(y_test,pred)))"
   ]
  },
  {
   "cell_type": "markdown",
   "id": "3440b64f-88c4-4cc4-b585-ddd892ce8fbc",
   "metadata": {},
   "source": [
    "+ với R2-score ~ 1 => mô hình đáng tin cậy"
   ]
  },
  {
   "cell_type": "markdown",
   "id": "a0592f8d-7a2e-4698-a403-c57ecb419f25",
   "metadata": {},
   "source": [
    "## plot the results"
   ]
  },
  {
   "cell_type": "code",
   "execution_count": 198,
   "id": "2bc168a1-d150-451e-b0f9-12d30e8fec5a",
   "metadata": {},
   "outputs": [
    {
     "name": "stderr",
     "output_type": "stream",
     "text": [
      "C:\\Users\\FPTSHOP\\anaconda3\\lib\\site-packages\\seaborn\\axisgrid.py:2076: UserWarning: The `size` parameter has been renamed to `height`; please update your code.\n",
      "  warnings.warn(msg, UserWarning)\n",
      "C:\\Users\\FPTSHOP\\anaconda3\\lib\\site-packages\\seaborn\\axisgrid.py:2076: UserWarning: The `size` parameter has been renamed to `height`; please update your code.\n",
      "  warnings.warn(msg, UserWarning)\n"
     ]
    },
    {
     "data": {
      "text/plain": [
       "<seaborn.axisgrid.PairGrid at 0x26ed25634c0>"
      ]
     },
     "execution_count": 198,
     "metadata": {},
     "output_type": "execute_result"
    },
    {
     "data": {
      "image/png": "[encoded data removed]",
      "text/plain": [
       "<Figure size 1058.4x504 with 3 Axes>"
      ]
     },
     "metadata": {
      "needs_background": "light"
     },
     "output_type": "display_data"
    },
    {
     "data": {
      "image/png": "[encoded data removed]",
      "text/plain": [
       "<Figure size 1411.2x504 with 4 Axes>"
      ]
     },
     "metadata": {
      "needs_background": "light"
     },
     "output_type": "display_data"
    }
   ],
   "source": [
    "\n",
    "sns.pairplot(df_onehot, x_vars=['wheelbase', 'curbweight', 'enginesize'], y_vars='price', size=7, aspect=0.7, kind='reg')\n",
    "\n",
    "sns.pairplot(df_onehot, x_vars=[ 'boreratio', 'horsepower', 'carlength', 'carwidth'], y_vars='price', size=7, aspect=0.7, kind='reg')\n"
   ]
  },
  {
   "cell_type": "code",
   "execution_count": 199,
   "id": "4d05d3d0-d727-4363-9b0d-b6c85bd356e3",
   "metadata": {},
   "outputs": [
    {
     "data": {
      "image/png": "[encoded data removed]",
      "text/plain": [
       "<Figure size 432x288 with 1 Axes>"
      ]
     },
     "metadata": {
      "needs_background": "light"
     },
     "output_type": "display_data"
    }
   ],
   "source": [
    "plt.scatter(y_test,pred)\n",
    "plt.show()"
   ]
  },
  {
   "cell_type": "code",
   "execution_count": 200,
   "id": "3ed8d01a-534e-4540-b450-939c4f71c108",
   "metadata": {},
   "outputs": [
    {
     "data": {
      "text/html": [
       "<div>\n",
       "<style scoped>\n",
       "    .dataframe tbody tr th:only-of-type {\n",
       "        vertical-align: middle;\n",
       "    }\n",
       "\n",
       "    .dataframe tbody tr th {\n",
       "        vertical-align: top;\n",
       "    }\n",
       "\n",
       "    .dataframe thead th {\n",
       "        text-align: right;\n",
       "    }\n",
       "</style>\n",
       "<table border=\"1\" class=\"dataframe\">\n",
       "  <thead>\n",
       "    <tr style=\"text-align: right;\">\n",
       "      <th></th>\n",
       "      <th>price</th>\n",
       "      <th>wheelbase</th>\n",
       "      <th>curbweight</th>\n",
       "      <th>enginesize</th>\n",
       "      <th>boreratio</th>\n",
       "      <th>horsepower</th>\n",
       "      <th>carlength</th>\n",
       "      <th>carwidth</th>\n",
       "      <th>gas</th>\n",
       "      <th>turbo</th>\n",
       "      <th>...</th>\n",
       "      <th>six</th>\n",
       "      <th>three</th>\n",
       "      <th>twelve</th>\n",
       "      <th>two</th>\n",
       "      <th>dohcv</th>\n",
       "      <th>l</th>\n",
       "      <th>ohc</th>\n",
       "      <th>ohcf</th>\n",
       "      <th>ohcv</th>\n",
       "      <th>rotor</th>\n",
       "    </tr>\n",
       "  </thead>\n",
       "  <tbody>\n",
       "    <tr>\n",
       "      <th>0</th>\n",
       "      <td>13495.0</td>\n",
       "      <td>88.6</td>\n",
       "      <td>2548</td>\n",
       "      <td>130</td>\n",
       "      <td>3.47</td>\n",
       "      <td>111</td>\n",
       "      <td>168.8</td>\n",
       "      <td>64.1</td>\n",
       "      <td>1</td>\n",
       "      <td>0</td>\n",
       "      <td>...</td>\n",
       "      <td>0</td>\n",
       "      <td>0</td>\n",
       "      <td>0</td>\n",
       "      <td>0</td>\n",
       "      <td>0</td>\n",
       "      <td>0</td>\n",
       "      <td>0</td>\n",
       "      <td>0</td>\n",
       "      <td>0</td>\n",
       "      <td>0</td>\n",
       "    </tr>\n",
       "  </tbody>\n",
       "</table>\n",
       "<p>1 rows × 28 columns</p>\n",
       "</div>"
      ],
      "text/plain": [
       "     price  wheelbase  curbweight  enginesize  boreratio  horsepower  \\\n",
       "0  13495.0       88.6        2548         130       3.47         111   \n",
       "\n",
       "   carlength  carwidth  gas  turbo  ...  six  three  twelve  two  dohcv  l  \\\n",
       "0      168.8      64.1    1      0  ...    0      0       0    0      0  0   \n",
       "\n",
       "   ohc  ohcf  ohcv  rotor  \n",
       "0    0     0     0      0  \n",
       "\n",
       "[1 rows x 28 columns]"
      ]
     },
     "execution_count": 200,
     "metadata": {},
     "output_type": "execute_result"
    }
   ],
   "source": [
    "df_onehot.head(1)"
   ]
  },
  {
   "cell_type": "markdown",
   "id": "def5f06d-0e6c-409b-bccf-1b8f74cd14b0",
   "metadata": {},
   "source": [
    "## input parameters to find price cart"
   ]
  },
  {
   "cell_type": "code",
   "execution_count": 201,
   "id": "eeb9ece7-0fdf-469e-9714-6a22cff9b415",
   "metadata": {},
   "outputs": [],
   "source": [
    "# listTest = list()\n",
    "# for i in range(26):\n",
    "#     x = float(input())\n",
    "#     listTest.append(x)"
   ]
  },
  {
   "cell_type": "code",
   "execution_count": 202,
   "id": "dd64523f-b3da-4855-8c1b-6c3b39aa7c96",
   "metadata": {},
   "outputs": [],
   "source": [
    "\n",
    "# reg.predict([listTest])\n"
   ]
  },
  {
   "cell_type": "markdown",
   "id": "e93752a4-9b1b-45a2-b36f-bf9bb1b99d60",
   "metadata": {},
   "source": [
    "# hypertype testing"
   ]
  },
  {
   "cell_type": "markdown",
   "id": "4e008484-1292-4a70-8fcf-ab0adeb9f01a",
   "metadata": {},
   "source": [
    "### kiểm tra trung bình giá xe 2 của và xe 4 của có tương đương nhau hay không. Với mức ý nghĩa là 0.05\n",
    "+ ta có :\n",
    "    H0 = giá trung bình 2 xe bằng nhau<br>\n",
    "    H1 = giá trung bình của 2 xe khác nhau"
   ]
  },
  {
   "cell_type": "code",
   "execution_count": 203,
   "id": "43f973c8-99bc-4177-9755-793a5268a1ea",
   "metadata": {},
   "outputs": [],
   "source": [
    "def plot_distribution(inp):\n",
    "    plt.figure()\n",
    "    ax = sns.displot(inp)\n",
    "    plt.axvline(np.mean(inp), color = \"k\", linestyle = \"dashed\", linewidth = 5)\n",
    "    _, max_ = plt.ylim()\n",
    "    plt.text(inp.mean()+ inp.mean()/10, max_ - max_ / 10, \"mean: {:.2f}\".format(inp.mean()),)\n",
    "    return plt.figure"
   ]
  },
  {
   "cell_type": "code",
   "execution_count": 204,
   "id": "50fc82e7-a46b-471f-ac44-242e0fe10404",
   "metadata": {},
   "outputs": [],
   "source": [
    "door4 = df.loc[df['doornumber'] == \"four\", \"price\"]\n",
    "door2 = df.loc[df['doornumber'] == \"two\", \"price\"]"
   ]
  },
  {
   "cell_type": "code",
   "execution_count": 205,
   "id": "fc68c669-3d81-440b-bd2f-9dc6af55a013",
   "metadata": {},
   "outputs": [
    {
     "data": {
      "text/plain": [
       "<function matplotlib.pyplot.figure(num=None, figsize=None, dpi=None, facecolor=None, edgecolor=None, frameon=True, FigureClass=<class 'matplotlib.figure.Figure'>, clear=False, **kwargs)>"
      ]
     },
     "execution_count": 205,
     "metadata": {},
     "output_type": "execute_result"
    },
    {
     "data": {
      "text/plain": [
       "<Figure size 432x288 with 0 Axes>"
      ]
     },
     "metadata": {},
     "output_type": "display_data"
    },
    {
     "data": {
      "image/png": "[encoded data removed]",
      "text/plain": [
       "<Figure size 360x360 with 1 Axes>"
      ]
     },
     "metadata": {
      "needs_background": "light"
     },
     "output_type": "display_data"
    }
   ],
   "source": [
    "plot_distribution(door4)"
   ]
  },
  {
   "cell_type": "code",
   "execution_count": 206,
   "id": "adafda38-fcc6-4c97-8373-abb1e868ed18",
   "metadata": {},
   "outputs": [
    {
     "data": {
      "text/plain": [
       "<function matplotlib.pyplot.figure(num=None, figsize=None, dpi=None, facecolor=None, edgecolor=None, frameon=True, FigureClass=<class 'matplotlib.figure.Figure'>, clear=False, **kwargs)>"
      ]
     },
     "execution_count": 206,
     "metadata": {},
     "output_type": "execute_result"
    },
    {
     "data": {
      "text/plain": [
       "<Figure size 432x288 with 0 Axes>"
      ]
     },
     "metadata": {},
     "output_type": "display_data"
    },
    {
     "data": {
      "image/png": "[encoded data removed]",
      "text/plain": [
       "<Figure size 360x360 with 1 Axes>"
      ]
     },
     "metadata": {
      "needs_background": "light"
     },
     "output_type": "display_data"
    }
   ],
   "source": [
    "plot_distribution(door2)"
   ]
  },
  {
   "cell_type": "code",
   "execution_count": 207,
   "id": "96b8637e-e73d-4554-8e2c-95a5fea4136d",
   "metadata": {},
   "outputs": [
    {
     "name": "stderr",
     "output_type": "stream",
     "text": [
      "C:\\Users\\FPTSHOP\\anaconda3\\lib\\site-packages\\seaborn\\distributions.py:2619: FutureWarning: `distplot` is a deprecated function and will be removed in a future version. Please adapt your code to use either `displot` (a figure-level function with similar flexibility) or `histplot` (an axes-level function for histograms).\n",
      "  warnings.warn(msg, FutureWarning)\n",
      "C:\\Users\\FPTSHOP\\anaconda3\\lib\\site-packages\\seaborn\\distributions.py:2619: FutureWarning: `distplot` is a deprecated function and will be removed in a future version. Please adapt your code to use either `displot` (a figure-level function with similar flexibility) or `histplot` (an axes-level function for histograms).\n",
      "  warnings.warn(msg, FutureWarning)\n"
     ]
    },
    {
     "data": {
      "text/plain": [
       "<matplotlib.lines.Line2D at 0x26ed35294c0>"
      ]
     },
     "execution_count": 207,
     "metadata": {},
     "output_type": "execute_result"
    },
    {
     "data": {
      "image/png": "[encoded data removed]",
      "text/plain": [
       "<Figure size 1440x720 with 1 Axes>"
      ]
     },
     "metadata": {
      "needs_background": "light"
     },
     "output_type": "display_data"
    }
   ],
   "source": [
    "plt.figure(figsize = (20,10))\n",
    "ax1 = sns.distplot(door4)\n",
    "ax2 = sns.distplot(door2)\n",
    "plt.axvline(np.mean(door4), color = \"b\", linestyle = 'dashed', linewidth = 5)\n",
    "plt.axvline(np.mean(door2), color = \"orange\", linestyle = 'dashed', linewidth = 5)"
   ]
  },
  {
   "cell_type": "code",
   "execution_count": 208,
   "id": "c5e45819-8652-4a43-b6f5-9837fc7a06c9",
   "metadata": {},
   "outputs": [],
   "source": [
    "from scipy.stats  import ttest_ind"
   ]
  },
  {
   "cell_type": "code",
   "execution_count": 209,
   "id": "90ec9db7-cb89-479a-ad27-5e02b16b4a6b",
   "metadata": {},
   "outputs": [],
   "source": [
    "sample_size = 15\n",
    "get_door4 = np.random.choice(door4, sample_size)\n",
    "get_door2 = np.random.choice(door2, sample_size)"
   ]
  },
  {
   "cell_type": "code",
   "execution_count": 210,
   "id": "a6c96482-8896-49ea-a2c6-bb31ca0ec546",
   "metadata": {},
   "outputs": [],
   "source": [
    "stat, pvalue = ttest_ind(get_door4, get_door2)"
   ]
  },
  {
   "cell_type": "code",
   "execution_count": 211,
   "id": "ad9fd195-149f-499f-b700-b874ca7279b5",
   "metadata": {},
   "outputs": [
    {
     "name": "stdout",
     "output_type": "stream",
     "text": [
      "statistics -0.4582934498811699\n",
      "pvalue:  0.6502788580108512\n"
     ]
    }
   ],
   "source": [
    "print(\"statistics\",stat)\n",
    "print(\"pvalue: \",pvalue)"
   ]
  },
  {
   "cell_type": "markdown",
   "id": "b81f087e-fda1-4bb7-a766-478abee177d7",
   "metadata": {},
   "source": [
    "+ vì pvalue > 0.05 => đủ cơ sở để bác bỏ giả thiết H0"
   ]
  },
  {
   "cell_type": "markdown",
   "id": "c26514b8-e150-4537-b484-f6783947e461",
   "metadata": {},
   "source": [
    "# Conclude"
   ]
  },
  {
   "cell_type": "markdown",
   "id": "010081e6-4b97-4805-8d40-88fbc7778947",
   "metadata": {},
   "source": [
    "+ ta chia các giá xe thành 3 phân khúc: <i> trung bình giá xe có khoảng 13276 usd</i>\n",
    "    + phân khúc tầm thấp (5000 đến 9000)\n",
    "    + phân khúc giá tầm trung (9000 đến 20000)porche, jaguar, buick\n",
    "    + phân khúc tầm cao ( cao 20000) các hãng xe \n",
    "+ trung bình giá xe 2 cửa cao hơn xe 4 cửa\n",
    "+ đối với thân xe hatchback, sedan, wagon động cơ được đặt phía trước\n",
    "+ đối với thân xe convertible, hardtop động cơ có thể đặt ở phía trước hoặc phía sau\n",
    "+ trọng lượng thân xe đều > 2500 chỉ riêng thân hatchback < 2500\n",
    "+ phần lớn các hãng xe ở mỹ đều sử dụng nhiên liệu diesel vì có giá tiền rẻ hơn gas\n",
    "+ động cơ được được sử dụng nhiều ở mĩ <b>ohc</b> vì nó có giá thấp \n"
   ]
  },
  {
   "cell_type": "code",
   "execution_count": null,
   "id": "d240069e-8a56-403e-b890-c1b1bbf51699",
   "metadata": {},
   "outputs": [],
   "source": []
  }
 ],
 "metadata": {
  "kernelspec": {
   "display_name": "Python 3 (ipykernel)",
   "language": "python",
   "name": "python3"
  },
  "language_info": {
   "codemirror_mode": {
    "name": "ipython",
    "version": 3
   },
   "file_extension": ".py",
   "mimetype": "text/x-python",
   "name": "python",
   "nbconvert_exporter": "python",
   "pygments_lexer": "ipython3",
   "version": "3.9.7"
  }
 },
 "nbformat": 4,
 "nbformat_minor": 5
}
